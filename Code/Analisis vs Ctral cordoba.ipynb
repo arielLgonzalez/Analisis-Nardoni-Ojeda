{
 "cells": [
  {
   "cell_type": "code",
   "execution_count": 1,
   "id": "94d50c5d",
   "metadata": {
    "scrolled": true
   },
   "outputs": [
    {
     "data": {
      "text/html": [
       "<pre style=\"white-space:pre;overflow-x:auto;line-height:normal;font-family:Menlo,'DejaVu Sans Mono',consolas,'Courier New',monospace\"><span style=\"color: #7fbfbf; text-decoration-color: #7fbfbf\">[08/02/23 13:20:36] </span><span style=\"color: #000080; text-decoration-color: #000080\">INFO    </span> No custom team name replacements found. You can configure these in       <a href=\"file://d:\\Users\\Ariel\\anaconda3\\Lib\\site-packages\\soccerdata\\_config.py\" target=\"_blank\"><span style=\"color: #7f7f7f; text-decoration-color: #7f7f7f\">_config.py</span></a><span style=\"color: #7f7f7f; text-decoration-color: #7f7f7f\">:</span><a href=\"file://d:\\Users\\Ariel\\anaconda3\\Lib\\site-packages\\soccerdata\\_config.py#84\" target=\"_blank\"><span style=\"color: #7f7f7f; text-decoration-color: #7f7f7f\">84</span></a>\n",
       "<span style=\"color: #7fbfbf; text-decoration-color: #7fbfbf\">                    </span>         C:\\Users\\Ariel\\soccerdata\\config\\teamname_replacements.json.             <span style=\"color: #7f7f7f; text-decoration-color: #7f7f7f\">             </span>\n",
       "</pre>\n"
      ],
      "text/plain": [
       "\u001b[2;36m[08/02/23 13:20:36]\u001b[0m\u001b[2;36m \u001b[0m\u001b[34mINFO    \u001b[0m No custom team name replacements found. You can configure these in       \u001b]8;id=509319;file://d:\\Users\\Ariel\\anaconda3\\Lib\\site-packages\\soccerdata\\_config.py\u001b\\\u001b[2m_config.py\u001b[0m\u001b]8;;\u001b\\\u001b[2m:\u001b[0m\u001b]8;id=196889;file://d:\\Users\\Ariel\\anaconda3\\Lib\\site-packages\\soccerdata\\_config.py#84\u001b\\\u001b[2m84\u001b[0m\u001b]8;;\u001b\\\n",
       "\u001b[2;36m                    \u001b[0m         C:\\Users\\Ariel\\soccerdata\\config\\teamname_replacements.json.             \u001b[2m             \u001b[0m\n"
      ]
     },
     "metadata": {},
     "output_type": "display_data"
    },
    {
     "data": {
      "text/html": [
       "<pre style=\"white-space:pre;overflow-x:auto;line-height:normal;font-family:Menlo,'DejaVu Sans Mono',consolas,'Courier New',monospace\"><span style=\"color: #7fbfbf; text-decoration-color: #7fbfbf\">                    </span><span style=\"color: #000080; text-decoration-color: #000080\">INFO    </span> Custom league dict loaded from                                          <a href=\"file://d:\\Users\\Ariel\\anaconda3\\Lib\\site-packages\\soccerdata\\_config.py\" target=\"_blank\"><span style=\"color: #7f7f7f; text-decoration-color: #7f7f7f\">_config.py</span></a><span style=\"color: #7f7f7f; text-decoration-color: #7f7f7f\">:</span><a href=\"file://d:\\Users\\Ariel\\anaconda3\\Lib\\site-packages\\soccerdata\\_config.py#160\" target=\"_blank\"><span style=\"color: #7f7f7f; text-decoration-color: #7f7f7f\">160</span></a>\n",
       "<span style=\"color: #7fbfbf; text-decoration-color: #7fbfbf\">                    </span>         C:\\Users\\Ariel\\soccerdata\\config\\league_dict.json.                      <span style=\"color: #7f7f7f; text-decoration-color: #7f7f7f\">              </span>\n",
       "</pre>\n"
      ],
      "text/plain": [
       "\u001b[2;36m                   \u001b[0m\u001b[2;36m \u001b[0m\u001b[34mINFO    \u001b[0m Custom league dict loaded from                                          \u001b]8;id=161546;file://d:\\Users\\Ariel\\anaconda3\\Lib\\site-packages\\soccerdata\\_config.py\u001b\\\u001b[2m_config.py\u001b[0m\u001b]8;;\u001b\\\u001b[2m:\u001b[0m\u001b]8;id=512843;file://d:\\Users\\Ariel\\anaconda3\\Lib\\site-packages\\soccerdata\\_config.py#160\u001b\\\u001b[2m160\u001b[0m\u001b]8;;\u001b\\\n",
       "\u001b[2;36m                    \u001b[0m         C:\\Users\\Ariel\\soccerdata\\config\\league_dict.json.                      \u001b[2m              \u001b[0m\n"
      ]
     },
     "metadata": {},
     "output_type": "display_data"
    }
   ],
   "source": [
    "import pandas as pd\n",
    "import soccerdata as sd\n",
    "from mplsoccer import Pitch, add_image, FontManager\n",
    "import matplotlib.pyplot as plt\n",
    "from matplotlib import cm\n",
    "from matplotlib.colors import LinearSegmentedColormap"
   ]
  },
  {
   "cell_type": "markdown",
   "id": "d3422e07",
   "metadata": {},
   "source": [
    "# Configuramos la tipografia y la gama de colores que usaremos en la visualización"
   ]
  },
  {
   "cell_type": "code",
   "execution_count": null,
   "id": "6b2a4453",
   "metadata": {},
   "outputs": [],
   "source": [
    "font_url = 'https://github.com/sonofacorner/soc-viz-of-the-week/raw/main/assets/fonts/DM_Sans/DMSans-Bold.ttf?raw=true'\n",
    "fm = FontManager(url=font_url)"
   ]
  },
  {
   "cell_type": "code",
   "execution_count": null,
   "id": "41406e22",
   "metadata": {},
   "outputs": [],
   "source": [
    "el_greco_violet_cmap = LinearSegmentedColormap.from_list(\"El Greco Violet - 10 colors\",\n",
    "                                                         ['#332a49', '#8e78a0'], N=10)"
   ]
  },
  {
   "cell_type": "code",
   "execution_count": null,
   "id": "bba78fef",
   "metadata": {},
   "outputs": [],
   "source": [
    "white=\"#1D2B53\"\n",
    "sbred='#fca800'\n",
    "lightgrey=\"#d9d9d9\"\n",
    "darkgrey='#8da7f0'\n",
    "cmaplist = [white, darkgrey, sbred]\n",
    "cmap = LinearSegmentedColormap.from_list(\"\", cmaplist)"
   ]
  },
  {
   "cell_type": "markdown",
   "id": "310285a7",
   "metadata": {},
   "source": [
    "# Recopilacion de datos."
   ]
  },
  {
   "cell_type": "code",
   "execution_count": 2,
   "id": "dd9d8ecf",
   "metadata": {
    "scrolled": true
   },
   "outputs": [
    {
     "data": {
      "text/html": [
       "<pre style=\"white-space:pre;overflow-x:auto;line-height:normal;font-family:Menlo,'DejaVu Sans Mono',consolas,'Courier New',monospace\"><span style=\"color: #7fbfbf; text-decoration-color: #7fbfbf\">[08/02/23 13:20:39] </span><span style=\"color: #000080; text-decoration-color: #000080\">INFO    </span> Saving cached data to C:\\Users\\Ariel\\soccerdata\\data\\WhoScored           <a href=\"file://d:\\Users\\Ariel\\anaconda3\\Lib\\site-packages\\soccerdata\\_common.py\" target=\"_blank\"><span style=\"color: #7f7f7f; text-decoration-color: #7f7f7f\">_common.py</span></a><span style=\"color: #7f7f7f; text-decoration-color: #7f7f7f\">:</span><a href=\"file://d:\\Users\\Ariel\\anaconda3\\Lib\\site-packages\\soccerdata\\_common.py#89\" target=\"_blank\"><span style=\"color: #7f7f7f; text-decoration-color: #7f7f7f\">89</span></a>\n",
       "</pre>\n"
      ],
      "text/plain": [
       "\u001b[2;36m[08/02/23 13:20:39]\u001b[0m\u001b[2;36m \u001b[0m\u001b[34mINFO    \u001b[0m Saving cached data to C:\\Users\\Ariel\\soccerdata\\data\\WhoScored           \u001b]8;id=870721;file://d:\\Users\\Ariel\\anaconda3\\Lib\\site-packages\\soccerdata\\_common.py\u001b\\\u001b[2m_common.py\u001b[0m\u001b]8;;\u001b\\\u001b[2m:\u001b[0m\u001b]8;id=210464;file://d:\\Users\\Ariel\\anaconda3\\Lib\\site-packages\\soccerdata\\_common.py#89\u001b\\\u001b[2m89\u001b[0m\u001b]8;;\u001b\\\n"
      ]
     },
     "metadata": {},
     "output_type": "display_data"
    },
    {
     "name": "stdout",
     "output_type": "stream",
     "text": [
      "Provides pd.DataFrames from data available at http://whoscored.com.\n",
      "\n",
      "    Data will be downloaded as necessary and cached locally in\n",
      "    ``~/soccerdata/data/WhoScored``.\n",
      "\n",
      "    Parameters\n",
      "    ----------\n",
      "    leagues : string or iterable, optional\n",
      "        IDs of Leagues to include.\n",
      "    seasons : string, int or list, optional\n",
      "        Seasons to include. Supports multiple formats.\n",
      "        Examples: '16-17'; 2016; '2016-17'; [14, 15, 16]\n",
      "    proxy : 'tor' or dict or list(dict) or callable, optional\n",
      "        Use a proxy to hide your IP address. Valid options are:\n",
      "            - \"tor\": Uses the Tor network. Tor should be running in\n",
      "              the background on port 9050.\n",
      "            - dict: A dictionary with the proxy to use. The dict should be\n",
      "              a mapping of supported protocols to proxy addresses. For example::\n",
      "\n",
      "                  {\n",
      "                      'http': 'http://10.10.1.10:3128',\n",
      "                      'https': 'http://10.10.1.10:1080',\n",
      "                  }\n",
      "\n",
      "            - list(dict): A list of proxies to choose from. A different proxy will\n",
      "              be selected from this list after failed requests, allowing rotating\n",
      "              proxies.\n",
      "            - callable: A function that returns a valid proxy. This function will\n",
      "              be called after failed requests, allowing rotating proxies.\n",
      "    no_cache : bool\n",
      "        If True, will not use cached data.\n",
      "    no_store : bool\n",
      "        If True, will not store downloaded data.\n",
      "    data_dir : Path\n",
      "        Path to directory where data will be cached.\n",
      "    path_to_browser : Path, optional\n",
      "        Path to the Chrome executable.\n",
      "    headless : bool, default: True\n",
      "        If True, will run Chrome in headless mode. Setting this to False might\n",
      "        help to avoid getting blocked.\n",
      "    \n"
     ]
    }
   ],
   "source": [
    "#Extraemos los datos desde la API de SoccerDATA\n",
    "ws = sd.WhoScored(leagues='ARG-Liga Profesional', seasons=2023)\n",
    "print(ws.__doc__)"
   ]
  },
  {
   "cell_type": "code",
   "execution_count": 3,
   "id": "e391c965",
   "metadata": {
    "scrolled": true
   },
   "outputs": [
    {
     "data": {
      "text/html": [
       "<pre style=\"white-space:pre;overflow-x:auto;line-height:normal;font-family:Menlo,'DejaVu Sans Mono',consolas,'Courier New',monospace\"><span style=\"color: #7fbfbf; text-decoration-color: #7fbfbf\">[08/02/23 13:20:49] </span><span style=\"color: #000080; text-decoration-color: #000080\">INFO    </span> Scraping game schedule from                                           <a href=\"file://d:\\Users\\Ariel\\anaconda3\\Lib\\site-packages\\soccerdata\\whoscored.py\" target=\"_blank\"><span style=\"color: #7f7f7f; text-decoration-color: #7f7f7f\">whoscored.py</span></a><span style=\"color: #7f7f7f; text-decoration-color: #7f7f7f\">:</span><a href=\"file://d:\\Users\\Ariel\\anaconda3\\Lib\\site-packages\\soccerdata\\whoscored.py#427\" target=\"_blank\"><span style=\"color: #7f7f7f; text-decoration-color: #7f7f7f\">427</span></a>\n",
       "<span style=\"color: #7fbfbf; text-decoration-color: #7fbfbf\">                    </span>         <span style=\"color: #0000ff; text-decoration-color: #0000ff; text-decoration: underline\">https://www.whoscored.com/Regions/11/Tournaments/68/Seasons/9326/Arge</span> <span style=\"color: #7f7f7f; text-decoration-color: #7f7f7f\">                </span>\n",
       "<span style=\"color: #7fbfbf; text-decoration-color: #7fbfbf\">                    </span>         <span style=\"color: #0000ff; text-decoration-color: #0000ff; text-decoration: underline\">ntina-Liga-Profesional</span>                                                <span style=\"color: #7f7f7f; text-decoration-color: #7f7f7f\">                </span>\n",
       "</pre>\n"
      ],
      "text/plain": [
       "\u001b[2;36m[08/02/23 13:20:49]\u001b[0m\u001b[2;36m \u001b[0m\u001b[34mINFO    \u001b[0m Scraping game schedule from                                           \u001b]8;id=401180;file://d:\\Users\\Ariel\\anaconda3\\Lib\\site-packages\\soccerdata\\whoscored.py\u001b\\\u001b[2mwhoscored.py\u001b[0m\u001b]8;;\u001b\\\u001b[2m:\u001b[0m\u001b]8;id=987535;file://d:\\Users\\Ariel\\anaconda3\\Lib\\site-packages\\soccerdata\\whoscored.py#427\u001b\\\u001b[2m427\u001b[0m\u001b]8;;\u001b\\\n",
       "\u001b[2;36m                    \u001b[0m         \u001b[4;94mhttps://www.whoscored.com/Regions/11/Tournaments/68/Seasons/9326/Arge\u001b[0m \u001b[2m                \u001b[0m\n",
       "\u001b[2;36m                    \u001b[0m         \u001b[4;94mntina-Liga-Profesional\u001b[0m                                                \u001b[2m                \u001b[0m\n"
      ]
     },
     "metadata": {},
     "output_type": "display_data"
    },
    {
     "data": {
      "text/html": [
       "<pre style=\"white-space:pre;overflow-x:auto;line-height:normal;font-family:Menlo,'DejaVu Sans Mono',consolas,'Courier New',monospace\"><span style=\"color: #7fbfbf; text-decoration-color: #7fbfbf\">[08/02/23 13:20:50] </span><span style=\"color: #000080; text-decoration-color: #000080\">INFO    </span> Scraping game schedule for Saturday, Jul <span style=\"color: #008080; text-decoration-color: #008080; font-weight: bold\">1</span> <span style=\"color: #008080; text-decoration-color: #008080; font-weight: bold\">2023</span>                       <a href=\"file://d:\\Users\\Ariel\\anaconda3\\Lib\\site-packages\\soccerdata\\whoscored.py\" target=\"_blank\"><span style=\"color: #7f7f7f; text-decoration-color: #7f7f7f\">whoscored.py</span></a><span style=\"color: #7f7f7f; text-decoration-color: #7f7f7f\">:</span><a href=\"file://d:\\Users\\Ariel\\anaconda3\\Lib\\site-packages\\soccerdata\\whoscored.py#327\" target=\"_blank\"><span style=\"color: #7f7f7f; text-decoration-color: #7f7f7f\">327</span></a>\n",
       "</pre>\n"
      ],
      "text/plain": [
       "\u001b[2;36m[08/02/23 13:20:50]\u001b[0m\u001b[2;36m \u001b[0m\u001b[34mINFO    \u001b[0m Scraping game schedule for Saturday, Jul \u001b[1;36m1\u001b[0m \u001b[1;36m2023\u001b[0m                       \u001b]8;id=456645;file://d:\\Users\\Ariel\\anaconda3\\Lib\\site-packages\\soccerdata\\whoscored.py\u001b\\\u001b[2mwhoscored.py\u001b[0m\u001b]8;;\u001b\\\u001b[2m:\u001b[0m\u001b]8;id=878955;file://d:\\Users\\Ariel\\anaconda3\\Lib\\site-packages\\soccerdata\\whoscored.py#327\u001b\\\u001b[2m327\u001b[0m\u001b]8;;\u001b\\\n"
      ]
     },
     "metadata": {},
     "output_type": "display_data"
    },
    {
     "data": {
      "text/html": [
       "<pre style=\"white-space:pre;overflow-x:auto;line-height:normal;font-family:Menlo,'DejaVu Sans Mono',consolas,'Courier New',monospace\"><span style=\"color: #7fbfbf; text-decoration-color: #7fbfbf\">                    </span><span style=\"color: #000080; text-decoration-color: #000080\">INFO    </span> Scraping game schedule for Sunday, Jul <span style=\"color: #008080; text-decoration-color: #008080; font-weight: bold\">2</span> <span style=\"color: #008080; text-decoration-color: #008080; font-weight: bold\">2023</span>                         <a href=\"file://d:\\Users\\Ariel\\anaconda3\\Lib\\site-packages\\soccerdata\\whoscored.py\" target=\"_blank\"><span style=\"color: #7f7f7f; text-decoration-color: #7f7f7f\">whoscored.py</span></a><span style=\"color: #7f7f7f; text-decoration-color: #7f7f7f\">:</span><a href=\"file://d:\\Users\\Ariel\\anaconda3\\Lib\\site-packages\\soccerdata\\whoscored.py#327\" target=\"_blank\"><span style=\"color: #7f7f7f; text-decoration-color: #7f7f7f\">327</span></a>\n",
       "</pre>\n"
      ],
      "text/plain": [
       "\u001b[2;36m                   \u001b[0m\u001b[2;36m \u001b[0m\u001b[34mINFO    \u001b[0m Scraping game schedule for Sunday, Jul \u001b[1;36m2\u001b[0m \u001b[1;36m2023\u001b[0m                         \u001b]8;id=665715;file://d:\\Users\\Ariel\\anaconda3\\Lib\\site-packages\\soccerdata\\whoscored.py\u001b\\\u001b[2mwhoscored.py\u001b[0m\u001b]8;;\u001b\\\u001b[2m:\u001b[0m\u001b]8;id=857349;file://d:\\Users\\Ariel\\anaconda3\\Lib\\site-packages\\soccerdata\\whoscored.py#327\u001b\\\u001b[2m327\u001b[0m\u001b]8;;\u001b\\\n"
      ]
     },
     "metadata": {},
     "output_type": "display_data"
    },
    {
     "data": {
      "text/html": [
       "<pre style=\"white-space:pre;overflow-x:auto;line-height:normal;font-family:Menlo,'DejaVu Sans Mono',consolas,'Courier New',monospace\"><span style=\"color: #7fbfbf; text-decoration-color: #7fbfbf\">                    </span><span style=\"color: #000080; text-decoration-color: #000080\">INFO    </span> Scraping game schedule for Monday, Jul <span style=\"color: #008080; text-decoration-color: #008080; font-weight: bold\">3</span> <span style=\"color: #008080; text-decoration-color: #008080; font-weight: bold\">2023</span>                         <a href=\"file://d:\\Users\\Ariel\\anaconda3\\Lib\\site-packages\\soccerdata\\whoscored.py\" target=\"_blank\"><span style=\"color: #7f7f7f; text-decoration-color: #7f7f7f\">whoscored.py</span></a><span style=\"color: #7f7f7f; text-decoration-color: #7f7f7f\">:</span><a href=\"file://d:\\Users\\Ariel\\anaconda3\\Lib\\site-packages\\soccerdata\\whoscored.py#327\" target=\"_blank\"><span style=\"color: #7f7f7f; text-decoration-color: #7f7f7f\">327</span></a>\n",
       "</pre>\n"
      ],
      "text/plain": [
       "\u001b[2;36m                   \u001b[0m\u001b[2;36m \u001b[0m\u001b[34mINFO    \u001b[0m Scraping game schedule for Monday, Jul \u001b[1;36m3\u001b[0m \u001b[1;36m2023\u001b[0m                         \u001b]8;id=235260;file://d:\\Users\\Ariel\\anaconda3\\Lib\\site-packages\\soccerdata\\whoscored.py\u001b\\\u001b[2mwhoscored.py\u001b[0m\u001b]8;;\u001b\\\u001b[2m:\u001b[0m\u001b]8;id=213731;file://d:\\Users\\Ariel\\anaconda3\\Lib\\site-packages\\soccerdata\\whoscored.py#327\u001b\\\u001b[2m327\u001b[0m\u001b]8;;\u001b\\\n"
      ]
     },
     "metadata": {},
     "output_type": "display_data"
    },
    {
     "data": {
      "text/html": [
       "<pre style=\"white-space:pre;overflow-x:auto;line-height:normal;font-family:Menlo,'DejaVu Sans Mono',consolas,'Courier New',monospace\"><span style=\"color: #7fbfbf; text-decoration-color: #7fbfbf\">                    </span><span style=\"color: #000080; text-decoration-color: #000080\">INFO    </span> Scraping game schedule for Tuesday, Jul <span style=\"color: #008080; text-decoration-color: #008080; font-weight: bold\">4</span> <span style=\"color: #008080; text-decoration-color: #008080; font-weight: bold\">2023</span>                        <a href=\"file://d:\\Users\\Ariel\\anaconda3\\Lib\\site-packages\\soccerdata\\whoscored.py\" target=\"_blank\"><span style=\"color: #7f7f7f; text-decoration-color: #7f7f7f\">whoscored.py</span></a><span style=\"color: #7f7f7f; text-decoration-color: #7f7f7f\">:</span><a href=\"file://d:\\Users\\Ariel\\anaconda3\\Lib\\site-packages\\soccerdata\\whoscored.py#327\" target=\"_blank\"><span style=\"color: #7f7f7f; text-decoration-color: #7f7f7f\">327</span></a>\n",
       "</pre>\n"
      ],
      "text/plain": [
       "\u001b[2;36m                   \u001b[0m\u001b[2;36m \u001b[0m\u001b[34mINFO    \u001b[0m Scraping game schedule for Tuesday, Jul \u001b[1;36m4\u001b[0m \u001b[1;36m2023\u001b[0m                        \u001b]8;id=591868;file://d:\\Users\\Ariel\\anaconda3\\Lib\\site-packages\\soccerdata\\whoscored.py\u001b\\\u001b[2mwhoscored.py\u001b[0m\u001b]8;;\u001b\\\u001b[2m:\u001b[0m\u001b]8;id=798877;file://d:\\Users\\Ariel\\anaconda3\\Lib\\site-packages\\soccerdata\\whoscored.py#327\u001b\\\u001b[2m327\u001b[0m\u001b]8;;\u001b\\\n"
      ]
     },
     "metadata": {},
     "output_type": "display_data"
    },
    {
     "data": {
      "text/html": [
       "<pre style=\"white-space:pre;overflow-x:auto;line-height:normal;font-family:Menlo,'DejaVu Sans Mono',consolas,'Courier New',monospace\"><span style=\"color: #7fbfbf; text-decoration-color: #7fbfbf\">                    </span><span style=\"color: #000080; text-decoration-color: #000080\">INFO    </span> Scraping game schedule for Wednesday, Jul <span style=\"color: #008080; text-decoration-color: #008080; font-weight: bold\">5</span> <span style=\"color: #008080; text-decoration-color: #008080; font-weight: bold\">2023</span>                      <a href=\"file://d:\\Users\\Ariel\\anaconda3\\Lib\\site-packages\\soccerdata\\whoscored.py\" target=\"_blank\"><span style=\"color: #7f7f7f; text-decoration-color: #7f7f7f\">whoscored.py</span></a><span style=\"color: #7f7f7f; text-decoration-color: #7f7f7f\">:</span><a href=\"file://d:\\Users\\Ariel\\anaconda3\\Lib\\site-packages\\soccerdata\\whoscored.py#327\" target=\"_blank\"><span style=\"color: #7f7f7f; text-decoration-color: #7f7f7f\">327</span></a>\n",
       "</pre>\n"
      ],
      "text/plain": [
       "\u001b[2;36m                   \u001b[0m\u001b[2;36m \u001b[0m\u001b[34mINFO    \u001b[0m Scraping game schedule for Wednesday, Jul \u001b[1;36m5\u001b[0m \u001b[1;36m2023\u001b[0m                      \u001b]8;id=145184;file://d:\\Users\\Ariel\\anaconda3\\Lib\\site-packages\\soccerdata\\whoscored.py\u001b\\\u001b[2mwhoscored.py\u001b[0m\u001b]8;;\u001b\\\u001b[2m:\u001b[0m\u001b]8;id=678234;file://d:\\Users\\Ariel\\anaconda3\\Lib\\site-packages\\soccerdata\\whoscored.py#327\u001b\\\u001b[2m327\u001b[0m\u001b]8;;\u001b\\\n"
      ]
     },
     "metadata": {},
     "output_type": "display_data"
    },
    {
     "data": {
      "text/html": [
       "<pre style=\"white-space:pre;overflow-x:auto;line-height:normal;font-family:Menlo,'DejaVu Sans Mono',consolas,'Courier New',monospace\"><span style=\"color: #7fbfbf; text-decoration-color: #7fbfbf\">                    </span><span style=\"color: #000080; text-decoration-color: #000080\">INFO    </span> Scraping game schedule for Thursday, Jul <span style=\"color: #008080; text-decoration-color: #008080; font-weight: bold\">6</span> <span style=\"color: #008080; text-decoration-color: #008080; font-weight: bold\">2023</span>                       <a href=\"file://d:\\Users\\Ariel\\anaconda3\\Lib\\site-packages\\soccerdata\\whoscored.py\" target=\"_blank\"><span style=\"color: #7f7f7f; text-decoration-color: #7f7f7f\">whoscored.py</span></a><span style=\"color: #7f7f7f; text-decoration-color: #7f7f7f\">:</span><a href=\"file://d:\\Users\\Ariel\\anaconda3\\Lib\\site-packages\\soccerdata\\whoscored.py#327\" target=\"_blank\"><span style=\"color: #7f7f7f; text-decoration-color: #7f7f7f\">327</span></a>\n",
       "</pre>\n"
      ],
      "text/plain": [
       "\u001b[2;36m                   \u001b[0m\u001b[2;36m \u001b[0m\u001b[34mINFO    \u001b[0m Scraping game schedule for Thursday, Jul \u001b[1;36m6\u001b[0m \u001b[1;36m2023\u001b[0m                       \u001b]8;id=389925;file://d:\\Users\\Ariel\\anaconda3\\Lib\\site-packages\\soccerdata\\whoscored.py\u001b\\\u001b[2mwhoscored.py\u001b[0m\u001b]8;;\u001b\\\u001b[2m:\u001b[0m\u001b]8;id=110597;file://d:\\Users\\Ariel\\anaconda3\\Lib\\site-packages\\soccerdata\\whoscored.py#327\u001b\\\u001b[2m327\u001b[0m\u001b]8;;\u001b\\\n"
      ]
     },
     "metadata": {},
     "output_type": "display_data"
    },
    {
     "data": {
      "text/html": [
       "<pre style=\"white-space:pre;overflow-x:auto;line-height:normal;font-family:Menlo,'DejaVu Sans Mono',consolas,'Courier New',monospace\"><span style=\"color: #7fbfbf; text-decoration-color: #7fbfbf\">[08/02/23 13:20:51] </span><span style=\"color: #000080; text-decoration-color: #000080\">INFO    </span> Scraping game schedule for Friday, Jul <span style=\"color: #008080; text-decoration-color: #008080; font-weight: bold\">7</span> <span style=\"color: #008080; text-decoration-color: #008080; font-weight: bold\">2023</span>                         <a href=\"file://d:\\Users\\Ariel\\anaconda3\\Lib\\site-packages\\soccerdata\\whoscored.py\" target=\"_blank\"><span style=\"color: #7f7f7f; text-decoration-color: #7f7f7f\">whoscored.py</span></a><span style=\"color: #7f7f7f; text-decoration-color: #7f7f7f\">:</span><a href=\"file://d:\\Users\\Ariel\\anaconda3\\Lib\\site-packages\\soccerdata\\whoscored.py#327\" target=\"_blank\"><span style=\"color: #7f7f7f; text-decoration-color: #7f7f7f\">327</span></a>\n",
       "</pre>\n"
      ],
      "text/plain": [
       "\u001b[2;36m[08/02/23 13:20:51]\u001b[0m\u001b[2;36m \u001b[0m\u001b[34mINFO    \u001b[0m Scraping game schedule for Friday, Jul \u001b[1;36m7\u001b[0m \u001b[1;36m2023\u001b[0m                         \u001b]8;id=300523;file://d:\\Users\\Ariel\\anaconda3\\Lib\\site-packages\\soccerdata\\whoscored.py\u001b\\\u001b[2mwhoscored.py\u001b[0m\u001b]8;;\u001b\\\u001b[2m:\u001b[0m\u001b]8;id=694758;file://d:\\Users\\Ariel\\anaconda3\\Lib\\site-packages\\soccerdata\\whoscored.py#327\u001b\\\u001b[2m327\u001b[0m\u001b]8;;\u001b\\\n"
      ]
     },
     "metadata": {},
     "output_type": "display_data"
    },
    {
     "data": {
      "text/html": [
       "<pre style=\"white-space:pre;overflow-x:auto;line-height:normal;font-family:Menlo,'DejaVu Sans Mono',consolas,'Courier New',monospace\"><span style=\"color: #7fbfbf; text-decoration-color: #7fbfbf\">                    </span><span style=\"color: #000080; text-decoration-color: #000080\">INFO    </span> Scraping game schedule for Saturday, Jul <span style=\"color: #008080; text-decoration-color: #008080; font-weight: bold\">8</span> <span style=\"color: #008080; text-decoration-color: #008080; font-weight: bold\">2023</span>                       <a href=\"file://d:\\Users\\Ariel\\anaconda3\\Lib\\site-packages\\soccerdata\\whoscored.py\" target=\"_blank\"><span style=\"color: #7f7f7f; text-decoration-color: #7f7f7f\">whoscored.py</span></a><span style=\"color: #7f7f7f; text-decoration-color: #7f7f7f\">:</span><a href=\"file://d:\\Users\\Ariel\\anaconda3\\Lib\\site-packages\\soccerdata\\whoscored.py#327\" target=\"_blank\"><span style=\"color: #7f7f7f; text-decoration-color: #7f7f7f\">327</span></a>\n",
       "</pre>\n"
      ],
      "text/plain": [
       "\u001b[2;36m                   \u001b[0m\u001b[2;36m \u001b[0m\u001b[34mINFO    \u001b[0m Scraping game schedule for Saturday, Jul \u001b[1;36m8\u001b[0m \u001b[1;36m2023\u001b[0m                       \u001b]8;id=403718;file://d:\\Users\\Ariel\\anaconda3\\Lib\\site-packages\\soccerdata\\whoscored.py\u001b\\\u001b[2mwhoscored.py\u001b[0m\u001b]8;;\u001b\\\u001b[2m:\u001b[0m\u001b]8;id=81982;file://d:\\Users\\Ariel\\anaconda3\\Lib\\site-packages\\soccerdata\\whoscored.py#327\u001b\\\u001b[2m327\u001b[0m\u001b]8;;\u001b\\\n"
      ]
     },
     "metadata": {},
     "output_type": "display_data"
    },
    {
     "data": {
      "text/html": [
       "<pre style=\"white-space:pre;overflow-x:auto;line-height:normal;font-family:Menlo,'DejaVu Sans Mono',consolas,'Courier New',monospace\"><span style=\"color: #7fbfbf; text-decoration-color: #7fbfbf\">                    </span><span style=\"color: #000080; text-decoration-color: #000080\">INFO    </span> Scraping game schedule for Sunday, Jul <span style=\"color: #008080; text-decoration-color: #008080; font-weight: bold\">9</span> <span style=\"color: #008080; text-decoration-color: #008080; font-weight: bold\">2023</span>                         <a href=\"file://d:\\Users\\Ariel\\anaconda3\\Lib\\site-packages\\soccerdata\\whoscored.py\" target=\"_blank\"><span style=\"color: #7f7f7f; text-decoration-color: #7f7f7f\">whoscored.py</span></a><span style=\"color: #7f7f7f; text-decoration-color: #7f7f7f\">:</span><a href=\"file://d:\\Users\\Ariel\\anaconda3\\Lib\\site-packages\\soccerdata\\whoscored.py#327\" target=\"_blank\"><span style=\"color: #7f7f7f; text-decoration-color: #7f7f7f\">327</span></a>\n",
       "</pre>\n"
      ],
      "text/plain": [
       "\u001b[2;36m                   \u001b[0m\u001b[2;36m \u001b[0m\u001b[34mINFO    \u001b[0m Scraping game schedule for Sunday, Jul \u001b[1;36m9\u001b[0m \u001b[1;36m2023\u001b[0m                         \u001b]8;id=641747;file://d:\\Users\\Ariel\\anaconda3\\Lib\\site-packages\\soccerdata\\whoscored.py\u001b\\\u001b[2mwhoscored.py\u001b[0m\u001b]8;;\u001b\\\u001b[2m:\u001b[0m\u001b]8;id=753809;file://d:\\Users\\Ariel\\anaconda3\\Lib\\site-packages\\soccerdata\\whoscored.py#327\u001b\\\u001b[2m327\u001b[0m\u001b]8;;\u001b\\\n"
      ]
     },
     "metadata": {},
     "output_type": "display_data"
    },
    {
     "data": {
      "text/html": [
       "<pre style=\"white-space:pre;overflow-x:auto;line-height:normal;font-family:Menlo,'DejaVu Sans Mono',consolas,'Courier New',monospace\"><span style=\"color: #7fbfbf; text-decoration-color: #7fbfbf\">                    </span><span style=\"color: #000080; text-decoration-color: #000080\">INFO    </span> Scraping game schedule for Monday, Jul <span style=\"color: #008080; text-decoration-color: #008080; font-weight: bold\">10</span> <span style=\"color: #008080; text-decoration-color: #008080; font-weight: bold\">2023</span>                        <a href=\"file://d:\\Users\\Ariel\\anaconda3\\Lib\\site-packages\\soccerdata\\whoscored.py\" target=\"_blank\"><span style=\"color: #7f7f7f; text-decoration-color: #7f7f7f\">whoscored.py</span></a><span style=\"color: #7f7f7f; text-decoration-color: #7f7f7f\">:</span><a href=\"file://d:\\Users\\Ariel\\anaconda3\\Lib\\site-packages\\soccerdata\\whoscored.py#327\" target=\"_blank\"><span style=\"color: #7f7f7f; text-decoration-color: #7f7f7f\">327</span></a>\n",
       "</pre>\n"
      ],
      "text/plain": [
       "\u001b[2;36m                   \u001b[0m\u001b[2;36m \u001b[0m\u001b[34mINFO    \u001b[0m Scraping game schedule for Monday, Jul \u001b[1;36m10\u001b[0m \u001b[1;36m2023\u001b[0m                        \u001b]8;id=376553;file://d:\\Users\\Ariel\\anaconda3\\Lib\\site-packages\\soccerdata\\whoscored.py\u001b\\\u001b[2mwhoscored.py\u001b[0m\u001b]8;;\u001b\\\u001b[2m:\u001b[0m\u001b]8;id=983321;file://d:\\Users\\Ariel\\anaconda3\\Lib\\site-packages\\soccerdata\\whoscored.py#327\u001b\\\u001b[2m327\u001b[0m\u001b]8;;\u001b\\\n"
      ]
     },
     "metadata": {},
     "output_type": "display_data"
    },
    {
     "data": {
      "text/html": [
       "<pre style=\"white-space:pre;overflow-x:auto;line-height:normal;font-family:Menlo,'DejaVu Sans Mono',consolas,'Courier New',monospace\"><span style=\"color: #7fbfbf; text-decoration-color: #7fbfbf\">                    </span><span style=\"color: #000080; text-decoration-color: #000080\">INFO    </span> Scraping game schedule for Tuesday, Jul <span style=\"color: #008080; text-decoration-color: #008080; font-weight: bold\">11</span> <span style=\"color: #008080; text-decoration-color: #008080; font-weight: bold\">2023</span>                       <a href=\"file://d:\\Users\\Ariel\\anaconda3\\Lib\\site-packages\\soccerdata\\whoscored.py\" target=\"_blank\"><span style=\"color: #7f7f7f; text-decoration-color: #7f7f7f\">whoscored.py</span></a><span style=\"color: #7f7f7f; text-decoration-color: #7f7f7f\">:</span><a href=\"file://d:\\Users\\Ariel\\anaconda3\\Lib\\site-packages\\soccerdata\\whoscored.py#327\" target=\"_blank\"><span style=\"color: #7f7f7f; text-decoration-color: #7f7f7f\">327</span></a>\n",
       "</pre>\n"
      ],
      "text/plain": [
       "\u001b[2;36m                   \u001b[0m\u001b[2;36m \u001b[0m\u001b[34mINFO    \u001b[0m Scraping game schedule for Tuesday, Jul \u001b[1;36m11\u001b[0m \u001b[1;36m2023\u001b[0m                       \u001b]8;id=991032;file://d:\\Users\\Ariel\\anaconda3\\Lib\\site-packages\\soccerdata\\whoscored.py\u001b\\\u001b[2mwhoscored.py\u001b[0m\u001b]8;;\u001b\\\u001b[2m:\u001b[0m\u001b]8;id=690253;file://d:\\Users\\Ariel\\anaconda3\\Lib\\site-packages\\soccerdata\\whoscored.py#327\u001b\\\u001b[2m327\u001b[0m\u001b]8;;\u001b\\\n"
      ]
     },
     "metadata": {},
     "output_type": "display_data"
    },
    {
     "data": {
      "text/html": [
       "<pre style=\"white-space:pre;overflow-x:auto;line-height:normal;font-family:Menlo,'DejaVu Sans Mono',consolas,'Courier New',monospace\"><span style=\"color: #7fbfbf; text-decoration-color: #7fbfbf\">                    </span><span style=\"color: #000080; text-decoration-color: #000080\">INFO    </span> Scraping game schedule for Wednesday, Jul <span style=\"color: #008080; text-decoration-color: #008080; font-weight: bold\">12</span> <span style=\"color: #008080; text-decoration-color: #008080; font-weight: bold\">2023</span>                     <a href=\"file://d:\\Users\\Ariel\\anaconda3\\Lib\\site-packages\\soccerdata\\whoscored.py\" target=\"_blank\"><span style=\"color: #7f7f7f; text-decoration-color: #7f7f7f\">whoscored.py</span></a><span style=\"color: #7f7f7f; text-decoration-color: #7f7f7f\">:</span><a href=\"file://d:\\Users\\Ariel\\anaconda3\\Lib\\site-packages\\soccerdata\\whoscored.py#327\" target=\"_blank\"><span style=\"color: #7f7f7f; text-decoration-color: #7f7f7f\">327</span></a>\n",
       "</pre>\n"
      ],
      "text/plain": [
       "\u001b[2;36m                   \u001b[0m\u001b[2;36m \u001b[0m\u001b[34mINFO    \u001b[0m Scraping game schedule for Wednesday, Jul \u001b[1;36m12\u001b[0m \u001b[1;36m2023\u001b[0m                     \u001b]8;id=717676;file://d:\\Users\\Ariel\\anaconda3\\Lib\\site-packages\\soccerdata\\whoscored.py\u001b\\\u001b[2mwhoscored.py\u001b[0m\u001b]8;;\u001b\\\u001b[2m:\u001b[0m\u001b]8;id=654109;file://d:\\Users\\Ariel\\anaconda3\\Lib\\site-packages\\soccerdata\\whoscored.py#327\u001b\\\u001b[2m327\u001b[0m\u001b]8;;\u001b\\\n"
      ]
     },
     "metadata": {},
     "output_type": "display_data"
    },
    {
     "data": {
      "text/html": [
       "<pre style=\"white-space:pre;overflow-x:auto;line-height:normal;font-family:Menlo,'DejaVu Sans Mono',consolas,'Courier New',monospace\"><span style=\"color: #7fbfbf; text-decoration-color: #7fbfbf\">[08/02/23 13:20:52] </span><span style=\"color: #000080; text-decoration-color: #000080\">INFO    </span> Scraping game schedule for Friday, Jul <span style=\"color: #008080; text-decoration-color: #008080; font-weight: bold\">14</span> <span style=\"color: #008080; text-decoration-color: #008080; font-weight: bold\">2023</span>                        <a href=\"file://d:\\Users\\Ariel\\anaconda3\\Lib\\site-packages\\soccerdata\\whoscored.py\" target=\"_blank\"><span style=\"color: #7f7f7f; text-decoration-color: #7f7f7f\">whoscored.py</span></a><span style=\"color: #7f7f7f; text-decoration-color: #7f7f7f\">:</span><a href=\"file://d:\\Users\\Ariel\\anaconda3\\Lib\\site-packages\\soccerdata\\whoscored.py#327\" target=\"_blank\"><span style=\"color: #7f7f7f; text-decoration-color: #7f7f7f\">327</span></a>\n",
       "</pre>\n"
      ],
      "text/plain": [
       "\u001b[2;36m[08/02/23 13:20:52]\u001b[0m\u001b[2;36m \u001b[0m\u001b[34mINFO    \u001b[0m Scraping game schedule for Friday, Jul \u001b[1;36m14\u001b[0m \u001b[1;36m2023\u001b[0m                        \u001b]8;id=399855;file://d:\\Users\\Ariel\\anaconda3\\Lib\\site-packages\\soccerdata\\whoscored.py\u001b\\\u001b[2mwhoscored.py\u001b[0m\u001b]8;;\u001b\\\u001b[2m:\u001b[0m\u001b]8;id=180040;file://d:\\Users\\Ariel\\anaconda3\\Lib\\site-packages\\soccerdata\\whoscored.py#327\u001b\\\u001b[2m327\u001b[0m\u001b]8;;\u001b\\\n"
      ]
     },
     "metadata": {},
     "output_type": "display_data"
    },
    {
     "data": {
      "text/html": [
       "<pre style=\"white-space:pre;overflow-x:auto;line-height:normal;font-family:Menlo,'DejaVu Sans Mono',consolas,'Courier New',monospace\"><span style=\"color: #7fbfbf; text-decoration-color: #7fbfbf\">                    </span><span style=\"color: #000080; text-decoration-color: #000080\">INFO    </span> Scraping game schedule for Saturday, Jul <span style=\"color: #008080; text-decoration-color: #008080; font-weight: bold\">15</span> <span style=\"color: #008080; text-decoration-color: #008080; font-weight: bold\">2023</span>                      <a href=\"file://d:\\Users\\Ariel\\anaconda3\\Lib\\site-packages\\soccerdata\\whoscored.py\" target=\"_blank\"><span style=\"color: #7f7f7f; text-decoration-color: #7f7f7f\">whoscored.py</span></a><span style=\"color: #7f7f7f; text-decoration-color: #7f7f7f\">:</span><a href=\"file://d:\\Users\\Ariel\\anaconda3\\Lib\\site-packages\\soccerdata\\whoscored.py#327\" target=\"_blank\"><span style=\"color: #7f7f7f; text-decoration-color: #7f7f7f\">327</span></a>\n",
       "</pre>\n"
      ],
      "text/plain": [
       "\u001b[2;36m                   \u001b[0m\u001b[2;36m \u001b[0m\u001b[34mINFO    \u001b[0m Scraping game schedule for Saturday, Jul \u001b[1;36m15\u001b[0m \u001b[1;36m2023\u001b[0m                      \u001b]8;id=433421;file://d:\\Users\\Ariel\\anaconda3\\Lib\\site-packages\\soccerdata\\whoscored.py\u001b\\\u001b[2mwhoscored.py\u001b[0m\u001b]8;;\u001b\\\u001b[2m:\u001b[0m\u001b]8;id=397502;file://d:\\Users\\Ariel\\anaconda3\\Lib\\site-packages\\soccerdata\\whoscored.py#327\u001b\\\u001b[2m327\u001b[0m\u001b]8;;\u001b\\\n"
      ]
     },
     "metadata": {},
     "output_type": "display_data"
    },
    {
     "data": {
      "text/html": [
       "<pre style=\"white-space:pre;overflow-x:auto;line-height:normal;font-family:Menlo,'DejaVu Sans Mono',consolas,'Courier New',monospace\"><span style=\"color: #7fbfbf; text-decoration-color: #7fbfbf\">                    </span><span style=\"color: #000080; text-decoration-color: #000080\">INFO    </span> Scraping game schedule for Sunday, Jul <span style=\"color: #008080; text-decoration-color: #008080; font-weight: bold\">16</span> <span style=\"color: #008080; text-decoration-color: #008080; font-weight: bold\">2023</span>                        <a href=\"file://d:\\Users\\Ariel\\anaconda3\\Lib\\site-packages\\soccerdata\\whoscored.py\" target=\"_blank\"><span style=\"color: #7f7f7f; text-decoration-color: #7f7f7f\">whoscored.py</span></a><span style=\"color: #7f7f7f; text-decoration-color: #7f7f7f\">:</span><a href=\"file://d:\\Users\\Ariel\\anaconda3\\Lib\\site-packages\\soccerdata\\whoscored.py#327\" target=\"_blank\"><span style=\"color: #7f7f7f; text-decoration-color: #7f7f7f\">327</span></a>\n",
       "</pre>\n"
      ],
      "text/plain": [
       "\u001b[2;36m                   \u001b[0m\u001b[2;36m \u001b[0m\u001b[34mINFO    \u001b[0m Scraping game schedule for Sunday, Jul \u001b[1;36m16\u001b[0m \u001b[1;36m2023\u001b[0m                        \u001b]8;id=167672;file://d:\\Users\\Ariel\\anaconda3\\Lib\\site-packages\\soccerdata\\whoscored.py\u001b\\\u001b[2mwhoscored.py\u001b[0m\u001b]8;;\u001b\\\u001b[2m:\u001b[0m\u001b]8;id=617508;file://d:\\Users\\Ariel\\anaconda3\\Lib\\site-packages\\soccerdata\\whoscored.py#327\u001b\\\u001b[2m327\u001b[0m\u001b]8;;\u001b\\\n"
      ]
     },
     "metadata": {},
     "output_type": "display_data"
    },
    {
     "data": {
      "text/html": [
       "<pre style=\"white-space:pre;overflow-x:auto;line-height:normal;font-family:Menlo,'DejaVu Sans Mono',consolas,'Courier New',monospace\"><span style=\"color: #7fbfbf; text-decoration-color: #7fbfbf\">                    </span><span style=\"color: #000080; text-decoration-color: #000080\">INFO    </span> Scraping game schedule for Monday, Jul <span style=\"color: #008080; text-decoration-color: #008080; font-weight: bold\">17</span> <span style=\"color: #008080; text-decoration-color: #008080; font-weight: bold\">2023</span>                        <a href=\"file://d:\\Users\\Ariel\\anaconda3\\Lib\\site-packages\\soccerdata\\whoscored.py\" target=\"_blank\"><span style=\"color: #7f7f7f; text-decoration-color: #7f7f7f\">whoscored.py</span></a><span style=\"color: #7f7f7f; text-decoration-color: #7f7f7f\">:</span><a href=\"file://d:\\Users\\Ariel\\anaconda3\\Lib\\site-packages\\soccerdata\\whoscored.py#327\" target=\"_blank\"><span style=\"color: #7f7f7f; text-decoration-color: #7f7f7f\">327</span></a>\n",
       "</pre>\n"
      ],
      "text/plain": [
       "\u001b[2;36m                   \u001b[0m\u001b[2;36m \u001b[0m\u001b[34mINFO    \u001b[0m Scraping game schedule for Monday, Jul \u001b[1;36m17\u001b[0m \u001b[1;36m2023\u001b[0m                        \u001b]8;id=505495;file://d:\\Users\\Ariel\\anaconda3\\Lib\\site-packages\\soccerdata\\whoscored.py\u001b\\\u001b[2mwhoscored.py\u001b[0m\u001b]8;;\u001b\\\u001b[2m:\u001b[0m\u001b]8;id=504760;file://d:\\Users\\Ariel\\anaconda3\\Lib\\site-packages\\soccerdata\\whoscored.py#327\u001b\\\u001b[2m327\u001b[0m\u001b]8;;\u001b\\\n"
      ]
     },
     "metadata": {},
     "output_type": "display_data"
    },
    {
     "data": {
      "text/html": [
       "<pre style=\"white-space:pre;overflow-x:auto;line-height:normal;font-family:Menlo,'DejaVu Sans Mono',consolas,'Courier New',monospace\"><span style=\"color: #7fbfbf; text-decoration-color: #7fbfbf\">                    </span><span style=\"color: #000080; text-decoration-color: #000080\">INFO    </span> Scraping game schedule for Tuesday, Jul <span style=\"color: #008080; text-decoration-color: #008080; font-weight: bold\">18</span> <span style=\"color: #008080; text-decoration-color: #008080; font-weight: bold\">2023</span>                       <a href=\"file://d:\\Users\\Ariel\\anaconda3\\Lib\\site-packages\\soccerdata\\whoscored.py\" target=\"_blank\"><span style=\"color: #7f7f7f; text-decoration-color: #7f7f7f\">whoscored.py</span></a><span style=\"color: #7f7f7f; text-decoration-color: #7f7f7f\">:</span><a href=\"file://d:\\Users\\Ariel\\anaconda3\\Lib\\site-packages\\soccerdata\\whoscored.py#327\" target=\"_blank\"><span style=\"color: #7f7f7f; text-decoration-color: #7f7f7f\">327</span></a>\n",
       "</pre>\n"
      ],
      "text/plain": [
       "\u001b[2;36m                   \u001b[0m\u001b[2;36m \u001b[0m\u001b[34mINFO    \u001b[0m Scraping game schedule for Tuesday, Jul \u001b[1;36m18\u001b[0m \u001b[1;36m2023\u001b[0m                       \u001b]8;id=793188;file://d:\\Users\\Ariel\\anaconda3\\Lib\\site-packages\\soccerdata\\whoscored.py\u001b\\\u001b[2mwhoscored.py\u001b[0m\u001b]8;;\u001b\\\u001b[2m:\u001b[0m\u001b]8;id=347490;file://d:\\Users\\Ariel\\anaconda3\\Lib\\site-packages\\soccerdata\\whoscored.py#327\u001b\\\u001b[2m327\u001b[0m\u001b]8;;\u001b\\\n"
      ]
     },
     "metadata": {},
     "output_type": "display_data"
    },
    {
     "data": {
      "text/html": [
       "<pre style=\"white-space:pre;overflow-x:auto;line-height:normal;font-family:Menlo,'DejaVu Sans Mono',consolas,'Courier New',monospace\"><span style=\"color: #7fbfbf; text-decoration-color: #7fbfbf\">                    </span><span style=\"color: #000080; text-decoration-color: #000080\">INFO    </span> Scraping game schedule for Saturday, Jul <span style=\"color: #008080; text-decoration-color: #008080; font-weight: bold\">22</span> <span style=\"color: #008080; text-decoration-color: #008080; font-weight: bold\">2023</span>                      <a href=\"file://d:\\Users\\Ariel\\anaconda3\\Lib\\site-packages\\soccerdata\\whoscored.py\" target=\"_blank\"><span style=\"color: #7f7f7f; text-decoration-color: #7f7f7f\">whoscored.py</span></a><span style=\"color: #7f7f7f; text-decoration-color: #7f7f7f\">:</span><a href=\"file://d:\\Users\\Ariel\\anaconda3\\Lib\\site-packages\\soccerdata\\whoscored.py#327\" target=\"_blank\"><span style=\"color: #7f7f7f; text-decoration-color: #7f7f7f\">327</span></a>\n",
       "</pre>\n"
      ],
      "text/plain": [
       "\u001b[2;36m                   \u001b[0m\u001b[2;36m \u001b[0m\u001b[34mINFO    \u001b[0m Scraping game schedule for Saturday, Jul \u001b[1;36m22\u001b[0m \u001b[1;36m2023\u001b[0m                      \u001b]8;id=677854;file://d:\\Users\\Ariel\\anaconda3\\Lib\\site-packages\\soccerdata\\whoscored.py\u001b\\\u001b[2mwhoscored.py\u001b[0m\u001b]8;;\u001b\\\u001b[2m:\u001b[0m\u001b]8;id=303592;file://d:\\Users\\Ariel\\anaconda3\\Lib\\site-packages\\soccerdata\\whoscored.py#327\u001b\\\u001b[2m327\u001b[0m\u001b]8;;\u001b\\\n"
      ]
     },
     "metadata": {},
     "output_type": "display_data"
    },
    {
     "data": {
      "text/html": [
       "<pre style=\"white-space:pre;overflow-x:auto;line-height:normal;font-family:Menlo,'DejaVu Sans Mono',consolas,'Courier New',monospace\"><span style=\"color: #7fbfbf; text-decoration-color: #7fbfbf\">                    </span><span style=\"color: #000080; text-decoration-color: #000080\">INFO    </span> Scraping game schedule for Sunday, Jul <span style=\"color: #008080; text-decoration-color: #008080; font-weight: bold\">23</span> <span style=\"color: #008080; text-decoration-color: #008080; font-weight: bold\">2023</span>                        <a href=\"file://d:\\Users\\Ariel\\anaconda3\\Lib\\site-packages\\soccerdata\\whoscored.py\" target=\"_blank\"><span style=\"color: #7f7f7f; text-decoration-color: #7f7f7f\">whoscored.py</span></a><span style=\"color: #7f7f7f; text-decoration-color: #7f7f7f\">:</span><a href=\"file://d:\\Users\\Ariel\\anaconda3\\Lib\\site-packages\\soccerdata\\whoscored.py#327\" target=\"_blank\"><span style=\"color: #7f7f7f; text-decoration-color: #7f7f7f\">327</span></a>\n",
       "</pre>\n"
      ],
      "text/plain": [
       "\u001b[2;36m                   \u001b[0m\u001b[2;36m \u001b[0m\u001b[34mINFO    \u001b[0m Scraping game schedule for Sunday, Jul \u001b[1;36m23\u001b[0m \u001b[1;36m2023\u001b[0m                        \u001b]8;id=573103;file://d:\\Users\\Ariel\\anaconda3\\Lib\\site-packages\\soccerdata\\whoscored.py\u001b\\\u001b[2mwhoscored.py\u001b[0m\u001b]8;;\u001b\\\u001b[2m:\u001b[0m\u001b]8;id=974753;file://d:\\Users\\Ariel\\anaconda3\\Lib\\site-packages\\soccerdata\\whoscored.py#327\u001b\\\u001b[2m327\u001b[0m\u001b]8;;\u001b\\\n"
      ]
     },
     "metadata": {},
     "output_type": "display_data"
    },
    {
     "data": {
      "text/html": [
       "<pre style=\"white-space:pre;overflow-x:auto;line-height:normal;font-family:Menlo,'DejaVu Sans Mono',consolas,'Courier New',monospace\"><span style=\"color: #7fbfbf; text-decoration-color: #7fbfbf\">[08/02/23 13:20:53] </span><span style=\"color: #000080; text-decoration-color: #000080\">INFO    </span> Scraping game schedule for Monday, Jul <span style=\"color: #008080; text-decoration-color: #008080; font-weight: bold\">24</span> <span style=\"color: #008080; text-decoration-color: #008080; font-weight: bold\">2023</span>                        <a href=\"file://d:\\Users\\Ariel\\anaconda3\\Lib\\site-packages\\soccerdata\\whoscored.py\" target=\"_blank\"><span style=\"color: #7f7f7f; text-decoration-color: #7f7f7f\">whoscored.py</span></a><span style=\"color: #7f7f7f; text-decoration-color: #7f7f7f\">:</span><a href=\"file://d:\\Users\\Ariel\\anaconda3\\Lib\\site-packages\\soccerdata\\whoscored.py#327\" target=\"_blank\"><span style=\"color: #7f7f7f; text-decoration-color: #7f7f7f\">327</span></a>\n",
       "</pre>\n"
      ],
      "text/plain": [
       "\u001b[2;36m[08/02/23 13:20:53]\u001b[0m\u001b[2;36m \u001b[0m\u001b[34mINFO    \u001b[0m Scraping game schedule for Monday, Jul \u001b[1;36m24\u001b[0m \u001b[1;36m2023\u001b[0m                        \u001b]8;id=609579;file://d:\\Users\\Ariel\\anaconda3\\Lib\\site-packages\\soccerdata\\whoscored.py\u001b\\\u001b[2mwhoscored.py\u001b[0m\u001b]8;;\u001b\\\u001b[2m:\u001b[0m\u001b]8;id=53020;file://d:\\Users\\Ariel\\anaconda3\\Lib\\site-packages\\soccerdata\\whoscored.py#327\u001b\\\u001b[2m327\u001b[0m\u001b]8;;\u001b\\\n"
      ]
     },
     "metadata": {},
     "output_type": "display_data"
    },
    {
     "data": {
      "text/html": [
       "<pre style=\"white-space:pre;overflow-x:auto;line-height:normal;font-family:Menlo,'DejaVu Sans Mono',consolas,'Courier New',monospace\"><span style=\"color: #7fbfbf; text-decoration-color: #7fbfbf\">                    </span><span style=\"color: #000080; text-decoration-color: #000080\">INFO    </span> Scraping game schedule for Tuesday, Jul <span style=\"color: #008080; text-decoration-color: #008080; font-weight: bold\">25</span> <span style=\"color: #008080; text-decoration-color: #008080; font-weight: bold\">2023</span>                       <a href=\"file://d:\\Users\\Ariel\\anaconda3\\Lib\\site-packages\\soccerdata\\whoscored.py\" target=\"_blank\"><span style=\"color: #7f7f7f; text-decoration-color: #7f7f7f\">whoscored.py</span></a><span style=\"color: #7f7f7f; text-decoration-color: #7f7f7f\">:</span><a href=\"file://d:\\Users\\Ariel\\anaconda3\\Lib\\site-packages\\soccerdata\\whoscored.py#327\" target=\"_blank\"><span style=\"color: #7f7f7f; text-decoration-color: #7f7f7f\">327</span></a>\n",
       "</pre>\n"
      ],
      "text/plain": [
       "\u001b[2;36m                   \u001b[0m\u001b[2;36m \u001b[0m\u001b[34mINFO    \u001b[0m Scraping game schedule for Tuesday, Jul \u001b[1;36m25\u001b[0m \u001b[1;36m2023\u001b[0m                       \u001b]8;id=568191;file://d:\\Users\\Ariel\\anaconda3\\Lib\\site-packages\\soccerdata\\whoscored.py\u001b\\\u001b[2mwhoscored.py\u001b[0m\u001b]8;;\u001b\\\u001b[2m:\u001b[0m\u001b]8;id=652713;file://d:\\Users\\Ariel\\anaconda3\\Lib\\site-packages\\soccerdata\\whoscored.py#327\u001b\\\u001b[2m327\u001b[0m\u001b]8;;\u001b\\\n"
      ]
     },
     "metadata": {},
     "output_type": "display_data"
    },
    {
     "data": {
      "text/html": [
       "<pre style=\"white-space:pre;overflow-x:auto;line-height:normal;font-family:Menlo,'DejaVu Sans Mono',consolas,'Courier New',monospace\"><span style=\"color: #7fbfbf; text-decoration-color: #7fbfbf\">                    </span><span style=\"color: #000080; text-decoration-color: #000080\">INFO    </span> Scraping game schedule for Wednesday, Jul <span style=\"color: #008080; text-decoration-color: #008080; font-weight: bold\">26</span> <span style=\"color: #008080; text-decoration-color: #008080; font-weight: bold\">2023</span>                     <a href=\"file://d:\\Users\\Ariel\\anaconda3\\Lib\\site-packages\\soccerdata\\whoscored.py\" target=\"_blank\"><span style=\"color: #7f7f7f; text-decoration-color: #7f7f7f\">whoscored.py</span></a><span style=\"color: #7f7f7f; text-decoration-color: #7f7f7f\">:</span><a href=\"file://d:\\Users\\Ariel\\anaconda3\\Lib\\site-packages\\soccerdata\\whoscored.py#327\" target=\"_blank\"><span style=\"color: #7f7f7f; text-decoration-color: #7f7f7f\">327</span></a>\n",
       "</pre>\n"
      ],
      "text/plain": [
       "\u001b[2;36m                   \u001b[0m\u001b[2;36m \u001b[0m\u001b[34mINFO    \u001b[0m Scraping game schedule for Wednesday, Jul \u001b[1;36m26\u001b[0m \u001b[1;36m2023\u001b[0m                     \u001b]8;id=484958;file://d:\\Users\\Ariel\\anaconda3\\Lib\\site-packages\\soccerdata\\whoscored.py\u001b\\\u001b[2mwhoscored.py\u001b[0m\u001b]8;;\u001b\\\u001b[2m:\u001b[0m\u001b]8;id=127420;file://d:\\Users\\Ariel\\anaconda3\\Lib\\site-packages\\soccerdata\\whoscored.py#327\u001b\\\u001b[2m327\u001b[0m\u001b]8;;\u001b\\\n"
      ]
     },
     "metadata": {},
     "output_type": "display_data"
    },
    {
     "data": {
      "text/html": [
       "<pre style=\"white-space:pre;overflow-x:auto;line-height:normal;font-family:Menlo,'DejaVu Sans Mono',consolas,'Courier New',monospace\"><span style=\"color: #7fbfbf; text-decoration-color: #7fbfbf\">                    </span><span style=\"color: #000080; text-decoration-color: #000080\">INFO    </span> Scraping game schedule for Friday, Jul <span style=\"color: #008080; text-decoration-color: #008080; font-weight: bold\">28</span> <span style=\"color: #008080; text-decoration-color: #008080; font-weight: bold\">2023</span>                        <a href=\"file://d:\\Users\\Ariel\\anaconda3\\Lib\\site-packages\\soccerdata\\whoscored.py\" target=\"_blank\"><span style=\"color: #7f7f7f; text-decoration-color: #7f7f7f\">whoscored.py</span></a><span style=\"color: #7f7f7f; text-decoration-color: #7f7f7f\">:</span><a href=\"file://d:\\Users\\Ariel\\anaconda3\\Lib\\site-packages\\soccerdata\\whoscored.py#327\" target=\"_blank\"><span style=\"color: #7f7f7f; text-decoration-color: #7f7f7f\">327</span></a>\n",
       "</pre>\n"
      ],
      "text/plain": [
       "\u001b[2;36m                   \u001b[0m\u001b[2;36m \u001b[0m\u001b[34mINFO    \u001b[0m Scraping game schedule for Friday, Jul \u001b[1;36m28\u001b[0m \u001b[1;36m2023\u001b[0m                        \u001b]8;id=260477;file://d:\\Users\\Ariel\\anaconda3\\Lib\\site-packages\\soccerdata\\whoscored.py\u001b\\\u001b[2mwhoscored.py\u001b[0m\u001b]8;;\u001b\\\u001b[2m:\u001b[0m\u001b]8;id=940595;file://d:\\Users\\Ariel\\anaconda3\\Lib\\site-packages\\soccerdata\\whoscored.py#327\u001b\\\u001b[2m327\u001b[0m\u001b]8;;\u001b\\\n"
      ]
     },
     "metadata": {},
     "output_type": "display_data"
    },
    {
     "data": {
      "text/html": [
       "<pre style=\"white-space:pre;overflow-x:auto;line-height:normal;font-family:Menlo,'DejaVu Sans Mono',consolas,'Courier New',monospace\"><span style=\"color: #7fbfbf; text-decoration-color: #7fbfbf\">                    </span><span style=\"color: #000080; text-decoration-color: #000080\">INFO    </span> Scraping game schedule for Saturday, Jul <span style=\"color: #008080; text-decoration-color: #008080; font-weight: bold\">29</span> <span style=\"color: #008080; text-decoration-color: #008080; font-weight: bold\">2023</span>                      <a href=\"file://d:\\Users\\Ariel\\anaconda3\\Lib\\site-packages\\soccerdata\\whoscored.py\" target=\"_blank\"><span style=\"color: #7f7f7f; text-decoration-color: #7f7f7f\">whoscored.py</span></a><span style=\"color: #7f7f7f; text-decoration-color: #7f7f7f\">:</span><a href=\"file://d:\\Users\\Ariel\\anaconda3\\Lib\\site-packages\\soccerdata\\whoscored.py#327\" target=\"_blank\"><span style=\"color: #7f7f7f; text-decoration-color: #7f7f7f\">327</span></a>\n",
       "</pre>\n"
      ],
      "text/plain": [
       "\u001b[2;36m                   \u001b[0m\u001b[2;36m \u001b[0m\u001b[34mINFO    \u001b[0m Scraping game schedule for Saturday, Jul \u001b[1;36m29\u001b[0m \u001b[1;36m2023\u001b[0m                      \u001b]8;id=37566;file://d:\\Users\\Ariel\\anaconda3\\Lib\\site-packages\\soccerdata\\whoscored.py\u001b\\\u001b[2mwhoscored.py\u001b[0m\u001b]8;;\u001b\\\u001b[2m:\u001b[0m\u001b]8;id=807485;file://d:\\Users\\Ariel\\anaconda3\\Lib\\site-packages\\soccerdata\\whoscored.py#327\u001b\\\u001b[2m327\u001b[0m\u001b]8;;\u001b\\\n"
      ]
     },
     "metadata": {},
     "output_type": "display_data"
    },
    {
     "data": {
      "text/html": [
       "<pre style=\"white-space:pre;overflow-x:auto;line-height:normal;font-family:Menlo,'DejaVu Sans Mono',consolas,'Courier New',monospace\"><span style=\"color: #7fbfbf; text-decoration-color: #7fbfbf\">                    </span><span style=\"color: #000080; text-decoration-color: #000080\">INFO    </span> Scraping game schedule for Sunday, Jul <span style=\"color: #008080; text-decoration-color: #008080; font-weight: bold\">30</span> <span style=\"color: #008080; text-decoration-color: #008080; font-weight: bold\">2023</span>                        <a href=\"file://d:\\Users\\Ariel\\anaconda3\\Lib\\site-packages\\soccerdata\\whoscored.py\" target=\"_blank\"><span style=\"color: #7f7f7f; text-decoration-color: #7f7f7f\">whoscored.py</span></a><span style=\"color: #7f7f7f; text-decoration-color: #7f7f7f\">:</span><a href=\"file://d:\\Users\\Ariel\\anaconda3\\Lib\\site-packages\\soccerdata\\whoscored.py#327\" target=\"_blank\"><span style=\"color: #7f7f7f; text-decoration-color: #7f7f7f\">327</span></a>\n",
       "</pre>\n"
      ],
      "text/plain": [
       "\u001b[2;36m                   \u001b[0m\u001b[2;36m \u001b[0m\u001b[34mINFO    \u001b[0m Scraping game schedule for Sunday, Jul \u001b[1;36m30\u001b[0m \u001b[1;36m2023\u001b[0m                        \u001b]8;id=37565;file://d:\\Users\\Ariel\\anaconda3\\Lib\\site-packages\\soccerdata\\whoscored.py\u001b\\\u001b[2mwhoscored.py\u001b[0m\u001b]8;;\u001b\\\u001b[2m:\u001b[0m\u001b]8;id=209321;file://d:\\Users\\Ariel\\anaconda3\\Lib\\site-packages\\soccerdata\\whoscored.py#327\u001b\\\u001b[2m327\u001b[0m\u001b]8;;\u001b\\\n"
      ]
     },
     "metadata": {},
     "output_type": "display_data"
    },
    {
     "data": {
      "text/html": [
       "<pre style=\"white-space:pre;overflow-x:auto;line-height:normal;font-family:Menlo,'DejaVu Sans Mono',consolas,'Courier New',monospace\"><span style=\"color: #7fbfbf; text-decoration-color: #7fbfbf\">[08/02/23 13:20:54] </span><span style=\"color: #000080; text-decoration-color: #000080\">INFO    </span> Scraping game schedule for Monday, Jul <span style=\"color: #008080; text-decoration-color: #008080; font-weight: bold\">31</span> <span style=\"color: #008080; text-decoration-color: #008080; font-weight: bold\">2023</span>                        <a href=\"file://d:\\Users\\Ariel\\anaconda3\\Lib\\site-packages\\soccerdata\\whoscored.py\" target=\"_blank\"><span style=\"color: #7f7f7f; text-decoration-color: #7f7f7f\">whoscored.py</span></a><span style=\"color: #7f7f7f; text-decoration-color: #7f7f7f\">:</span><a href=\"file://d:\\Users\\Ariel\\anaconda3\\Lib\\site-packages\\soccerdata\\whoscored.py#327\" target=\"_blank\"><span style=\"color: #7f7f7f; text-decoration-color: #7f7f7f\">327</span></a>\n",
       "</pre>\n"
      ],
      "text/plain": [
       "\u001b[2;36m[08/02/23 13:20:54]\u001b[0m\u001b[2;36m \u001b[0m\u001b[34mINFO    \u001b[0m Scraping game schedule for Monday, Jul \u001b[1;36m31\u001b[0m \u001b[1;36m2023\u001b[0m                        \u001b]8;id=186188;file://d:\\Users\\Ariel\\anaconda3\\Lib\\site-packages\\soccerdata\\whoscored.py\u001b\\\u001b[2mwhoscored.py\u001b[0m\u001b]8;;\u001b\\\u001b[2m:\u001b[0m\u001b]8;id=825259;file://d:\\Users\\Ariel\\anaconda3\\Lib\\site-packages\\soccerdata\\whoscored.py#327\u001b\\\u001b[2m327\u001b[0m\u001b]8;;\u001b\\\n"
      ]
     },
     "metadata": {},
     "output_type": "display_data"
    },
    {
     "data": {
      "text/html": [
       "<pre style=\"white-space:pre;overflow-x:auto;line-height:normal;font-family:Menlo,'DejaVu Sans Mono',consolas,'Courier New',monospace\"><span style=\"color: #7fbfbf; text-decoration-color: #7fbfbf\">[08/02/23 13:20:59] </span><span style=\"color: #000080; text-decoration-color: #000080\">INFO    </span> Scraping game schedule for Friday, Jun <span style=\"color: #008080; text-decoration-color: #008080; font-weight: bold\">2</span> <span style=\"color: #008080; text-decoration-color: #008080; font-weight: bold\">2023</span>                         <a href=\"file://d:\\Users\\Ariel\\anaconda3\\Lib\\site-packages\\soccerdata\\whoscored.py\" target=\"_blank\"><span style=\"color: #7f7f7f; text-decoration-color: #7f7f7f\">whoscored.py</span></a><span style=\"color: #7f7f7f; text-decoration-color: #7f7f7f\">:</span><a href=\"file://d:\\Users\\Ariel\\anaconda3\\Lib\\site-packages\\soccerdata\\whoscored.py#327\" target=\"_blank\"><span style=\"color: #7f7f7f; text-decoration-color: #7f7f7f\">327</span></a>\n",
       "</pre>\n"
      ],
      "text/plain": [
       "\u001b[2;36m[08/02/23 13:20:59]\u001b[0m\u001b[2;36m \u001b[0m\u001b[34mINFO    \u001b[0m Scraping game schedule for Friday, Jun \u001b[1;36m2\u001b[0m \u001b[1;36m2023\u001b[0m                         \u001b]8;id=985573;file://d:\\Users\\Ariel\\anaconda3\\Lib\\site-packages\\soccerdata\\whoscored.py\u001b\\\u001b[2mwhoscored.py\u001b[0m\u001b]8;;\u001b\\\u001b[2m:\u001b[0m\u001b]8;id=867374;file://d:\\Users\\Ariel\\anaconda3\\Lib\\site-packages\\soccerdata\\whoscored.py#327\u001b\\\u001b[2m327\u001b[0m\u001b]8;;\u001b\\\n"
      ]
     },
     "metadata": {},
     "output_type": "display_data"
    },
    {
     "data": {
      "text/html": [
       "<pre style=\"white-space:pre;overflow-x:auto;line-height:normal;font-family:Menlo,'DejaVu Sans Mono',consolas,'Courier New',monospace\"><span style=\"color: #7fbfbf; text-decoration-color: #7fbfbf\">                    </span><span style=\"color: #000080; text-decoration-color: #000080\">INFO    </span> Scraping game schedule for Saturday, Jun <span style=\"color: #008080; text-decoration-color: #008080; font-weight: bold\">3</span> <span style=\"color: #008080; text-decoration-color: #008080; font-weight: bold\">2023</span>                       <a href=\"file://d:\\Users\\Ariel\\anaconda3\\Lib\\site-packages\\soccerdata\\whoscored.py\" target=\"_blank\"><span style=\"color: #7f7f7f; text-decoration-color: #7f7f7f\">whoscored.py</span></a><span style=\"color: #7f7f7f; text-decoration-color: #7f7f7f\">:</span><a href=\"file://d:\\Users\\Ariel\\anaconda3\\Lib\\site-packages\\soccerdata\\whoscored.py#327\" target=\"_blank\"><span style=\"color: #7f7f7f; text-decoration-color: #7f7f7f\">327</span></a>\n",
       "</pre>\n"
      ],
      "text/plain": [
       "\u001b[2;36m                   \u001b[0m\u001b[2;36m \u001b[0m\u001b[34mINFO    \u001b[0m Scraping game schedule for Saturday, Jun \u001b[1;36m3\u001b[0m \u001b[1;36m2023\u001b[0m                       \u001b]8;id=62673;file://d:\\Users\\Ariel\\anaconda3\\Lib\\site-packages\\soccerdata\\whoscored.py\u001b\\\u001b[2mwhoscored.py\u001b[0m\u001b]8;;\u001b\\\u001b[2m:\u001b[0m\u001b]8;id=559267;file://d:\\Users\\Ariel\\anaconda3\\Lib\\site-packages\\soccerdata\\whoscored.py#327\u001b\\\u001b[2m327\u001b[0m\u001b]8;;\u001b\\\n"
      ]
     },
     "metadata": {},
     "output_type": "display_data"
    },
    {
     "data": {
      "text/html": [
       "<pre style=\"white-space:pre;overflow-x:auto;line-height:normal;font-family:Menlo,'DejaVu Sans Mono',consolas,'Courier New',monospace\"><span style=\"color: #7fbfbf; text-decoration-color: #7fbfbf\">                    </span><span style=\"color: #000080; text-decoration-color: #000080\">INFO    </span> Scraping game schedule for Sunday, Jun <span style=\"color: #008080; text-decoration-color: #008080; font-weight: bold\">4</span> <span style=\"color: #008080; text-decoration-color: #008080; font-weight: bold\">2023</span>                         <a href=\"file://d:\\Users\\Ariel\\anaconda3\\Lib\\site-packages\\soccerdata\\whoscored.py\" target=\"_blank\"><span style=\"color: #7f7f7f; text-decoration-color: #7f7f7f\">whoscored.py</span></a><span style=\"color: #7f7f7f; text-decoration-color: #7f7f7f\">:</span><a href=\"file://d:\\Users\\Ariel\\anaconda3\\Lib\\site-packages\\soccerdata\\whoscored.py#327\" target=\"_blank\"><span style=\"color: #7f7f7f; text-decoration-color: #7f7f7f\">327</span></a>\n",
       "</pre>\n"
      ],
      "text/plain": [
       "\u001b[2;36m                   \u001b[0m\u001b[2;36m \u001b[0m\u001b[34mINFO    \u001b[0m Scraping game schedule for Sunday, Jun \u001b[1;36m4\u001b[0m \u001b[1;36m2023\u001b[0m                         \u001b]8;id=71569;file://d:\\Users\\Ariel\\anaconda3\\Lib\\site-packages\\soccerdata\\whoscored.py\u001b\\\u001b[2mwhoscored.py\u001b[0m\u001b]8;;\u001b\\\u001b[2m:\u001b[0m\u001b]8;id=296253;file://d:\\Users\\Ariel\\anaconda3\\Lib\\site-packages\\soccerdata\\whoscored.py#327\u001b\\\u001b[2m327\u001b[0m\u001b]8;;\u001b\\\n"
      ]
     },
     "metadata": {},
     "output_type": "display_data"
    },
    {
     "data": {
      "text/html": [
       "<pre style=\"white-space:pre;overflow-x:auto;line-height:normal;font-family:Menlo,'DejaVu Sans Mono',consolas,'Courier New',monospace\"><span style=\"color: #7fbfbf; text-decoration-color: #7fbfbf\">                    </span><span style=\"color: #000080; text-decoration-color: #000080\">INFO    </span> Scraping game schedule for Monday, Jun <span style=\"color: #008080; text-decoration-color: #008080; font-weight: bold\">5</span> <span style=\"color: #008080; text-decoration-color: #008080; font-weight: bold\">2023</span>                         <a href=\"file://d:\\Users\\Ariel\\anaconda3\\Lib\\site-packages\\soccerdata\\whoscored.py\" target=\"_blank\"><span style=\"color: #7f7f7f; text-decoration-color: #7f7f7f\">whoscored.py</span></a><span style=\"color: #7f7f7f; text-decoration-color: #7f7f7f\">:</span><a href=\"file://d:\\Users\\Ariel\\anaconda3\\Lib\\site-packages\\soccerdata\\whoscored.py#327\" target=\"_blank\"><span style=\"color: #7f7f7f; text-decoration-color: #7f7f7f\">327</span></a>\n",
       "</pre>\n"
      ],
      "text/plain": [
       "\u001b[2;36m                   \u001b[0m\u001b[2;36m \u001b[0m\u001b[34mINFO    \u001b[0m Scraping game schedule for Monday, Jun \u001b[1;36m5\u001b[0m \u001b[1;36m2023\u001b[0m                         \u001b]8;id=316599;file://d:\\Users\\Ariel\\anaconda3\\Lib\\site-packages\\soccerdata\\whoscored.py\u001b\\\u001b[2mwhoscored.py\u001b[0m\u001b]8;;\u001b\\\u001b[2m:\u001b[0m\u001b]8;id=985055;file://d:\\Users\\Ariel\\anaconda3\\Lib\\site-packages\\soccerdata\\whoscored.py#327\u001b\\\u001b[2m327\u001b[0m\u001b]8;;\u001b\\\n"
      ]
     },
     "metadata": {},
     "output_type": "display_data"
    },
    {
     "data": {
      "text/html": [
       "<pre style=\"white-space:pre;overflow-x:auto;line-height:normal;font-family:Menlo,'DejaVu Sans Mono',consolas,'Courier New',monospace\"><span style=\"color: #7fbfbf; text-decoration-color: #7fbfbf\">                    </span><span style=\"color: #000080; text-decoration-color: #000080\">INFO    </span> Scraping game schedule for Friday, Jun <span style=\"color: #008080; text-decoration-color: #008080; font-weight: bold\">9</span> <span style=\"color: #008080; text-decoration-color: #008080; font-weight: bold\">2023</span>                         <a href=\"file://d:\\Users\\Ariel\\anaconda3\\Lib\\site-packages\\soccerdata\\whoscored.py\" target=\"_blank\"><span style=\"color: #7f7f7f; text-decoration-color: #7f7f7f\">whoscored.py</span></a><span style=\"color: #7f7f7f; text-decoration-color: #7f7f7f\">:</span><a href=\"file://d:\\Users\\Ariel\\anaconda3\\Lib\\site-packages\\soccerdata\\whoscored.py#327\" target=\"_blank\"><span style=\"color: #7f7f7f; text-decoration-color: #7f7f7f\">327</span></a>\n",
       "</pre>\n"
      ],
      "text/plain": [
       "\u001b[2;36m                   \u001b[0m\u001b[2;36m \u001b[0m\u001b[34mINFO    \u001b[0m Scraping game schedule for Friday, Jun \u001b[1;36m9\u001b[0m \u001b[1;36m2023\u001b[0m                         \u001b]8;id=454983;file://d:\\Users\\Ariel\\anaconda3\\Lib\\site-packages\\soccerdata\\whoscored.py\u001b\\\u001b[2mwhoscored.py\u001b[0m\u001b]8;;\u001b\\\u001b[2m:\u001b[0m\u001b]8;id=197567;file://d:\\Users\\Ariel\\anaconda3\\Lib\\site-packages\\soccerdata\\whoscored.py#327\u001b\\\u001b[2m327\u001b[0m\u001b]8;;\u001b\\\n"
      ]
     },
     "metadata": {},
     "output_type": "display_data"
    },
    {
     "data": {
      "text/html": [
       "<pre style=\"white-space:pre;overflow-x:auto;line-height:normal;font-family:Menlo,'DejaVu Sans Mono',consolas,'Courier New',monospace\"><span style=\"color: #7fbfbf; text-decoration-color: #7fbfbf\">[08/02/23 13:21:00] </span><span style=\"color: #000080; text-decoration-color: #000080\">INFO    </span> Scraping game schedule for Saturday, Jun <span style=\"color: #008080; text-decoration-color: #008080; font-weight: bold\">10</span> <span style=\"color: #008080; text-decoration-color: #008080; font-weight: bold\">2023</span>                      <a href=\"file://d:\\Users\\Ariel\\anaconda3\\Lib\\site-packages\\soccerdata\\whoscored.py\" target=\"_blank\"><span style=\"color: #7f7f7f; text-decoration-color: #7f7f7f\">whoscored.py</span></a><span style=\"color: #7f7f7f; text-decoration-color: #7f7f7f\">:</span><a href=\"file://d:\\Users\\Ariel\\anaconda3\\Lib\\site-packages\\soccerdata\\whoscored.py#327\" target=\"_blank\"><span style=\"color: #7f7f7f; text-decoration-color: #7f7f7f\">327</span></a>\n",
       "</pre>\n"
      ],
      "text/plain": [
       "\u001b[2;36m[08/02/23 13:21:00]\u001b[0m\u001b[2;36m \u001b[0m\u001b[34mINFO    \u001b[0m Scraping game schedule for Saturday, Jun \u001b[1;36m10\u001b[0m \u001b[1;36m2023\u001b[0m                      \u001b]8;id=832699;file://d:\\Users\\Ariel\\anaconda3\\Lib\\site-packages\\soccerdata\\whoscored.py\u001b\\\u001b[2mwhoscored.py\u001b[0m\u001b]8;;\u001b\\\u001b[2m:\u001b[0m\u001b]8;id=593348;file://d:\\Users\\Ariel\\anaconda3\\Lib\\site-packages\\soccerdata\\whoscored.py#327\u001b\\\u001b[2m327\u001b[0m\u001b]8;;\u001b\\\n"
      ]
     },
     "metadata": {},
     "output_type": "display_data"
    },
    {
     "data": {
      "text/html": [
       "<pre style=\"white-space:pre;overflow-x:auto;line-height:normal;font-family:Menlo,'DejaVu Sans Mono',consolas,'Courier New',monospace\"><span style=\"color: #7fbfbf; text-decoration-color: #7fbfbf\">                    </span><span style=\"color: #000080; text-decoration-color: #000080\">INFO    </span> Scraping game schedule for Sunday, Jun <span style=\"color: #008080; text-decoration-color: #008080; font-weight: bold\">11</span> <span style=\"color: #008080; text-decoration-color: #008080; font-weight: bold\">2023</span>                        <a href=\"file://d:\\Users\\Ariel\\anaconda3\\Lib\\site-packages\\soccerdata\\whoscored.py\" target=\"_blank\"><span style=\"color: #7f7f7f; text-decoration-color: #7f7f7f\">whoscored.py</span></a><span style=\"color: #7f7f7f; text-decoration-color: #7f7f7f\">:</span><a href=\"file://d:\\Users\\Ariel\\anaconda3\\Lib\\site-packages\\soccerdata\\whoscored.py#327\" target=\"_blank\"><span style=\"color: #7f7f7f; text-decoration-color: #7f7f7f\">327</span></a>\n",
       "</pre>\n"
      ],
      "text/plain": [
       "\u001b[2;36m                   \u001b[0m\u001b[2;36m \u001b[0m\u001b[34mINFO    \u001b[0m Scraping game schedule for Sunday, Jun \u001b[1;36m11\u001b[0m \u001b[1;36m2023\u001b[0m                        \u001b]8;id=333474;file://d:\\Users\\Ariel\\anaconda3\\Lib\\site-packages\\soccerdata\\whoscored.py\u001b\\\u001b[2mwhoscored.py\u001b[0m\u001b]8;;\u001b\\\u001b[2m:\u001b[0m\u001b]8;id=122048;file://d:\\Users\\Ariel\\anaconda3\\Lib\\site-packages\\soccerdata\\whoscored.py#327\u001b\\\u001b[2m327\u001b[0m\u001b]8;;\u001b\\\n"
      ]
     },
     "metadata": {},
     "output_type": "display_data"
    },
    {
     "data": {
      "text/html": [
       "<pre style=\"white-space:pre;overflow-x:auto;line-height:normal;font-family:Menlo,'DejaVu Sans Mono',consolas,'Courier New',monospace\"><span style=\"color: #7fbfbf; text-decoration-color: #7fbfbf\">                    </span><span style=\"color: #000080; text-decoration-color: #000080\">INFO    </span> Scraping game schedule for Monday, Jun <span style=\"color: #008080; text-decoration-color: #008080; font-weight: bold\">12</span> <span style=\"color: #008080; text-decoration-color: #008080; font-weight: bold\">2023</span>                        <a href=\"file://d:\\Users\\Ariel\\anaconda3\\Lib\\site-packages\\soccerdata\\whoscored.py\" target=\"_blank\"><span style=\"color: #7f7f7f; text-decoration-color: #7f7f7f\">whoscored.py</span></a><span style=\"color: #7f7f7f; text-decoration-color: #7f7f7f\">:</span><a href=\"file://d:\\Users\\Ariel\\anaconda3\\Lib\\site-packages\\soccerdata\\whoscored.py#327\" target=\"_blank\"><span style=\"color: #7f7f7f; text-decoration-color: #7f7f7f\">327</span></a>\n",
       "</pre>\n"
      ],
      "text/plain": [
       "\u001b[2;36m                   \u001b[0m\u001b[2;36m \u001b[0m\u001b[34mINFO    \u001b[0m Scraping game schedule for Monday, Jun \u001b[1;36m12\u001b[0m \u001b[1;36m2023\u001b[0m                        \u001b]8;id=989993;file://d:\\Users\\Ariel\\anaconda3\\Lib\\site-packages\\soccerdata\\whoscored.py\u001b\\\u001b[2mwhoscored.py\u001b[0m\u001b]8;;\u001b\\\u001b[2m:\u001b[0m\u001b]8;id=618857;file://d:\\Users\\Ariel\\anaconda3\\Lib\\site-packages\\soccerdata\\whoscored.py#327\u001b\\\u001b[2m327\u001b[0m\u001b]8;;\u001b\\\n"
      ]
     },
     "metadata": {},
     "output_type": "display_data"
    },
    {
     "data": {
      "text/html": [
       "<pre style=\"white-space:pre;overflow-x:auto;line-height:normal;font-family:Menlo,'DejaVu Sans Mono',consolas,'Courier New',monospace\"><span style=\"color: #7fbfbf; text-decoration-color: #7fbfbf\">                    </span><span style=\"color: #000080; text-decoration-color: #000080\">INFO    </span> Scraping game schedule for Tuesday, Jun <span style=\"color: #008080; text-decoration-color: #008080; font-weight: bold\">13</span> <span style=\"color: #008080; text-decoration-color: #008080; font-weight: bold\">2023</span>                       <a href=\"file://d:\\Users\\Ariel\\anaconda3\\Lib\\site-packages\\soccerdata\\whoscored.py\" target=\"_blank\"><span style=\"color: #7f7f7f; text-decoration-color: #7f7f7f\">whoscored.py</span></a><span style=\"color: #7f7f7f; text-decoration-color: #7f7f7f\">:</span><a href=\"file://d:\\Users\\Ariel\\anaconda3\\Lib\\site-packages\\soccerdata\\whoscored.py#327\" target=\"_blank\"><span style=\"color: #7f7f7f; text-decoration-color: #7f7f7f\">327</span></a>\n",
       "</pre>\n"
      ],
      "text/plain": [
       "\u001b[2;36m                   \u001b[0m\u001b[2;36m \u001b[0m\u001b[34mINFO    \u001b[0m Scraping game schedule for Tuesday, Jun \u001b[1;36m13\u001b[0m \u001b[1;36m2023\u001b[0m                       \u001b]8;id=436774;file://d:\\Users\\Ariel\\anaconda3\\Lib\\site-packages\\soccerdata\\whoscored.py\u001b\\\u001b[2mwhoscored.py\u001b[0m\u001b]8;;\u001b\\\u001b[2m:\u001b[0m\u001b]8;id=282145;file://d:\\Users\\Ariel\\anaconda3\\Lib\\site-packages\\soccerdata\\whoscored.py#327\u001b\\\u001b[2m327\u001b[0m\u001b]8;;\u001b\\\n"
      ]
     },
     "metadata": {},
     "output_type": "display_data"
    },
    {
     "data": {
      "text/html": [
       "<pre style=\"white-space:pre;overflow-x:auto;line-height:normal;font-family:Menlo,'DejaVu Sans Mono',consolas,'Courier New',monospace\"><span style=\"color: #7fbfbf; text-decoration-color: #7fbfbf\">                    </span><span style=\"color: #000080; text-decoration-color: #000080\">INFO    </span> Scraping game schedule for Wednesday, Jun <span style=\"color: #008080; text-decoration-color: #008080; font-weight: bold\">14</span> <span style=\"color: #008080; text-decoration-color: #008080; font-weight: bold\">2023</span>                     <a href=\"file://d:\\Users\\Ariel\\anaconda3\\Lib\\site-packages\\soccerdata\\whoscored.py\" target=\"_blank\"><span style=\"color: #7f7f7f; text-decoration-color: #7f7f7f\">whoscored.py</span></a><span style=\"color: #7f7f7f; text-decoration-color: #7f7f7f\">:</span><a href=\"file://d:\\Users\\Ariel\\anaconda3\\Lib\\site-packages\\soccerdata\\whoscored.py#327\" target=\"_blank\"><span style=\"color: #7f7f7f; text-decoration-color: #7f7f7f\">327</span></a>\n",
       "</pre>\n"
      ],
      "text/plain": [
       "\u001b[2;36m                   \u001b[0m\u001b[2;36m \u001b[0m\u001b[34mINFO    \u001b[0m Scraping game schedule for Wednesday, Jun \u001b[1;36m14\u001b[0m \u001b[1;36m2023\u001b[0m                     \u001b]8;id=654217;file://d:\\Users\\Ariel\\anaconda3\\Lib\\site-packages\\soccerdata\\whoscored.py\u001b\\\u001b[2mwhoscored.py\u001b[0m\u001b]8;;\u001b\\\u001b[2m:\u001b[0m\u001b]8;id=407874;file://d:\\Users\\Ariel\\anaconda3\\Lib\\site-packages\\soccerdata\\whoscored.py#327\u001b\\\u001b[2m327\u001b[0m\u001b]8;;\u001b\\\n"
      ]
     },
     "metadata": {},
     "output_type": "display_data"
    },
    {
     "data": {
      "text/html": [
       "<pre style=\"white-space:pre;overflow-x:auto;line-height:normal;font-family:Menlo,'DejaVu Sans Mono',consolas,'Courier New',monospace\"><span style=\"color: #7fbfbf; text-decoration-color: #7fbfbf\">                    </span><span style=\"color: #000080; text-decoration-color: #000080\">INFO    </span> Scraping game schedule for Saturday, Jun <span style=\"color: #008080; text-decoration-color: #008080; font-weight: bold\">17</span> <span style=\"color: #008080; text-decoration-color: #008080; font-weight: bold\">2023</span>                      <a href=\"file://d:\\Users\\Ariel\\anaconda3\\Lib\\site-packages\\soccerdata\\whoscored.py\" target=\"_blank\"><span style=\"color: #7f7f7f; text-decoration-color: #7f7f7f\">whoscored.py</span></a><span style=\"color: #7f7f7f; text-decoration-color: #7f7f7f\">:</span><a href=\"file://d:\\Users\\Ariel\\anaconda3\\Lib\\site-packages\\soccerdata\\whoscored.py#327\" target=\"_blank\"><span style=\"color: #7f7f7f; text-decoration-color: #7f7f7f\">327</span></a>\n",
       "</pre>\n"
      ],
      "text/plain": [
       "\u001b[2;36m                   \u001b[0m\u001b[2;36m \u001b[0m\u001b[34mINFO    \u001b[0m Scraping game schedule for Saturday, Jun \u001b[1;36m17\u001b[0m \u001b[1;36m2023\u001b[0m                      \u001b]8;id=293234;file://d:\\Users\\Ariel\\anaconda3\\Lib\\site-packages\\soccerdata\\whoscored.py\u001b\\\u001b[2mwhoscored.py\u001b[0m\u001b]8;;\u001b\\\u001b[2m:\u001b[0m\u001b]8;id=399265;file://d:\\Users\\Ariel\\anaconda3\\Lib\\site-packages\\soccerdata\\whoscored.py#327\u001b\\\u001b[2m327\u001b[0m\u001b]8;;\u001b\\\n"
      ]
     },
     "metadata": {},
     "output_type": "display_data"
    },
    {
     "data": {
      "text/html": [
       "<pre style=\"white-space:pre;overflow-x:auto;line-height:normal;font-family:Menlo,'DejaVu Sans Mono',consolas,'Courier New',monospace\"><span style=\"color: #7fbfbf; text-decoration-color: #7fbfbf\">                    </span><span style=\"color: #000080; text-decoration-color: #000080\">INFO    </span> Scraping game schedule for Sunday, Jun <span style=\"color: #008080; text-decoration-color: #008080; font-weight: bold\">18</span> <span style=\"color: #008080; text-decoration-color: #008080; font-weight: bold\">2023</span>                        <a href=\"file://d:\\Users\\Ariel\\anaconda3\\Lib\\site-packages\\soccerdata\\whoscored.py\" target=\"_blank\"><span style=\"color: #7f7f7f; text-decoration-color: #7f7f7f\">whoscored.py</span></a><span style=\"color: #7f7f7f; text-decoration-color: #7f7f7f\">:</span><a href=\"file://d:\\Users\\Ariel\\anaconda3\\Lib\\site-packages\\soccerdata\\whoscored.py#327\" target=\"_blank\"><span style=\"color: #7f7f7f; text-decoration-color: #7f7f7f\">327</span></a>\n",
       "</pre>\n"
      ],
      "text/plain": [
       "\u001b[2;36m                   \u001b[0m\u001b[2;36m \u001b[0m\u001b[34mINFO    \u001b[0m Scraping game schedule for Sunday, Jun \u001b[1;36m18\u001b[0m \u001b[1;36m2023\u001b[0m                        \u001b]8;id=401148;file://d:\\Users\\Ariel\\anaconda3\\Lib\\site-packages\\soccerdata\\whoscored.py\u001b\\\u001b[2mwhoscored.py\u001b[0m\u001b]8;;\u001b\\\u001b[2m:\u001b[0m\u001b]8;id=806539;file://d:\\Users\\Ariel\\anaconda3\\Lib\\site-packages\\soccerdata\\whoscored.py#327\u001b\\\u001b[2m327\u001b[0m\u001b]8;;\u001b\\\n"
      ]
     },
     "metadata": {},
     "output_type": "display_data"
    },
    {
     "data": {
      "text/html": [
       "<pre style=\"white-space:pre;overflow-x:auto;line-height:normal;font-family:Menlo,'DejaVu Sans Mono',consolas,'Courier New',monospace\"><span style=\"color: #7fbfbf; text-decoration-color: #7fbfbf\">                    </span><span style=\"color: #000080; text-decoration-color: #000080\">INFO    </span> Scraping game schedule for Wednesday, Jun <span style=\"color: #008080; text-decoration-color: #008080; font-weight: bold\">21</span> <span style=\"color: #008080; text-decoration-color: #008080; font-weight: bold\">2023</span>                     <a href=\"file://d:\\Users\\Ariel\\anaconda3\\Lib\\site-packages\\soccerdata\\whoscored.py\" target=\"_blank\"><span style=\"color: #7f7f7f; text-decoration-color: #7f7f7f\">whoscored.py</span></a><span style=\"color: #7f7f7f; text-decoration-color: #7f7f7f\">:</span><a href=\"file://d:\\Users\\Ariel\\anaconda3\\Lib\\site-packages\\soccerdata\\whoscored.py#327\" target=\"_blank\"><span style=\"color: #7f7f7f; text-decoration-color: #7f7f7f\">327</span></a>\n",
       "</pre>\n"
      ],
      "text/plain": [
       "\u001b[2;36m                   \u001b[0m\u001b[2;36m \u001b[0m\u001b[34mINFO    \u001b[0m Scraping game schedule for Wednesday, Jun \u001b[1;36m21\u001b[0m \u001b[1;36m2023\u001b[0m                     \u001b]8;id=224721;file://d:\\Users\\Ariel\\anaconda3\\Lib\\site-packages\\soccerdata\\whoscored.py\u001b\\\u001b[2mwhoscored.py\u001b[0m\u001b]8;;\u001b\\\u001b[2m:\u001b[0m\u001b]8;id=579940;file://d:\\Users\\Ariel\\anaconda3\\Lib\\site-packages\\soccerdata\\whoscored.py#327\u001b\\\u001b[2m327\u001b[0m\u001b]8;;\u001b\\\n"
      ]
     },
     "metadata": {},
     "output_type": "display_data"
    },
    {
     "data": {
      "text/html": [
       "<pre style=\"white-space:pre;overflow-x:auto;line-height:normal;font-family:Menlo,'DejaVu Sans Mono',consolas,'Courier New',monospace\"><span style=\"color: #7fbfbf; text-decoration-color: #7fbfbf\">                    </span><span style=\"color: #000080; text-decoration-color: #000080\">INFO    </span> Scraping game schedule for Thursday, Jun <span style=\"color: #008080; text-decoration-color: #008080; font-weight: bold\">22</span> <span style=\"color: #008080; text-decoration-color: #008080; font-weight: bold\">2023</span>                      <a href=\"file://d:\\Users\\Ariel\\anaconda3\\Lib\\site-packages\\soccerdata\\whoscored.py\" target=\"_blank\"><span style=\"color: #7f7f7f; text-decoration-color: #7f7f7f\">whoscored.py</span></a><span style=\"color: #7f7f7f; text-decoration-color: #7f7f7f\">:</span><a href=\"file://d:\\Users\\Ariel\\anaconda3\\Lib\\site-packages\\soccerdata\\whoscored.py#327\" target=\"_blank\"><span style=\"color: #7f7f7f; text-decoration-color: #7f7f7f\">327</span></a>\n",
       "</pre>\n"
      ],
      "text/plain": [
       "\u001b[2;36m                   \u001b[0m\u001b[2;36m \u001b[0m\u001b[34mINFO    \u001b[0m Scraping game schedule for Thursday, Jun \u001b[1;36m22\u001b[0m \u001b[1;36m2023\u001b[0m                      \u001b]8;id=877805;file://d:\\Users\\Ariel\\anaconda3\\Lib\\site-packages\\soccerdata\\whoscored.py\u001b\\\u001b[2mwhoscored.py\u001b[0m\u001b]8;;\u001b\\\u001b[2m:\u001b[0m\u001b]8;id=250643;file://d:\\Users\\Ariel\\anaconda3\\Lib\\site-packages\\soccerdata\\whoscored.py#327\u001b\\\u001b[2m327\u001b[0m\u001b]8;;\u001b\\\n"
      ]
     },
     "metadata": {},
     "output_type": "display_data"
    },
    {
     "data": {
      "text/html": [
       "<pre style=\"white-space:pre;overflow-x:auto;line-height:normal;font-family:Menlo,'DejaVu Sans Mono',consolas,'Courier New',monospace\"><span style=\"color: #7fbfbf; text-decoration-color: #7fbfbf\">[08/02/23 13:21:01] </span><span style=\"color: #000080; text-decoration-color: #000080\">INFO    </span> Scraping game schedule for Friday, Jun <span style=\"color: #008080; text-decoration-color: #008080; font-weight: bold\">23</span> <span style=\"color: #008080; text-decoration-color: #008080; font-weight: bold\">2023</span>                        <a href=\"file://d:\\Users\\Ariel\\anaconda3\\Lib\\site-packages\\soccerdata\\whoscored.py\" target=\"_blank\"><span style=\"color: #7f7f7f; text-decoration-color: #7f7f7f\">whoscored.py</span></a><span style=\"color: #7f7f7f; text-decoration-color: #7f7f7f\">:</span><a href=\"file://d:\\Users\\Ariel\\anaconda3\\Lib\\site-packages\\soccerdata\\whoscored.py#327\" target=\"_blank\"><span style=\"color: #7f7f7f; text-decoration-color: #7f7f7f\">327</span></a>\n",
       "</pre>\n"
      ],
      "text/plain": [
       "\u001b[2;36m[08/02/23 13:21:01]\u001b[0m\u001b[2;36m \u001b[0m\u001b[34mINFO    \u001b[0m Scraping game schedule for Friday, Jun \u001b[1;36m23\u001b[0m \u001b[1;36m2023\u001b[0m                        \u001b]8;id=955853;file://d:\\Users\\Ariel\\anaconda3\\Lib\\site-packages\\soccerdata\\whoscored.py\u001b\\\u001b[2mwhoscored.py\u001b[0m\u001b]8;;\u001b\\\u001b[2m:\u001b[0m\u001b]8;id=698779;file://d:\\Users\\Ariel\\anaconda3\\Lib\\site-packages\\soccerdata\\whoscored.py#327\u001b\\\u001b[2m327\u001b[0m\u001b]8;;\u001b\\\n"
      ]
     },
     "metadata": {},
     "output_type": "display_data"
    },
    {
     "data": {
      "text/html": [
       "<pre style=\"white-space:pre;overflow-x:auto;line-height:normal;font-family:Menlo,'DejaVu Sans Mono',consolas,'Courier New',monospace\"><span style=\"color: #7fbfbf; text-decoration-color: #7fbfbf\">                    </span><span style=\"color: #000080; text-decoration-color: #000080\">INFO    </span> Scraping game schedule for Saturday, Jun <span style=\"color: #008080; text-decoration-color: #008080; font-weight: bold\">24</span> <span style=\"color: #008080; text-decoration-color: #008080; font-weight: bold\">2023</span>                      <a href=\"file://d:\\Users\\Ariel\\anaconda3\\Lib\\site-packages\\soccerdata\\whoscored.py\" target=\"_blank\"><span style=\"color: #7f7f7f; text-decoration-color: #7f7f7f\">whoscored.py</span></a><span style=\"color: #7f7f7f; text-decoration-color: #7f7f7f\">:</span><a href=\"file://d:\\Users\\Ariel\\anaconda3\\Lib\\site-packages\\soccerdata\\whoscored.py#327\" target=\"_blank\"><span style=\"color: #7f7f7f; text-decoration-color: #7f7f7f\">327</span></a>\n",
       "</pre>\n"
      ],
      "text/plain": [
       "\u001b[2;36m                   \u001b[0m\u001b[2;36m \u001b[0m\u001b[34mINFO    \u001b[0m Scraping game schedule for Saturday, Jun \u001b[1;36m24\u001b[0m \u001b[1;36m2023\u001b[0m                      \u001b]8;id=918411;file://d:\\Users\\Ariel\\anaconda3\\Lib\\site-packages\\soccerdata\\whoscored.py\u001b\\\u001b[2mwhoscored.py\u001b[0m\u001b]8;;\u001b\\\u001b[2m:\u001b[0m\u001b]8;id=489791;file://d:\\Users\\Ariel\\anaconda3\\Lib\\site-packages\\soccerdata\\whoscored.py#327\u001b\\\u001b[2m327\u001b[0m\u001b]8;;\u001b\\\n"
      ]
     },
     "metadata": {},
     "output_type": "display_data"
    },
    {
     "data": {
      "text/html": [
       "<pre style=\"white-space:pre;overflow-x:auto;line-height:normal;font-family:Menlo,'DejaVu Sans Mono',consolas,'Courier New',monospace\"><span style=\"color: #7fbfbf; text-decoration-color: #7fbfbf\">                    </span><span style=\"color: #000080; text-decoration-color: #000080\">INFO    </span> Scraping game schedule for Sunday, Jun <span style=\"color: #008080; text-decoration-color: #008080; font-weight: bold\">25</span> <span style=\"color: #008080; text-decoration-color: #008080; font-weight: bold\">2023</span>                        <a href=\"file://d:\\Users\\Ariel\\anaconda3\\Lib\\site-packages\\soccerdata\\whoscored.py\" target=\"_blank\"><span style=\"color: #7f7f7f; text-decoration-color: #7f7f7f\">whoscored.py</span></a><span style=\"color: #7f7f7f; text-decoration-color: #7f7f7f\">:</span><a href=\"file://d:\\Users\\Ariel\\anaconda3\\Lib\\site-packages\\soccerdata\\whoscored.py#327\" target=\"_blank\"><span style=\"color: #7f7f7f; text-decoration-color: #7f7f7f\">327</span></a>\n",
       "</pre>\n"
      ],
      "text/plain": [
       "\u001b[2;36m                   \u001b[0m\u001b[2;36m \u001b[0m\u001b[34mINFO    \u001b[0m Scraping game schedule for Sunday, Jun \u001b[1;36m25\u001b[0m \u001b[1;36m2023\u001b[0m                        \u001b]8;id=850556;file://d:\\Users\\Ariel\\anaconda3\\Lib\\site-packages\\soccerdata\\whoscored.py\u001b\\\u001b[2mwhoscored.py\u001b[0m\u001b]8;;\u001b\\\u001b[2m:\u001b[0m\u001b]8;id=78233;file://d:\\Users\\Ariel\\anaconda3\\Lib\\site-packages\\soccerdata\\whoscored.py#327\u001b\\\u001b[2m327\u001b[0m\u001b]8;;\u001b\\\n"
      ]
     },
     "metadata": {},
     "output_type": "display_data"
    },
    {
     "data": {
      "text/html": [
       "<pre style=\"white-space:pre;overflow-x:auto;line-height:normal;font-family:Menlo,'DejaVu Sans Mono',consolas,'Courier New',monospace\"><span style=\"color: #7fbfbf; text-decoration-color: #7fbfbf\">                    </span><span style=\"color: #000080; text-decoration-color: #000080\">INFO    </span> Scraping game schedule for Monday, Jun <span style=\"color: #008080; text-decoration-color: #008080; font-weight: bold\">26</span> <span style=\"color: #008080; text-decoration-color: #008080; font-weight: bold\">2023</span>                        <a href=\"file://d:\\Users\\Ariel\\anaconda3\\Lib\\site-packages\\soccerdata\\whoscored.py\" target=\"_blank\"><span style=\"color: #7f7f7f; text-decoration-color: #7f7f7f\">whoscored.py</span></a><span style=\"color: #7f7f7f; text-decoration-color: #7f7f7f\">:</span><a href=\"file://d:\\Users\\Ariel\\anaconda3\\Lib\\site-packages\\soccerdata\\whoscored.py#327\" target=\"_blank\"><span style=\"color: #7f7f7f; text-decoration-color: #7f7f7f\">327</span></a>\n",
       "</pre>\n"
      ],
      "text/plain": [
       "\u001b[2;36m                   \u001b[0m\u001b[2;36m \u001b[0m\u001b[34mINFO    \u001b[0m Scraping game schedule for Monday, Jun \u001b[1;36m26\u001b[0m \u001b[1;36m2023\u001b[0m                        \u001b]8;id=36371;file://d:\\Users\\Ariel\\anaconda3\\Lib\\site-packages\\soccerdata\\whoscored.py\u001b\\\u001b[2mwhoscored.py\u001b[0m\u001b]8;;\u001b\\\u001b[2m:\u001b[0m\u001b]8;id=558414;file://d:\\Users\\Ariel\\anaconda3\\Lib\\site-packages\\soccerdata\\whoscored.py#327\u001b\\\u001b[2m327\u001b[0m\u001b]8;;\u001b\\\n"
      ]
     },
     "metadata": {},
     "output_type": "display_data"
    },
    {
     "data": {
      "text/html": [
       "<pre style=\"white-space:pre;overflow-x:auto;line-height:normal;font-family:Menlo,'DejaVu Sans Mono',consolas,'Courier New',monospace\"><span style=\"color: #7fbfbf; text-decoration-color: #7fbfbf\">                    </span><span style=\"color: #000080; text-decoration-color: #000080\">INFO    </span> Scraping game schedule for Tuesday, Jun <span style=\"color: #008080; text-decoration-color: #008080; font-weight: bold\">27</span> <span style=\"color: #008080; text-decoration-color: #008080; font-weight: bold\">2023</span>                       <a href=\"file://d:\\Users\\Ariel\\anaconda3\\Lib\\site-packages\\soccerdata\\whoscored.py\" target=\"_blank\"><span style=\"color: #7f7f7f; text-decoration-color: #7f7f7f\">whoscored.py</span></a><span style=\"color: #7f7f7f; text-decoration-color: #7f7f7f\">:</span><a href=\"file://d:\\Users\\Ariel\\anaconda3\\Lib\\site-packages\\soccerdata\\whoscored.py#327\" target=\"_blank\"><span style=\"color: #7f7f7f; text-decoration-color: #7f7f7f\">327</span></a>\n",
       "</pre>\n"
      ],
      "text/plain": [
       "\u001b[2;36m                   \u001b[0m\u001b[2;36m \u001b[0m\u001b[34mINFO    \u001b[0m Scraping game schedule for Tuesday, Jun \u001b[1;36m27\u001b[0m \u001b[1;36m2023\u001b[0m                       \u001b]8;id=812424;file://d:\\Users\\Ariel\\anaconda3\\Lib\\site-packages\\soccerdata\\whoscored.py\u001b\\\u001b[2mwhoscored.py\u001b[0m\u001b]8;;\u001b\\\u001b[2m:\u001b[0m\u001b]8;id=389404;file://d:\\Users\\Ariel\\anaconda3\\Lib\\site-packages\\soccerdata\\whoscored.py#327\u001b\\\u001b[2m327\u001b[0m\u001b]8;;\u001b\\\n"
      ]
     },
     "metadata": {},
     "output_type": "display_data"
    },
    {
     "data": {
      "text/html": [
       "<pre style=\"white-space:pre;overflow-x:auto;line-height:normal;font-family:Menlo,'DejaVu Sans Mono',consolas,'Courier New',monospace\"><span style=\"color: #7fbfbf; text-decoration-color: #7fbfbf\">                    </span><span style=\"color: #000080; text-decoration-color: #000080\">INFO    </span> Scraping game schedule for Friday, Jun <span style=\"color: #008080; text-decoration-color: #008080; font-weight: bold\">30</span> <span style=\"color: #008080; text-decoration-color: #008080; font-weight: bold\">2023</span>                        <a href=\"file://d:\\Users\\Ariel\\anaconda3\\Lib\\site-packages\\soccerdata\\whoscored.py\" target=\"_blank\"><span style=\"color: #7f7f7f; text-decoration-color: #7f7f7f\">whoscored.py</span></a><span style=\"color: #7f7f7f; text-decoration-color: #7f7f7f\">:</span><a href=\"file://d:\\Users\\Ariel\\anaconda3\\Lib\\site-packages\\soccerdata\\whoscored.py#327\" target=\"_blank\"><span style=\"color: #7f7f7f; text-decoration-color: #7f7f7f\">327</span></a>\n",
       "</pre>\n"
      ],
      "text/plain": [
       "\u001b[2;36m                   \u001b[0m\u001b[2;36m \u001b[0m\u001b[34mINFO    \u001b[0m Scraping game schedule for Friday, Jun \u001b[1;36m30\u001b[0m \u001b[1;36m2023\u001b[0m                        \u001b]8;id=170130;file://d:\\Users\\Ariel\\anaconda3\\Lib\\site-packages\\soccerdata\\whoscored.py\u001b\\\u001b[2mwhoscored.py\u001b[0m\u001b]8;;\u001b\\\u001b[2m:\u001b[0m\u001b]8;id=512300;file://d:\\Users\\Ariel\\anaconda3\\Lib\\site-packages\\soccerdata\\whoscored.py#327\u001b\\\u001b[2m327\u001b[0m\u001b]8;;\u001b\\\n"
      ]
     },
     "metadata": {},
     "output_type": "display_data"
    },
    {
     "data": {
      "text/html": [
       "<pre style=\"white-space:pre;overflow-x:auto;line-height:normal;font-family:Menlo,'DejaVu Sans Mono',consolas,'Courier New',monospace\"><span style=\"color: #7fbfbf; text-decoration-color: #7fbfbf\">[08/02/23 13:21:06] </span><span style=\"color: #000080; text-decoration-color: #000080\">INFO    </span> Scraping game schedule for Monday, May <span style=\"color: #008080; text-decoration-color: #008080; font-weight: bold\">1</span> <span style=\"color: #008080; text-decoration-color: #008080; font-weight: bold\">2023</span>                         <a href=\"file://d:\\Users\\Ariel\\anaconda3\\Lib\\site-packages\\soccerdata\\whoscored.py\" target=\"_blank\"><span style=\"color: #7f7f7f; text-decoration-color: #7f7f7f\">whoscored.py</span></a><span style=\"color: #7f7f7f; text-decoration-color: #7f7f7f\">:</span><a href=\"file://d:\\Users\\Ariel\\anaconda3\\Lib\\site-packages\\soccerdata\\whoscored.py#327\" target=\"_blank\"><span style=\"color: #7f7f7f; text-decoration-color: #7f7f7f\">327</span></a>\n",
       "</pre>\n"
      ],
      "text/plain": [
       "\u001b[2;36m[08/02/23 13:21:06]\u001b[0m\u001b[2;36m \u001b[0m\u001b[34mINFO    \u001b[0m Scraping game schedule for Monday, May \u001b[1;36m1\u001b[0m \u001b[1;36m2023\u001b[0m                         \u001b]8;id=561178;file://d:\\Users\\Ariel\\anaconda3\\Lib\\site-packages\\soccerdata\\whoscored.py\u001b\\\u001b[2mwhoscored.py\u001b[0m\u001b]8;;\u001b\\\u001b[2m:\u001b[0m\u001b]8;id=637433;file://d:\\Users\\Ariel\\anaconda3\\Lib\\site-packages\\soccerdata\\whoscored.py#327\u001b\\\u001b[2m327\u001b[0m\u001b]8;;\u001b\\\n"
      ]
     },
     "metadata": {},
     "output_type": "display_data"
    },
    {
     "data": {
      "text/html": [
       "<pre style=\"white-space:pre;overflow-x:auto;line-height:normal;font-family:Menlo,'DejaVu Sans Mono',consolas,'Courier New',monospace\"><span style=\"color: #7fbfbf; text-decoration-color: #7fbfbf\">                    </span><span style=\"color: #000080; text-decoration-color: #000080\">INFO    </span> Scraping game schedule for Friday, May <span style=\"color: #008080; text-decoration-color: #008080; font-weight: bold\">5</span> <span style=\"color: #008080; text-decoration-color: #008080; font-weight: bold\">2023</span>                         <a href=\"file://d:\\Users\\Ariel\\anaconda3\\Lib\\site-packages\\soccerdata\\whoscored.py\" target=\"_blank\"><span style=\"color: #7f7f7f; text-decoration-color: #7f7f7f\">whoscored.py</span></a><span style=\"color: #7f7f7f; text-decoration-color: #7f7f7f\">:</span><a href=\"file://d:\\Users\\Ariel\\anaconda3\\Lib\\site-packages\\soccerdata\\whoscored.py#327\" target=\"_blank\"><span style=\"color: #7f7f7f; text-decoration-color: #7f7f7f\">327</span></a>\n",
       "</pre>\n"
      ],
      "text/plain": [
       "\u001b[2;36m                   \u001b[0m\u001b[2;36m \u001b[0m\u001b[34mINFO    \u001b[0m Scraping game schedule for Friday, May \u001b[1;36m5\u001b[0m \u001b[1;36m2023\u001b[0m                         \u001b]8;id=947377;file://d:\\Users\\Ariel\\anaconda3\\Lib\\site-packages\\soccerdata\\whoscored.py\u001b\\\u001b[2mwhoscored.py\u001b[0m\u001b]8;;\u001b\\\u001b[2m:\u001b[0m\u001b]8;id=57684;file://d:\\Users\\Ariel\\anaconda3\\Lib\\site-packages\\soccerdata\\whoscored.py#327\u001b\\\u001b[2m327\u001b[0m\u001b]8;;\u001b\\\n"
      ]
     },
     "metadata": {},
     "output_type": "display_data"
    },
    {
     "data": {
      "text/html": [
       "<pre style=\"white-space:pre;overflow-x:auto;line-height:normal;font-family:Menlo,'DejaVu Sans Mono',consolas,'Courier New',monospace\"><span style=\"color: #7fbfbf; text-decoration-color: #7fbfbf\">                    </span><span style=\"color: #000080; text-decoration-color: #000080\">INFO    </span> Scraping game schedule for Saturday, May <span style=\"color: #008080; text-decoration-color: #008080; font-weight: bold\">6</span> <span style=\"color: #008080; text-decoration-color: #008080; font-weight: bold\">2023</span>                       <a href=\"file://d:\\Users\\Ariel\\anaconda3\\Lib\\site-packages\\soccerdata\\whoscored.py\" target=\"_blank\"><span style=\"color: #7f7f7f; text-decoration-color: #7f7f7f\">whoscored.py</span></a><span style=\"color: #7f7f7f; text-decoration-color: #7f7f7f\">:</span><a href=\"file://d:\\Users\\Ariel\\anaconda3\\Lib\\site-packages\\soccerdata\\whoscored.py#327\" target=\"_blank\"><span style=\"color: #7f7f7f; text-decoration-color: #7f7f7f\">327</span></a>\n",
       "</pre>\n"
      ],
      "text/plain": [
       "\u001b[2;36m                   \u001b[0m\u001b[2;36m \u001b[0m\u001b[34mINFO    \u001b[0m Scraping game schedule for Saturday, May \u001b[1;36m6\u001b[0m \u001b[1;36m2023\u001b[0m                       \u001b]8;id=522376;file://d:\\Users\\Ariel\\anaconda3\\Lib\\site-packages\\soccerdata\\whoscored.py\u001b\\\u001b[2mwhoscored.py\u001b[0m\u001b]8;;\u001b\\\u001b[2m:\u001b[0m\u001b]8;id=943561;file://d:\\Users\\Ariel\\anaconda3\\Lib\\site-packages\\soccerdata\\whoscored.py#327\u001b\\\u001b[2m327\u001b[0m\u001b]8;;\u001b\\\n"
      ]
     },
     "metadata": {},
     "output_type": "display_data"
    },
    {
     "data": {
      "text/html": [
       "<pre style=\"white-space:pre;overflow-x:auto;line-height:normal;font-family:Menlo,'DejaVu Sans Mono',consolas,'Courier New',monospace\"><span style=\"color: #7fbfbf; text-decoration-color: #7fbfbf\">[08/02/23 13:21:07] </span><span style=\"color: #000080; text-decoration-color: #000080\">INFO    </span> Scraping game schedule for Sunday, May <span style=\"color: #008080; text-decoration-color: #008080; font-weight: bold\">7</span> <span style=\"color: #008080; text-decoration-color: #008080; font-weight: bold\">2023</span>                         <a href=\"file://d:\\Users\\Ariel\\anaconda3\\Lib\\site-packages\\soccerdata\\whoscored.py\" target=\"_blank\"><span style=\"color: #7f7f7f; text-decoration-color: #7f7f7f\">whoscored.py</span></a><span style=\"color: #7f7f7f; text-decoration-color: #7f7f7f\">:</span><a href=\"file://d:\\Users\\Ariel\\anaconda3\\Lib\\site-packages\\soccerdata\\whoscored.py#327\" target=\"_blank\"><span style=\"color: #7f7f7f; text-decoration-color: #7f7f7f\">327</span></a>\n",
       "</pre>\n"
      ],
      "text/plain": [
       "\u001b[2;36m[08/02/23 13:21:07]\u001b[0m\u001b[2;36m \u001b[0m\u001b[34mINFO    \u001b[0m Scraping game schedule for Sunday, May \u001b[1;36m7\u001b[0m \u001b[1;36m2023\u001b[0m                         \u001b]8;id=828760;file://d:\\Users\\Ariel\\anaconda3\\Lib\\site-packages\\soccerdata\\whoscored.py\u001b\\\u001b[2mwhoscored.py\u001b[0m\u001b]8;;\u001b\\\u001b[2m:\u001b[0m\u001b]8;id=665559;file://d:\\Users\\Ariel\\anaconda3\\Lib\\site-packages\\soccerdata\\whoscored.py#327\u001b\\\u001b[2m327\u001b[0m\u001b]8;;\u001b\\\n"
      ]
     },
     "metadata": {},
     "output_type": "display_data"
    },
    {
     "data": {
      "text/html": [
       "<pre style=\"white-space:pre;overflow-x:auto;line-height:normal;font-family:Menlo,'DejaVu Sans Mono',consolas,'Courier New',monospace\"><span style=\"color: #7fbfbf; text-decoration-color: #7fbfbf\">                    </span><span style=\"color: #000080; text-decoration-color: #000080\">INFO    </span> Scraping game schedule for Monday, May <span style=\"color: #008080; text-decoration-color: #008080; font-weight: bold\">8</span> <span style=\"color: #008080; text-decoration-color: #008080; font-weight: bold\">2023</span>                         <a href=\"file://d:\\Users\\Ariel\\anaconda3\\Lib\\site-packages\\soccerdata\\whoscored.py\" target=\"_blank\"><span style=\"color: #7f7f7f; text-decoration-color: #7f7f7f\">whoscored.py</span></a><span style=\"color: #7f7f7f; text-decoration-color: #7f7f7f\">:</span><a href=\"file://d:\\Users\\Ariel\\anaconda3\\Lib\\site-packages\\soccerdata\\whoscored.py#327\" target=\"_blank\"><span style=\"color: #7f7f7f; text-decoration-color: #7f7f7f\">327</span></a>\n",
       "</pre>\n"
      ],
      "text/plain": [
       "\u001b[2;36m                   \u001b[0m\u001b[2;36m \u001b[0m\u001b[34mINFO    \u001b[0m Scraping game schedule for Monday, May \u001b[1;36m8\u001b[0m \u001b[1;36m2023\u001b[0m                         \u001b]8;id=24525;file://d:\\Users\\Ariel\\anaconda3\\Lib\\site-packages\\soccerdata\\whoscored.py\u001b\\\u001b[2mwhoscored.py\u001b[0m\u001b]8;;\u001b\\\u001b[2m:\u001b[0m\u001b]8;id=310520;file://d:\\Users\\Ariel\\anaconda3\\Lib\\site-packages\\soccerdata\\whoscored.py#327\u001b\\\u001b[2m327\u001b[0m\u001b]8;;\u001b\\\n"
      ]
     },
     "metadata": {},
     "output_type": "display_data"
    },
    {
     "data": {
      "text/html": [
       "<pre style=\"white-space:pre;overflow-x:auto;line-height:normal;font-family:Menlo,'DejaVu Sans Mono',consolas,'Courier New',monospace\"><span style=\"color: #7fbfbf; text-decoration-color: #7fbfbf\">                    </span><span style=\"color: #000080; text-decoration-color: #000080\">INFO    </span> Scraping game schedule for Tuesday, May <span style=\"color: #008080; text-decoration-color: #008080; font-weight: bold\">9</span> <span style=\"color: #008080; text-decoration-color: #008080; font-weight: bold\">2023</span>                        <a href=\"file://d:\\Users\\Ariel\\anaconda3\\Lib\\site-packages\\soccerdata\\whoscored.py\" target=\"_blank\"><span style=\"color: #7f7f7f; text-decoration-color: #7f7f7f\">whoscored.py</span></a><span style=\"color: #7f7f7f; text-decoration-color: #7f7f7f\">:</span><a href=\"file://d:\\Users\\Ariel\\anaconda3\\Lib\\site-packages\\soccerdata\\whoscored.py#327\" target=\"_blank\"><span style=\"color: #7f7f7f; text-decoration-color: #7f7f7f\">327</span></a>\n",
       "</pre>\n"
      ],
      "text/plain": [
       "\u001b[2;36m                   \u001b[0m\u001b[2;36m \u001b[0m\u001b[34mINFO    \u001b[0m Scraping game schedule for Tuesday, May \u001b[1;36m9\u001b[0m \u001b[1;36m2023\u001b[0m                        \u001b]8;id=843292;file://d:\\Users\\Ariel\\anaconda3\\Lib\\site-packages\\soccerdata\\whoscored.py\u001b\\\u001b[2mwhoscored.py\u001b[0m\u001b]8;;\u001b\\\u001b[2m:\u001b[0m\u001b]8;id=284884;file://d:\\Users\\Ariel\\anaconda3\\Lib\\site-packages\\soccerdata\\whoscored.py#327\u001b\\\u001b[2m327\u001b[0m\u001b]8;;\u001b\\\n"
      ]
     },
     "metadata": {},
     "output_type": "display_data"
    },
    {
     "data": {
      "text/html": [
       "<pre style=\"white-space:pre;overflow-x:auto;line-height:normal;font-family:Menlo,'DejaVu Sans Mono',consolas,'Courier New',monospace\"><span style=\"color: #7fbfbf; text-decoration-color: #7fbfbf\">                    </span><span style=\"color: #000080; text-decoration-color: #000080\">INFO    </span> Scraping game schedule for Saturday, May <span style=\"color: #008080; text-decoration-color: #008080; font-weight: bold\">13</span> <span style=\"color: #008080; text-decoration-color: #008080; font-weight: bold\">2023</span>                      <a href=\"file://d:\\Users\\Ariel\\anaconda3\\Lib\\site-packages\\soccerdata\\whoscored.py\" target=\"_blank\"><span style=\"color: #7f7f7f; text-decoration-color: #7f7f7f\">whoscored.py</span></a><span style=\"color: #7f7f7f; text-decoration-color: #7f7f7f\">:</span><a href=\"file://d:\\Users\\Ariel\\anaconda3\\Lib\\site-packages\\soccerdata\\whoscored.py#327\" target=\"_blank\"><span style=\"color: #7f7f7f; text-decoration-color: #7f7f7f\">327</span></a>\n",
       "</pre>\n"
      ],
      "text/plain": [
       "\u001b[2;36m                   \u001b[0m\u001b[2;36m \u001b[0m\u001b[34mINFO    \u001b[0m Scraping game schedule for Saturday, May \u001b[1;36m13\u001b[0m \u001b[1;36m2023\u001b[0m                      \u001b]8;id=153461;file://d:\\Users\\Ariel\\anaconda3\\Lib\\site-packages\\soccerdata\\whoscored.py\u001b\\\u001b[2mwhoscored.py\u001b[0m\u001b]8;;\u001b\\\u001b[2m:\u001b[0m\u001b]8;id=689576;file://d:\\Users\\Ariel\\anaconda3\\Lib\\site-packages\\soccerdata\\whoscored.py#327\u001b\\\u001b[2m327\u001b[0m\u001b]8;;\u001b\\\n"
      ]
     },
     "metadata": {},
     "output_type": "display_data"
    },
    {
     "data": {
      "text/html": [
       "<pre style=\"white-space:pre;overflow-x:auto;line-height:normal;font-family:Menlo,'DejaVu Sans Mono',consolas,'Courier New',monospace\"><span style=\"color: #7fbfbf; text-decoration-color: #7fbfbf\">                    </span><span style=\"color: #000080; text-decoration-color: #000080\">INFO    </span> Scraping game schedule for Sunday, May <span style=\"color: #008080; text-decoration-color: #008080; font-weight: bold\">14</span> <span style=\"color: #008080; text-decoration-color: #008080; font-weight: bold\">2023</span>                        <a href=\"file://d:\\Users\\Ariel\\anaconda3\\Lib\\site-packages\\soccerdata\\whoscored.py\" target=\"_blank\"><span style=\"color: #7f7f7f; text-decoration-color: #7f7f7f\">whoscored.py</span></a><span style=\"color: #7f7f7f; text-decoration-color: #7f7f7f\">:</span><a href=\"file://d:\\Users\\Ariel\\anaconda3\\Lib\\site-packages\\soccerdata\\whoscored.py#327\" target=\"_blank\"><span style=\"color: #7f7f7f; text-decoration-color: #7f7f7f\">327</span></a>\n",
       "</pre>\n"
      ],
      "text/plain": [
       "\u001b[2;36m                   \u001b[0m\u001b[2;36m \u001b[0m\u001b[34mINFO    \u001b[0m Scraping game schedule for Sunday, May \u001b[1;36m14\u001b[0m \u001b[1;36m2023\u001b[0m                        \u001b]8;id=805152;file://d:\\Users\\Ariel\\anaconda3\\Lib\\site-packages\\soccerdata\\whoscored.py\u001b\\\u001b[2mwhoscored.py\u001b[0m\u001b]8;;\u001b\\\u001b[2m:\u001b[0m\u001b]8;id=432;file://d:\\Users\\Ariel\\anaconda3\\Lib\\site-packages\\soccerdata\\whoscored.py#327\u001b\\\u001b[2m327\u001b[0m\u001b]8;;\u001b\\\n"
      ]
     },
     "metadata": {},
     "output_type": "display_data"
    },
    {
     "data": {
      "text/html": [
       "<pre style=\"white-space:pre;overflow-x:auto;line-height:normal;font-family:Menlo,'DejaVu Sans Mono',consolas,'Courier New',monospace\"><span style=\"color: #7fbfbf; text-decoration-color: #7fbfbf\">                    </span><span style=\"color: #000080; text-decoration-color: #000080\">INFO    </span> Scraping game schedule for Monday, May <span style=\"color: #008080; text-decoration-color: #008080; font-weight: bold\">15</span> <span style=\"color: #008080; text-decoration-color: #008080; font-weight: bold\">2023</span>                        <a href=\"file://d:\\Users\\Ariel\\anaconda3\\Lib\\site-packages\\soccerdata\\whoscored.py\" target=\"_blank\"><span style=\"color: #7f7f7f; text-decoration-color: #7f7f7f\">whoscored.py</span></a><span style=\"color: #7f7f7f; text-decoration-color: #7f7f7f\">:</span><a href=\"file://d:\\Users\\Ariel\\anaconda3\\Lib\\site-packages\\soccerdata\\whoscored.py#327\" target=\"_blank\"><span style=\"color: #7f7f7f; text-decoration-color: #7f7f7f\">327</span></a>\n",
       "</pre>\n"
      ],
      "text/plain": [
       "\u001b[2;36m                   \u001b[0m\u001b[2;36m \u001b[0m\u001b[34mINFO    \u001b[0m Scraping game schedule for Monday, May \u001b[1;36m15\u001b[0m \u001b[1;36m2023\u001b[0m                        \u001b]8;id=448602;file://d:\\Users\\Ariel\\anaconda3\\Lib\\site-packages\\soccerdata\\whoscored.py\u001b\\\u001b[2mwhoscored.py\u001b[0m\u001b]8;;\u001b\\\u001b[2m:\u001b[0m\u001b]8;id=311706;file://d:\\Users\\Ariel\\anaconda3\\Lib\\site-packages\\soccerdata\\whoscored.py#327\u001b\\\u001b[2m327\u001b[0m\u001b]8;;\u001b\\\n"
      ]
     },
     "metadata": {},
     "output_type": "display_data"
    },
    {
     "data": {
      "text/html": [
       "<pre style=\"white-space:pre;overflow-x:auto;line-height:normal;font-family:Menlo,'DejaVu Sans Mono',consolas,'Courier New',monospace\"><span style=\"color: #7fbfbf; text-decoration-color: #7fbfbf\">[08/02/23 13:21:08] </span><span style=\"color: #000080; text-decoration-color: #000080\">INFO    </span> Scraping game schedule for Tuesday, May <span style=\"color: #008080; text-decoration-color: #008080; font-weight: bold\">16</span> <span style=\"color: #008080; text-decoration-color: #008080; font-weight: bold\">2023</span>                       <a href=\"file://d:\\Users\\Ariel\\anaconda3\\Lib\\site-packages\\soccerdata\\whoscored.py\" target=\"_blank\"><span style=\"color: #7f7f7f; text-decoration-color: #7f7f7f\">whoscored.py</span></a><span style=\"color: #7f7f7f; text-decoration-color: #7f7f7f\">:</span><a href=\"file://d:\\Users\\Ariel\\anaconda3\\Lib\\site-packages\\soccerdata\\whoscored.py#327\" target=\"_blank\"><span style=\"color: #7f7f7f; text-decoration-color: #7f7f7f\">327</span></a>\n",
       "</pre>\n"
      ],
      "text/plain": [
       "\u001b[2;36m[08/02/23 13:21:08]\u001b[0m\u001b[2;36m \u001b[0m\u001b[34mINFO    \u001b[0m Scraping game schedule for Tuesday, May \u001b[1;36m16\u001b[0m \u001b[1;36m2023\u001b[0m                       \u001b]8;id=641367;file://d:\\Users\\Ariel\\anaconda3\\Lib\\site-packages\\soccerdata\\whoscored.py\u001b\\\u001b[2mwhoscored.py\u001b[0m\u001b]8;;\u001b\\\u001b[2m:\u001b[0m\u001b]8;id=589743;file://d:\\Users\\Ariel\\anaconda3\\Lib\\site-packages\\soccerdata\\whoscored.py#327\u001b\\\u001b[2m327\u001b[0m\u001b]8;;\u001b\\\n"
      ]
     },
     "metadata": {},
     "output_type": "display_data"
    },
    {
     "data": {
      "text/html": [
       "<pre style=\"white-space:pre;overflow-x:auto;line-height:normal;font-family:Menlo,'DejaVu Sans Mono',consolas,'Courier New',monospace\"><span style=\"color: #7fbfbf; text-decoration-color: #7fbfbf\">                    </span><span style=\"color: #000080; text-decoration-color: #000080\">INFO    </span> Scraping game schedule for Friday, May <span style=\"color: #008080; text-decoration-color: #008080; font-weight: bold\">19</span> <span style=\"color: #008080; text-decoration-color: #008080; font-weight: bold\">2023</span>                        <a href=\"file://d:\\Users\\Ariel\\anaconda3\\Lib\\site-packages\\soccerdata\\whoscored.py\" target=\"_blank\"><span style=\"color: #7f7f7f; text-decoration-color: #7f7f7f\">whoscored.py</span></a><span style=\"color: #7f7f7f; text-decoration-color: #7f7f7f\">:</span><a href=\"file://d:\\Users\\Ariel\\anaconda3\\Lib\\site-packages\\soccerdata\\whoscored.py#327\" target=\"_blank\"><span style=\"color: #7f7f7f; text-decoration-color: #7f7f7f\">327</span></a>\n",
       "</pre>\n"
      ],
      "text/plain": [
       "\u001b[2;36m                   \u001b[0m\u001b[2;36m \u001b[0m\u001b[34mINFO    \u001b[0m Scraping game schedule for Friday, May \u001b[1;36m19\u001b[0m \u001b[1;36m2023\u001b[0m                        \u001b]8;id=305425;file://d:\\Users\\Ariel\\anaconda3\\Lib\\site-packages\\soccerdata\\whoscored.py\u001b\\\u001b[2mwhoscored.py\u001b[0m\u001b]8;;\u001b\\\u001b[2m:\u001b[0m\u001b]8;id=490681;file://d:\\Users\\Ariel\\anaconda3\\Lib\\site-packages\\soccerdata\\whoscored.py#327\u001b\\\u001b[2m327\u001b[0m\u001b]8;;\u001b\\\n"
      ]
     },
     "metadata": {},
     "output_type": "display_data"
    },
    {
     "data": {
      "text/html": [
       "<pre style=\"white-space:pre;overflow-x:auto;line-height:normal;font-family:Menlo,'DejaVu Sans Mono',consolas,'Courier New',monospace\"><span style=\"color: #7fbfbf; text-decoration-color: #7fbfbf\">                    </span><span style=\"color: #000080; text-decoration-color: #000080\">INFO    </span> Scraping game schedule for Saturday, May <span style=\"color: #008080; text-decoration-color: #008080; font-weight: bold\">20</span> <span style=\"color: #008080; text-decoration-color: #008080; font-weight: bold\">2023</span>                      <a href=\"file://d:\\Users\\Ariel\\anaconda3\\Lib\\site-packages\\soccerdata\\whoscored.py\" target=\"_blank\"><span style=\"color: #7f7f7f; text-decoration-color: #7f7f7f\">whoscored.py</span></a><span style=\"color: #7f7f7f; text-decoration-color: #7f7f7f\">:</span><a href=\"file://d:\\Users\\Ariel\\anaconda3\\Lib\\site-packages\\soccerdata\\whoscored.py#327\" target=\"_blank\"><span style=\"color: #7f7f7f; text-decoration-color: #7f7f7f\">327</span></a>\n",
       "</pre>\n"
      ],
      "text/plain": [
       "\u001b[2;36m                   \u001b[0m\u001b[2;36m \u001b[0m\u001b[34mINFO    \u001b[0m Scraping game schedule for Saturday, May \u001b[1;36m20\u001b[0m \u001b[1;36m2023\u001b[0m                      \u001b]8;id=693364;file://d:\\Users\\Ariel\\anaconda3\\Lib\\site-packages\\soccerdata\\whoscored.py\u001b\\\u001b[2mwhoscored.py\u001b[0m\u001b]8;;\u001b\\\u001b[2m:\u001b[0m\u001b]8;id=769108;file://d:\\Users\\Ariel\\anaconda3\\Lib\\site-packages\\soccerdata\\whoscored.py#327\u001b\\\u001b[2m327\u001b[0m\u001b]8;;\u001b\\\n"
      ]
     },
     "metadata": {},
     "output_type": "display_data"
    },
    {
     "data": {
      "text/html": [
       "<pre style=\"white-space:pre;overflow-x:auto;line-height:normal;font-family:Menlo,'DejaVu Sans Mono',consolas,'Courier New',monospace\"><span style=\"color: #7fbfbf; text-decoration-color: #7fbfbf\">                    </span><span style=\"color: #000080; text-decoration-color: #000080\">INFO    </span> Scraping game schedule for Sunday, May <span style=\"color: #008080; text-decoration-color: #008080; font-weight: bold\">21</span> <span style=\"color: #008080; text-decoration-color: #008080; font-weight: bold\">2023</span>                        <a href=\"file://d:\\Users\\Ariel\\anaconda3\\Lib\\site-packages\\soccerdata\\whoscored.py\" target=\"_blank\"><span style=\"color: #7f7f7f; text-decoration-color: #7f7f7f\">whoscored.py</span></a><span style=\"color: #7f7f7f; text-decoration-color: #7f7f7f\">:</span><a href=\"file://d:\\Users\\Ariel\\anaconda3\\Lib\\site-packages\\soccerdata\\whoscored.py#327\" target=\"_blank\"><span style=\"color: #7f7f7f; text-decoration-color: #7f7f7f\">327</span></a>\n",
       "</pre>\n"
      ],
      "text/plain": [
       "\u001b[2;36m                   \u001b[0m\u001b[2;36m \u001b[0m\u001b[34mINFO    \u001b[0m Scraping game schedule for Sunday, May \u001b[1;36m21\u001b[0m \u001b[1;36m2023\u001b[0m                        \u001b]8;id=565091;file://d:\\Users\\Ariel\\anaconda3\\Lib\\site-packages\\soccerdata\\whoscored.py\u001b\\\u001b[2mwhoscored.py\u001b[0m\u001b]8;;\u001b\\\u001b[2m:\u001b[0m\u001b]8;id=422611;file://d:\\Users\\Ariel\\anaconda3\\Lib\\site-packages\\soccerdata\\whoscored.py#327\u001b\\\u001b[2m327\u001b[0m\u001b]8;;\u001b\\\n"
      ]
     },
     "metadata": {},
     "output_type": "display_data"
    },
    {
     "data": {
      "text/html": [
       "<pre style=\"white-space:pre;overflow-x:auto;line-height:normal;font-family:Menlo,'DejaVu Sans Mono',consolas,'Courier New',monospace\"><span style=\"color: #7fbfbf; text-decoration-color: #7fbfbf\">                    </span><span style=\"color: #000080; text-decoration-color: #000080\">INFO    </span> Scraping game schedule for Monday, May <span style=\"color: #008080; text-decoration-color: #008080; font-weight: bold\">22</span> <span style=\"color: #008080; text-decoration-color: #008080; font-weight: bold\">2023</span>                        <a href=\"file://d:\\Users\\Ariel\\anaconda3\\Lib\\site-packages\\soccerdata\\whoscored.py\" target=\"_blank\"><span style=\"color: #7f7f7f; text-decoration-color: #7f7f7f\">whoscored.py</span></a><span style=\"color: #7f7f7f; text-decoration-color: #7f7f7f\">:</span><a href=\"file://d:\\Users\\Ariel\\anaconda3\\Lib\\site-packages\\soccerdata\\whoscored.py#327\" target=\"_blank\"><span style=\"color: #7f7f7f; text-decoration-color: #7f7f7f\">327</span></a>\n",
       "</pre>\n"
      ],
      "text/plain": [
       "\u001b[2;36m                   \u001b[0m\u001b[2;36m \u001b[0m\u001b[34mINFO    \u001b[0m Scraping game schedule for Monday, May \u001b[1;36m22\u001b[0m \u001b[1;36m2023\u001b[0m                        \u001b]8;id=680882;file://d:\\Users\\Ariel\\anaconda3\\Lib\\site-packages\\soccerdata\\whoscored.py\u001b\\\u001b[2mwhoscored.py\u001b[0m\u001b]8;;\u001b\\\u001b[2m:\u001b[0m\u001b]8;id=599177;file://d:\\Users\\Ariel\\anaconda3\\Lib\\site-packages\\soccerdata\\whoscored.py#327\u001b\\\u001b[2m327\u001b[0m\u001b]8;;\u001b\\\n"
      ]
     },
     "metadata": {},
     "output_type": "display_data"
    },
    {
     "data": {
      "text/html": [
       "<pre style=\"white-space:pre;overflow-x:auto;line-height:normal;font-family:Menlo,'DejaVu Sans Mono',consolas,'Courier New',monospace\"><span style=\"color: #7fbfbf; text-decoration-color: #7fbfbf\">                    </span><span style=\"color: #000080; text-decoration-color: #000080\">INFO    </span> Scraping game schedule for Saturday, May <span style=\"color: #008080; text-decoration-color: #008080; font-weight: bold\">27</span> <span style=\"color: #008080; text-decoration-color: #008080; font-weight: bold\">2023</span>                      <a href=\"file://d:\\Users\\Ariel\\anaconda3\\Lib\\site-packages\\soccerdata\\whoscored.py\" target=\"_blank\"><span style=\"color: #7f7f7f; text-decoration-color: #7f7f7f\">whoscored.py</span></a><span style=\"color: #7f7f7f; text-decoration-color: #7f7f7f\">:</span><a href=\"file://d:\\Users\\Ariel\\anaconda3\\Lib\\site-packages\\soccerdata\\whoscored.py#327\" target=\"_blank\"><span style=\"color: #7f7f7f; text-decoration-color: #7f7f7f\">327</span></a>\n",
       "</pre>\n"
      ],
      "text/plain": [
       "\u001b[2;36m                   \u001b[0m\u001b[2;36m \u001b[0m\u001b[34mINFO    \u001b[0m Scraping game schedule for Saturday, May \u001b[1;36m27\u001b[0m \u001b[1;36m2023\u001b[0m                      \u001b]8;id=711598;file://d:\\Users\\Ariel\\anaconda3\\Lib\\site-packages\\soccerdata\\whoscored.py\u001b\\\u001b[2mwhoscored.py\u001b[0m\u001b]8;;\u001b\\\u001b[2m:\u001b[0m\u001b]8;id=416412;file://d:\\Users\\Ariel\\anaconda3\\Lib\\site-packages\\soccerdata\\whoscored.py#327\u001b\\\u001b[2m327\u001b[0m\u001b]8;;\u001b\\\n"
      ]
     },
     "metadata": {},
     "output_type": "display_data"
    },
    {
     "data": {
      "text/html": [
       "<pre style=\"white-space:pre;overflow-x:auto;line-height:normal;font-family:Menlo,'DejaVu Sans Mono',consolas,'Courier New',monospace\"><span style=\"color: #7fbfbf; text-decoration-color: #7fbfbf\">[08/02/23 13:21:09] </span><span style=\"color: #000080; text-decoration-color: #000080\">INFO    </span> Scraping game schedule for Sunday, May <span style=\"color: #008080; text-decoration-color: #008080; font-weight: bold\">28</span> <span style=\"color: #008080; text-decoration-color: #008080; font-weight: bold\">2023</span>                        <a href=\"file://d:\\Users\\Ariel\\anaconda3\\Lib\\site-packages\\soccerdata\\whoscored.py\" target=\"_blank\"><span style=\"color: #7f7f7f; text-decoration-color: #7f7f7f\">whoscored.py</span></a><span style=\"color: #7f7f7f; text-decoration-color: #7f7f7f\">:</span><a href=\"file://d:\\Users\\Ariel\\anaconda3\\Lib\\site-packages\\soccerdata\\whoscored.py#327\" target=\"_blank\"><span style=\"color: #7f7f7f; text-decoration-color: #7f7f7f\">327</span></a>\n",
       "</pre>\n"
      ],
      "text/plain": [
       "\u001b[2;36m[08/02/23 13:21:09]\u001b[0m\u001b[2;36m \u001b[0m\u001b[34mINFO    \u001b[0m Scraping game schedule for Sunday, May \u001b[1;36m28\u001b[0m \u001b[1;36m2023\u001b[0m                        \u001b]8;id=408773;file://d:\\Users\\Ariel\\anaconda3\\Lib\\site-packages\\soccerdata\\whoscored.py\u001b\\\u001b[2mwhoscored.py\u001b[0m\u001b]8;;\u001b\\\u001b[2m:\u001b[0m\u001b]8;id=865683;file://d:\\Users\\Ariel\\anaconda3\\Lib\\site-packages\\soccerdata\\whoscored.py#327\u001b\\\u001b[2m327\u001b[0m\u001b]8;;\u001b\\\n"
      ]
     },
     "metadata": {},
     "output_type": "display_data"
    },
    {
     "data": {
      "text/html": [
       "<pre style=\"white-space:pre;overflow-x:auto;line-height:normal;font-family:Menlo,'DejaVu Sans Mono',consolas,'Courier New',monospace\"><span style=\"color: #7fbfbf; text-decoration-color: #7fbfbf\">                    </span><span style=\"color: #000080; text-decoration-color: #000080\">INFO    </span> Scraping game schedule for Monday, May <span style=\"color: #008080; text-decoration-color: #008080; font-weight: bold\">29</span> <span style=\"color: #008080; text-decoration-color: #008080; font-weight: bold\">2023</span>                        <a href=\"file://d:\\Users\\Ariel\\anaconda3\\Lib\\site-packages\\soccerdata\\whoscored.py\" target=\"_blank\"><span style=\"color: #7f7f7f; text-decoration-color: #7f7f7f\">whoscored.py</span></a><span style=\"color: #7f7f7f; text-decoration-color: #7f7f7f\">:</span><a href=\"file://d:\\Users\\Ariel\\anaconda3\\Lib\\site-packages\\soccerdata\\whoscored.py#327\" target=\"_blank\"><span style=\"color: #7f7f7f; text-decoration-color: #7f7f7f\">327</span></a>\n",
       "</pre>\n"
      ],
      "text/plain": [
       "\u001b[2;36m                   \u001b[0m\u001b[2;36m \u001b[0m\u001b[34mINFO    \u001b[0m Scraping game schedule for Monday, May \u001b[1;36m29\u001b[0m \u001b[1;36m2023\u001b[0m                        \u001b]8;id=184195;file://d:\\Users\\Ariel\\anaconda3\\Lib\\site-packages\\soccerdata\\whoscored.py\u001b\\\u001b[2mwhoscored.py\u001b[0m\u001b]8;;\u001b\\\u001b[2m:\u001b[0m\u001b]8;id=349035;file://d:\\Users\\Ariel\\anaconda3\\Lib\\site-packages\\soccerdata\\whoscored.py#327\u001b\\\u001b[2m327\u001b[0m\u001b]8;;\u001b\\\n"
      ]
     },
     "metadata": {},
     "output_type": "display_data"
    },
    {
     "data": {
      "text/html": [
       "<pre style=\"white-space:pre;overflow-x:auto;line-height:normal;font-family:Menlo,'DejaVu Sans Mono',consolas,'Courier New',monospace\"><span style=\"color: #7fbfbf; text-decoration-color: #7fbfbf\">                    </span><span style=\"color: #000080; text-decoration-color: #000080\">INFO    </span> Scraping game schedule for Tuesday, May <span style=\"color: #008080; text-decoration-color: #008080; font-weight: bold\">30</span> <span style=\"color: #008080; text-decoration-color: #008080; font-weight: bold\">2023</span>                       <a href=\"file://d:\\Users\\Ariel\\anaconda3\\Lib\\site-packages\\soccerdata\\whoscored.py\" target=\"_blank\"><span style=\"color: #7f7f7f; text-decoration-color: #7f7f7f\">whoscored.py</span></a><span style=\"color: #7f7f7f; text-decoration-color: #7f7f7f\">:</span><a href=\"file://d:\\Users\\Ariel\\anaconda3\\Lib\\site-packages\\soccerdata\\whoscored.py#327\" target=\"_blank\"><span style=\"color: #7f7f7f; text-decoration-color: #7f7f7f\">327</span></a>\n",
       "</pre>\n"
      ],
      "text/plain": [
       "\u001b[2;36m                   \u001b[0m\u001b[2;36m \u001b[0m\u001b[34mINFO    \u001b[0m Scraping game schedule for Tuesday, May \u001b[1;36m30\u001b[0m \u001b[1;36m2023\u001b[0m                       \u001b]8;id=351442;file://d:\\Users\\Ariel\\anaconda3\\Lib\\site-packages\\soccerdata\\whoscored.py\u001b\\\u001b[2mwhoscored.py\u001b[0m\u001b]8;;\u001b\\\u001b[2m:\u001b[0m\u001b]8;id=438726;file://d:\\Users\\Ariel\\anaconda3\\Lib\\site-packages\\soccerdata\\whoscored.py#327\u001b\\\u001b[2m327\u001b[0m\u001b]8;;\u001b\\\n"
      ]
     },
     "metadata": {},
     "output_type": "display_data"
    },
    {
     "data": {
      "text/html": [
       "<pre style=\"white-space:pre;overflow-x:auto;line-height:normal;font-family:Menlo,'DejaVu Sans Mono',consolas,'Courier New',monospace\"><span style=\"color: #7fbfbf; text-decoration-color: #7fbfbf\">[08/02/23 13:21:14] </span><span style=\"color: #000080; text-decoration-color: #000080\">INFO    </span> Scraping game schedule for Saturday, Apr <span style=\"color: #008080; text-decoration-color: #008080; font-weight: bold\">1</span> <span style=\"color: #008080; text-decoration-color: #008080; font-weight: bold\">2023</span>                       <a href=\"file://d:\\Users\\Ariel\\anaconda3\\Lib\\site-packages\\soccerdata\\whoscored.py\" target=\"_blank\"><span style=\"color: #7f7f7f; text-decoration-color: #7f7f7f\">whoscored.py</span></a><span style=\"color: #7f7f7f; text-decoration-color: #7f7f7f\">:</span><a href=\"file://d:\\Users\\Ariel\\anaconda3\\Lib\\site-packages\\soccerdata\\whoscored.py#327\" target=\"_blank\"><span style=\"color: #7f7f7f; text-decoration-color: #7f7f7f\">327</span></a>\n",
       "</pre>\n"
      ],
      "text/plain": [
       "\u001b[2;36m[08/02/23 13:21:14]\u001b[0m\u001b[2;36m \u001b[0m\u001b[34mINFO    \u001b[0m Scraping game schedule for Saturday, Apr \u001b[1;36m1\u001b[0m \u001b[1;36m2023\u001b[0m                       \u001b]8;id=678737;file://d:\\Users\\Ariel\\anaconda3\\Lib\\site-packages\\soccerdata\\whoscored.py\u001b\\\u001b[2mwhoscored.py\u001b[0m\u001b]8;;\u001b\\\u001b[2m:\u001b[0m\u001b]8;id=600232;file://d:\\Users\\Ariel\\anaconda3\\Lib\\site-packages\\soccerdata\\whoscored.py#327\u001b\\\u001b[2m327\u001b[0m\u001b]8;;\u001b\\\n"
      ]
     },
     "metadata": {},
     "output_type": "display_data"
    },
    {
     "data": {
      "text/html": [
       "<pre style=\"white-space:pre;overflow-x:auto;line-height:normal;font-family:Menlo,'DejaVu Sans Mono',consolas,'Courier New',monospace\"><span style=\"color: #7fbfbf; text-decoration-color: #7fbfbf\">                    </span><span style=\"color: #000080; text-decoration-color: #000080\">INFO    </span> Scraping game schedule for Sunday, Apr <span style=\"color: #008080; text-decoration-color: #008080; font-weight: bold\">2</span> <span style=\"color: #008080; text-decoration-color: #008080; font-weight: bold\">2023</span>                         <a href=\"file://d:\\Users\\Ariel\\anaconda3\\Lib\\site-packages\\soccerdata\\whoscored.py\" target=\"_blank\"><span style=\"color: #7f7f7f; text-decoration-color: #7f7f7f\">whoscored.py</span></a><span style=\"color: #7f7f7f; text-decoration-color: #7f7f7f\">:</span><a href=\"file://d:\\Users\\Ariel\\anaconda3\\Lib\\site-packages\\soccerdata\\whoscored.py#327\" target=\"_blank\"><span style=\"color: #7f7f7f; text-decoration-color: #7f7f7f\">327</span></a>\n",
       "</pre>\n"
      ],
      "text/plain": [
       "\u001b[2;36m                   \u001b[0m\u001b[2;36m \u001b[0m\u001b[34mINFO    \u001b[0m Scraping game schedule for Sunday, Apr \u001b[1;36m2\u001b[0m \u001b[1;36m2023\u001b[0m                         \u001b]8;id=354746;file://d:\\Users\\Ariel\\anaconda3\\Lib\\site-packages\\soccerdata\\whoscored.py\u001b\\\u001b[2mwhoscored.py\u001b[0m\u001b]8;;\u001b\\\u001b[2m:\u001b[0m\u001b]8;id=918313;file://d:\\Users\\Ariel\\anaconda3\\Lib\\site-packages\\soccerdata\\whoscored.py#327\u001b\\\u001b[2m327\u001b[0m\u001b]8;;\u001b\\\n"
      ]
     },
     "metadata": {},
     "output_type": "display_data"
    },
    {
     "data": {
      "text/html": [
       "<pre style=\"white-space:pre;overflow-x:auto;line-height:normal;font-family:Menlo,'DejaVu Sans Mono',consolas,'Courier New',monospace\"><span style=\"color: #7fbfbf; text-decoration-color: #7fbfbf\">                    </span><span style=\"color: #000080; text-decoration-color: #000080\">INFO    </span> Scraping game schedule for Monday, Apr <span style=\"color: #008080; text-decoration-color: #008080; font-weight: bold\">3</span> <span style=\"color: #008080; text-decoration-color: #008080; font-weight: bold\">2023</span>                         <a href=\"file://d:\\Users\\Ariel\\anaconda3\\Lib\\site-packages\\soccerdata\\whoscored.py\" target=\"_blank\"><span style=\"color: #7f7f7f; text-decoration-color: #7f7f7f\">whoscored.py</span></a><span style=\"color: #7f7f7f; text-decoration-color: #7f7f7f\">:</span><a href=\"file://d:\\Users\\Ariel\\anaconda3\\Lib\\site-packages\\soccerdata\\whoscored.py#327\" target=\"_blank\"><span style=\"color: #7f7f7f; text-decoration-color: #7f7f7f\">327</span></a>\n",
       "</pre>\n"
      ],
      "text/plain": [
       "\u001b[2;36m                   \u001b[0m\u001b[2;36m \u001b[0m\u001b[34mINFO    \u001b[0m Scraping game schedule for Monday, Apr \u001b[1;36m3\u001b[0m \u001b[1;36m2023\u001b[0m                         \u001b]8;id=622550;file://d:\\Users\\Ariel\\anaconda3\\Lib\\site-packages\\soccerdata\\whoscored.py\u001b\\\u001b[2mwhoscored.py\u001b[0m\u001b]8;;\u001b\\\u001b[2m:\u001b[0m\u001b]8;id=237111;file://d:\\Users\\Ariel\\anaconda3\\Lib\\site-packages\\soccerdata\\whoscored.py#327\u001b\\\u001b[2m327\u001b[0m\u001b]8;;\u001b\\\n"
      ]
     },
     "metadata": {},
     "output_type": "display_data"
    },
    {
     "data": {
      "text/html": [
       "<pre style=\"white-space:pre;overflow-x:auto;line-height:normal;font-family:Menlo,'DejaVu Sans Mono',consolas,'Courier New',monospace\"><span style=\"color: #7fbfbf; text-decoration-color: #7fbfbf\">[08/02/23 13:21:15] </span><span style=\"color: #000080; text-decoration-color: #000080\">INFO    </span> Scraping game schedule for Tuesday, Apr <span style=\"color: #008080; text-decoration-color: #008080; font-weight: bold\">4</span> <span style=\"color: #008080; text-decoration-color: #008080; font-weight: bold\">2023</span>                        <a href=\"file://d:\\Users\\Ariel\\anaconda3\\Lib\\site-packages\\soccerdata\\whoscored.py\" target=\"_blank\"><span style=\"color: #7f7f7f; text-decoration-color: #7f7f7f\">whoscored.py</span></a><span style=\"color: #7f7f7f; text-decoration-color: #7f7f7f\">:</span><a href=\"file://d:\\Users\\Ariel\\anaconda3\\Lib\\site-packages\\soccerdata\\whoscored.py#327\" target=\"_blank\"><span style=\"color: #7f7f7f; text-decoration-color: #7f7f7f\">327</span></a>\n",
       "</pre>\n"
      ],
      "text/plain": [
       "\u001b[2;36m[08/02/23 13:21:15]\u001b[0m\u001b[2;36m \u001b[0m\u001b[34mINFO    \u001b[0m Scraping game schedule for Tuesday, Apr \u001b[1;36m4\u001b[0m \u001b[1;36m2023\u001b[0m                        \u001b]8;id=829646;file://d:\\Users\\Ariel\\anaconda3\\Lib\\site-packages\\soccerdata\\whoscored.py\u001b\\\u001b[2mwhoscored.py\u001b[0m\u001b]8;;\u001b\\\u001b[2m:\u001b[0m\u001b]8;id=224907;file://d:\\Users\\Ariel\\anaconda3\\Lib\\site-packages\\soccerdata\\whoscored.py#327\u001b\\\u001b[2m327\u001b[0m\u001b]8;;\u001b\\\n"
      ]
     },
     "metadata": {},
     "output_type": "display_data"
    },
    {
     "data": {
      "text/html": [
       "<pre style=\"white-space:pre;overflow-x:auto;line-height:normal;font-family:Menlo,'DejaVu Sans Mono',consolas,'Courier New',monospace\"><span style=\"color: #7fbfbf; text-decoration-color: #7fbfbf\">                    </span><span style=\"color: #000080; text-decoration-color: #000080\">INFO    </span> Scraping game schedule for Friday, Apr <span style=\"color: #008080; text-decoration-color: #008080; font-weight: bold\">7</span> <span style=\"color: #008080; text-decoration-color: #008080; font-weight: bold\">2023</span>                         <a href=\"file://d:\\Users\\Ariel\\anaconda3\\Lib\\site-packages\\soccerdata\\whoscored.py\" target=\"_blank\"><span style=\"color: #7f7f7f; text-decoration-color: #7f7f7f\">whoscored.py</span></a><span style=\"color: #7f7f7f; text-decoration-color: #7f7f7f\">:</span><a href=\"file://d:\\Users\\Ariel\\anaconda3\\Lib\\site-packages\\soccerdata\\whoscored.py#327\" target=\"_blank\"><span style=\"color: #7f7f7f; text-decoration-color: #7f7f7f\">327</span></a>\n",
       "</pre>\n"
      ],
      "text/plain": [
       "\u001b[2;36m                   \u001b[0m\u001b[2;36m \u001b[0m\u001b[34mINFO    \u001b[0m Scraping game schedule for Friday, Apr \u001b[1;36m7\u001b[0m \u001b[1;36m2023\u001b[0m                         \u001b]8;id=636826;file://d:\\Users\\Ariel\\anaconda3\\Lib\\site-packages\\soccerdata\\whoscored.py\u001b\\\u001b[2mwhoscored.py\u001b[0m\u001b]8;;\u001b\\\u001b[2m:\u001b[0m\u001b]8;id=765792;file://d:\\Users\\Ariel\\anaconda3\\Lib\\site-packages\\soccerdata\\whoscored.py#327\u001b\\\u001b[2m327\u001b[0m\u001b]8;;\u001b\\\n"
      ]
     },
     "metadata": {},
     "output_type": "display_data"
    },
    {
     "data": {
      "text/html": [
       "<pre style=\"white-space:pre;overflow-x:auto;line-height:normal;font-family:Menlo,'DejaVu Sans Mono',consolas,'Courier New',monospace\"><span style=\"color: #7fbfbf; text-decoration-color: #7fbfbf\">                    </span><span style=\"color: #000080; text-decoration-color: #000080\">INFO    </span> Scraping game schedule for Saturday, Apr <span style=\"color: #008080; text-decoration-color: #008080; font-weight: bold\">8</span> <span style=\"color: #008080; text-decoration-color: #008080; font-weight: bold\">2023</span>                       <a href=\"file://d:\\Users\\Ariel\\anaconda3\\Lib\\site-packages\\soccerdata\\whoscored.py\" target=\"_blank\"><span style=\"color: #7f7f7f; text-decoration-color: #7f7f7f\">whoscored.py</span></a><span style=\"color: #7f7f7f; text-decoration-color: #7f7f7f\">:</span><a href=\"file://d:\\Users\\Ariel\\anaconda3\\Lib\\site-packages\\soccerdata\\whoscored.py#327\" target=\"_blank\"><span style=\"color: #7f7f7f; text-decoration-color: #7f7f7f\">327</span></a>\n",
       "</pre>\n"
      ],
      "text/plain": [
       "\u001b[2;36m                   \u001b[0m\u001b[2;36m \u001b[0m\u001b[34mINFO    \u001b[0m Scraping game schedule for Saturday, Apr \u001b[1;36m8\u001b[0m \u001b[1;36m2023\u001b[0m                       \u001b]8;id=435298;file://d:\\Users\\Ariel\\anaconda3\\Lib\\site-packages\\soccerdata\\whoscored.py\u001b\\\u001b[2mwhoscored.py\u001b[0m\u001b]8;;\u001b\\\u001b[2m:\u001b[0m\u001b]8;id=8618;file://d:\\Users\\Ariel\\anaconda3\\Lib\\site-packages\\soccerdata\\whoscored.py#327\u001b\\\u001b[2m327\u001b[0m\u001b]8;;\u001b\\\n"
      ]
     },
     "metadata": {},
     "output_type": "display_data"
    },
    {
     "data": {
      "text/html": [
       "<pre style=\"white-space:pre;overflow-x:auto;line-height:normal;font-family:Menlo,'DejaVu Sans Mono',consolas,'Courier New',monospace\"><span style=\"color: #7fbfbf; text-decoration-color: #7fbfbf\">                    </span><span style=\"color: #000080; text-decoration-color: #000080\">INFO    </span> Scraping game schedule for Sunday, Apr <span style=\"color: #008080; text-decoration-color: #008080; font-weight: bold\">9</span> <span style=\"color: #008080; text-decoration-color: #008080; font-weight: bold\">2023</span>                         <a href=\"file://d:\\Users\\Ariel\\anaconda3\\Lib\\site-packages\\soccerdata\\whoscored.py\" target=\"_blank\"><span style=\"color: #7f7f7f; text-decoration-color: #7f7f7f\">whoscored.py</span></a><span style=\"color: #7f7f7f; text-decoration-color: #7f7f7f\">:</span><a href=\"file://d:\\Users\\Ariel\\anaconda3\\Lib\\site-packages\\soccerdata\\whoscored.py#327\" target=\"_blank\"><span style=\"color: #7f7f7f; text-decoration-color: #7f7f7f\">327</span></a>\n",
       "</pre>\n"
      ],
      "text/plain": [
       "\u001b[2;36m                   \u001b[0m\u001b[2;36m \u001b[0m\u001b[34mINFO    \u001b[0m Scraping game schedule for Sunday, Apr \u001b[1;36m9\u001b[0m \u001b[1;36m2023\u001b[0m                         \u001b]8;id=374358;file://d:\\Users\\Ariel\\anaconda3\\Lib\\site-packages\\soccerdata\\whoscored.py\u001b\\\u001b[2mwhoscored.py\u001b[0m\u001b]8;;\u001b\\\u001b[2m:\u001b[0m\u001b]8;id=670429;file://d:\\Users\\Ariel\\anaconda3\\Lib\\site-packages\\soccerdata\\whoscored.py#327\u001b\\\u001b[2m327\u001b[0m\u001b]8;;\u001b\\\n"
      ]
     },
     "metadata": {},
     "output_type": "display_data"
    },
    {
     "data": {
      "text/html": [
       "<pre style=\"white-space:pre;overflow-x:auto;line-height:normal;font-family:Menlo,'DejaVu Sans Mono',consolas,'Courier New',monospace\"><span style=\"color: #7fbfbf; text-decoration-color: #7fbfbf\">                    </span><span style=\"color: #000080; text-decoration-color: #000080\">INFO    </span> Scraping game schedule for Monday, Apr <span style=\"color: #008080; text-decoration-color: #008080; font-weight: bold\">10</span> <span style=\"color: #008080; text-decoration-color: #008080; font-weight: bold\">2023</span>                        <a href=\"file://d:\\Users\\Ariel\\anaconda3\\Lib\\site-packages\\soccerdata\\whoscored.py\" target=\"_blank\"><span style=\"color: #7f7f7f; text-decoration-color: #7f7f7f\">whoscored.py</span></a><span style=\"color: #7f7f7f; text-decoration-color: #7f7f7f\">:</span><a href=\"file://d:\\Users\\Ariel\\anaconda3\\Lib\\site-packages\\soccerdata\\whoscored.py#327\" target=\"_blank\"><span style=\"color: #7f7f7f; text-decoration-color: #7f7f7f\">327</span></a>\n",
       "</pre>\n"
      ],
      "text/plain": [
       "\u001b[2;36m                   \u001b[0m\u001b[2;36m \u001b[0m\u001b[34mINFO    \u001b[0m Scraping game schedule for Monday, Apr \u001b[1;36m10\u001b[0m \u001b[1;36m2023\u001b[0m                        \u001b]8;id=138104;file://d:\\Users\\Ariel\\anaconda3\\Lib\\site-packages\\soccerdata\\whoscored.py\u001b\\\u001b[2mwhoscored.py\u001b[0m\u001b]8;;\u001b\\\u001b[2m:\u001b[0m\u001b]8;id=46669;file://d:\\Users\\Ariel\\anaconda3\\Lib\\site-packages\\soccerdata\\whoscored.py#327\u001b\\\u001b[2m327\u001b[0m\u001b]8;;\u001b\\\n"
      ]
     },
     "metadata": {},
     "output_type": "display_data"
    },
    {
     "data": {
      "text/html": [
       "<pre style=\"white-space:pre;overflow-x:auto;line-height:normal;font-family:Menlo,'DejaVu Sans Mono',consolas,'Courier New',monospace\"><span style=\"color: #7fbfbf; text-decoration-color: #7fbfbf\">                    </span><span style=\"color: #000080; text-decoration-color: #000080\">INFO    </span> Scraping game schedule for Tuesday, Apr <span style=\"color: #008080; text-decoration-color: #008080; font-weight: bold\">11</span> <span style=\"color: #008080; text-decoration-color: #008080; font-weight: bold\">2023</span>                       <a href=\"file://d:\\Users\\Ariel\\anaconda3\\Lib\\site-packages\\soccerdata\\whoscored.py\" target=\"_blank\"><span style=\"color: #7f7f7f; text-decoration-color: #7f7f7f\">whoscored.py</span></a><span style=\"color: #7f7f7f; text-decoration-color: #7f7f7f\">:</span><a href=\"file://d:\\Users\\Ariel\\anaconda3\\Lib\\site-packages\\soccerdata\\whoscored.py#327\" target=\"_blank\"><span style=\"color: #7f7f7f; text-decoration-color: #7f7f7f\">327</span></a>\n",
       "</pre>\n"
      ],
      "text/plain": [
       "\u001b[2;36m                   \u001b[0m\u001b[2;36m \u001b[0m\u001b[34mINFO    \u001b[0m Scraping game schedule for Tuesday, Apr \u001b[1;36m11\u001b[0m \u001b[1;36m2023\u001b[0m                       \u001b]8;id=855933;file://d:\\Users\\Ariel\\anaconda3\\Lib\\site-packages\\soccerdata\\whoscored.py\u001b\\\u001b[2mwhoscored.py\u001b[0m\u001b]8;;\u001b\\\u001b[2m:\u001b[0m\u001b]8;id=754903;file://d:\\Users\\Ariel\\anaconda3\\Lib\\site-packages\\soccerdata\\whoscored.py#327\u001b\\\u001b[2m327\u001b[0m\u001b]8;;\u001b\\\n"
      ]
     },
     "metadata": {},
     "output_type": "display_data"
    },
    {
     "data": {
      "text/html": [
       "<pre style=\"white-space:pre;overflow-x:auto;line-height:normal;font-family:Menlo,'DejaVu Sans Mono',consolas,'Courier New',monospace\"><span style=\"color: #7fbfbf; text-decoration-color: #7fbfbf\">                    </span><span style=\"color: #000080; text-decoration-color: #000080\">INFO    </span> Scraping game schedule for Wednesday, Apr <span style=\"color: #008080; text-decoration-color: #008080; font-weight: bold\">12</span> <span style=\"color: #008080; text-decoration-color: #008080; font-weight: bold\">2023</span>                     <a href=\"file://d:\\Users\\Ariel\\anaconda3\\Lib\\site-packages\\soccerdata\\whoscored.py\" target=\"_blank\"><span style=\"color: #7f7f7f; text-decoration-color: #7f7f7f\">whoscored.py</span></a><span style=\"color: #7f7f7f; text-decoration-color: #7f7f7f\">:</span><a href=\"file://d:\\Users\\Ariel\\anaconda3\\Lib\\site-packages\\soccerdata\\whoscored.py#327\" target=\"_blank\"><span style=\"color: #7f7f7f; text-decoration-color: #7f7f7f\">327</span></a>\n",
       "</pre>\n"
      ],
      "text/plain": [
       "\u001b[2;36m                   \u001b[0m\u001b[2;36m \u001b[0m\u001b[34mINFO    \u001b[0m Scraping game schedule for Wednesday, Apr \u001b[1;36m12\u001b[0m \u001b[1;36m2023\u001b[0m                     \u001b]8;id=432039;file://d:\\Users\\Ariel\\anaconda3\\Lib\\site-packages\\soccerdata\\whoscored.py\u001b\\\u001b[2mwhoscored.py\u001b[0m\u001b]8;;\u001b\\\u001b[2m:\u001b[0m\u001b]8;id=744701;file://d:\\Users\\Ariel\\anaconda3\\Lib\\site-packages\\soccerdata\\whoscored.py#327\u001b\\\u001b[2m327\u001b[0m\u001b]8;;\u001b\\\n"
      ]
     },
     "metadata": {},
     "output_type": "display_data"
    },
    {
     "data": {
      "text/html": [
       "<pre style=\"white-space:pre;overflow-x:auto;line-height:normal;font-family:Menlo,'DejaVu Sans Mono',consolas,'Courier New',monospace\"><span style=\"color: #7fbfbf; text-decoration-color: #7fbfbf\">[08/02/23 13:21:16] </span><span style=\"color: #000080; text-decoration-color: #000080\">INFO    </span> Scraping game schedule for Thursday, Apr <span style=\"color: #008080; text-decoration-color: #008080; font-weight: bold\">13</span> <span style=\"color: #008080; text-decoration-color: #008080; font-weight: bold\">2023</span>                      <a href=\"file://d:\\Users\\Ariel\\anaconda3\\Lib\\site-packages\\soccerdata\\whoscored.py\" target=\"_blank\"><span style=\"color: #7f7f7f; text-decoration-color: #7f7f7f\">whoscored.py</span></a><span style=\"color: #7f7f7f; text-decoration-color: #7f7f7f\">:</span><a href=\"file://d:\\Users\\Ariel\\anaconda3\\Lib\\site-packages\\soccerdata\\whoscored.py#327\" target=\"_blank\"><span style=\"color: #7f7f7f; text-decoration-color: #7f7f7f\">327</span></a>\n",
       "</pre>\n"
      ],
      "text/plain": [
       "\u001b[2;36m[08/02/23 13:21:16]\u001b[0m\u001b[2;36m \u001b[0m\u001b[34mINFO    \u001b[0m Scraping game schedule for Thursday, Apr \u001b[1;36m13\u001b[0m \u001b[1;36m2023\u001b[0m                      \u001b]8;id=419684;file://d:\\Users\\Ariel\\anaconda3\\Lib\\site-packages\\soccerdata\\whoscored.py\u001b\\\u001b[2mwhoscored.py\u001b[0m\u001b]8;;\u001b\\\u001b[2m:\u001b[0m\u001b]8;id=104509;file://d:\\Users\\Ariel\\anaconda3\\Lib\\site-packages\\soccerdata\\whoscored.py#327\u001b\\\u001b[2m327\u001b[0m\u001b]8;;\u001b\\\n"
      ]
     },
     "metadata": {},
     "output_type": "display_data"
    },
    {
     "data": {
      "text/html": [
       "<pre style=\"white-space:pre;overflow-x:auto;line-height:normal;font-family:Menlo,'DejaVu Sans Mono',consolas,'Courier New',monospace\"><span style=\"color: #7fbfbf; text-decoration-color: #7fbfbf\">                    </span><span style=\"color: #000080; text-decoration-color: #000080\">INFO    </span> Scraping game schedule for Friday, Apr <span style=\"color: #008080; text-decoration-color: #008080; font-weight: bold\">14</span> <span style=\"color: #008080; text-decoration-color: #008080; font-weight: bold\">2023</span>                        <a href=\"file://d:\\Users\\Ariel\\anaconda3\\Lib\\site-packages\\soccerdata\\whoscored.py\" target=\"_blank\"><span style=\"color: #7f7f7f; text-decoration-color: #7f7f7f\">whoscored.py</span></a><span style=\"color: #7f7f7f; text-decoration-color: #7f7f7f\">:</span><a href=\"file://d:\\Users\\Ariel\\anaconda3\\Lib\\site-packages\\soccerdata\\whoscored.py#327\" target=\"_blank\"><span style=\"color: #7f7f7f; text-decoration-color: #7f7f7f\">327</span></a>\n",
       "</pre>\n"
      ],
      "text/plain": [
       "\u001b[2;36m                   \u001b[0m\u001b[2;36m \u001b[0m\u001b[34mINFO    \u001b[0m Scraping game schedule for Friday, Apr \u001b[1;36m14\u001b[0m \u001b[1;36m2023\u001b[0m                        \u001b]8;id=575391;file://d:\\Users\\Ariel\\anaconda3\\Lib\\site-packages\\soccerdata\\whoscored.py\u001b\\\u001b[2mwhoscored.py\u001b[0m\u001b]8;;\u001b\\\u001b[2m:\u001b[0m\u001b]8;id=631792;file://d:\\Users\\Ariel\\anaconda3\\Lib\\site-packages\\soccerdata\\whoscored.py#327\u001b\\\u001b[2m327\u001b[0m\u001b]8;;\u001b\\\n"
      ]
     },
     "metadata": {},
     "output_type": "display_data"
    },
    {
     "data": {
      "text/html": [
       "<pre style=\"white-space:pre;overflow-x:auto;line-height:normal;font-family:Menlo,'DejaVu Sans Mono',consolas,'Courier New',monospace\"><span style=\"color: #7fbfbf; text-decoration-color: #7fbfbf\">                    </span><span style=\"color: #000080; text-decoration-color: #000080\">INFO    </span> Scraping game schedule for Saturday, Apr <span style=\"color: #008080; text-decoration-color: #008080; font-weight: bold\">15</span> <span style=\"color: #008080; text-decoration-color: #008080; font-weight: bold\">2023</span>                      <a href=\"file://d:\\Users\\Ariel\\anaconda3\\Lib\\site-packages\\soccerdata\\whoscored.py\" target=\"_blank\"><span style=\"color: #7f7f7f; text-decoration-color: #7f7f7f\">whoscored.py</span></a><span style=\"color: #7f7f7f; text-decoration-color: #7f7f7f\">:</span><a href=\"file://d:\\Users\\Ariel\\anaconda3\\Lib\\site-packages\\soccerdata\\whoscored.py#327\" target=\"_blank\"><span style=\"color: #7f7f7f; text-decoration-color: #7f7f7f\">327</span></a>\n",
       "</pre>\n"
      ],
      "text/plain": [
       "\u001b[2;36m                   \u001b[0m\u001b[2;36m \u001b[0m\u001b[34mINFO    \u001b[0m Scraping game schedule for Saturday, Apr \u001b[1;36m15\u001b[0m \u001b[1;36m2023\u001b[0m                      \u001b]8;id=793208;file://d:\\Users\\Ariel\\anaconda3\\Lib\\site-packages\\soccerdata\\whoscored.py\u001b\\\u001b[2mwhoscored.py\u001b[0m\u001b]8;;\u001b\\\u001b[2m:\u001b[0m\u001b]8;id=16966;file://d:\\Users\\Ariel\\anaconda3\\Lib\\site-packages\\soccerdata\\whoscored.py#327\u001b\\\u001b[2m327\u001b[0m\u001b]8;;\u001b\\\n"
      ]
     },
     "metadata": {},
     "output_type": "display_data"
    },
    {
     "data": {
      "text/html": [
       "<pre style=\"white-space:pre;overflow-x:auto;line-height:normal;font-family:Menlo,'DejaVu Sans Mono',consolas,'Courier New',monospace\"><span style=\"color: #7fbfbf; text-decoration-color: #7fbfbf\">                    </span><span style=\"color: #000080; text-decoration-color: #000080\">INFO    </span> Scraping game schedule for Sunday, Apr <span style=\"color: #008080; text-decoration-color: #008080; font-weight: bold\">16</span> <span style=\"color: #008080; text-decoration-color: #008080; font-weight: bold\">2023</span>                        <a href=\"file://d:\\Users\\Ariel\\anaconda3\\Lib\\site-packages\\soccerdata\\whoscored.py\" target=\"_blank\"><span style=\"color: #7f7f7f; text-decoration-color: #7f7f7f\">whoscored.py</span></a><span style=\"color: #7f7f7f; text-decoration-color: #7f7f7f\">:</span><a href=\"file://d:\\Users\\Ariel\\anaconda3\\Lib\\site-packages\\soccerdata\\whoscored.py#327\" target=\"_blank\"><span style=\"color: #7f7f7f; text-decoration-color: #7f7f7f\">327</span></a>\n",
       "</pre>\n"
      ],
      "text/plain": [
       "\u001b[2;36m                   \u001b[0m\u001b[2;36m \u001b[0m\u001b[34mINFO    \u001b[0m Scraping game schedule for Sunday, Apr \u001b[1;36m16\u001b[0m \u001b[1;36m2023\u001b[0m                        \u001b]8;id=328650;file://d:\\Users\\Ariel\\anaconda3\\Lib\\site-packages\\soccerdata\\whoscored.py\u001b\\\u001b[2mwhoscored.py\u001b[0m\u001b]8;;\u001b\\\u001b[2m:\u001b[0m\u001b]8;id=664576;file://d:\\Users\\Ariel\\anaconda3\\Lib\\site-packages\\soccerdata\\whoscored.py#327\u001b\\\u001b[2m327\u001b[0m\u001b]8;;\u001b\\\n"
      ]
     },
     "metadata": {},
     "output_type": "display_data"
    },
    {
     "data": {
      "text/html": [
       "<pre style=\"white-space:pre;overflow-x:auto;line-height:normal;font-family:Menlo,'DejaVu Sans Mono',consolas,'Courier New',monospace\"><span style=\"color: #7fbfbf; text-decoration-color: #7fbfbf\">                    </span><span style=\"color: #000080; text-decoration-color: #000080\">INFO    </span> Scraping game schedule for Monday, Apr <span style=\"color: #008080; text-decoration-color: #008080; font-weight: bold\">17</span> <span style=\"color: #008080; text-decoration-color: #008080; font-weight: bold\">2023</span>                        <a href=\"file://d:\\Users\\Ariel\\anaconda3\\Lib\\site-packages\\soccerdata\\whoscored.py\" target=\"_blank\"><span style=\"color: #7f7f7f; text-decoration-color: #7f7f7f\">whoscored.py</span></a><span style=\"color: #7f7f7f; text-decoration-color: #7f7f7f\">:</span><a href=\"file://d:\\Users\\Ariel\\anaconda3\\Lib\\site-packages\\soccerdata\\whoscored.py#327\" target=\"_blank\"><span style=\"color: #7f7f7f; text-decoration-color: #7f7f7f\">327</span></a>\n",
       "</pre>\n"
      ],
      "text/plain": [
       "\u001b[2;36m                   \u001b[0m\u001b[2;36m \u001b[0m\u001b[34mINFO    \u001b[0m Scraping game schedule for Monday, Apr \u001b[1;36m17\u001b[0m \u001b[1;36m2023\u001b[0m                        \u001b]8;id=589283;file://d:\\Users\\Ariel\\anaconda3\\Lib\\site-packages\\soccerdata\\whoscored.py\u001b\\\u001b[2mwhoscored.py\u001b[0m\u001b]8;;\u001b\\\u001b[2m:\u001b[0m\u001b]8;id=561202;file://d:\\Users\\Ariel\\anaconda3\\Lib\\site-packages\\soccerdata\\whoscored.py#327\u001b\\\u001b[2m327\u001b[0m\u001b]8;;\u001b\\\n"
      ]
     },
     "metadata": {},
     "output_type": "display_data"
    },
    {
     "data": {
      "text/html": [
       "<pre style=\"white-space:pre;overflow-x:auto;line-height:normal;font-family:Menlo,'DejaVu Sans Mono',consolas,'Courier New',monospace\"><span style=\"color: #7fbfbf; text-decoration-color: #7fbfbf\">[08/02/23 13:21:17] </span><span style=\"color: #000080; text-decoration-color: #000080\">INFO    </span> Scraping game schedule for Tuesday, Apr <span style=\"color: #008080; text-decoration-color: #008080; font-weight: bold\">18</span> <span style=\"color: #008080; text-decoration-color: #008080; font-weight: bold\">2023</span>                       <a href=\"file://d:\\Users\\Ariel\\anaconda3\\Lib\\site-packages\\soccerdata\\whoscored.py\" target=\"_blank\"><span style=\"color: #7f7f7f; text-decoration-color: #7f7f7f\">whoscored.py</span></a><span style=\"color: #7f7f7f; text-decoration-color: #7f7f7f\">:</span><a href=\"file://d:\\Users\\Ariel\\anaconda3\\Lib\\site-packages\\soccerdata\\whoscored.py#327\" target=\"_blank\"><span style=\"color: #7f7f7f; text-decoration-color: #7f7f7f\">327</span></a>\n",
       "</pre>\n"
      ],
      "text/plain": [
       "\u001b[2;36m[08/02/23 13:21:17]\u001b[0m\u001b[2;36m \u001b[0m\u001b[34mINFO    \u001b[0m Scraping game schedule for Tuesday, Apr \u001b[1;36m18\u001b[0m \u001b[1;36m2023\u001b[0m                       \u001b]8;id=302871;file://d:\\Users\\Ariel\\anaconda3\\Lib\\site-packages\\soccerdata\\whoscored.py\u001b\\\u001b[2mwhoscored.py\u001b[0m\u001b]8;;\u001b\\\u001b[2m:\u001b[0m\u001b]8;id=572465;file://d:\\Users\\Ariel\\anaconda3\\Lib\\site-packages\\soccerdata\\whoscored.py#327\u001b\\\u001b[2m327\u001b[0m\u001b]8;;\u001b\\\n"
      ]
     },
     "metadata": {},
     "output_type": "display_data"
    },
    {
     "data": {
      "text/html": [
       "<pre style=\"white-space:pre;overflow-x:auto;line-height:normal;font-family:Menlo,'DejaVu Sans Mono',consolas,'Courier New',monospace\"><span style=\"color: #7fbfbf; text-decoration-color: #7fbfbf\">                    </span><span style=\"color: #000080; text-decoration-color: #000080\">INFO    </span> Scraping game schedule for Saturday, Apr <span style=\"color: #008080; text-decoration-color: #008080; font-weight: bold\">22</span> <span style=\"color: #008080; text-decoration-color: #008080; font-weight: bold\">2023</span>                      <a href=\"file://d:\\Users\\Ariel\\anaconda3\\Lib\\site-packages\\soccerdata\\whoscored.py\" target=\"_blank\"><span style=\"color: #7f7f7f; text-decoration-color: #7f7f7f\">whoscored.py</span></a><span style=\"color: #7f7f7f; text-decoration-color: #7f7f7f\">:</span><a href=\"file://d:\\Users\\Ariel\\anaconda3\\Lib\\site-packages\\soccerdata\\whoscored.py#327\" target=\"_blank\"><span style=\"color: #7f7f7f; text-decoration-color: #7f7f7f\">327</span></a>\n",
       "</pre>\n"
      ],
      "text/plain": [
       "\u001b[2;36m                   \u001b[0m\u001b[2;36m \u001b[0m\u001b[34mINFO    \u001b[0m Scraping game schedule for Saturday, Apr \u001b[1;36m22\u001b[0m \u001b[1;36m2023\u001b[0m                      \u001b]8;id=410011;file://d:\\Users\\Ariel\\anaconda3\\Lib\\site-packages\\soccerdata\\whoscored.py\u001b\\\u001b[2mwhoscored.py\u001b[0m\u001b]8;;\u001b\\\u001b[2m:\u001b[0m\u001b]8;id=636293;file://d:\\Users\\Ariel\\anaconda3\\Lib\\site-packages\\soccerdata\\whoscored.py#327\u001b\\\u001b[2m327\u001b[0m\u001b]8;;\u001b\\\n"
      ]
     },
     "metadata": {},
     "output_type": "display_data"
    },
    {
     "data": {
      "text/html": [
       "<pre style=\"white-space:pre;overflow-x:auto;line-height:normal;font-family:Menlo,'DejaVu Sans Mono',consolas,'Courier New',monospace\"><span style=\"color: #7fbfbf; text-decoration-color: #7fbfbf\">                    </span><span style=\"color: #000080; text-decoration-color: #000080\">INFO    </span> Scraping game schedule for Sunday, Apr <span style=\"color: #008080; text-decoration-color: #008080; font-weight: bold\">23</span> <span style=\"color: #008080; text-decoration-color: #008080; font-weight: bold\">2023</span>                        <a href=\"file://d:\\Users\\Ariel\\anaconda3\\Lib\\site-packages\\soccerdata\\whoscored.py\" target=\"_blank\"><span style=\"color: #7f7f7f; text-decoration-color: #7f7f7f\">whoscored.py</span></a><span style=\"color: #7f7f7f; text-decoration-color: #7f7f7f\">:</span><a href=\"file://d:\\Users\\Ariel\\anaconda3\\Lib\\site-packages\\soccerdata\\whoscored.py#327\" target=\"_blank\"><span style=\"color: #7f7f7f; text-decoration-color: #7f7f7f\">327</span></a>\n",
       "</pre>\n"
      ],
      "text/plain": [
       "\u001b[2;36m                   \u001b[0m\u001b[2;36m \u001b[0m\u001b[34mINFO    \u001b[0m Scraping game schedule for Sunday, Apr \u001b[1;36m23\u001b[0m \u001b[1;36m2023\u001b[0m                        \u001b]8;id=176810;file://d:\\Users\\Ariel\\anaconda3\\Lib\\site-packages\\soccerdata\\whoscored.py\u001b\\\u001b[2mwhoscored.py\u001b[0m\u001b]8;;\u001b\\\u001b[2m:\u001b[0m\u001b]8;id=987219;file://d:\\Users\\Ariel\\anaconda3\\Lib\\site-packages\\soccerdata\\whoscored.py#327\u001b\\\u001b[2m327\u001b[0m\u001b]8;;\u001b\\\n"
      ]
     },
     "metadata": {},
     "output_type": "display_data"
    },
    {
     "data": {
      "text/html": [
       "<pre style=\"white-space:pre;overflow-x:auto;line-height:normal;font-family:Menlo,'DejaVu Sans Mono',consolas,'Courier New',monospace\"><span style=\"color: #7fbfbf; text-decoration-color: #7fbfbf\">                    </span><span style=\"color: #000080; text-decoration-color: #000080\">INFO    </span> Scraping game schedule for Monday, Apr <span style=\"color: #008080; text-decoration-color: #008080; font-weight: bold\">24</span> <span style=\"color: #008080; text-decoration-color: #008080; font-weight: bold\">2023</span>                        <a href=\"file://d:\\Users\\Ariel\\anaconda3\\Lib\\site-packages\\soccerdata\\whoscored.py\" target=\"_blank\"><span style=\"color: #7f7f7f; text-decoration-color: #7f7f7f\">whoscored.py</span></a><span style=\"color: #7f7f7f; text-decoration-color: #7f7f7f\">:</span><a href=\"file://d:\\Users\\Ariel\\anaconda3\\Lib\\site-packages\\soccerdata\\whoscored.py#327\" target=\"_blank\"><span style=\"color: #7f7f7f; text-decoration-color: #7f7f7f\">327</span></a>\n",
       "</pre>\n"
      ],
      "text/plain": [
       "\u001b[2;36m                   \u001b[0m\u001b[2;36m \u001b[0m\u001b[34mINFO    \u001b[0m Scraping game schedule for Monday, Apr \u001b[1;36m24\u001b[0m \u001b[1;36m2023\u001b[0m                        \u001b]8;id=419524;file://d:\\Users\\Ariel\\anaconda3\\Lib\\site-packages\\soccerdata\\whoscored.py\u001b\\\u001b[2mwhoscored.py\u001b[0m\u001b]8;;\u001b\\\u001b[2m:\u001b[0m\u001b]8;id=631325;file://d:\\Users\\Ariel\\anaconda3\\Lib\\site-packages\\soccerdata\\whoscored.py#327\u001b\\\u001b[2m327\u001b[0m\u001b]8;;\u001b\\\n"
      ]
     },
     "metadata": {},
     "output_type": "display_data"
    },
    {
     "data": {
      "text/html": [
       "<pre style=\"white-space:pre;overflow-x:auto;line-height:normal;font-family:Menlo,'DejaVu Sans Mono',consolas,'Courier New',monospace\"><span style=\"color: #7fbfbf; text-decoration-color: #7fbfbf\">                    </span><span style=\"color: #000080; text-decoration-color: #000080\">INFO    </span> Scraping game schedule for Tuesday, Apr <span style=\"color: #008080; text-decoration-color: #008080; font-weight: bold\">25</span> <span style=\"color: #008080; text-decoration-color: #008080; font-weight: bold\">2023</span>                       <a href=\"file://d:\\Users\\Ariel\\anaconda3\\Lib\\site-packages\\soccerdata\\whoscored.py\" target=\"_blank\"><span style=\"color: #7f7f7f; text-decoration-color: #7f7f7f\">whoscored.py</span></a><span style=\"color: #7f7f7f; text-decoration-color: #7f7f7f\">:</span><a href=\"file://d:\\Users\\Ariel\\anaconda3\\Lib\\site-packages\\soccerdata\\whoscored.py#327\" target=\"_blank\"><span style=\"color: #7f7f7f; text-decoration-color: #7f7f7f\">327</span></a>\n",
       "</pre>\n"
      ],
      "text/plain": [
       "\u001b[2;36m                   \u001b[0m\u001b[2;36m \u001b[0m\u001b[34mINFO    \u001b[0m Scraping game schedule for Tuesday, Apr \u001b[1;36m25\u001b[0m \u001b[1;36m2023\u001b[0m                       \u001b]8;id=873084;file://d:\\Users\\Ariel\\anaconda3\\Lib\\site-packages\\soccerdata\\whoscored.py\u001b\\\u001b[2mwhoscored.py\u001b[0m\u001b]8;;\u001b\\\u001b[2m:\u001b[0m\u001b]8;id=712657;file://d:\\Users\\Ariel\\anaconda3\\Lib\\site-packages\\soccerdata\\whoscored.py#327\u001b\\\u001b[2m327\u001b[0m\u001b]8;;\u001b\\\n"
      ]
     },
     "metadata": {},
     "output_type": "display_data"
    },
    {
     "data": {
      "text/html": [
       "<pre style=\"white-space:pre;overflow-x:auto;line-height:normal;font-family:Menlo,'DejaVu Sans Mono',consolas,'Courier New',monospace\"><span style=\"color: #7fbfbf; text-decoration-color: #7fbfbf\">                    </span><span style=\"color: #000080; text-decoration-color: #000080\">INFO    </span> Scraping game schedule for Friday, Apr <span style=\"color: #008080; text-decoration-color: #008080; font-weight: bold\">28</span> <span style=\"color: #008080; text-decoration-color: #008080; font-weight: bold\">2023</span>                        <a href=\"file://d:\\Users\\Ariel\\anaconda3\\Lib\\site-packages\\soccerdata\\whoscored.py\" target=\"_blank\"><span style=\"color: #7f7f7f; text-decoration-color: #7f7f7f\">whoscored.py</span></a><span style=\"color: #7f7f7f; text-decoration-color: #7f7f7f\">:</span><a href=\"file://d:\\Users\\Ariel\\anaconda3\\Lib\\site-packages\\soccerdata\\whoscored.py#327\" target=\"_blank\"><span style=\"color: #7f7f7f; text-decoration-color: #7f7f7f\">327</span></a>\n",
       "</pre>\n"
      ],
      "text/plain": [
       "\u001b[2;36m                   \u001b[0m\u001b[2;36m \u001b[0m\u001b[34mINFO    \u001b[0m Scraping game schedule for Friday, Apr \u001b[1;36m28\u001b[0m \u001b[1;36m2023\u001b[0m                        \u001b]8;id=280235;file://d:\\Users\\Ariel\\anaconda3\\Lib\\site-packages\\soccerdata\\whoscored.py\u001b\\\u001b[2mwhoscored.py\u001b[0m\u001b]8;;\u001b\\\u001b[2m:\u001b[0m\u001b]8;id=662257;file://d:\\Users\\Ariel\\anaconda3\\Lib\\site-packages\\soccerdata\\whoscored.py#327\u001b\\\u001b[2m327\u001b[0m\u001b]8;;\u001b\\\n"
      ]
     },
     "metadata": {},
     "output_type": "display_data"
    },
    {
     "data": {
      "text/html": [
       "<pre style=\"white-space:pre;overflow-x:auto;line-height:normal;font-family:Menlo,'DejaVu Sans Mono',consolas,'Courier New',monospace\"><span style=\"color: #7fbfbf; text-decoration-color: #7fbfbf\">[08/02/23 13:21:18] </span><span style=\"color: #000080; text-decoration-color: #000080\">INFO    </span> Scraping game schedule for Saturday, Apr <span style=\"color: #008080; text-decoration-color: #008080; font-weight: bold\">29</span> <span style=\"color: #008080; text-decoration-color: #008080; font-weight: bold\">2023</span>                      <a href=\"file://d:\\Users\\Ariel\\anaconda3\\Lib\\site-packages\\soccerdata\\whoscored.py\" target=\"_blank\"><span style=\"color: #7f7f7f; text-decoration-color: #7f7f7f\">whoscored.py</span></a><span style=\"color: #7f7f7f; text-decoration-color: #7f7f7f\">:</span><a href=\"file://d:\\Users\\Ariel\\anaconda3\\Lib\\site-packages\\soccerdata\\whoscored.py#327\" target=\"_blank\"><span style=\"color: #7f7f7f; text-decoration-color: #7f7f7f\">327</span></a>\n",
       "</pre>\n"
      ],
      "text/plain": [
       "\u001b[2;36m[08/02/23 13:21:18]\u001b[0m\u001b[2;36m \u001b[0m\u001b[34mINFO    \u001b[0m Scraping game schedule for Saturday, Apr \u001b[1;36m29\u001b[0m \u001b[1;36m2023\u001b[0m                      \u001b]8;id=990070;file://d:\\Users\\Ariel\\anaconda3\\Lib\\site-packages\\soccerdata\\whoscored.py\u001b\\\u001b[2mwhoscored.py\u001b[0m\u001b]8;;\u001b\\\u001b[2m:\u001b[0m\u001b]8;id=421097;file://d:\\Users\\Ariel\\anaconda3\\Lib\\site-packages\\soccerdata\\whoscored.py#327\u001b\\\u001b[2m327\u001b[0m\u001b]8;;\u001b\\\n"
      ]
     },
     "metadata": {},
     "output_type": "display_data"
    },
    {
     "data": {
      "text/html": [
       "<pre style=\"white-space:pre;overflow-x:auto;line-height:normal;font-family:Menlo,'DejaVu Sans Mono',consolas,'Courier New',monospace\"><span style=\"color: #7fbfbf; text-decoration-color: #7fbfbf\">                    </span><span style=\"color: #000080; text-decoration-color: #000080\">INFO    </span> Scraping game schedule for Sunday, Apr <span style=\"color: #008080; text-decoration-color: #008080; font-weight: bold\">30</span> <span style=\"color: #008080; text-decoration-color: #008080; font-weight: bold\">2023</span>                        <a href=\"file://d:\\Users\\Ariel\\anaconda3\\Lib\\site-packages\\soccerdata\\whoscored.py\" target=\"_blank\"><span style=\"color: #7f7f7f; text-decoration-color: #7f7f7f\">whoscored.py</span></a><span style=\"color: #7f7f7f; text-decoration-color: #7f7f7f\">:</span><a href=\"file://d:\\Users\\Ariel\\anaconda3\\Lib\\site-packages\\soccerdata\\whoscored.py#327\" target=\"_blank\"><span style=\"color: #7f7f7f; text-decoration-color: #7f7f7f\">327</span></a>\n",
       "</pre>\n"
      ],
      "text/plain": [
       "\u001b[2;36m                   \u001b[0m\u001b[2;36m \u001b[0m\u001b[34mINFO    \u001b[0m Scraping game schedule for Sunday, Apr \u001b[1;36m30\u001b[0m \u001b[1;36m2023\u001b[0m                        \u001b]8;id=919682;file://d:\\Users\\Ariel\\anaconda3\\Lib\\site-packages\\soccerdata\\whoscored.py\u001b\\\u001b[2mwhoscored.py\u001b[0m\u001b]8;;\u001b\\\u001b[2m:\u001b[0m\u001b]8;id=934922;file://d:\\Users\\Ariel\\anaconda3\\Lib\\site-packages\\soccerdata\\whoscored.py#327\u001b\\\u001b[2m327\u001b[0m\u001b]8;;\u001b\\\n"
      ]
     },
     "metadata": {},
     "output_type": "display_data"
    },
    {
     "data": {
      "text/html": [
       "<pre style=\"white-space:pre;overflow-x:auto;line-height:normal;font-family:Menlo,'DejaVu Sans Mono',consolas,'Courier New',monospace\"><span style=\"color: #7fbfbf; text-decoration-color: #7fbfbf\">[08/02/23 13:21:23] </span><span style=\"color: #000080; text-decoration-color: #000080\">INFO    </span> Scraping game schedule for Friday, Mar <span style=\"color: #008080; text-decoration-color: #008080; font-weight: bold\">3</span> <span style=\"color: #008080; text-decoration-color: #008080; font-weight: bold\">2023</span>                         <a href=\"file://d:\\Users\\Ariel\\anaconda3\\Lib\\site-packages\\soccerdata\\whoscored.py\" target=\"_blank\"><span style=\"color: #7f7f7f; text-decoration-color: #7f7f7f\">whoscored.py</span></a><span style=\"color: #7f7f7f; text-decoration-color: #7f7f7f\">:</span><a href=\"file://d:\\Users\\Ariel\\anaconda3\\Lib\\site-packages\\soccerdata\\whoscored.py#327\" target=\"_blank\"><span style=\"color: #7f7f7f; text-decoration-color: #7f7f7f\">327</span></a>\n",
       "</pre>\n"
      ],
      "text/plain": [
       "\u001b[2;36m[08/02/23 13:21:23]\u001b[0m\u001b[2;36m \u001b[0m\u001b[34mINFO    \u001b[0m Scraping game schedule for Friday, Mar \u001b[1;36m3\u001b[0m \u001b[1;36m2023\u001b[0m                         \u001b]8;id=955600;file://d:\\Users\\Ariel\\anaconda3\\Lib\\site-packages\\soccerdata\\whoscored.py\u001b\\\u001b[2mwhoscored.py\u001b[0m\u001b]8;;\u001b\\\u001b[2m:\u001b[0m\u001b]8;id=817256;file://d:\\Users\\Ariel\\anaconda3\\Lib\\site-packages\\soccerdata\\whoscored.py#327\u001b\\\u001b[2m327\u001b[0m\u001b]8;;\u001b\\\n"
      ]
     },
     "metadata": {},
     "output_type": "display_data"
    },
    {
     "data": {
      "text/html": [
       "<pre style=\"white-space:pre;overflow-x:auto;line-height:normal;font-family:Menlo,'DejaVu Sans Mono',consolas,'Courier New',monospace\"><span style=\"color: #7fbfbf; text-decoration-color: #7fbfbf\">                    </span><span style=\"color: #000080; text-decoration-color: #000080\">INFO    </span> Scraping game schedule for Saturday, Mar <span style=\"color: #008080; text-decoration-color: #008080; font-weight: bold\">4</span> <span style=\"color: #008080; text-decoration-color: #008080; font-weight: bold\">2023</span>                       <a href=\"file://d:\\Users\\Ariel\\anaconda3\\Lib\\site-packages\\soccerdata\\whoscored.py\" target=\"_blank\"><span style=\"color: #7f7f7f; text-decoration-color: #7f7f7f\">whoscored.py</span></a><span style=\"color: #7f7f7f; text-decoration-color: #7f7f7f\">:</span><a href=\"file://d:\\Users\\Ariel\\anaconda3\\Lib\\site-packages\\soccerdata\\whoscored.py#327\" target=\"_blank\"><span style=\"color: #7f7f7f; text-decoration-color: #7f7f7f\">327</span></a>\n",
       "</pre>\n"
      ],
      "text/plain": [
       "\u001b[2;36m                   \u001b[0m\u001b[2;36m \u001b[0m\u001b[34mINFO    \u001b[0m Scraping game schedule for Saturday, Mar \u001b[1;36m4\u001b[0m \u001b[1;36m2023\u001b[0m                       \u001b]8;id=541387;file://d:\\Users\\Ariel\\anaconda3\\Lib\\site-packages\\soccerdata\\whoscored.py\u001b\\\u001b[2mwhoscored.py\u001b[0m\u001b]8;;\u001b\\\u001b[2m:\u001b[0m\u001b]8;id=942072;file://d:\\Users\\Ariel\\anaconda3\\Lib\\site-packages\\soccerdata\\whoscored.py#327\u001b\\\u001b[2m327\u001b[0m\u001b]8;;\u001b\\\n"
      ]
     },
     "metadata": {},
     "output_type": "display_data"
    },
    {
     "data": {
      "text/html": [
       "<pre style=\"white-space:pre;overflow-x:auto;line-height:normal;font-family:Menlo,'DejaVu Sans Mono',consolas,'Courier New',monospace\"><span style=\"color: #7fbfbf; text-decoration-color: #7fbfbf\">                    </span><span style=\"color: #000080; text-decoration-color: #000080\">INFO    </span> Scraping game schedule for Sunday, Mar <span style=\"color: #008080; text-decoration-color: #008080; font-weight: bold\">5</span> <span style=\"color: #008080; text-decoration-color: #008080; font-weight: bold\">2023</span>                         <a href=\"file://d:\\Users\\Ariel\\anaconda3\\Lib\\site-packages\\soccerdata\\whoscored.py\" target=\"_blank\"><span style=\"color: #7f7f7f; text-decoration-color: #7f7f7f\">whoscored.py</span></a><span style=\"color: #7f7f7f; text-decoration-color: #7f7f7f\">:</span><a href=\"file://d:\\Users\\Ariel\\anaconda3\\Lib\\site-packages\\soccerdata\\whoscored.py#327\" target=\"_blank\"><span style=\"color: #7f7f7f; text-decoration-color: #7f7f7f\">327</span></a>\n",
       "</pre>\n"
      ],
      "text/plain": [
       "\u001b[2;36m                   \u001b[0m\u001b[2;36m \u001b[0m\u001b[34mINFO    \u001b[0m Scraping game schedule for Sunday, Mar \u001b[1;36m5\u001b[0m \u001b[1;36m2023\u001b[0m                         \u001b]8;id=252351;file://d:\\Users\\Ariel\\anaconda3\\Lib\\site-packages\\soccerdata\\whoscored.py\u001b\\\u001b[2mwhoscored.py\u001b[0m\u001b]8;;\u001b\\\u001b[2m:\u001b[0m\u001b]8;id=766778;file://d:\\Users\\Ariel\\anaconda3\\Lib\\site-packages\\soccerdata\\whoscored.py#327\u001b\\\u001b[2m327\u001b[0m\u001b]8;;\u001b\\\n"
      ]
     },
     "metadata": {},
     "output_type": "display_data"
    },
    {
     "data": {
      "text/html": [
       "<pre style=\"white-space:pre;overflow-x:auto;line-height:normal;font-family:Menlo,'DejaVu Sans Mono',consolas,'Courier New',monospace\"><span style=\"color: #7fbfbf; text-decoration-color: #7fbfbf\">[08/02/23 13:21:24] </span><span style=\"color: #000080; text-decoration-color: #000080\">INFO    </span> Scraping game schedule for Monday, Mar <span style=\"color: #008080; text-decoration-color: #008080; font-weight: bold\">6</span> <span style=\"color: #008080; text-decoration-color: #008080; font-weight: bold\">2023</span>                         <a href=\"file://d:\\Users\\Ariel\\anaconda3\\Lib\\site-packages\\soccerdata\\whoscored.py\" target=\"_blank\"><span style=\"color: #7f7f7f; text-decoration-color: #7f7f7f\">whoscored.py</span></a><span style=\"color: #7f7f7f; text-decoration-color: #7f7f7f\">:</span><a href=\"file://d:\\Users\\Ariel\\anaconda3\\Lib\\site-packages\\soccerdata\\whoscored.py#327\" target=\"_blank\"><span style=\"color: #7f7f7f; text-decoration-color: #7f7f7f\">327</span></a>\n",
       "</pre>\n"
      ],
      "text/plain": [
       "\u001b[2;36m[08/02/23 13:21:24]\u001b[0m\u001b[2;36m \u001b[0m\u001b[34mINFO    \u001b[0m Scraping game schedule for Monday, Mar \u001b[1;36m6\u001b[0m \u001b[1;36m2023\u001b[0m                         \u001b]8;id=895326;file://d:\\Users\\Ariel\\anaconda3\\Lib\\site-packages\\soccerdata\\whoscored.py\u001b\\\u001b[2mwhoscored.py\u001b[0m\u001b]8;;\u001b\\\u001b[2m:\u001b[0m\u001b]8;id=730938;file://d:\\Users\\Ariel\\anaconda3\\Lib\\site-packages\\soccerdata\\whoscored.py#327\u001b\\\u001b[2m327\u001b[0m\u001b]8;;\u001b\\\n"
      ]
     },
     "metadata": {},
     "output_type": "display_data"
    },
    {
     "data": {
      "text/html": [
       "<pre style=\"white-space:pre;overflow-x:auto;line-height:normal;font-family:Menlo,'DejaVu Sans Mono',consolas,'Courier New',monospace\"><span style=\"color: #7fbfbf; text-decoration-color: #7fbfbf\">                    </span><span style=\"color: #000080; text-decoration-color: #000080\">INFO    </span> Scraping game schedule for Tuesday, Mar <span style=\"color: #008080; text-decoration-color: #008080; font-weight: bold\">7</span> <span style=\"color: #008080; text-decoration-color: #008080; font-weight: bold\">2023</span>                        <a href=\"file://d:\\Users\\Ariel\\anaconda3\\Lib\\site-packages\\soccerdata\\whoscored.py\" target=\"_blank\"><span style=\"color: #7f7f7f; text-decoration-color: #7f7f7f\">whoscored.py</span></a><span style=\"color: #7f7f7f; text-decoration-color: #7f7f7f\">:</span><a href=\"file://d:\\Users\\Ariel\\anaconda3\\Lib\\site-packages\\soccerdata\\whoscored.py#327\" target=\"_blank\"><span style=\"color: #7f7f7f; text-decoration-color: #7f7f7f\">327</span></a>\n",
       "</pre>\n"
      ],
      "text/plain": [
       "\u001b[2;36m                   \u001b[0m\u001b[2;36m \u001b[0m\u001b[34mINFO    \u001b[0m Scraping game schedule for Tuesday, Mar \u001b[1;36m7\u001b[0m \u001b[1;36m2023\u001b[0m                        \u001b]8;id=101177;file://d:\\Users\\Ariel\\anaconda3\\Lib\\site-packages\\soccerdata\\whoscored.py\u001b\\\u001b[2mwhoscored.py\u001b[0m\u001b]8;;\u001b\\\u001b[2m:\u001b[0m\u001b]8;id=899059;file://d:\\Users\\Ariel\\anaconda3\\Lib\\site-packages\\soccerdata\\whoscored.py#327\u001b\\\u001b[2m327\u001b[0m\u001b]8;;\u001b\\\n"
      ]
     },
     "metadata": {},
     "output_type": "display_data"
    },
    {
     "data": {
      "text/html": [
       "<pre style=\"white-space:pre;overflow-x:auto;line-height:normal;font-family:Menlo,'DejaVu Sans Mono',consolas,'Courier New',monospace\"><span style=\"color: #7fbfbf; text-decoration-color: #7fbfbf\">                    </span><span style=\"color: #000080; text-decoration-color: #000080\">INFO    </span> Scraping game schedule for Friday, Mar <span style=\"color: #008080; text-decoration-color: #008080; font-weight: bold\">10</span> <span style=\"color: #008080; text-decoration-color: #008080; font-weight: bold\">2023</span>                        <a href=\"file://d:\\Users\\Ariel\\anaconda3\\Lib\\site-packages\\soccerdata\\whoscored.py\" target=\"_blank\"><span style=\"color: #7f7f7f; text-decoration-color: #7f7f7f\">whoscored.py</span></a><span style=\"color: #7f7f7f; text-decoration-color: #7f7f7f\">:</span><a href=\"file://d:\\Users\\Ariel\\anaconda3\\Lib\\site-packages\\soccerdata\\whoscored.py#327\" target=\"_blank\"><span style=\"color: #7f7f7f; text-decoration-color: #7f7f7f\">327</span></a>\n",
       "</pre>\n"
      ],
      "text/plain": [
       "\u001b[2;36m                   \u001b[0m\u001b[2;36m \u001b[0m\u001b[34mINFO    \u001b[0m Scraping game schedule for Friday, Mar \u001b[1;36m10\u001b[0m \u001b[1;36m2023\u001b[0m                        \u001b]8;id=249346;file://d:\\Users\\Ariel\\anaconda3\\Lib\\site-packages\\soccerdata\\whoscored.py\u001b\\\u001b[2mwhoscored.py\u001b[0m\u001b]8;;\u001b\\\u001b[2m:\u001b[0m\u001b]8;id=527960;file://d:\\Users\\Ariel\\anaconda3\\Lib\\site-packages\\soccerdata\\whoscored.py#327\u001b\\\u001b[2m327\u001b[0m\u001b]8;;\u001b\\\n"
      ]
     },
     "metadata": {},
     "output_type": "display_data"
    },
    {
     "data": {
      "text/html": [
       "<pre style=\"white-space:pre;overflow-x:auto;line-height:normal;font-family:Menlo,'DejaVu Sans Mono',consolas,'Courier New',monospace\"><span style=\"color: #7fbfbf; text-decoration-color: #7fbfbf\">                    </span><span style=\"color: #000080; text-decoration-color: #000080\">INFO    </span> Scraping game schedule for Saturday, Mar <span style=\"color: #008080; text-decoration-color: #008080; font-weight: bold\">11</span> <span style=\"color: #008080; text-decoration-color: #008080; font-weight: bold\">2023</span>                      <a href=\"file://d:\\Users\\Ariel\\anaconda3\\Lib\\site-packages\\soccerdata\\whoscored.py\" target=\"_blank\"><span style=\"color: #7f7f7f; text-decoration-color: #7f7f7f\">whoscored.py</span></a><span style=\"color: #7f7f7f; text-decoration-color: #7f7f7f\">:</span><a href=\"file://d:\\Users\\Ariel\\anaconda3\\Lib\\site-packages\\soccerdata\\whoscored.py#327\" target=\"_blank\"><span style=\"color: #7f7f7f; text-decoration-color: #7f7f7f\">327</span></a>\n",
       "</pre>\n"
      ],
      "text/plain": [
       "\u001b[2;36m                   \u001b[0m\u001b[2;36m \u001b[0m\u001b[34mINFO    \u001b[0m Scraping game schedule for Saturday, Mar \u001b[1;36m11\u001b[0m \u001b[1;36m2023\u001b[0m                      \u001b]8;id=957340;file://d:\\Users\\Ariel\\anaconda3\\Lib\\site-packages\\soccerdata\\whoscored.py\u001b\\\u001b[2mwhoscored.py\u001b[0m\u001b]8;;\u001b\\\u001b[2m:\u001b[0m\u001b]8;id=854305;file://d:\\Users\\Ariel\\anaconda3\\Lib\\site-packages\\soccerdata\\whoscored.py#327\u001b\\\u001b[2m327\u001b[0m\u001b]8;;\u001b\\\n"
      ]
     },
     "metadata": {},
     "output_type": "display_data"
    },
    {
     "data": {
      "text/html": [
       "<pre style=\"white-space:pre;overflow-x:auto;line-height:normal;font-family:Menlo,'DejaVu Sans Mono',consolas,'Courier New',monospace\"><span style=\"color: #7fbfbf; text-decoration-color: #7fbfbf\">                    </span><span style=\"color: #000080; text-decoration-color: #000080\">INFO    </span> Scraping game schedule for Sunday, Mar <span style=\"color: #008080; text-decoration-color: #008080; font-weight: bold\">12</span> <span style=\"color: #008080; text-decoration-color: #008080; font-weight: bold\">2023</span>                        <a href=\"file://d:\\Users\\Ariel\\anaconda3\\Lib\\site-packages\\soccerdata\\whoscored.py\" target=\"_blank\"><span style=\"color: #7f7f7f; text-decoration-color: #7f7f7f\">whoscored.py</span></a><span style=\"color: #7f7f7f; text-decoration-color: #7f7f7f\">:</span><a href=\"file://d:\\Users\\Ariel\\anaconda3\\Lib\\site-packages\\soccerdata\\whoscored.py#327\" target=\"_blank\"><span style=\"color: #7f7f7f; text-decoration-color: #7f7f7f\">327</span></a>\n",
       "</pre>\n"
      ],
      "text/plain": [
       "\u001b[2;36m                   \u001b[0m\u001b[2;36m \u001b[0m\u001b[34mINFO    \u001b[0m Scraping game schedule for Sunday, Mar \u001b[1;36m12\u001b[0m \u001b[1;36m2023\u001b[0m                        \u001b]8;id=656715;file://d:\\Users\\Ariel\\anaconda3\\Lib\\site-packages\\soccerdata\\whoscored.py\u001b\\\u001b[2mwhoscored.py\u001b[0m\u001b]8;;\u001b\\\u001b[2m:\u001b[0m\u001b]8;id=382768;file://d:\\Users\\Ariel\\anaconda3\\Lib\\site-packages\\soccerdata\\whoscored.py#327\u001b\\\u001b[2m327\u001b[0m\u001b]8;;\u001b\\\n"
      ]
     },
     "metadata": {},
     "output_type": "display_data"
    },
    {
     "data": {
      "text/html": [
       "<pre style=\"white-space:pre;overflow-x:auto;line-height:normal;font-family:Menlo,'DejaVu Sans Mono',consolas,'Courier New',monospace\"><span style=\"color: #7fbfbf; text-decoration-color: #7fbfbf\">                    </span><span style=\"color: #000080; text-decoration-color: #000080\">INFO    </span> Scraping game schedule for Monday, Mar <span style=\"color: #008080; text-decoration-color: #008080; font-weight: bold\">13</span> <span style=\"color: #008080; text-decoration-color: #008080; font-weight: bold\">2023</span>                        <a href=\"file://d:\\Users\\Ariel\\anaconda3\\Lib\\site-packages\\soccerdata\\whoscored.py\" target=\"_blank\"><span style=\"color: #7f7f7f; text-decoration-color: #7f7f7f\">whoscored.py</span></a><span style=\"color: #7f7f7f; text-decoration-color: #7f7f7f\">:</span><a href=\"file://d:\\Users\\Ariel\\anaconda3\\Lib\\site-packages\\soccerdata\\whoscored.py#327\" target=\"_blank\"><span style=\"color: #7f7f7f; text-decoration-color: #7f7f7f\">327</span></a>\n",
       "</pre>\n"
      ],
      "text/plain": [
       "\u001b[2;36m                   \u001b[0m\u001b[2;36m \u001b[0m\u001b[34mINFO    \u001b[0m Scraping game schedule for Monday, Mar \u001b[1;36m13\u001b[0m \u001b[1;36m2023\u001b[0m                        \u001b]8;id=112400;file://d:\\Users\\Ariel\\anaconda3\\Lib\\site-packages\\soccerdata\\whoscored.py\u001b\\\u001b[2mwhoscored.py\u001b[0m\u001b]8;;\u001b\\\u001b[2m:\u001b[0m\u001b]8;id=332977;file://d:\\Users\\Ariel\\anaconda3\\Lib\\site-packages\\soccerdata\\whoscored.py#327\u001b\\\u001b[2m327\u001b[0m\u001b]8;;\u001b\\\n"
      ]
     },
     "metadata": {},
     "output_type": "display_data"
    },
    {
     "data": {
      "text/html": [
       "<pre style=\"white-space:pre;overflow-x:auto;line-height:normal;font-family:Menlo,'DejaVu Sans Mono',consolas,'Courier New',monospace\"><span style=\"color: #7fbfbf; text-decoration-color: #7fbfbf\">                    </span><span style=\"color: #000080; text-decoration-color: #000080\">INFO    </span> Scraping game schedule for Tuesday, Mar <span style=\"color: #008080; text-decoration-color: #008080; font-weight: bold\">14</span> <span style=\"color: #008080; text-decoration-color: #008080; font-weight: bold\">2023</span>                       <a href=\"file://d:\\Users\\Ariel\\anaconda3\\Lib\\site-packages\\soccerdata\\whoscored.py\" target=\"_blank\"><span style=\"color: #7f7f7f; text-decoration-color: #7f7f7f\">whoscored.py</span></a><span style=\"color: #7f7f7f; text-decoration-color: #7f7f7f\">:</span><a href=\"file://d:\\Users\\Ariel\\anaconda3\\Lib\\site-packages\\soccerdata\\whoscored.py#327\" target=\"_blank\"><span style=\"color: #7f7f7f; text-decoration-color: #7f7f7f\">327</span></a>\n",
       "</pre>\n"
      ],
      "text/plain": [
       "\u001b[2;36m                   \u001b[0m\u001b[2;36m \u001b[0m\u001b[34mINFO    \u001b[0m Scraping game schedule for Tuesday, Mar \u001b[1;36m14\u001b[0m \u001b[1;36m2023\u001b[0m                       \u001b]8;id=713011;file://d:\\Users\\Ariel\\anaconda3\\Lib\\site-packages\\soccerdata\\whoscored.py\u001b\\\u001b[2mwhoscored.py\u001b[0m\u001b]8;;\u001b\\\u001b[2m:\u001b[0m\u001b]8;id=765818;file://d:\\Users\\Ariel\\anaconda3\\Lib\\site-packages\\soccerdata\\whoscored.py#327\u001b\\\u001b[2m327\u001b[0m\u001b]8;;\u001b\\\n"
      ]
     },
     "metadata": {},
     "output_type": "display_data"
    },
    {
     "data": {
      "text/html": [
       "<pre style=\"white-space:pre;overflow-x:auto;line-height:normal;font-family:Menlo,'DejaVu Sans Mono',consolas,'Courier New',monospace\"><span style=\"color: #7fbfbf; text-decoration-color: #7fbfbf\">[08/02/23 13:21:25] </span><span style=\"color: #000080; text-decoration-color: #000080\">INFO    </span> Scraping game schedule for Saturday, Mar <span style=\"color: #008080; text-decoration-color: #008080; font-weight: bold\">18</span> <span style=\"color: #008080; text-decoration-color: #008080; font-weight: bold\">2023</span>                      <a href=\"file://d:\\Users\\Ariel\\anaconda3\\Lib\\site-packages\\soccerdata\\whoscored.py\" target=\"_blank\"><span style=\"color: #7f7f7f; text-decoration-color: #7f7f7f\">whoscored.py</span></a><span style=\"color: #7f7f7f; text-decoration-color: #7f7f7f\">:</span><a href=\"file://d:\\Users\\Ariel\\anaconda3\\Lib\\site-packages\\soccerdata\\whoscored.py#327\" target=\"_blank\"><span style=\"color: #7f7f7f; text-decoration-color: #7f7f7f\">327</span></a>\n",
       "</pre>\n"
      ],
      "text/plain": [
       "\u001b[2;36m[08/02/23 13:21:25]\u001b[0m\u001b[2;36m \u001b[0m\u001b[34mINFO    \u001b[0m Scraping game schedule for Saturday, Mar \u001b[1;36m18\u001b[0m \u001b[1;36m2023\u001b[0m                      \u001b]8;id=497487;file://d:\\Users\\Ariel\\anaconda3\\Lib\\site-packages\\soccerdata\\whoscored.py\u001b\\\u001b[2mwhoscored.py\u001b[0m\u001b]8;;\u001b\\\u001b[2m:\u001b[0m\u001b]8;id=151724;file://d:\\Users\\Ariel\\anaconda3\\Lib\\site-packages\\soccerdata\\whoscored.py#327\u001b\\\u001b[2m327\u001b[0m\u001b]8;;\u001b\\\n"
      ]
     },
     "metadata": {},
     "output_type": "display_data"
    },
    {
     "data": {
      "text/html": [
       "<pre style=\"white-space:pre;overflow-x:auto;line-height:normal;font-family:Menlo,'DejaVu Sans Mono',consolas,'Courier New',monospace\"><span style=\"color: #7fbfbf; text-decoration-color: #7fbfbf\">                    </span><span style=\"color: #000080; text-decoration-color: #000080\">INFO    </span> Scraping game schedule for Sunday, Mar <span style=\"color: #008080; text-decoration-color: #008080; font-weight: bold\">19</span> <span style=\"color: #008080; text-decoration-color: #008080; font-weight: bold\">2023</span>                        <a href=\"file://d:\\Users\\Ariel\\anaconda3\\Lib\\site-packages\\soccerdata\\whoscored.py\" target=\"_blank\"><span style=\"color: #7f7f7f; text-decoration-color: #7f7f7f\">whoscored.py</span></a><span style=\"color: #7f7f7f; text-decoration-color: #7f7f7f\">:</span><a href=\"file://d:\\Users\\Ariel\\anaconda3\\Lib\\site-packages\\soccerdata\\whoscored.py#327\" target=\"_blank\"><span style=\"color: #7f7f7f; text-decoration-color: #7f7f7f\">327</span></a>\n",
       "</pre>\n"
      ],
      "text/plain": [
       "\u001b[2;36m                   \u001b[0m\u001b[2;36m \u001b[0m\u001b[34mINFO    \u001b[0m Scraping game schedule for Sunday, Mar \u001b[1;36m19\u001b[0m \u001b[1;36m2023\u001b[0m                        \u001b]8;id=161753;file://d:\\Users\\Ariel\\anaconda3\\Lib\\site-packages\\soccerdata\\whoscored.py\u001b\\\u001b[2mwhoscored.py\u001b[0m\u001b]8;;\u001b\\\u001b[2m:\u001b[0m\u001b]8;id=488623;file://d:\\Users\\Ariel\\anaconda3\\Lib\\site-packages\\soccerdata\\whoscored.py#327\u001b\\\u001b[2m327\u001b[0m\u001b]8;;\u001b\\\n"
      ]
     },
     "metadata": {},
     "output_type": "display_data"
    },
    {
     "data": {
      "text/html": [
       "<pre style=\"white-space:pre;overflow-x:auto;line-height:normal;font-family:Menlo,'DejaVu Sans Mono',consolas,'Courier New',monospace\"><span style=\"color: #7fbfbf; text-decoration-color: #7fbfbf\">                    </span><span style=\"color: #000080; text-decoration-color: #000080\">INFO    </span> Scraping game schedule for Monday, Mar <span style=\"color: #008080; text-decoration-color: #008080; font-weight: bold\">20</span> <span style=\"color: #008080; text-decoration-color: #008080; font-weight: bold\">2023</span>                        <a href=\"file://d:\\Users\\Ariel\\anaconda3\\Lib\\site-packages\\soccerdata\\whoscored.py\" target=\"_blank\"><span style=\"color: #7f7f7f; text-decoration-color: #7f7f7f\">whoscored.py</span></a><span style=\"color: #7f7f7f; text-decoration-color: #7f7f7f\">:</span><a href=\"file://d:\\Users\\Ariel\\anaconda3\\Lib\\site-packages\\soccerdata\\whoscored.py#327\" target=\"_blank\"><span style=\"color: #7f7f7f; text-decoration-color: #7f7f7f\">327</span></a>\n",
       "</pre>\n"
      ],
      "text/plain": [
       "\u001b[2;36m                   \u001b[0m\u001b[2;36m \u001b[0m\u001b[34mINFO    \u001b[0m Scraping game schedule for Monday, Mar \u001b[1;36m20\u001b[0m \u001b[1;36m2023\u001b[0m                        \u001b]8;id=25150;file://d:\\Users\\Ariel\\anaconda3\\Lib\\site-packages\\soccerdata\\whoscored.py\u001b\\\u001b[2mwhoscored.py\u001b[0m\u001b]8;;\u001b\\\u001b[2m:\u001b[0m\u001b]8;id=588874;file://d:\\Users\\Ariel\\anaconda3\\Lib\\site-packages\\soccerdata\\whoscored.py#327\u001b\\\u001b[2m327\u001b[0m\u001b]8;;\u001b\\\n"
      ]
     },
     "metadata": {},
     "output_type": "display_data"
    },
    {
     "data": {
      "text/html": [
       "<pre style=\"white-space:pre;overflow-x:auto;line-height:normal;font-family:Menlo,'DejaVu Sans Mono',consolas,'Courier New',monospace\"><span style=\"color: #7fbfbf; text-decoration-color: #7fbfbf\">                    </span><span style=\"color: #000080; text-decoration-color: #000080\">INFO    </span> Scraping game schedule for Tuesday, Mar <span style=\"color: #008080; text-decoration-color: #008080; font-weight: bold\">21</span> <span style=\"color: #008080; text-decoration-color: #008080; font-weight: bold\">2023</span>                       <a href=\"file://d:\\Users\\Ariel\\anaconda3\\Lib\\site-packages\\soccerdata\\whoscored.py\" target=\"_blank\"><span style=\"color: #7f7f7f; text-decoration-color: #7f7f7f\">whoscored.py</span></a><span style=\"color: #7f7f7f; text-decoration-color: #7f7f7f\">:</span><a href=\"file://d:\\Users\\Ariel\\anaconda3\\Lib\\site-packages\\soccerdata\\whoscored.py#327\" target=\"_blank\"><span style=\"color: #7f7f7f; text-decoration-color: #7f7f7f\">327</span></a>\n",
       "</pre>\n"
      ],
      "text/plain": [
       "\u001b[2;36m                   \u001b[0m\u001b[2;36m \u001b[0m\u001b[34mINFO    \u001b[0m Scraping game schedule for Tuesday, Mar \u001b[1;36m21\u001b[0m \u001b[1;36m2023\u001b[0m                       \u001b]8;id=28023;file://d:\\Users\\Ariel\\anaconda3\\Lib\\site-packages\\soccerdata\\whoscored.py\u001b\\\u001b[2mwhoscored.py\u001b[0m\u001b]8;;\u001b\\\u001b[2m:\u001b[0m\u001b]8;id=180263;file://d:\\Users\\Ariel\\anaconda3\\Lib\\site-packages\\soccerdata\\whoscored.py#327\u001b\\\u001b[2m327\u001b[0m\u001b]8;;\u001b\\\n"
      ]
     },
     "metadata": {},
     "output_type": "display_data"
    },
    {
     "data": {
      "text/html": [
       "<pre style=\"white-space:pre;overflow-x:auto;line-height:normal;font-family:Menlo,'DejaVu Sans Mono',consolas,'Courier New',monospace\"><span style=\"color: #7fbfbf; text-decoration-color: #7fbfbf\">                    </span><span style=\"color: #000080; text-decoration-color: #000080\">INFO    </span> Scraping game schedule for Wednesday, Mar <span style=\"color: #008080; text-decoration-color: #008080; font-weight: bold\">22</span> <span style=\"color: #008080; text-decoration-color: #008080; font-weight: bold\">2023</span>                     <a href=\"file://d:\\Users\\Ariel\\anaconda3\\Lib\\site-packages\\soccerdata\\whoscored.py\" target=\"_blank\"><span style=\"color: #7f7f7f; text-decoration-color: #7f7f7f\">whoscored.py</span></a><span style=\"color: #7f7f7f; text-decoration-color: #7f7f7f\">:</span><a href=\"file://d:\\Users\\Ariel\\anaconda3\\Lib\\site-packages\\soccerdata\\whoscored.py#327\" target=\"_blank\"><span style=\"color: #7f7f7f; text-decoration-color: #7f7f7f\">327</span></a>\n",
       "</pre>\n"
      ],
      "text/plain": [
       "\u001b[2;36m                   \u001b[0m\u001b[2;36m \u001b[0m\u001b[34mINFO    \u001b[0m Scraping game schedule for Wednesday, Mar \u001b[1;36m22\u001b[0m \u001b[1;36m2023\u001b[0m                     \u001b]8;id=807436;file://d:\\Users\\Ariel\\anaconda3\\Lib\\site-packages\\soccerdata\\whoscored.py\u001b\\\u001b[2mwhoscored.py\u001b[0m\u001b]8;;\u001b\\\u001b[2m:\u001b[0m\u001b]8;id=698928;file://d:\\Users\\Ariel\\anaconda3\\Lib\\site-packages\\soccerdata\\whoscored.py#327\u001b\\\u001b[2m327\u001b[0m\u001b]8;;\u001b\\\n"
      ]
     },
     "metadata": {},
     "output_type": "display_data"
    },
    {
     "data": {
      "text/html": [
       "<pre style=\"white-space:pre;overflow-x:auto;line-height:normal;font-family:Menlo,'DejaVu Sans Mono',consolas,'Courier New',monospace\"><span style=\"color: #7fbfbf; text-decoration-color: #7fbfbf\">                    </span><span style=\"color: #000080; text-decoration-color: #000080\">INFO    </span> Scraping game schedule for Friday, Mar <span style=\"color: #008080; text-decoration-color: #008080; font-weight: bold\">31</span> <span style=\"color: #008080; text-decoration-color: #008080; font-weight: bold\">2023</span>                        <a href=\"file://d:\\Users\\Ariel\\anaconda3\\Lib\\site-packages\\soccerdata\\whoscored.py\" target=\"_blank\"><span style=\"color: #7f7f7f; text-decoration-color: #7f7f7f\">whoscored.py</span></a><span style=\"color: #7f7f7f; text-decoration-color: #7f7f7f\">:</span><a href=\"file://d:\\Users\\Ariel\\anaconda3\\Lib\\site-packages\\soccerdata\\whoscored.py#327\" target=\"_blank\"><span style=\"color: #7f7f7f; text-decoration-color: #7f7f7f\">327</span></a>\n",
       "</pre>\n"
      ],
      "text/plain": [
       "\u001b[2;36m                   \u001b[0m\u001b[2;36m \u001b[0m\u001b[34mINFO    \u001b[0m Scraping game schedule for Friday, Mar \u001b[1;36m31\u001b[0m \u001b[1;36m2023\u001b[0m                        \u001b]8;id=165098;file://d:\\Users\\Ariel\\anaconda3\\Lib\\site-packages\\soccerdata\\whoscored.py\u001b\\\u001b[2mwhoscored.py\u001b[0m\u001b]8;;\u001b\\\u001b[2m:\u001b[0m\u001b]8;id=377253;file://d:\\Users\\Ariel\\anaconda3\\Lib\\site-packages\\soccerdata\\whoscored.py#327\u001b\\\u001b[2m327\u001b[0m\u001b]8;;\u001b\\\n"
      ]
     },
     "metadata": {},
     "output_type": "display_data"
    },
    {
     "data": {
      "text/html": [
       "<pre style=\"white-space:pre;overflow-x:auto;line-height:normal;font-family:Menlo,'DejaVu Sans Mono',consolas,'Courier New',monospace\"><span style=\"color: #7fbfbf; text-decoration-color: #7fbfbf\">[08/02/23 13:21:30] </span><span style=\"color: #000080; text-decoration-color: #000080\">INFO    </span> Scraping game schedule for Friday, Feb <span style=\"color: #008080; text-decoration-color: #008080; font-weight: bold\">3</span> <span style=\"color: #008080; text-decoration-color: #008080; font-weight: bold\">2023</span>                         <a href=\"file://d:\\Users\\Ariel\\anaconda3\\Lib\\site-packages\\soccerdata\\whoscored.py\" target=\"_blank\"><span style=\"color: #7f7f7f; text-decoration-color: #7f7f7f\">whoscored.py</span></a><span style=\"color: #7f7f7f; text-decoration-color: #7f7f7f\">:</span><a href=\"file://d:\\Users\\Ariel\\anaconda3\\Lib\\site-packages\\soccerdata\\whoscored.py#327\" target=\"_blank\"><span style=\"color: #7f7f7f; text-decoration-color: #7f7f7f\">327</span></a>\n",
       "</pre>\n"
      ],
      "text/plain": [
       "\u001b[2;36m[08/02/23 13:21:30]\u001b[0m\u001b[2;36m \u001b[0m\u001b[34mINFO    \u001b[0m Scraping game schedule for Friday, Feb \u001b[1;36m3\u001b[0m \u001b[1;36m2023\u001b[0m                         \u001b]8;id=218271;file://d:\\Users\\Ariel\\anaconda3\\Lib\\site-packages\\soccerdata\\whoscored.py\u001b\\\u001b[2mwhoscored.py\u001b[0m\u001b]8;;\u001b\\\u001b[2m:\u001b[0m\u001b]8;id=76777;file://d:\\Users\\Ariel\\anaconda3\\Lib\\site-packages\\soccerdata\\whoscored.py#327\u001b\\\u001b[2m327\u001b[0m\u001b]8;;\u001b\\\n"
      ]
     },
     "metadata": {},
     "output_type": "display_data"
    },
    {
     "data": {
      "text/html": [
       "<pre style=\"white-space:pre;overflow-x:auto;line-height:normal;font-family:Menlo,'DejaVu Sans Mono',consolas,'Courier New',monospace\"><span style=\"color: #7fbfbf; text-decoration-color: #7fbfbf\">[08/02/23 13:21:31] </span><span style=\"color: #000080; text-decoration-color: #000080\">INFO    </span> Scraping game schedule for Saturday, Feb <span style=\"color: #008080; text-decoration-color: #008080; font-weight: bold\">4</span> <span style=\"color: #008080; text-decoration-color: #008080; font-weight: bold\">2023</span>                       <a href=\"file://d:\\Users\\Ariel\\anaconda3\\Lib\\site-packages\\soccerdata\\whoscored.py\" target=\"_blank\"><span style=\"color: #7f7f7f; text-decoration-color: #7f7f7f\">whoscored.py</span></a><span style=\"color: #7f7f7f; text-decoration-color: #7f7f7f\">:</span><a href=\"file://d:\\Users\\Ariel\\anaconda3\\Lib\\site-packages\\soccerdata\\whoscored.py#327\" target=\"_blank\"><span style=\"color: #7f7f7f; text-decoration-color: #7f7f7f\">327</span></a>\n",
       "</pre>\n"
      ],
      "text/plain": [
       "\u001b[2;36m[08/02/23 13:21:31]\u001b[0m\u001b[2;36m \u001b[0m\u001b[34mINFO    \u001b[0m Scraping game schedule for Saturday, Feb \u001b[1;36m4\u001b[0m \u001b[1;36m2023\u001b[0m                       \u001b]8;id=13628;file://d:\\Users\\Ariel\\anaconda3\\Lib\\site-packages\\soccerdata\\whoscored.py\u001b\\\u001b[2mwhoscored.py\u001b[0m\u001b]8;;\u001b\\\u001b[2m:\u001b[0m\u001b]8;id=49218;file://d:\\Users\\Ariel\\anaconda3\\Lib\\site-packages\\soccerdata\\whoscored.py#327\u001b\\\u001b[2m327\u001b[0m\u001b]8;;\u001b\\\n"
      ]
     },
     "metadata": {},
     "output_type": "display_data"
    },
    {
     "data": {
      "text/html": [
       "<pre style=\"white-space:pre;overflow-x:auto;line-height:normal;font-family:Menlo,'DejaVu Sans Mono',consolas,'Courier New',monospace\"><span style=\"color: #7fbfbf; text-decoration-color: #7fbfbf\">                    </span><span style=\"color: #000080; text-decoration-color: #000080\">INFO    </span> Scraping game schedule for Sunday, Feb <span style=\"color: #008080; text-decoration-color: #008080; font-weight: bold\">5</span> <span style=\"color: #008080; text-decoration-color: #008080; font-weight: bold\">2023</span>                         <a href=\"file://d:\\Users\\Ariel\\anaconda3\\Lib\\site-packages\\soccerdata\\whoscored.py\" target=\"_blank\"><span style=\"color: #7f7f7f; text-decoration-color: #7f7f7f\">whoscored.py</span></a><span style=\"color: #7f7f7f; text-decoration-color: #7f7f7f\">:</span><a href=\"file://d:\\Users\\Ariel\\anaconda3\\Lib\\site-packages\\soccerdata\\whoscored.py#327\" target=\"_blank\"><span style=\"color: #7f7f7f; text-decoration-color: #7f7f7f\">327</span></a>\n",
       "</pre>\n"
      ],
      "text/plain": [
       "\u001b[2;36m                   \u001b[0m\u001b[2;36m \u001b[0m\u001b[34mINFO    \u001b[0m Scraping game schedule for Sunday, Feb \u001b[1;36m5\u001b[0m \u001b[1;36m2023\u001b[0m                         \u001b]8;id=115546;file://d:\\Users\\Ariel\\anaconda3\\Lib\\site-packages\\soccerdata\\whoscored.py\u001b\\\u001b[2mwhoscored.py\u001b[0m\u001b]8;;\u001b\\\u001b[2m:\u001b[0m\u001b]8;id=871221;file://d:\\Users\\Ariel\\anaconda3\\Lib\\site-packages\\soccerdata\\whoscored.py#327\u001b\\\u001b[2m327\u001b[0m\u001b]8;;\u001b\\\n"
      ]
     },
     "metadata": {},
     "output_type": "display_data"
    },
    {
     "data": {
      "text/html": [
       "<pre style=\"white-space:pre;overflow-x:auto;line-height:normal;font-family:Menlo,'DejaVu Sans Mono',consolas,'Courier New',monospace\"><span style=\"color: #7fbfbf; text-decoration-color: #7fbfbf\">                    </span><span style=\"color: #000080; text-decoration-color: #000080\">INFO    </span> Scraping game schedule for Monday, Feb <span style=\"color: #008080; text-decoration-color: #008080; font-weight: bold\">6</span> <span style=\"color: #008080; text-decoration-color: #008080; font-weight: bold\">2023</span>                         <a href=\"file://d:\\Users\\Ariel\\anaconda3\\Lib\\site-packages\\soccerdata\\whoscored.py\" target=\"_blank\"><span style=\"color: #7f7f7f; text-decoration-color: #7f7f7f\">whoscored.py</span></a><span style=\"color: #7f7f7f; text-decoration-color: #7f7f7f\">:</span><a href=\"file://d:\\Users\\Ariel\\anaconda3\\Lib\\site-packages\\soccerdata\\whoscored.py#327\" target=\"_blank\"><span style=\"color: #7f7f7f; text-decoration-color: #7f7f7f\">327</span></a>\n",
       "</pre>\n"
      ],
      "text/plain": [
       "\u001b[2;36m                   \u001b[0m\u001b[2;36m \u001b[0m\u001b[34mINFO    \u001b[0m Scraping game schedule for Monday, Feb \u001b[1;36m6\u001b[0m \u001b[1;36m2023\u001b[0m                         \u001b]8;id=796971;file://d:\\Users\\Ariel\\anaconda3\\Lib\\site-packages\\soccerdata\\whoscored.py\u001b\\\u001b[2mwhoscored.py\u001b[0m\u001b]8;;\u001b\\\u001b[2m:\u001b[0m\u001b]8;id=621564;file://d:\\Users\\Ariel\\anaconda3\\Lib\\site-packages\\soccerdata\\whoscored.py#327\u001b\\\u001b[2m327\u001b[0m\u001b]8;;\u001b\\\n"
      ]
     },
     "metadata": {},
     "output_type": "display_data"
    },
    {
     "data": {
      "text/html": [
       "<pre style=\"white-space:pre;overflow-x:auto;line-height:normal;font-family:Menlo,'DejaVu Sans Mono',consolas,'Courier New',monospace\"><span style=\"color: #7fbfbf; text-decoration-color: #7fbfbf\">                    </span><span style=\"color: #000080; text-decoration-color: #000080\">INFO    </span> Scraping game schedule for Tuesday, Feb <span style=\"color: #008080; text-decoration-color: #008080; font-weight: bold\">7</span> <span style=\"color: #008080; text-decoration-color: #008080; font-weight: bold\">2023</span>                        <a href=\"file://d:\\Users\\Ariel\\anaconda3\\Lib\\site-packages\\soccerdata\\whoscored.py\" target=\"_blank\"><span style=\"color: #7f7f7f; text-decoration-color: #7f7f7f\">whoscored.py</span></a><span style=\"color: #7f7f7f; text-decoration-color: #7f7f7f\">:</span><a href=\"file://d:\\Users\\Ariel\\anaconda3\\Lib\\site-packages\\soccerdata\\whoscored.py#327\" target=\"_blank\"><span style=\"color: #7f7f7f; text-decoration-color: #7f7f7f\">327</span></a>\n",
       "</pre>\n"
      ],
      "text/plain": [
       "\u001b[2;36m                   \u001b[0m\u001b[2;36m \u001b[0m\u001b[34mINFO    \u001b[0m Scraping game schedule for Tuesday, Feb \u001b[1;36m7\u001b[0m \u001b[1;36m2023\u001b[0m                        \u001b]8;id=544765;file://d:\\Users\\Ariel\\anaconda3\\Lib\\site-packages\\soccerdata\\whoscored.py\u001b\\\u001b[2mwhoscored.py\u001b[0m\u001b]8;;\u001b\\\u001b[2m:\u001b[0m\u001b]8;id=90134;file://d:\\Users\\Ariel\\anaconda3\\Lib\\site-packages\\soccerdata\\whoscored.py#327\u001b\\\u001b[2m327\u001b[0m\u001b]8;;\u001b\\\n"
      ]
     },
     "metadata": {},
     "output_type": "display_data"
    },
    {
     "data": {
      "text/html": [
       "<pre style=\"white-space:pre;overflow-x:auto;line-height:normal;font-family:Menlo,'DejaVu Sans Mono',consolas,'Courier New',monospace\"><span style=\"color: #7fbfbf; text-decoration-color: #7fbfbf\">                    </span><span style=\"color: #000080; text-decoration-color: #000080\">INFO    </span> Scraping game schedule for Saturday, Feb <span style=\"color: #008080; text-decoration-color: #008080; font-weight: bold\">11</span> <span style=\"color: #008080; text-decoration-color: #008080; font-weight: bold\">2023</span>                      <a href=\"file://d:\\Users\\Ariel\\anaconda3\\Lib\\site-packages\\soccerdata\\whoscored.py\" target=\"_blank\"><span style=\"color: #7f7f7f; text-decoration-color: #7f7f7f\">whoscored.py</span></a><span style=\"color: #7f7f7f; text-decoration-color: #7f7f7f\">:</span><a href=\"file://d:\\Users\\Ariel\\anaconda3\\Lib\\site-packages\\soccerdata\\whoscored.py#327\" target=\"_blank\"><span style=\"color: #7f7f7f; text-decoration-color: #7f7f7f\">327</span></a>\n",
       "</pre>\n"
      ],
      "text/plain": [
       "\u001b[2;36m                   \u001b[0m\u001b[2;36m \u001b[0m\u001b[34mINFO    \u001b[0m Scraping game schedule for Saturday, Feb \u001b[1;36m11\u001b[0m \u001b[1;36m2023\u001b[0m                      \u001b]8;id=973347;file://d:\\Users\\Ariel\\anaconda3\\Lib\\site-packages\\soccerdata\\whoscored.py\u001b\\\u001b[2mwhoscored.py\u001b[0m\u001b]8;;\u001b\\\u001b[2m:\u001b[0m\u001b]8;id=275225;file://d:\\Users\\Ariel\\anaconda3\\Lib\\site-packages\\soccerdata\\whoscored.py#327\u001b\\\u001b[2m327\u001b[0m\u001b]8;;\u001b\\\n"
      ]
     },
     "metadata": {},
     "output_type": "display_data"
    },
    {
     "data": {
      "text/html": [
       "<pre style=\"white-space:pre;overflow-x:auto;line-height:normal;font-family:Menlo,'DejaVu Sans Mono',consolas,'Courier New',monospace\"><span style=\"color: #7fbfbf; text-decoration-color: #7fbfbf\">                    </span><span style=\"color: #000080; text-decoration-color: #000080\">INFO    </span> Scraping game schedule for Sunday, Feb <span style=\"color: #008080; text-decoration-color: #008080; font-weight: bold\">12</span> <span style=\"color: #008080; text-decoration-color: #008080; font-weight: bold\">2023</span>                        <a href=\"file://d:\\Users\\Ariel\\anaconda3\\Lib\\site-packages\\soccerdata\\whoscored.py\" target=\"_blank\"><span style=\"color: #7f7f7f; text-decoration-color: #7f7f7f\">whoscored.py</span></a><span style=\"color: #7f7f7f; text-decoration-color: #7f7f7f\">:</span><a href=\"file://d:\\Users\\Ariel\\anaconda3\\Lib\\site-packages\\soccerdata\\whoscored.py#327\" target=\"_blank\"><span style=\"color: #7f7f7f; text-decoration-color: #7f7f7f\">327</span></a>\n",
       "</pre>\n"
      ],
      "text/plain": [
       "\u001b[2;36m                   \u001b[0m\u001b[2;36m \u001b[0m\u001b[34mINFO    \u001b[0m Scraping game schedule for Sunday, Feb \u001b[1;36m12\u001b[0m \u001b[1;36m2023\u001b[0m                        \u001b]8;id=148334;file://d:\\Users\\Ariel\\anaconda3\\Lib\\site-packages\\soccerdata\\whoscored.py\u001b\\\u001b[2mwhoscored.py\u001b[0m\u001b]8;;\u001b\\\u001b[2m:\u001b[0m\u001b]8;id=265608;file://d:\\Users\\Ariel\\anaconda3\\Lib\\site-packages\\soccerdata\\whoscored.py#327\u001b\\\u001b[2m327\u001b[0m\u001b]8;;\u001b\\\n"
      ]
     },
     "metadata": {},
     "output_type": "display_data"
    },
    {
     "data": {
      "text/html": [
       "<pre style=\"white-space:pre;overflow-x:auto;line-height:normal;font-family:Menlo,'DejaVu Sans Mono',consolas,'Courier New',monospace\"><span style=\"color: #7fbfbf; text-decoration-color: #7fbfbf\">[08/02/23 13:21:32] </span><span style=\"color: #000080; text-decoration-color: #000080\">INFO    </span> Scraping game schedule for Monday, Feb <span style=\"color: #008080; text-decoration-color: #008080; font-weight: bold\">13</span> <span style=\"color: #008080; text-decoration-color: #008080; font-weight: bold\">2023</span>                        <a href=\"file://d:\\Users\\Ariel\\anaconda3\\Lib\\site-packages\\soccerdata\\whoscored.py\" target=\"_blank\"><span style=\"color: #7f7f7f; text-decoration-color: #7f7f7f\">whoscored.py</span></a><span style=\"color: #7f7f7f; text-decoration-color: #7f7f7f\">:</span><a href=\"file://d:\\Users\\Ariel\\anaconda3\\Lib\\site-packages\\soccerdata\\whoscored.py#327\" target=\"_blank\"><span style=\"color: #7f7f7f; text-decoration-color: #7f7f7f\">327</span></a>\n",
       "</pre>\n"
      ],
      "text/plain": [
       "\u001b[2;36m[08/02/23 13:21:32]\u001b[0m\u001b[2;36m \u001b[0m\u001b[34mINFO    \u001b[0m Scraping game schedule for Monday, Feb \u001b[1;36m13\u001b[0m \u001b[1;36m2023\u001b[0m                        \u001b]8;id=559456;file://d:\\Users\\Ariel\\anaconda3\\Lib\\site-packages\\soccerdata\\whoscored.py\u001b\\\u001b[2mwhoscored.py\u001b[0m\u001b]8;;\u001b\\\u001b[2m:\u001b[0m\u001b]8;id=592813;file://d:\\Users\\Ariel\\anaconda3\\Lib\\site-packages\\soccerdata\\whoscored.py#327\u001b\\\u001b[2m327\u001b[0m\u001b]8;;\u001b\\\n"
      ]
     },
     "metadata": {},
     "output_type": "display_data"
    },
    {
     "data": {
      "text/html": [
       "<pre style=\"white-space:pre;overflow-x:auto;line-height:normal;font-family:Menlo,'DejaVu Sans Mono',consolas,'Courier New',monospace\"><span style=\"color: #7fbfbf; text-decoration-color: #7fbfbf\">                    </span><span style=\"color: #000080; text-decoration-color: #000080\">INFO    </span> Scraping game schedule for Friday, Feb <span style=\"color: #008080; text-decoration-color: #008080; font-weight: bold\">17</span> <span style=\"color: #008080; text-decoration-color: #008080; font-weight: bold\">2023</span>                        <a href=\"file://d:\\Users\\Ariel\\anaconda3\\Lib\\site-packages\\soccerdata\\whoscored.py\" target=\"_blank\"><span style=\"color: #7f7f7f; text-decoration-color: #7f7f7f\">whoscored.py</span></a><span style=\"color: #7f7f7f; text-decoration-color: #7f7f7f\">:</span><a href=\"file://d:\\Users\\Ariel\\anaconda3\\Lib\\site-packages\\soccerdata\\whoscored.py#327\" target=\"_blank\"><span style=\"color: #7f7f7f; text-decoration-color: #7f7f7f\">327</span></a>\n",
       "</pre>\n"
      ],
      "text/plain": [
       "\u001b[2;36m                   \u001b[0m\u001b[2;36m \u001b[0m\u001b[34mINFO    \u001b[0m Scraping game schedule for Friday, Feb \u001b[1;36m17\u001b[0m \u001b[1;36m2023\u001b[0m                        \u001b]8;id=140114;file://d:\\Users\\Ariel\\anaconda3\\Lib\\site-packages\\soccerdata\\whoscored.py\u001b\\\u001b[2mwhoscored.py\u001b[0m\u001b]8;;\u001b\\\u001b[2m:\u001b[0m\u001b]8;id=865814;file://d:\\Users\\Ariel\\anaconda3\\Lib\\site-packages\\soccerdata\\whoscored.py#327\u001b\\\u001b[2m327\u001b[0m\u001b]8;;\u001b\\\n"
      ]
     },
     "metadata": {},
     "output_type": "display_data"
    },
    {
     "data": {
      "text/html": [
       "<pre style=\"white-space:pre;overflow-x:auto;line-height:normal;font-family:Menlo,'DejaVu Sans Mono',consolas,'Courier New',monospace\"><span style=\"color: #7fbfbf; text-decoration-color: #7fbfbf\">                    </span><span style=\"color: #000080; text-decoration-color: #000080\">INFO    </span> Scraping game schedule for Saturday, Feb <span style=\"color: #008080; text-decoration-color: #008080; font-weight: bold\">18</span> <span style=\"color: #008080; text-decoration-color: #008080; font-weight: bold\">2023</span>                      <a href=\"file://d:\\Users\\Ariel\\anaconda3\\Lib\\site-packages\\soccerdata\\whoscored.py\" target=\"_blank\"><span style=\"color: #7f7f7f; text-decoration-color: #7f7f7f\">whoscored.py</span></a><span style=\"color: #7f7f7f; text-decoration-color: #7f7f7f\">:</span><a href=\"file://d:\\Users\\Ariel\\anaconda3\\Lib\\site-packages\\soccerdata\\whoscored.py#327\" target=\"_blank\"><span style=\"color: #7f7f7f; text-decoration-color: #7f7f7f\">327</span></a>\n",
       "</pre>\n"
      ],
      "text/plain": [
       "\u001b[2;36m                   \u001b[0m\u001b[2;36m \u001b[0m\u001b[34mINFO    \u001b[0m Scraping game schedule for Saturday, Feb \u001b[1;36m18\u001b[0m \u001b[1;36m2023\u001b[0m                      \u001b]8;id=340326;file://d:\\Users\\Ariel\\anaconda3\\Lib\\site-packages\\soccerdata\\whoscored.py\u001b\\\u001b[2mwhoscored.py\u001b[0m\u001b]8;;\u001b\\\u001b[2m:\u001b[0m\u001b]8;id=414872;file://d:\\Users\\Ariel\\anaconda3\\Lib\\site-packages\\soccerdata\\whoscored.py#327\u001b\\\u001b[2m327\u001b[0m\u001b]8;;\u001b\\\n"
      ]
     },
     "metadata": {},
     "output_type": "display_data"
    },
    {
     "data": {
      "text/html": [
       "<pre style=\"white-space:pre;overflow-x:auto;line-height:normal;font-family:Menlo,'DejaVu Sans Mono',consolas,'Courier New',monospace\"><span style=\"color: #7fbfbf; text-decoration-color: #7fbfbf\">                    </span><span style=\"color: #000080; text-decoration-color: #000080\">INFO    </span> Scraping game schedule for Sunday, Feb <span style=\"color: #008080; text-decoration-color: #008080; font-weight: bold\">19</span> <span style=\"color: #008080; text-decoration-color: #008080; font-weight: bold\">2023</span>                        <a href=\"file://d:\\Users\\Ariel\\anaconda3\\Lib\\site-packages\\soccerdata\\whoscored.py\" target=\"_blank\"><span style=\"color: #7f7f7f; text-decoration-color: #7f7f7f\">whoscored.py</span></a><span style=\"color: #7f7f7f; text-decoration-color: #7f7f7f\">:</span><a href=\"file://d:\\Users\\Ariel\\anaconda3\\Lib\\site-packages\\soccerdata\\whoscored.py#327\" target=\"_blank\"><span style=\"color: #7f7f7f; text-decoration-color: #7f7f7f\">327</span></a>\n",
       "</pre>\n"
      ],
      "text/plain": [
       "\u001b[2;36m                   \u001b[0m\u001b[2;36m \u001b[0m\u001b[34mINFO    \u001b[0m Scraping game schedule for Sunday, Feb \u001b[1;36m19\u001b[0m \u001b[1;36m2023\u001b[0m                        \u001b]8;id=542655;file://d:\\Users\\Ariel\\anaconda3\\Lib\\site-packages\\soccerdata\\whoscored.py\u001b\\\u001b[2mwhoscored.py\u001b[0m\u001b]8;;\u001b\\\u001b[2m:\u001b[0m\u001b]8;id=708668;file://d:\\Users\\Ariel\\anaconda3\\Lib\\site-packages\\soccerdata\\whoscored.py#327\u001b\\\u001b[2m327\u001b[0m\u001b]8;;\u001b\\\n"
      ]
     },
     "metadata": {},
     "output_type": "display_data"
    },
    {
     "data": {
      "text/html": [
       "<pre style=\"white-space:pre;overflow-x:auto;line-height:normal;font-family:Menlo,'DejaVu Sans Mono',consolas,'Courier New',monospace\"><span style=\"color: #7fbfbf; text-decoration-color: #7fbfbf\">                    </span><span style=\"color: #000080; text-decoration-color: #000080\">INFO    </span> Scraping game schedule for Monday, Feb <span style=\"color: #008080; text-decoration-color: #008080; font-weight: bold\">20</span> <span style=\"color: #008080; text-decoration-color: #008080; font-weight: bold\">2023</span>                        <a href=\"file://d:\\Users\\Ariel\\anaconda3\\Lib\\site-packages\\soccerdata\\whoscored.py\" target=\"_blank\"><span style=\"color: #7f7f7f; text-decoration-color: #7f7f7f\">whoscored.py</span></a><span style=\"color: #7f7f7f; text-decoration-color: #7f7f7f\">:</span><a href=\"file://d:\\Users\\Ariel\\anaconda3\\Lib\\site-packages\\soccerdata\\whoscored.py#327\" target=\"_blank\"><span style=\"color: #7f7f7f; text-decoration-color: #7f7f7f\">327</span></a>\n",
       "</pre>\n"
      ],
      "text/plain": [
       "\u001b[2;36m                   \u001b[0m\u001b[2;36m \u001b[0m\u001b[34mINFO    \u001b[0m Scraping game schedule for Monday, Feb \u001b[1;36m20\u001b[0m \u001b[1;36m2023\u001b[0m                        \u001b]8;id=446338;file://d:\\Users\\Ariel\\anaconda3\\Lib\\site-packages\\soccerdata\\whoscored.py\u001b\\\u001b[2mwhoscored.py\u001b[0m\u001b]8;;\u001b\\\u001b[2m:\u001b[0m\u001b]8;id=844305;file://d:\\Users\\Ariel\\anaconda3\\Lib\\site-packages\\soccerdata\\whoscored.py#327\u001b\\\u001b[2m327\u001b[0m\u001b]8;;\u001b\\\n"
      ]
     },
     "metadata": {},
     "output_type": "display_data"
    },
    {
     "data": {
      "text/html": [
       "<pre style=\"white-space:pre;overflow-x:auto;line-height:normal;font-family:Menlo,'DejaVu Sans Mono',consolas,'Courier New',monospace\"><span style=\"color: #7fbfbf; text-decoration-color: #7fbfbf\">                    </span><span style=\"color: #000080; text-decoration-color: #000080\">INFO    </span> Scraping game schedule for Tuesday, Feb <span style=\"color: #008080; text-decoration-color: #008080; font-weight: bold\">21</span> <span style=\"color: #008080; text-decoration-color: #008080; font-weight: bold\">2023</span>                       <a href=\"file://d:\\Users\\Ariel\\anaconda3\\Lib\\site-packages\\soccerdata\\whoscored.py\" target=\"_blank\"><span style=\"color: #7f7f7f; text-decoration-color: #7f7f7f\">whoscored.py</span></a><span style=\"color: #7f7f7f; text-decoration-color: #7f7f7f\">:</span><a href=\"file://d:\\Users\\Ariel\\anaconda3\\Lib\\site-packages\\soccerdata\\whoscored.py#327\" target=\"_blank\"><span style=\"color: #7f7f7f; text-decoration-color: #7f7f7f\">327</span></a>\n",
       "</pre>\n"
      ],
      "text/plain": [
       "\u001b[2;36m                   \u001b[0m\u001b[2;36m \u001b[0m\u001b[34mINFO    \u001b[0m Scraping game schedule for Tuesday, Feb \u001b[1;36m21\u001b[0m \u001b[1;36m2023\u001b[0m                       \u001b]8;id=452917;file://d:\\Users\\Ariel\\anaconda3\\Lib\\site-packages\\soccerdata\\whoscored.py\u001b\\\u001b[2mwhoscored.py\u001b[0m\u001b]8;;\u001b\\\u001b[2m:\u001b[0m\u001b]8;id=175768;file://d:\\Users\\Ariel\\anaconda3\\Lib\\site-packages\\soccerdata\\whoscored.py#327\u001b\\\u001b[2m327\u001b[0m\u001b]8;;\u001b\\\n"
      ]
     },
     "metadata": {},
     "output_type": "display_data"
    },
    {
     "data": {
      "text/html": [
       "<pre style=\"white-space:pre;overflow-x:auto;line-height:normal;font-family:Menlo,'DejaVu Sans Mono',consolas,'Courier New',monospace\"><span style=\"color: #7fbfbf; text-decoration-color: #7fbfbf\">[08/02/23 13:21:33] </span><span style=\"color: #000080; text-decoration-color: #000080\">INFO    </span> Scraping game schedule for Saturday, Feb <span style=\"color: #008080; text-decoration-color: #008080; font-weight: bold\">25</span> <span style=\"color: #008080; text-decoration-color: #008080; font-weight: bold\">2023</span>                      <a href=\"file://d:\\Users\\Ariel\\anaconda3\\Lib\\site-packages\\soccerdata\\whoscored.py\" target=\"_blank\"><span style=\"color: #7f7f7f; text-decoration-color: #7f7f7f\">whoscored.py</span></a><span style=\"color: #7f7f7f; text-decoration-color: #7f7f7f\">:</span><a href=\"file://d:\\Users\\Ariel\\anaconda3\\Lib\\site-packages\\soccerdata\\whoscored.py#327\" target=\"_blank\"><span style=\"color: #7f7f7f; text-decoration-color: #7f7f7f\">327</span></a>\n",
       "</pre>\n"
      ],
      "text/plain": [
       "\u001b[2;36m[08/02/23 13:21:33]\u001b[0m\u001b[2;36m \u001b[0m\u001b[34mINFO    \u001b[0m Scraping game schedule for Saturday, Feb \u001b[1;36m25\u001b[0m \u001b[1;36m2023\u001b[0m                      \u001b]8;id=374156;file://d:\\Users\\Ariel\\anaconda3\\Lib\\site-packages\\soccerdata\\whoscored.py\u001b\\\u001b[2mwhoscored.py\u001b[0m\u001b]8;;\u001b\\\u001b[2m:\u001b[0m\u001b]8;id=510878;file://d:\\Users\\Ariel\\anaconda3\\Lib\\site-packages\\soccerdata\\whoscored.py#327\u001b\\\u001b[2m327\u001b[0m\u001b]8;;\u001b\\\n"
      ]
     },
     "metadata": {},
     "output_type": "display_data"
    },
    {
     "data": {
      "text/html": [
       "<pre style=\"white-space:pre;overflow-x:auto;line-height:normal;font-family:Menlo,'DejaVu Sans Mono',consolas,'Courier New',monospace\"><span style=\"color: #7fbfbf; text-decoration-color: #7fbfbf\">                    </span><span style=\"color: #000080; text-decoration-color: #000080\">INFO    </span> Scraping game schedule for Sunday, Feb <span style=\"color: #008080; text-decoration-color: #008080; font-weight: bold\">26</span> <span style=\"color: #008080; text-decoration-color: #008080; font-weight: bold\">2023</span>                        <a href=\"file://d:\\Users\\Ariel\\anaconda3\\Lib\\site-packages\\soccerdata\\whoscored.py\" target=\"_blank\"><span style=\"color: #7f7f7f; text-decoration-color: #7f7f7f\">whoscored.py</span></a><span style=\"color: #7f7f7f; text-decoration-color: #7f7f7f\">:</span><a href=\"file://d:\\Users\\Ariel\\anaconda3\\Lib\\site-packages\\soccerdata\\whoscored.py#327\" target=\"_blank\"><span style=\"color: #7f7f7f; text-decoration-color: #7f7f7f\">327</span></a>\n",
       "</pre>\n"
      ],
      "text/plain": [
       "\u001b[2;36m                   \u001b[0m\u001b[2;36m \u001b[0m\u001b[34mINFO    \u001b[0m Scraping game schedule for Sunday, Feb \u001b[1;36m26\u001b[0m \u001b[1;36m2023\u001b[0m                        \u001b]8;id=160116;file://d:\\Users\\Ariel\\anaconda3\\Lib\\site-packages\\soccerdata\\whoscored.py\u001b\\\u001b[2mwhoscored.py\u001b[0m\u001b]8;;\u001b\\\u001b[2m:\u001b[0m\u001b]8;id=945078;file://d:\\Users\\Ariel\\anaconda3\\Lib\\site-packages\\soccerdata\\whoscored.py#327\u001b\\\u001b[2m327\u001b[0m\u001b]8;;\u001b\\\n"
      ]
     },
     "metadata": {},
     "output_type": "display_data"
    },
    {
     "data": {
      "text/html": [
       "<pre style=\"white-space:pre;overflow-x:auto;line-height:normal;font-family:Menlo,'DejaVu Sans Mono',consolas,'Courier New',monospace\"><span style=\"color: #7fbfbf; text-decoration-color: #7fbfbf\">                    </span><span style=\"color: #000080; text-decoration-color: #000080\">INFO    </span> Scraping game schedule for Monday, Feb <span style=\"color: #008080; text-decoration-color: #008080; font-weight: bold\">27</span> <span style=\"color: #008080; text-decoration-color: #008080; font-weight: bold\">2023</span>                        <a href=\"file://d:\\Users\\Ariel\\anaconda3\\Lib\\site-packages\\soccerdata\\whoscored.py\" target=\"_blank\"><span style=\"color: #7f7f7f; text-decoration-color: #7f7f7f\">whoscored.py</span></a><span style=\"color: #7f7f7f; text-decoration-color: #7f7f7f\">:</span><a href=\"file://d:\\Users\\Ariel\\anaconda3\\Lib\\site-packages\\soccerdata\\whoscored.py#327\" target=\"_blank\"><span style=\"color: #7f7f7f; text-decoration-color: #7f7f7f\">327</span></a>\n",
       "</pre>\n"
      ],
      "text/plain": [
       "\u001b[2;36m                   \u001b[0m\u001b[2;36m \u001b[0m\u001b[34mINFO    \u001b[0m Scraping game schedule for Monday, Feb \u001b[1;36m27\u001b[0m \u001b[1;36m2023\u001b[0m                        \u001b]8;id=433084;file://d:\\Users\\Ariel\\anaconda3\\Lib\\site-packages\\soccerdata\\whoscored.py\u001b\\\u001b[2mwhoscored.py\u001b[0m\u001b]8;;\u001b\\\u001b[2m:\u001b[0m\u001b]8;id=712495;file://d:\\Users\\Ariel\\anaconda3\\Lib\\site-packages\\soccerdata\\whoscored.py#327\u001b\\\u001b[2m327\u001b[0m\u001b]8;;\u001b\\\n"
      ]
     },
     "metadata": {},
     "output_type": "display_data"
    },
    {
     "data": {
      "text/html": [
       "<pre style=\"white-space:pre;overflow-x:auto;line-height:normal;font-family:Menlo,'DejaVu Sans Mono',consolas,'Courier New',monospace\"><span style=\"color: #7fbfbf; text-decoration-color: #7fbfbf\">                    </span><span style=\"color: #000080; text-decoration-color: #000080\">INFO    </span> Scraping game schedule for Tuesday, Feb <span style=\"color: #008080; text-decoration-color: #008080; font-weight: bold\">28</span> <span style=\"color: #008080; text-decoration-color: #008080; font-weight: bold\">2023</span>                       <a href=\"file://d:\\Users\\Ariel\\anaconda3\\Lib\\site-packages\\soccerdata\\whoscored.py\" target=\"_blank\"><span style=\"color: #7f7f7f; text-decoration-color: #7f7f7f\">whoscored.py</span></a><span style=\"color: #7f7f7f; text-decoration-color: #7f7f7f\">:</span><a href=\"file://d:\\Users\\Ariel\\anaconda3\\Lib\\site-packages\\soccerdata\\whoscored.py#327\" target=\"_blank\"><span style=\"color: #7f7f7f; text-decoration-color: #7f7f7f\">327</span></a>\n",
       "</pre>\n"
      ],
      "text/plain": [
       "\u001b[2;36m                   \u001b[0m\u001b[2;36m \u001b[0m\u001b[34mINFO    \u001b[0m Scraping game schedule for Tuesday, Feb \u001b[1;36m28\u001b[0m \u001b[1;36m2023\u001b[0m                       \u001b]8;id=721069;file://d:\\Users\\Ariel\\anaconda3\\Lib\\site-packages\\soccerdata\\whoscored.py\u001b\\\u001b[2mwhoscored.py\u001b[0m\u001b]8;;\u001b\\\u001b[2m:\u001b[0m\u001b]8;id=380751;file://d:\\Users\\Ariel\\anaconda3\\Lib\\site-packages\\soccerdata\\whoscored.py#327\u001b\\\u001b[2m327\u001b[0m\u001b]8;;\u001b\\\n"
      ]
     },
     "metadata": {},
     "output_type": "display_data"
    },
    {
     "data": {
      "text/html": [
       "<pre style=\"white-space:pre;overflow-x:auto;line-height:normal;font-family:Menlo,'DejaVu Sans Mono',consolas,'Courier New',monospace\"><span style=\"color: #7fbfbf; text-decoration-color: #7fbfbf\">[08/02/23 13:21:38] </span><span style=\"color: #000080; text-decoration-color: #000080\">INFO    </span> Scraping game schedule for Friday, Jan <span style=\"color: #008080; text-decoration-color: #008080; font-weight: bold\">27</span> <span style=\"color: #008080; text-decoration-color: #008080; font-weight: bold\">2023</span>                        <a href=\"file://d:\\Users\\Ariel\\anaconda3\\Lib\\site-packages\\soccerdata\\whoscored.py\" target=\"_blank\"><span style=\"color: #7f7f7f; text-decoration-color: #7f7f7f\">whoscored.py</span></a><span style=\"color: #7f7f7f; text-decoration-color: #7f7f7f\">:</span><a href=\"file://d:\\Users\\Ariel\\anaconda3\\Lib\\site-packages\\soccerdata\\whoscored.py#327\" target=\"_blank\"><span style=\"color: #7f7f7f; text-decoration-color: #7f7f7f\">327</span></a>\n",
       "</pre>\n"
      ],
      "text/plain": [
       "\u001b[2;36m[08/02/23 13:21:38]\u001b[0m\u001b[2;36m \u001b[0m\u001b[34mINFO    \u001b[0m Scraping game schedule for Friday, Jan \u001b[1;36m27\u001b[0m \u001b[1;36m2023\u001b[0m                        \u001b]8;id=332796;file://d:\\Users\\Ariel\\anaconda3\\Lib\\site-packages\\soccerdata\\whoscored.py\u001b\\\u001b[2mwhoscored.py\u001b[0m\u001b]8;;\u001b\\\u001b[2m:\u001b[0m\u001b]8;id=478686;file://d:\\Users\\Ariel\\anaconda3\\Lib\\site-packages\\soccerdata\\whoscored.py#327\u001b\\\u001b[2m327\u001b[0m\u001b]8;;\u001b\\\n"
      ]
     },
     "metadata": {},
     "output_type": "display_data"
    },
    {
     "data": {
      "text/html": [
       "<pre style=\"white-space:pre;overflow-x:auto;line-height:normal;font-family:Menlo,'DejaVu Sans Mono',consolas,'Courier New',monospace\"><span style=\"color: #7fbfbf; text-decoration-color: #7fbfbf\">                    </span><span style=\"color: #000080; text-decoration-color: #000080\">INFO    </span> Scraping game schedule for Saturday, Jan <span style=\"color: #008080; text-decoration-color: #008080; font-weight: bold\">28</span> <span style=\"color: #008080; text-decoration-color: #008080; font-weight: bold\">2023</span>                      <a href=\"file://d:\\Users\\Ariel\\anaconda3\\Lib\\site-packages\\soccerdata\\whoscored.py\" target=\"_blank\"><span style=\"color: #7f7f7f; text-decoration-color: #7f7f7f\">whoscored.py</span></a><span style=\"color: #7f7f7f; text-decoration-color: #7f7f7f\">:</span><a href=\"file://d:\\Users\\Ariel\\anaconda3\\Lib\\site-packages\\soccerdata\\whoscored.py#327\" target=\"_blank\"><span style=\"color: #7f7f7f; text-decoration-color: #7f7f7f\">327</span></a>\n",
       "</pre>\n"
      ],
      "text/plain": [
       "\u001b[2;36m                   \u001b[0m\u001b[2;36m \u001b[0m\u001b[34mINFO    \u001b[0m Scraping game schedule for Saturday, Jan \u001b[1;36m28\u001b[0m \u001b[1;36m2023\u001b[0m                      \u001b]8;id=400435;file://d:\\Users\\Ariel\\anaconda3\\Lib\\site-packages\\soccerdata\\whoscored.py\u001b\\\u001b[2mwhoscored.py\u001b[0m\u001b]8;;\u001b\\\u001b[2m:\u001b[0m\u001b]8;id=946623;file://d:\\Users\\Ariel\\anaconda3\\Lib\\site-packages\\soccerdata\\whoscored.py#327\u001b\\\u001b[2m327\u001b[0m\u001b]8;;\u001b\\\n"
      ]
     },
     "metadata": {},
     "output_type": "display_data"
    },
    {
     "data": {
      "text/html": [
       "<pre style=\"white-space:pre;overflow-x:auto;line-height:normal;font-family:Menlo,'DejaVu Sans Mono',consolas,'Courier New',monospace\"><span style=\"color: #7fbfbf; text-decoration-color: #7fbfbf\">[08/02/23 13:21:39] </span><span style=\"color: #000080; text-decoration-color: #000080\">INFO    </span> Scraping game schedule for Sunday, Jan <span style=\"color: #008080; text-decoration-color: #008080; font-weight: bold\">29</span> <span style=\"color: #008080; text-decoration-color: #008080; font-weight: bold\">2023</span>                        <a href=\"file://d:\\Users\\Ariel\\anaconda3\\Lib\\site-packages\\soccerdata\\whoscored.py\" target=\"_blank\"><span style=\"color: #7f7f7f; text-decoration-color: #7f7f7f\">whoscored.py</span></a><span style=\"color: #7f7f7f; text-decoration-color: #7f7f7f\">:</span><a href=\"file://d:\\Users\\Ariel\\anaconda3\\Lib\\site-packages\\soccerdata\\whoscored.py#327\" target=\"_blank\"><span style=\"color: #7f7f7f; text-decoration-color: #7f7f7f\">327</span></a>\n",
       "</pre>\n"
      ],
      "text/plain": [
       "\u001b[2;36m[08/02/23 13:21:39]\u001b[0m\u001b[2;36m \u001b[0m\u001b[34mINFO    \u001b[0m Scraping game schedule for Sunday, Jan \u001b[1;36m29\u001b[0m \u001b[1;36m2023\u001b[0m                        \u001b]8;id=597602;file://d:\\Users\\Ariel\\anaconda3\\Lib\\site-packages\\soccerdata\\whoscored.py\u001b\\\u001b[2mwhoscored.py\u001b[0m\u001b]8;;\u001b\\\u001b[2m:\u001b[0m\u001b]8;id=105564;file://d:\\Users\\Ariel\\anaconda3\\Lib\\site-packages\\soccerdata\\whoscored.py#327\u001b\\\u001b[2m327\u001b[0m\u001b]8;;\u001b\\\n"
      ]
     },
     "metadata": {},
     "output_type": "display_data"
    },
    {
     "data": {
      "text/html": [
       "<pre style=\"white-space:pre;overflow-x:auto;line-height:normal;font-family:Menlo,'DejaVu Sans Mono',consolas,'Courier New',monospace\"><span style=\"color: #7fbfbf; text-decoration-color: #7fbfbf\">                    </span><span style=\"color: #000080; text-decoration-color: #000080\">INFO    </span> Scraping game schedule for Monday, Jan <span style=\"color: #008080; text-decoration-color: #008080; font-weight: bold\">30</span> <span style=\"color: #008080; text-decoration-color: #008080; font-weight: bold\">2023</span>                        <a href=\"file://d:\\Users\\Ariel\\anaconda3\\Lib\\site-packages\\soccerdata\\whoscored.py\" target=\"_blank\"><span style=\"color: #7f7f7f; text-decoration-color: #7f7f7f\">whoscored.py</span></a><span style=\"color: #7f7f7f; text-decoration-color: #7f7f7f\">:</span><a href=\"file://d:\\Users\\Ariel\\anaconda3\\Lib\\site-packages\\soccerdata\\whoscored.py#327\" target=\"_blank\"><span style=\"color: #7f7f7f; text-decoration-color: #7f7f7f\">327</span></a>\n",
       "</pre>\n"
      ],
      "text/plain": [
       "\u001b[2;36m                   \u001b[0m\u001b[2;36m \u001b[0m\u001b[34mINFO    \u001b[0m Scraping game schedule for Monday, Jan \u001b[1;36m30\u001b[0m \u001b[1;36m2023\u001b[0m                        \u001b]8;id=94005;file://d:\\Users\\Ariel\\anaconda3\\Lib\\site-packages\\soccerdata\\whoscored.py\u001b\\\u001b[2mwhoscored.py\u001b[0m\u001b]8;;\u001b\\\u001b[2m:\u001b[0m\u001b]8;id=202214;file://d:\\Users\\Ariel\\anaconda3\\Lib\\site-packages\\soccerdata\\whoscored.py#327\u001b\\\u001b[2m327\u001b[0m\u001b]8;;\u001b\\\n"
      ]
     },
     "metadata": {},
     "output_type": "display_data"
    },
    {
     "data": {
      "text/html": [
       "<pre style=\"white-space:pre;overflow-x:auto;line-height:normal;font-family:Menlo,'DejaVu Sans Mono',consolas,'Courier New',monospace\"><span style=\"color: #7fbfbf; text-decoration-color: #7fbfbf\">                    </span><span style=\"color: #000080; text-decoration-color: #000080\">INFO    </span> <span style=\"font-weight: bold\">[</span><span style=\"color: #008080; text-decoration-color: #008080; font-weight: bold\">1</span>/<span style=\"color: #008080; text-decoration-color: #008080; font-weight: bold\">1</span><span style=\"font-weight: bold\">]</span> Retrieving game with <span style=\"color: #808000; text-decoration-color: #808000\">id</span>=<span style=\"color: #008080; text-decoration-color: #008080; font-weight: bold\">1703215</span>                                 <a href=\"file://d:\\Users\\Ariel\\anaconda3\\Lib\\site-packages\\soccerdata\\whoscored.py\" target=\"_blank\"><span style=\"color: #7f7f7f; text-decoration-color: #7f7f7f\">whoscored.py</span></a><span style=\"color: #7f7f7f; text-decoration-color: #7f7f7f\">:</span><a href=\"file://d:\\Users\\Ariel\\anaconda3\\Lib\\site-packages\\soccerdata\\whoscored.py#693\" target=\"_blank\"><span style=\"color: #7f7f7f; text-decoration-color: #7f7f7f\">693</span></a>\n",
       "</pre>\n"
      ],
      "text/plain": [
       "\u001b[2;36m                   \u001b[0m\u001b[2;36m \u001b[0m\u001b[34mINFO    \u001b[0m \u001b[1m[\u001b[0m\u001b[1;36m1\u001b[0m/\u001b[1;36m1\u001b[0m\u001b[1m]\u001b[0m Retrieving game with \u001b[33mid\u001b[0m=\u001b[1;36m1703215\u001b[0m                                 \u001b]8;id=370782;file://d:\\Users\\Ariel\\anaconda3\\Lib\\site-packages\\soccerdata\\whoscored.py\u001b\\\u001b[2mwhoscored.py\u001b[0m\u001b]8;;\u001b\\\u001b[2m:\u001b[0m\u001b]8;id=48975;file://d:\\Users\\Ariel\\anaconda3\\Lib\\site-packages\\soccerdata\\whoscored.py#693\u001b\\\u001b[2m693\u001b[0m\u001b]8;;\u001b\\\n"
      ]
     },
     "metadata": {},
     "output_type": "display_data"
    }
   ],
   "source": [
    "events = ws.read_events(match_id=1703215)"
   ]
  },
  {
   "cell_type": "code",
   "execution_count": 4,
   "id": "62e68e78",
   "metadata": {},
   "outputs": [],
   "source": [
    "events.to_excel('RacingVsCtralCordoba.xlsx')"
   ]
  },
  {
   "cell_type": "markdown",
   "id": "b9d33552",
   "metadata": {},
   "source": [
    "# Exploracion del DataFrame"
   ]
  },
  {
   "cell_type": "code",
   "execution_count": 5,
   "id": "1cc8e177",
   "metadata": {
    "scrolled": true
   },
   "outputs": [
    {
     "data": {
      "text/html": [
       "<div>\n",
       "<style scoped>\n",
       "    .dataframe tbody tr th:only-of-type {\n",
       "        vertical-align: middle;\n",
       "    }\n",
       "\n",
       "    .dataframe tbody tr th {\n",
       "        vertical-align: top;\n",
       "    }\n",
       "\n",
       "    .dataframe thead th {\n",
       "        text-align: right;\n",
       "    }\n",
       "</style>\n",
       "<table border=\"1\" class=\"dataframe\">\n",
       "  <thead>\n",
       "    <tr style=\"text-align: right;\">\n",
       "      <th></th>\n",
       "      <th></th>\n",
       "      <th></th>\n",
       "      <th></th>\n",
       "      <th>game_id</th>\n",
       "      <th>period</th>\n",
       "      <th>minute</th>\n",
       "      <th>second</th>\n",
       "      <th>expanded_minute</th>\n",
       "      <th>type</th>\n",
       "      <th>outcome_type</th>\n",
       "      <th>team_id</th>\n",
       "      <th>team</th>\n",
       "      <th>player_id</th>\n",
       "      <th>...</th>\n",
       "      <th>goal_mouth_z</th>\n",
       "      <th>blocked_x</th>\n",
       "      <th>blocked_y</th>\n",
       "      <th>qualifiers</th>\n",
       "      <th>is_touch</th>\n",
       "      <th>is_shot</th>\n",
       "      <th>is_goal</th>\n",
       "      <th>card_type</th>\n",
       "      <th>related_event_id</th>\n",
       "      <th>related_player_id</th>\n",
       "    </tr>\n",
       "    <tr>\n",
       "      <th>league</th>\n",
       "      <th>season</th>\n",
       "      <th>game</th>\n",
       "      <th>id</th>\n",
       "      <th></th>\n",
       "      <th></th>\n",
       "      <th></th>\n",
       "      <th></th>\n",
       "      <th></th>\n",
       "      <th></th>\n",
       "      <th></th>\n",
       "      <th></th>\n",
       "      <th></th>\n",
       "      <th></th>\n",
       "      <th></th>\n",
       "      <th></th>\n",
       "      <th></th>\n",
       "      <th></th>\n",
       "      <th></th>\n",
       "      <th></th>\n",
       "      <th></th>\n",
       "      <th></th>\n",
       "      <th></th>\n",
       "      <th></th>\n",
       "      <th></th>\n",
       "    </tr>\n",
       "  </thead>\n",
       "  <tbody>\n",
       "    <tr>\n",
       "      <th rowspan=\"11\" valign=\"top\">ARG-Liga Profesional</th>\n",
       "      <th rowspan=\"11\" valign=\"top\">2324</th>\n",
       "      <th rowspan=\"11\" valign=\"top\">2023-07-24 Racing Club-Central Cordoba de Santiago</th>\n",
       "      <th>2570310307</th>\n",
       "      <td>1703215</td>\n",
       "      <td>PreMatch</td>\n",
       "      <td>0</td>\n",
       "      <td>0.0</td>\n",
       "      <td>0</td>\n",
       "      <td>FormationSet</td>\n",
       "      <td>Successful</td>\n",
       "      <td>890</td>\n",
       "      <td>Racing Club</td>\n",
       "      <td>NaN</td>\n",
       "      <td>...</td>\n",
       "      <td>NaN</td>\n",
       "      <td>NaN</td>\n",
       "      <td>NaN</td>\n",
       "      <td>[{'type': {'displayName': 'JerseyNumber', 'val...</td>\n",
       "      <td>False</td>\n",
       "      <td>NaN</td>\n",
       "      <td>NaN</td>\n",
       "      <td>NaN</td>\n",
       "      <td>NaN</td>\n",
       "      <td>NaN</td>\n",
       "    </tr>\n",
       "    <tr>\n",
       "      <th>2570310459</th>\n",
       "      <td>1703215</td>\n",
       "      <td>PreMatch</td>\n",
       "      <td>0</td>\n",
       "      <td>0.0</td>\n",
       "      <td>0</td>\n",
       "      <td>FormationSet</td>\n",
       "      <td>Successful</td>\n",
       "      <td>9627</td>\n",
       "      <td>Central Cordoba de Santiago</td>\n",
       "      <td>NaN</td>\n",
       "      <td>...</td>\n",
       "      <td>NaN</td>\n",
       "      <td>NaN</td>\n",
       "      <td>NaN</td>\n",
       "      <td>[{'type': {'displayName': 'InvolvedPlayers', '...</td>\n",
       "      <td>False</td>\n",
       "      <td>NaN</td>\n",
       "      <td>NaN</td>\n",
       "      <td>NaN</td>\n",
       "      <td>NaN</td>\n",
       "      <td>NaN</td>\n",
       "    </tr>\n",
       "    <tr>\n",
       "      <th>2570315465</th>\n",
       "      <td>1703215</td>\n",
       "      <td>FirstHalf</td>\n",
       "      <td>0</td>\n",
       "      <td>0.0</td>\n",
       "      <td>0</td>\n",
       "      <td>Start</td>\n",
       "      <td>Successful</td>\n",
       "      <td>890</td>\n",
       "      <td>Racing Club</td>\n",
       "      <td>NaN</td>\n",
       "      <td>...</td>\n",
       "      <td>NaN</td>\n",
       "      <td>NaN</td>\n",
       "      <td>NaN</td>\n",
       "      <td>[]</td>\n",
       "      <td>False</td>\n",
       "      <td>NaN</td>\n",
       "      <td>NaN</td>\n",
       "      <td>NaN</td>\n",
       "      <td>NaN</td>\n",
       "      <td>NaN</td>\n",
       "    </tr>\n",
       "    <tr>\n",
       "      <th>2570315467</th>\n",
       "      <td>1703215</td>\n",
       "      <td>FirstHalf</td>\n",
       "      <td>0</td>\n",
       "      <td>0.0</td>\n",
       "      <td>0</td>\n",
       "      <td>Start</td>\n",
       "      <td>Successful</td>\n",
       "      <td>9627</td>\n",
       "      <td>Central Cordoba de Santiago</td>\n",
       "      <td>NaN</td>\n",
       "      <td>...</td>\n",
       "      <td>NaN</td>\n",
       "      <td>NaN</td>\n",
       "      <td>NaN</td>\n",
       "      <td>[]</td>\n",
       "      <td>False</td>\n",
       "      <td>NaN</td>\n",
       "      <td>NaN</td>\n",
       "      <td>NaN</td>\n",
       "      <td>NaN</td>\n",
       "      <td>NaN</td>\n",
       "    </tr>\n",
       "    <tr>\n",
       "      <th>2570315475</th>\n",
       "      <td>1703215</td>\n",
       "      <td>FirstHalf</td>\n",
       "      <td>0</td>\n",
       "      <td>0.0</td>\n",
       "      <td>0</td>\n",
       "      <td>Pass</td>\n",
       "      <td>Successful</td>\n",
       "      <td>9627</td>\n",
       "      <td>Central Cordoba de Santiago</td>\n",
       "      <td>404917.0</td>\n",
       "      <td>...</td>\n",
       "      <td>NaN</td>\n",
       "      <td>NaN</td>\n",
       "      <td>NaN</td>\n",
       "      <td>[{'type': {'displayName': 'Angle', 'value': 21...</td>\n",
       "      <td>True</td>\n",
       "      <td>NaN</td>\n",
       "      <td>NaN</td>\n",
       "      <td>NaN</td>\n",
       "      <td>NaN</td>\n",
       "      <td>NaN</td>\n",
       "    </tr>\n",
       "    <tr>\n",
       "      <th>...</th>\n",
       "      <td>...</td>\n",
       "      <td>...</td>\n",
       "      <td>...</td>\n",
       "      <td>...</td>\n",
       "      <td>...</td>\n",
       "      <td>...</td>\n",
       "      <td>...</td>\n",
       "      <td>...</td>\n",
       "      <td>...</td>\n",
       "      <td>...</td>\n",
       "      <td>...</td>\n",
       "      <td>...</td>\n",
       "      <td>...</td>\n",
       "      <td>...</td>\n",
       "      <td>...</td>\n",
       "      <td>...</td>\n",
       "      <td>...</td>\n",
       "      <td>...</td>\n",
       "      <td>...</td>\n",
       "      <td>...</td>\n",
       "      <td>...</td>\n",
       "    </tr>\n",
       "    <tr>\n",
       "      <th>2570331803</th>\n",
       "      <td>1703215</td>\n",
       "      <td>PostGame</td>\n",
       "      <td>0</td>\n",
       "      <td>0.0</td>\n",
       "      <td>6</td>\n",
       "      <td>End</td>\n",
       "      <td>Successful</td>\n",
       "      <td>890</td>\n",
       "      <td>Racing Club</td>\n",
       "      <td>NaN</td>\n",
       "      <td>...</td>\n",
       "      <td>NaN</td>\n",
       "      <td>NaN</td>\n",
       "      <td>NaN</td>\n",
       "      <td>[]</td>\n",
       "      <td>False</td>\n",
       "      <td>NaN</td>\n",
       "      <td>NaN</td>\n",
       "      <td>NaN</td>\n",
       "      <td>NaN</td>\n",
       "      <td>NaN</td>\n",
       "    </tr>\n",
       "    <tr>\n",
       "      <th>2570331813</th>\n",
       "      <td>1703215</td>\n",
       "      <td>PostGame</td>\n",
       "      <td>0</td>\n",
       "      <td>0.0</td>\n",
       "      <td>6</td>\n",
       "      <td>End</td>\n",
       "      <td>Successful</td>\n",
       "      <td>9627</td>\n",
       "      <td>Central Cordoba de Santiago</td>\n",
       "      <td>NaN</td>\n",
       "      <td>...</td>\n",
       "      <td>NaN</td>\n",
       "      <td>NaN</td>\n",
       "      <td>NaN</td>\n",
       "      <td>[]</td>\n",
       "      <td>False</td>\n",
       "      <td>NaN</td>\n",
       "      <td>NaN</td>\n",
       "      <td>NaN</td>\n",
       "      <td>NaN</td>\n",
       "      <td>NaN</td>\n",
       "    </tr>\n",
       "    <tr>\n",
       "      <th>2570338431</th>\n",
       "      <td>1703215</td>\n",
       "      <td>SecondHalf</td>\n",
       "      <td>59</td>\n",
       "      <td>NaN</td>\n",
       "      <td>61</td>\n",
       "      <td>OffsideGiven</td>\n",
       "      <td>Unsuccessful</td>\n",
       "      <td>9627</td>\n",
       "      <td>Central Cordoba de Santiago</td>\n",
       "      <td>303650.0</td>\n",
       "      <td>...</td>\n",
       "      <td>NaN</td>\n",
       "      <td>NaN</td>\n",
       "      <td>NaN</td>\n",
       "      <td>[]</td>\n",
       "      <td>False</td>\n",
       "      <td>NaN</td>\n",
       "      <td>NaN</td>\n",
       "      <td>NaN</td>\n",
       "      <td>NaN</td>\n",
       "      <td>NaN</td>\n",
       "    </tr>\n",
       "    <tr>\n",
       "      <th>2570339567</th>\n",
       "      <td>1703215</td>\n",
       "      <td>SecondHalf</td>\n",
       "      <td>68</td>\n",
       "      <td>NaN</td>\n",
       "      <td>70</td>\n",
       "      <td>OffsideGiven</td>\n",
       "      <td>Unsuccessful</td>\n",
       "      <td>9627</td>\n",
       "      <td>Central Cordoba de Santiago</td>\n",
       "      <td>437010.0</td>\n",
       "      <td>...</td>\n",
       "      <td>NaN</td>\n",
       "      <td>NaN</td>\n",
       "      <td>NaN</td>\n",
       "      <td>[]</td>\n",
       "      <td>False</td>\n",
       "      <td>NaN</td>\n",
       "      <td>NaN</td>\n",
       "      <td>NaN</td>\n",
       "      <td>NaN</td>\n",
       "      <td>NaN</td>\n",
       "    </tr>\n",
       "    <tr>\n",
       "      <th>2570342407</th>\n",
       "      <td>1703215</td>\n",
       "      <td>SecondHalf</td>\n",
       "      <td>89</td>\n",
       "      <td>NaN</td>\n",
       "      <td>91</td>\n",
       "      <td>OffsideGiven</td>\n",
       "      <td>Unsuccessful</td>\n",
       "      <td>9627</td>\n",
       "      <td>Central Cordoba de Santiago</td>\n",
       "      <td>316650.0</td>\n",
       "      <td>...</td>\n",
       "      <td>NaN</td>\n",
       "      <td>NaN</td>\n",
       "      <td>NaN</td>\n",
       "      <td>[]</td>\n",
       "      <td>False</td>\n",
       "      <td>NaN</td>\n",
       "      <td>NaN</td>\n",
       "      <td>NaN</td>\n",
       "      <td>NaN</td>\n",
       "      <td>NaN</td>\n",
       "    </tr>\n",
       "  </tbody>\n",
       "</table>\n",
       "<p>1446 rows × 26 columns</p>\n",
       "</div>"
      ],
      "text/plain": [
       "                                                                                           game_id  \\\n",
       "league               season game                                               id                    \n",
       "ARG-Liga Profesional 2324   2023-07-24 Racing Club-Central Cordoba de Santiago 2570310307  1703215   \n",
       "                                                                               2570310459  1703215   \n",
       "                                                                               2570315465  1703215   \n",
       "                                                                               2570315467  1703215   \n",
       "                                                                               2570315475  1703215   \n",
       "...                                                                                            ...   \n",
       "                                                                               2570331803  1703215   \n",
       "                                                                               2570331813  1703215   \n",
       "                                                                               2570338431  1703215   \n",
       "                                                                               2570339567  1703215   \n",
       "                                                                               2570342407  1703215   \n",
       "\n",
       "                                                                                               period  \\\n",
       "league               season game                                               id                       \n",
       "ARG-Liga Profesional 2324   2023-07-24 Racing Club-Central Cordoba de Santiago 2570310307    PreMatch   \n",
       "                                                                               2570310459    PreMatch   \n",
       "                                                                               2570315465   FirstHalf   \n",
       "                                                                               2570315467   FirstHalf   \n",
       "                                                                               2570315475   FirstHalf   \n",
       "...                                                                                               ...   \n",
       "                                                                               2570331803    PostGame   \n",
       "                                                                               2570331813    PostGame   \n",
       "                                                                               2570338431  SecondHalf   \n",
       "                                                                               2570339567  SecondHalf   \n",
       "                                                                               2570342407  SecondHalf   \n",
       "\n",
       "                                                                                           minute  \\\n",
       "league               season game                                               id                   \n",
       "ARG-Liga Profesional 2324   2023-07-24 Racing Club-Central Cordoba de Santiago 2570310307       0   \n",
       "                                                                               2570310459       0   \n",
       "                                                                               2570315465       0   \n",
       "                                                                               2570315467       0   \n",
       "                                                                               2570315475       0   \n",
       "...                                                                                           ...   \n",
       "                                                                               2570331803       0   \n",
       "                                                                               2570331813       0   \n",
       "                                                                               2570338431      59   \n",
       "                                                                               2570339567      68   \n",
       "                                                                               2570342407      89   \n",
       "\n",
       "                                                                                           second  \\\n",
       "league               season game                                               id                   \n",
       "ARG-Liga Profesional 2324   2023-07-24 Racing Club-Central Cordoba de Santiago 2570310307     0.0   \n",
       "                                                                               2570310459     0.0   \n",
       "                                                                               2570315465     0.0   \n",
       "                                                                               2570315467     0.0   \n",
       "                                                                               2570315475     0.0   \n",
       "...                                                                                           ...   \n",
       "                                                                               2570331803     0.0   \n",
       "                                                                               2570331813     0.0   \n",
       "                                                                               2570338431     NaN   \n",
       "                                                                               2570339567     NaN   \n",
       "                                                                               2570342407     NaN   \n",
       "\n",
       "                                                                                           expanded_minute  \\\n",
       "league               season game                                               id                            \n",
       "ARG-Liga Profesional 2324   2023-07-24 Racing Club-Central Cordoba de Santiago 2570310307                0   \n",
       "                                                                               2570310459                0   \n",
       "                                                                               2570315465                0   \n",
       "                                                                               2570315467                0   \n",
       "                                                                               2570315475                0   \n",
       "...                                                                                                    ...   \n",
       "                                                                               2570331803                6   \n",
       "                                                                               2570331813                6   \n",
       "                                                                               2570338431               61   \n",
       "                                                                               2570339567               70   \n",
       "                                                                               2570342407               91   \n",
       "\n",
       "                                                                                                   type  \\\n",
       "league               season game                                               id                         \n",
       "ARG-Liga Profesional 2324   2023-07-24 Racing Club-Central Cordoba de Santiago 2570310307  FormationSet   \n",
       "                                                                               2570310459  FormationSet   \n",
       "                                                                               2570315465         Start   \n",
       "                                                                               2570315467         Start   \n",
       "                                                                               2570315475          Pass   \n",
       "...                                                                                                 ...   \n",
       "                                                                               2570331803           End   \n",
       "                                                                               2570331813           End   \n",
       "                                                                               2570338431  OffsideGiven   \n",
       "                                                                               2570339567  OffsideGiven   \n",
       "                                                                               2570342407  OffsideGiven   \n",
       "\n",
       "                                                                                           outcome_type  \\\n",
       "league               season game                                               id                         \n",
       "ARG-Liga Profesional 2324   2023-07-24 Racing Club-Central Cordoba de Santiago 2570310307    Successful   \n",
       "                                                                               2570310459    Successful   \n",
       "                                                                               2570315465    Successful   \n",
       "                                                                               2570315467    Successful   \n",
       "                                                                               2570315475    Successful   \n",
       "...                                                                                                 ...   \n",
       "                                                                               2570331803    Successful   \n",
       "                                                                               2570331813    Successful   \n",
       "                                                                               2570338431  Unsuccessful   \n",
       "                                                                               2570339567  Unsuccessful   \n",
       "                                                                               2570342407  Unsuccessful   \n",
       "\n",
       "                                                                                           team_id  \\\n",
       "league               season game                                               id                    \n",
       "ARG-Liga Profesional 2324   2023-07-24 Racing Club-Central Cordoba de Santiago 2570310307      890   \n",
       "                                                                               2570310459     9627   \n",
       "                                                                               2570315465      890   \n",
       "                                                                               2570315467     9627   \n",
       "                                                                               2570315475     9627   \n",
       "...                                                                                            ...   \n",
       "                                                                               2570331803      890   \n",
       "                                                                               2570331813     9627   \n",
       "                                                                               2570338431     9627   \n",
       "                                                                               2570339567     9627   \n",
       "                                                                               2570342407     9627   \n",
       "\n",
       "                                                                                                                  team  \\\n",
       "league               season game                                               id                                        \n",
       "ARG-Liga Profesional 2324   2023-07-24 Racing Club-Central Cordoba de Santiago 2570310307                  Racing Club   \n",
       "                                                                               2570310459  Central Cordoba de Santiago   \n",
       "                                                                               2570315465                  Racing Club   \n",
       "                                                                               2570315467  Central Cordoba de Santiago   \n",
       "                                                                               2570315475  Central Cordoba de Santiago   \n",
       "...                                                                                                                ...   \n",
       "                                                                               2570331803                  Racing Club   \n",
       "                                                                               2570331813  Central Cordoba de Santiago   \n",
       "                                                                               2570338431  Central Cordoba de Santiago   \n",
       "                                                                               2570339567  Central Cordoba de Santiago   \n",
       "                                                                               2570342407  Central Cordoba de Santiago   \n",
       "\n",
       "                                                                                           player_id  \\\n",
       "league               season game                                               id                      \n",
       "ARG-Liga Profesional 2324   2023-07-24 Racing Club-Central Cordoba de Santiago 2570310307        NaN   \n",
       "                                                                               2570310459        NaN   \n",
       "                                                                               2570315465        NaN   \n",
       "                                                                               2570315467        NaN   \n",
       "                                                                               2570315475   404917.0   \n",
       "...                                                                                              ...   \n",
       "                                                                               2570331803        NaN   \n",
       "                                                                               2570331813        NaN   \n",
       "                                                                               2570338431   303650.0   \n",
       "                                                                               2570339567   437010.0   \n",
       "                                                                               2570342407   316650.0   \n",
       "\n",
       "                                                                                           ...  \\\n",
       "league               season game                                               id          ...   \n",
       "ARG-Liga Profesional 2324   2023-07-24 Racing Club-Central Cordoba de Santiago 2570310307  ...   \n",
       "                                                                               2570310459  ...   \n",
       "                                                                               2570315465  ...   \n",
       "                                                                               2570315467  ...   \n",
       "                                                                               2570315475  ...   \n",
       "...                                                                                        ...   \n",
       "                                                                               2570331803  ...   \n",
       "                                                                               2570331813  ...   \n",
       "                                                                               2570338431  ...   \n",
       "                                                                               2570339567  ...   \n",
       "                                                                               2570342407  ...   \n",
       "\n",
       "                                                                                          goal_mouth_z  \\\n",
       "league               season game                                               id                        \n",
       "ARG-Liga Profesional 2324   2023-07-24 Racing Club-Central Cordoba de Santiago 2570310307          NaN   \n",
       "                                                                               2570310459          NaN   \n",
       "                                                                               2570315465          NaN   \n",
       "                                                                               2570315467          NaN   \n",
       "                                                                               2570315475          NaN   \n",
       "...                                                                                                ...   \n",
       "                                                                               2570331803          NaN   \n",
       "                                                                               2570331813          NaN   \n",
       "                                                                               2570338431          NaN   \n",
       "                                                                               2570339567          NaN   \n",
       "                                                                               2570342407          NaN   \n",
       "\n",
       "                                                                                           blocked_x  \\\n",
       "league               season game                                               id                      \n",
       "ARG-Liga Profesional 2324   2023-07-24 Racing Club-Central Cordoba de Santiago 2570310307        NaN   \n",
       "                                                                               2570310459        NaN   \n",
       "                                                                               2570315465        NaN   \n",
       "                                                                               2570315467        NaN   \n",
       "                                                                               2570315475        NaN   \n",
       "...                                                                                              ...   \n",
       "                                                                               2570331803        NaN   \n",
       "                                                                               2570331813        NaN   \n",
       "                                                                               2570338431        NaN   \n",
       "                                                                               2570339567        NaN   \n",
       "                                                                               2570342407        NaN   \n",
       "\n",
       "                                                                                           blocked_y  \\\n",
       "league               season game                                               id                      \n",
       "ARG-Liga Profesional 2324   2023-07-24 Racing Club-Central Cordoba de Santiago 2570310307        NaN   \n",
       "                                                                               2570310459        NaN   \n",
       "                                                                               2570315465        NaN   \n",
       "                                                                               2570315467        NaN   \n",
       "                                                                               2570315475        NaN   \n",
       "...                                                                                              ...   \n",
       "                                                                               2570331803        NaN   \n",
       "                                                                               2570331813        NaN   \n",
       "                                                                               2570338431        NaN   \n",
       "                                                                               2570339567        NaN   \n",
       "                                                                               2570342407        NaN   \n",
       "\n",
       "                                                                                                                                  qualifiers  \\\n",
       "league               season game                                               id                                                              \n",
       "ARG-Liga Profesional 2324   2023-07-24 Racing Club-Central Cordoba de Santiago 2570310307  [{'type': {'displayName': 'JerseyNumber', 'val...   \n",
       "                                                                               2570310459  [{'type': {'displayName': 'InvolvedPlayers', '...   \n",
       "                                                                               2570315465                                                 []   \n",
       "                                                                               2570315467                                                 []   \n",
       "                                                                               2570315475  [{'type': {'displayName': 'Angle', 'value': 21...   \n",
       "...                                                                                                                                      ...   \n",
       "                                                                               2570331803                                                 []   \n",
       "                                                                               2570331813                                                 []   \n",
       "                                                                               2570338431                                                 []   \n",
       "                                                                               2570339567                                                 []   \n",
       "                                                                               2570342407                                                 []   \n",
       "\n",
       "                                                                                           is_touch  \\\n",
       "league               season game                                               id                     \n",
       "ARG-Liga Profesional 2324   2023-07-24 Racing Club-Central Cordoba de Santiago 2570310307     False   \n",
       "                                                                               2570310459     False   \n",
       "                                                                               2570315465     False   \n",
       "                                                                               2570315467     False   \n",
       "                                                                               2570315475      True   \n",
       "...                                                                                             ...   \n",
       "                                                                               2570331803     False   \n",
       "                                                                               2570331813     False   \n",
       "                                                                               2570338431     False   \n",
       "                                                                               2570339567     False   \n",
       "                                                                               2570342407     False   \n",
       "\n",
       "                                                                                           is_shot  \\\n",
       "league               season game                                               id                    \n",
       "ARG-Liga Profesional 2324   2023-07-24 Racing Club-Central Cordoba de Santiago 2570310307      NaN   \n",
       "                                                                               2570310459      NaN   \n",
       "                                                                               2570315465      NaN   \n",
       "                                                                               2570315467      NaN   \n",
       "                                                                               2570315475      NaN   \n",
       "...                                                                                            ...   \n",
       "                                                                               2570331803      NaN   \n",
       "                                                                               2570331813      NaN   \n",
       "                                                                               2570338431      NaN   \n",
       "                                                                               2570339567      NaN   \n",
       "                                                                               2570342407      NaN   \n",
       "\n",
       "                                                                                           is_goal  \\\n",
       "league               season game                                               id                    \n",
       "ARG-Liga Profesional 2324   2023-07-24 Racing Club-Central Cordoba de Santiago 2570310307      NaN   \n",
       "                                                                               2570310459      NaN   \n",
       "                                                                               2570315465      NaN   \n",
       "                                                                               2570315467      NaN   \n",
       "                                                                               2570315475      NaN   \n",
       "...                                                                                            ...   \n",
       "                                                                               2570331803      NaN   \n",
       "                                                                               2570331813      NaN   \n",
       "                                                                               2570338431      NaN   \n",
       "                                                                               2570339567      NaN   \n",
       "                                                                               2570342407      NaN   \n",
       "\n",
       "                                                                                           card_type  \\\n",
       "league               season game                                               id                      \n",
       "ARG-Liga Profesional 2324   2023-07-24 Racing Club-Central Cordoba de Santiago 2570310307        NaN   \n",
       "                                                                               2570310459        NaN   \n",
       "                                                                               2570315465        NaN   \n",
       "                                                                               2570315467        NaN   \n",
       "                                                                               2570315475        NaN   \n",
       "...                                                                                              ...   \n",
       "                                                                               2570331803        NaN   \n",
       "                                                                               2570331813        NaN   \n",
       "                                                                               2570338431        NaN   \n",
       "                                                                               2570339567        NaN   \n",
       "                                                                               2570342407        NaN   \n",
       "\n",
       "                                                                                           related_event_id  \\\n",
       "league               season game                                               id                             \n",
       "ARG-Liga Profesional 2324   2023-07-24 Racing Club-Central Cordoba de Santiago 2570310307               NaN   \n",
       "                                                                               2570310459               NaN   \n",
       "                                                                               2570315465               NaN   \n",
       "                                                                               2570315467               NaN   \n",
       "                                                                               2570315475               NaN   \n",
       "...                                                                                                     ...   \n",
       "                                                                               2570331803               NaN   \n",
       "                                                                               2570331813               NaN   \n",
       "                                                                               2570338431               NaN   \n",
       "                                                                               2570339567               NaN   \n",
       "                                                                               2570342407               NaN   \n",
       "\n",
       "                                                                                          related_player_id  \n",
       "league               season game                                               id                            \n",
       "ARG-Liga Profesional 2324   2023-07-24 Racing Club-Central Cordoba de Santiago 2570310307               NaN  \n",
       "                                                                               2570310459               NaN  \n",
       "                                                                               2570315465               NaN  \n",
       "                                                                               2570315467               NaN  \n",
       "                                                                               2570315475               NaN  \n",
       "...                                                                                                     ...  \n",
       "                                                                               2570331803               NaN  \n",
       "                                                                               2570331813               NaN  \n",
       "                                                                               2570338431               NaN  \n",
       "                                                                               2570339567               NaN  \n",
       "                                                                               2570342407               NaN  \n",
       "\n",
       "[1446 rows x 26 columns]"
      ]
     },
     "execution_count": 5,
     "metadata": {},
     "output_type": "execute_result"
    }
   ],
   "source": [
    "events"
   ]
  },
  {
   "cell_type": "code",
   "execution_count": 6,
   "id": "1d63ffe2",
   "metadata": {},
   "outputs": [
    {
     "data": {
      "text/plain": [
       "array([nan, 'Lucas Besozzi', 'Leandro Maciel', 'Brian Farioli',\n",
       "       'Jonatan Gómez', 'Gustavo Canto', 'Tomás Avilés', 'Gabriel Hauche',\n",
       "       'Brian Blasi', 'Mauro Pittón', 'Gonzalo Piovi', 'Matías Mansilla',\n",
       "       'Nicolás Oroz', 'Juan Nardoni', 'Tobías Rubio', 'Lucas Gamba',\n",
       "       'Ciro Rius', 'Gabriel Arias', 'Santiago Quirós', 'José Goméz',\n",
       "       'Fabio Pereyra', 'Leonardo Sigali', 'Agustín Ojeda', 'Iván Pillud',\n",
       "       'Ramón Cansinos', 'Enzo Kalinski', 'Tomás Pérez',\n",
       "       'Baltasar Rodríguez', 'Santino Vera', 'Federico Jourdan',\n",
       "       'Maximiliano Moralez', 'Nicolás Leguizamón'], dtype=object)"
      ]
     },
     "execution_count": 6,
     "metadata": {},
     "output_type": "execute_result"
    }
   ],
   "source": [
    "events['player'].unique()"
   ]
  },
  {
   "cell_type": "markdown",
   "id": "f3879874",
   "metadata": {},
   "source": [
    "### Analizamos a Juan Nardoni"
   ]
  },
  {
   "cell_type": "code",
   "execution_count": 7,
   "id": "c8a4033a",
   "metadata": {},
   "outputs": [],
   "source": [
    "#Filtramos por el jugador a analizar.\n",
    "JN = events[events['player'] == 'Juan Nardoni']"
   ]
  },
  {
   "cell_type": "code",
   "execution_count": 8,
   "id": "82efe9a0",
   "metadata": {},
   "outputs": [
    {
     "data": {
      "text/html": [
       "<div>\n",
       "<style scoped>\n",
       "    .dataframe tbody tr th:only-of-type {\n",
       "        vertical-align: middle;\n",
       "    }\n",
       "\n",
       "    .dataframe tbody tr th {\n",
       "        vertical-align: top;\n",
       "    }\n",
       "\n",
       "    .dataframe thead th {\n",
       "        text-align: right;\n",
       "    }\n",
       "</style>\n",
       "<table border=\"1\" class=\"dataframe\">\n",
       "  <thead>\n",
       "    <tr style=\"text-align: right;\">\n",
       "      <th></th>\n",
       "      <th></th>\n",
       "      <th></th>\n",
       "      <th></th>\n",
       "      <th>game_id</th>\n",
       "      <th>period</th>\n",
       "      <th>minute</th>\n",
       "      <th>second</th>\n",
       "      <th>expanded_minute</th>\n",
       "      <th>type</th>\n",
       "      <th>outcome_type</th>\n",
       "      <th>team_id</th>\n",
       "      <th>team</th>\n",
       "      <th>player_id</th>\n",
       "      <th>...</th>\n",
       "      <th>goal_mouth_z</th>\n",
       "      <th>blocked_x</th>\n",
       "      <th>blocked_y</th>\n",
       "      <th>qualifiers</th>\n",
       "      <th>is_touch</th>\n",
       "      <th>is_shot</th>\n",
       "      <th>is_goal</th>\n",
       "      <th>card_type</th>\n",
       "      <th>related_event_id</th>\n",
       "      <th>related_player_id</th>\n",
       "    </tr>\n",
       "    <tr>\n",
       "      <th>league</th>\n",
       "      <th>season</th>\n",
       "      <th>game</th>\n",
       "      <th>id</th>\n",
       "      <th></th>\n",
       "      <th></th>\n",
       "      <th></th>\n",
       "      <th></th>\n",
       "      <th></th>\n",
       "      <th></th>\n",
       "      <th></th>\n",
       "      <th></th>\n",
       "      <th></th>\n",
       "      <th></th>\n",
       "      <th></th>\n",
       "      <th></th>\n",
       "      <th></th>\n",
       "      <th></th>\n",
       "      <th></th>\n",
       "      <th></th>\n",
       "      <th></th>\n",
       "      <th></th>\n",
       "      <th></th>\n",
       "      <th></th>\n",
       "      <th></th>\n",
       "    </tr>\n",
       "  </thead>\n",
       "  <tbody>\n",
       "    <tr>\n",
       "      <th rowspan=\"49\" valign=\"top\">ARG-Liga Profesional</th>\n",
       "      <th rowspan=\"49\" valign=\"top\">2324</th>\n",
       "      <th rowspan=\"49\" valign=\"top\">2023-07-24 Racing Club-Central Cordoba de Santiago</th>\n",
       "      <th>2570315671</th>\n",
       "      <td>1703215</td>\n",
       "      <td>FirstHalf</td>\n",
       "      <td>1</td>\n",
       "      <td>11.0</td>\n",
       "      <td>1</td>\n",
       "      <td>Pass</td>\n",
       "      <td>Successful</td>\n",
       "      <td>890</td>\n",
       "      <td>Racing Club</td>\n",
       "      <td>382565.0</td>\n",
       "      <td>...</td>\n",
       "      <td>NaN</td>\n",
       "      <td>NaN</td>\n",
       "      <td>NaN</td>\n",
       "      <td>[{'type': {'displayName': 'Chipped', 'value': ...</td>\n",
       "      <td>True</td>\n",
       "      <td>NaN</td>\n",
       "      <td>NaN</td>\n",
       "      <td>NaN</td>\n",
       "      <td>NaN</td>\n",
       "      <td>NaN</td>\n",
       "    </tr>\n",
       "    <tr>\n",
       "      <th>2570315751</th>\n",
       "      <td>1703215</td>\n",
       "      <td>FirstHalf</td>\n",
       "      <td>1</td>\n",
       "      <td>37.0</td>\n",
       "      <td>1</td>\n",
       "      <td>BlockedPass</td>\n",
       "      <td>Successful</td>\n",
       "      <td>890</td>\n",
       "      <td>Racing Club</td>\n",
       "      <td>382565.0</td>\n",
       "      <td>...</td>\n",
       "      <td>NaN</td>\n",
       "      <td>NaN</td>\n",
       "      <td>NaN</td>\n",
       "      <td>[{'type': {'displayName': 'OppositeRelatedEven...</td>\n",
       "      <td>True</td>\n",
       "      <td>NaN</td>\n",
       "      <td>NaN</td>\n",
       "      <td>NaN</td>\n",
       "      <td>NaN</td>\n",
       "      <td>NaN</td>\n",
       "    </tr>\n",
       "    <tr>\n",
       "      <th>2570315827</th>\n",
       "      <td>1703215</td>\n",
       "      <td>FirstHalf</td>\n",
       "      <td>2</td>\n",
       "      <td>8.0</td>\n",
       "      <td>2</td>\n",
       "      <td>BallRecovery</td>\n",
       "      <td>Successful</td>\n",
       "      <td>890</td>\n",
       "      <td>Racing Club</td>\n",
       "      <td>382565.0</td>\n",
       "      <td>...</td>\n",
       "      <td>NaN</td>\n",
       "      <td>NaN</td>\n",
       "      <td>NaN</td>\n",
       "      <td>[]</td>\n",
       "      <td>False</td>\n",
       "      <td>NaN</td>\n",
       "      <td>NaN</td>\n",
       "      <td>NaN</td>\n",
       "      <td>NaN</td>\n",
       "      <td>NaN</td>\n",
       "    </tr>\n",
       "    <tr>\n",
       "      <th>2570315829</th>\n",
       "      <td>1703215</td>\n",
       "      <td>FirstHalf</td>\n",
       "      <td>2</td>\n",
       "      <td>8.0</td>\n",
       "      <td>2</td>\n",
       "      <td>Pass</td>\n",
       "      <td>Successful</td>\n",
       "      <td>890</td>\n",
       "      <td>Racing Club</td>\n",
       "      <td>382565.0</td>\n",
       "      <td>...</td>\n",
       "      <td>NaN</td>\n",
       "      <td>NaN</td>\n",
       "      <td>NaN</td>\n",
       "      <td>[{'type': {'displayName': 'Zone', 'value': 56}...</td>\n",
       "      <td>True</td>\n",
       "      <td>NaN</td>\n",
       "      <td>NaN</td>\n",
       "      <td>NaN</td>\n",
       "      <td>NaN</td>\n",
       "      <td>NaN</td>\n",
       "    </tr>\n",
       "    <tr>\n",
       "      <th>2570316119</th>\n",
       "      <td>1703215</td>\n",
       "      <td>FirstHalf</td>\n",
       "      <td>3</td>\n",
       "      <td>30.0</td>\n",
       "      <td>3</td>\n",
       "      <td>Aerial</td>\n",
       "      <td>Unsuccessful</td>\n",
       "      <td>890</td>\n",
       "      <td>Racing Club</td>\n",
       "      <td>382565.0</td>\n",
       "      <td>...</td>\n",
       "      <td>NaN</td>\n",
       "      <td>NaN</td>\n",
       "      <td>NaN</td>\n",
       "      <td>[{'type': {'displayName': 'Defensive', 'value'...</td>\n",
       "      <td>False</td>\n",
       "      <td>NaN</td>\n",
       "      <td>NaN</td>\n",
       "      <td>NaN</td>\n",
       "      <td>NaN</td>\n",
       "      <td>NaN</td>\n",
       "    </tr>\n",
       "    <tr>\n",
       "      <th>2570316251</th>\n",
       "      <td>1703215</td>\n",
       "      <td>FirstHalf</td>\n",
       "      <td>4</td>\n",
       "      <td>29.0</td>\n",
       "      <td>4</td>\n",
       "      <td>Pass</td>\n",
       "      <td>Successful</td>\n",
       "      <td>890</td>\n",
       "      <td>Racing Club</td>\n",
       "      <td>382565.0</td>\n",
       "      <td>...</td>\n",
       "      <td>NaN</td>\n",
       "      <td>NaN</td>\n",
       "      <td>NaN</td>\n",
       "      <td>[{'type': {'displayName': 'PassEndX', 'value':...</td>\n",
       "      <td>True</td>\n",
       "      <td>NaN</td>\n",
       "      <td>NaN</td>\n",
       "      <td>NaN</td>\n",
       "      <td>NaN</td>\n",
       "      <td>NaN</td>\n",
       "    </tr>\n",
       "    <tr>\n",
       "      <th>2570316347</th>\n",
       "      <td>1703215</td>\n",
       "      <td>FirstHalf</td>\n",
       "      <td>4</td>\n",
       "      <td>59.0</td>\n",
       "      <td>4</td>\n",
       "      <td>Pass</td>\n",
       "      <td>Successful</td>\n",
       "      <td>890</td>\n",
       "      <td>Racing Club</td>\n",
       "      <td>382565.0</td>\n",
       "      <td>...</td>\n",
       "      <td>NaN</td>\n",
       "      <td>NaN</td>\n",
       "      <td>NaN</td>\n",
       "      <td>[{'type': {'displayName': 'PassEndY', 'value':...</td>\n",
       "      <td>True</td>\n",
       "      <td>NaN</td>\n",
       "      <td>NaN</td>\n",
       "      <td>NaN</td>\n",
       "      <td>NaN</td>\n",
       "      <td>NaN</td>\n",
       "    </tr>\n",
       "    <tr>\n",
       "      <th>2570316371</th>\n",
       "      <td>1703215</td>\n",
       "      <td>FirstHalf</td>\n",
       "      <td>5</td>\n",
       "      <td>4.0</td>\n",
       "      <td>5</td>\n",
       "      <td>Pass</td>\n",
       "      <td>Successful</td>\n",
       "      <td>890</td>\n",
       "      <td>Racing Club</td>\n",
       "      <td>382565.0</td>\n",
       "      <td>...</td>\n",
       "      <td>NaN</td>\n",
       "      <td>NaN</td>\n",
       "      <td>NaN</td>\n",
       "      <td>[{'type': {'displayName': 'Zone', 'value': 56}...</td>\n",
       "      <td>True</td>\n",
       "      <td>NaN</td>\n",
       "      <td>NaN</td>\n",
       "      <td>NaN</td>\n",
       "      <td>NaN</td>\n",
       "      <td>NaN</td>\n",
       "    </tr>\n",
       "    <tr>\n",
       "      <th>2570316901</th>\n",
       "      <td>1703215</td>\n",
       "      <td>FirstHalf</td>\n",
       "      <td>8</td>\n",
       "      <td>25.0</td>\n",
       "      <td>8</td>\n",
       "      <td>BallRecovery</td>\n",
       "      <td>Successful</td>\n",
       "      <td>890</td>\n",
       "      <td>Racing Club</td>\n",
       "      <td>382565.0</td>\n",
       "      <td>...</td>\n",
       "      <td>NaN</td>\n",
       "      <td>NaN</td>\n",
       "      <td>NaN</td>\n",
       "      <td>[]</td>\n",
       "      <td>False</td>\n",
       "      <td>NaN</td>\n",
       "      <td>NaN</td>\n",
       "      <td>NaN</td>\n",
       "      <td>NaN</td>\n",
       "      <td>NaN</td>\n",
       "    </tr>\n",
       "    <tr>\n",
       "      <th>2570316909</th>\n",
       "      <td>1703215</td>\n",
       "      <td>FirstHalf</td>\n",
       "      <td>8</td>\n",
       "      <td>29.0</td>\n",
       "      <td>8</td>\n",
       "      <td>Pass</td>\n",
       "      <td>Successful</td>\n",
       "      <td>890</td>\n",
       "      <td>Racing Club</td>\n",
       "      <td>382565.0</td>\n",
       "      <td>...</td>\n",
       "      <td>NaN</td>\n",
       "      <td>NaN</td>\n",
       "      <td>NaN</td>\n",
       "      <td>[{'type': {'displayName': 'Angle', 'value': 21...</td>\n",
       "      <td>True</td>\n",
       "      <td>NaN</td>\n",
       "      <td>NaN</td>\n",
       "      <td>NaN</td>\n",
       "      <td>NaN</td>\n",
       "      <td>NaN</td>\n",
       "    </tr>\n",
       "    <tr>\n",
       "      <th>2570317003</th>\n",
       "      <td>1703215</td>\n",
       "      <td>FirstHalf</td>\n",
       "      <td>9</td>\n",
       "      <td>15.0</td>\n",
       "      <td>9</td>\n",
       "      <td>Aerial</td>\n",
       "      <td>Successful</td>\n",
       "      <td>890</td>\n",
       "      <td>Racing Club</td>\n",
       "      <td>382565.0</td>\n",
       "      <td>...</td>\n",
       "      <td>NaN</td>\n",
       "      <td>NaN</td>\n",
       "      <td>NaN</td>\n",
       "      <td>[{'type': {'displayName': 'Zone', 'value': 56}...</td>\n",
       "      <td>False</td>\n",
       "      <td>NaN</td>\n",
       "      <td>NaN</td>\n",
       "      <td>NaN</td>\n",
       "      <td>NaN</td>\n",
       "      <td>NaN</td>\n",
       "    </tr>\n",
       "    <tr>\n",
       "      <th>2570317009</th>\n",
       "      <td>1703215</td>\n",
       "      <td>FirstHalf</td>\n",
       "      <td>9</td>\n",
       "      <td>15.0</td>\n",
       "      <td>9</td>\n",
       "      <td>Pass</td>\n",
       "      <td>Unsuccessful</td>\n",
       "      <td>890</td>\n",
       "      <td>Racing Club</td>\n",
       "      <td>382565.0</td>\n",
       "      <td>...</td>\n",
       "      <td>NaN</td>\n",
       "      <td>NaN</td>\n",
       "      <td>NaN</td>\n",
       "      <td>[{'type': {'displayName': 'PassEndX', 'value':...</td>\n",
       "      <td>True</td>\n",
       "      <td>NaN</td>\n",
       "      <td>NaN</td>\n",
       "      <td>NaN</td>\n",
       "      <td>NaN</td>\n",
       "      <td>NaN</td>\n",
       "    </tr>\n",
       "    <tr>\n",
       "      <th>2570317041</th>\n",
       "      <td>1703215</td>\n",
       "      <td>FirstHalf</td>\n",
       "      <td>9</td>\n",
       "      <td>23.0</td>\n",
       "      <td>9</td>\n",
       "      <td>Pass</td>\n",
       "      <td>Successful</td>\n",
       "      <td>890</td>\n",
       "      <td>Racing Club</td>\n",
       "      <td>382565.0</td>\n",
       "      <td>...</td>\n",
       "      <td>NaN</td>\n",
       "      <td>NaN</td>\n",
       "      <td>NaN</td>\n",
       "      <td>[{'type': {'displayName': 'Zone', 'value': 56}...</td>\n",
       "      <td>True</td>\n",
       "      <td>NaN</td>\n",
       "      <td>NaN</td>\n",
       "      <td>NaN</td>\n",
       "      <td>NaN</td>\n",
       "      <td>NaN</td>\n",
       "    </tr>\n",
       "    <tr>\n",
       "      <th>2570317047</th>\n",
       "      <td>1703215</td>\n",
       "      <td>FirstHalf</td>\n",
       "      <td>9</td>\n",
       "      <td>27.0</td>\n",
       "      <td>9</td>\n",
       "      <td>Pass</td>\n",
       "      <td>Unsuccessful</td>\n",
       "      <td>890</td>\n",
       "      <td>Racing Club</td>\n",
       "      <td>382565.0</td>\n",
       "      <td>...</td>\n",
       "      <td>NaN</td>\n",
       "      <td>NaN</td>\n",
       "      <td>NaN</td>\n",
       "      <td>[{'type': {'displayName': 'PassEndY', 'value':...</td>\n",
       "      <td>True</td>\n",
       "      <td>NaN</td>\n",
       "      <td>NaN</td>\n",
       "      <td>NaN</td>\n",
       "      <td>NaN</td>\n",
       "      <td>NaN</td>\n",
       "    </tr>\n",
       "    <tr>\n",
       "      <th>2570317207</th>\n",
       "      <td>1703215</td>\n",
       "      <td>FirstHalf</td>\n",
       "      <td>10</td>\n",
       "      <td>21.0</td>\n",
       "      <td>10</td>\n",
       "      <td>Pass</td>\n",
       "      <td>Successful</td>\n",
       "      <td>890</td>\n",
       "      <td>Racing Club</td>\n",
       "      <td>382565.0</td>\n",
       "      <td>...</td>\n",
       "      <td>NaN</td>\n",
       "      <td>NaN</td>\n",
       "      <td>NaN</td>\n",
       "      <td>[{'type': {'displayName': 'Length', 'value': 2...</td>\n",
       "      <td>True</td>\n",
       "      <td>NaN</td>\n",
       "      <td>NaN</td>\n",
       "      <td>NaN</td>\n",
       "      <td>NaN</td>\n",
       "      <td>NaN</td>\n",
       "    </tr>\n",
       "    <tr>\n",
       "      <th>2570317259</th>\n",
       "      <td>1703215</td>\n",
       "      <td>FirstHalf</td>\n",
       "      <td>10</td>\n",
       "      <td>36.0</td>\n",
       "      <td>10</td>\n",
       "      <td>Pass</td>\n",
       "      <td>Successful</td>\n",
       "      <td>890</td>\n",
       "      <td>Racing Club</td>\n",
       "      <td>382565.0</td>\n",
       "      <td>...</td>\n",
       "      <td>NaN</td>\n",
       "      <td>NaN</td>\n",
       "      <td>NaN</td>\n",
       "      <td>[{'type': {'displayName': 'Angle', 'value': 21...</td>\n",
       "      <td>True</td>\n",
       "      <td>NaN</td>\n",
       "      <td>NaN</td>\n",
       "      <td>NaN</td>\n",
       "      <td>NaN</td>\n",
       "      <td>NaN</td>\n",
       "    </tr>\n",
       "    <tr>\n",
       "      <th>2570317305</th>\n",
       "      <td>1703215</td>\n",
       "      <td>FirstHalf</td>\n",
       "      <td>10</td>\n",
       "      <td>51.0</td>\n",
       "      <td>10</td>\n",
       "      <td>Pass</td>\n",
       "      <td>Unsuccessful</td>\n",
       "      <td>890</td>\n",
       "      <td>Racing Club</td>\n",
       "      <td>382565.0</td>\n",
       "      <td>...</td>\n",
       "      <td>NaN</td>\n",
       "      <td>NaN</td>\n",
       "      <td>NaN</td>\n",
       "      <td>[{'type': {'displayName': 'Angle', 'value': 21...</td>\n",
       "      <td>True</td>\n",
       "      <td>NaN</td>\n",
       "      <td>NaN</td>\n",
       "      <td>NaN</td>\n",
       "      <td>NaN</td>\n",
       "      <td>NaN</td>\n",
       "    </tr>\n",
       "    <tr>\n",
       "      <th>2570317899</th>\n",
       "      <td>1703215</td>\n",
       "      <td>FirstHalf</td>\n",
       "      <td>14</td>\n",
       "      <td>28.0</td>\n",
       "      <td>14</td>\n",
       "      <td>Tackle</td>\n",
       "      <td>Successful</td>\n",
       "      <td>890</td>\n",
       "      <td>Racing Club</td>\n",
       "      <td>382565.0</td>\n",
       "      <td>...</td>\n",
       "      <td>NaN</td>\n",
       "      <td>NaN</td>\n",
       "      <td>NaN</td>\n",
       "      <td>[{'type': {'displayName': 'Zone', 'value': 56}...</td>\n",
       "      <td>True</td>\n",
       "      <td>NaN</td>\n",
       "      <td>NaN</td>\n",
       "      <td>NaN</td>\n",
       "      <td>NaN</td>\n",
       "      <td>NaN</td>\n",
       "    </tr>\n",
       "    <tr>\n",
       "      <th>2570318299</th>\n",
       "      <td>1703215</td>\n",
       "      <td>FirstHalf</td>\n",
       "      <td>16</td>\n",
       "      <td>33.0</td>\n",
       "      <td>16</td>\n",
       "      <td>Aerial</td>\n",
       "      <td>Successful</td>\n",
       "      <td>890</td>\n",
       "      <td>Racing Club</td>\n",
       "      <td>382565.0</td>\n",
       "      <td>...</td>\n",
       "      <td>NaN</td>\n",
       "      <td>NaN</td>\n",
       "      <td>NaN</td>\n",
       "      <td>[{'type': {'displayName': 'Zone', 'value': 56}...</td>\n",
       "      <td>False</td>\n",
       "      <td>NaN</td>\n",
       "      <td>NaN</td>\n",
       "      <td>NaN</td>\n",
       "      <td>NaN</td>\n",
       "      <td>NaN</td>\n",
       "    </tr>\n",
       "    <tr>\n",
       "      <th>2570318305</th>\n",
       "      <td>1703215</td>\n",
       "      <td>FirstHalf</td>\n",
       "      <td>16</td>\n",
       "      <td>34.0</td>\n",
       "      <td>16</td>\n",
       "      <td>Pass</td>\n",
       "      <td>Successful</td>\n",
       "      <td>890</td>\n",
       "      <td>Racing Club</td>\n",
       "      <td>382565.0</td>\n",
       "      <td>...</td>\n",
       "      <td>NaN</td>\n",
       "      <td>NaN</td>\n",
       "      <td>NaN</td>\n",
       "      <td>[{'type': {'displayName': 'Angle', 'value': 21...</td>\n",
       "      <td>True</td>\n",
       "      <td>NaN</td>\n",
       "      <td>NaN</td>\n",
       "      <td>NaN</td>\n",
       "      <td>NaN</td>\n",
       "      <td>NaN</td>\n",
       "    </tr>\n",
       "    <tr>\n",
       "      <th>2570318401</th>\n",
       "      <td>1703215</td>\n",
       "      <td>FirstHalf</td>\n",
       "      <td>16</td>\n",
       "      <td>53.0</td>\n",
       "      <td>16</td>\n",
       "      <td>BlockedPass</td>\n",
       "      <td>Successful</td>\n",
       "      <td>890</td>\n",
       "      <td>Racing Club</td>\n",
       "      <td>382565.0</td>\n",
       "      <td>...</td>\n",
       "      <td>NaN</td>\n",
       "      <td>NaN</td>\n",
       "      <td>NaN</td>\n",
       "      <td>[{'type': {'displayName': 'OppositeRelatedEven...</td>\n",
       "      <td>True</td>\n",
       "      <td>NaN</td>\n",
       "      <td>NaN</td>\n",
       "      <td>NaN</td>\n",
       "      <td>NaN</td>\n",
       "      <td>NaN</td>\n",
       "    </tr>\n",
       "    <tr>\n",
       "      <th>2570318523</th>\n",
       "      <td>1703215</td>\n",
       "      <td>FirstHalf</td>\n",
       "      <td>17</td>\n",
       "      <td>41.0</td>\n",
       "      <td>17</td>\n",
       "      <td>Pass</td>\n",
       "      <td>Successful</td>\n",
       "      <td>890</td>\n",
       "      <td>Racing Club</td>\n",
       "      <td>382565.0</td>\n",
       "      <td>...</td>\n",
       "      <td>NaN</td>\n",
       "      <td>NaN</td>\n",
       "      <td>NaN</td>\n",
       "      <td>[{'type': {'displayName': 'Length', 'value': 2...</td>\n",
       "      <td>True</td>\n",
       "      <td>NaN</td>\n",
       "      <td>NaN</td>\n",
       "      <td>NaN</td>\n",
       "      <td>NaN</td>\n",
       "      <td>NaN</td>\n",
       "    </tr>\n",
       "    <tr>\n",
       "      <th>2570318575</th>\n",
       "      <td>1703215</td>\n",
       "      <td>FirstHalf</td>\n",
       "      <td>17</td>\n",
       "      <td>56.0</td>\n",
       "      <td>17</td>\n",
       "      <td>Pass</td>\n",
       "      <td>Successful</td>\n",
       "      <td>890</td>\n",
       "      <td>Racing Club</td>\n",
       "      <td>382565.0</td>\n",
       "      <td>...</td>\n",
       "      <td>NaN</td>\n",
       "      <td>NaN</td>\n",
       "      <td>NaN</td>\n",
       "      <td>[{'type': {'displayName': 'PassEndY', 'value':...</td>\n",
       "      <td>True</td>\n",
       "      <td>NaN</td>\n",
       "      <td>NaN</td>\n",
       "      <td>NaN</td>\n",
       "      <td>NaN</td>\n",
       "      <td>NaN</td>\n",
       "    </tr>\n",
       "    <tr>\n",
       "      <th>2570318995</th>\n",
       "      <td>1703215</td>\n",
       "      <td>FirstHalf</td>\n",
       "      <td>20</td>\n",
       "      <td>55.0</td>\n",
       "      <td>20</td>\n",
       "      <td>Pass</td>\n",
       "      <td>Unsuccessful</td>\n",
       "      <td>890</td>\n",
       "      <td>Racing Club</td>\n",
       "      <td>382565.0</td>\n",
       "      <td>...</td>\n",
       "      <td>NaN</td>\n",
       "      <td>NaN</td>\n",
       "      <td>NaN</td>\n",
       "      <td>[{'type': {'displayName': 'PassEndX', 'value':...</td>\n",
       "      <td>True</td>\n",
       "      <td>NaN</td>\n",
       "      <td>NaN</td>\n",
       "      <td>NaN</td>\n",
       "      <td>NaN</td>\n",
       "      <td>NaN</td>\n",
       "    </tr>\n",
       "    <tr>\n",
       "      <th>2570319099</th>\n",
       "      <td>1703215</td>\n",
       "      <td>FirstHalf</td>\n",
       "      <td>22</td>\n",
       "      <td>6.0</td>\n",
       "      <td>22</td>\n",
       "      <td>TakeOn</td>\n",
       "      <td>Successful</td>\n",
       "      <td>890</td>\n",
       "      <td>Racing Club</td>\n",
       "      <td>382565.0</td>\n",
       "      <td>...</td>\n",
       "      <td>NaN</td>\n",
       "      <td>NaN</td>\n",
       "      <td>NaN</td>\n",
       "      <td>[{'type': {'displayName': 'Zone', 'value': 56}...</td>\n",
       "      <td>True</td>\n",
       "      <td>NaN</td>\n",
       "      <td>NaN</td>\n",
       "      <td>NaN</td>\n",
       "      <td>NaN</td>\n",
       "      <td>NaN</td>\n",
       "    </tr>\n",
       "    <tr>\n",
       "      <th>2570319103</th>\n",
       "      <td>1703215</td>\n",
       "      <td>FirstHalf</td>\n",
       "      <td>22</td>\n",
       "      <td>7.0</td>\n",
       "      <td>22</td>\n",
       "      <td>Pass</td>\n",
       "      <td>Successful</td>\n",
       "      <td>890</td>\n",
       "      <td>Racing Club</td>\n",
       "      <td>382565.0</td>\n",
       "      <td>...</td>\n",
       "      <td>NaN</td>\n",
       "      <td>NaN</td>\n",
       "      <td>NaN</td>\n",
       "      <td>[{'type': {'displayName': 'Angle', 'value': 21...</td>\n",
       "      <td>True</td>\n",
       "      <td>NaN</td>\n",
       "      <td>NaN</td>\n",
       "      <td>NaN</td>\n",
       "      <td>NaN</td>\n",
       "      <td>NaN</td>\n",
       "    </tr>\n",
       "    <tr>\n",
       "      <th>2570319165</th>\n",
       "      <td>1703215</td>\n",
       "      <td>FirstHalf</td>\n",
       "      <td>22</td>\n",
       "      <td>41.0</td>\n",
       "      <td>22</td>\n",
       "      <td>Pass</td>\n",
       "      <td>Successful</td>\n",
       "      <td>890</td>\n",
       "      <td>Racing Club</td>\n",
       "      <td>382565.0</td>\n",
       "      <td>...</td>\n",
       "      <td>NaN</td>\n",
       "      <td>NaN</td>\n",
       "      <td>NaN</td>\n",
       "      <td>[{'type': {'displayName': 'Length', 'value': 2...</td>\n",
       "      <td>True</td>\n",
       "      <td>NaN</td>\n",
       "      <td>NaN</td>\n",
       "      <td>NaN</td>\n",
       "      <td>NaN</td>\n",
       "      <td>NaN</td>\n",
       "    </tr>\n",
       "    <tr>\n",
       "      <th>2570319283</th>\n",
       "      <td>1703215</td>\n",
       "      <td>FirstHalf</td>\n",
       "      <td>24</td>\n",
       "      <td>23.0</td>\n",
       "      <td>24</td>\n",
       "      <td>Pass</td>\n",
       "      <td>Successful</td>\n",
       "      <td>890</td>\n",
       "      <td>Racing Club</td>\n",
       "      <td>382565.0</td>\n",
       "      <td>...</td>\n",
       "      <td>NaN</td>\n",
       "      <td>NaN</td>\n",
       "      <td>NaN</td>\n",
       "      <td>[{'type': {'displayName': 'Angle', 'value': 21...</td>\n",
       "      <td>True</td>\n",
       "      <td>NaN</td>\n",
       "      <td>NaN</td>\n",
       "      <td>NaN</td>\n",
       "      <td>NaN</td>\n",
       "      <td>NaN</td>\n",
       "    </tr>\n",
       "    <tr>\n",
       "      <th>2570319503</th>\n",
       "      <td>1703215</td>\n",
       "      <td>FirstHalf</td>\n",
       "      <td>27</td>\n",
       "      <td>48.0</td>\n",
       "      <td>27</td>\n",
       "      <td>Pass</td>\n",
       "      <td>Successful</td>\n",
       "      <td>890</td>\n",
       "      <td>Racing Club</td>\n",
       "      <td>382565.0</td>\n",
       "      <td>...</td>\n",
       "      <td>NaN</td>\n",
       "      <td>NaN</td>\n",
       "      <td>NaN</td>\n",
       "      <td>[{'type': {'displayName': 'Zone', 'value': 56}...</td>\n",
       "      <td>True</td>\n",
       "      <td>NaN</td>\n",
       "      <td>NaN</td>\n",
       "      <td>NaN</td>\n",
       "      <td>NaN</td>\n",
       "      <td>NaN</td>\n",
       "    </tr>\n",
       "    <tr>\n",
       "      <th>2570319513</th>\n",
       "      <td>1703215</td>\n",
       "      <td>FirstHalf</td>\n",
       "      <td>28</td>\n",
       "      <td>0.0</td>\n",
       "      <td>28</td>\n",
       "      <td>Pass</td>\n",
       "      <td>Successful</td>\n",
       "      <td>890</td>\n",
       "      <td>Racing Club</td>\n",
       "      <td>382565.0</td>\n",
       "      <td>...</td>\n",
       "      <td>NaN</td>\n",
       "      <td>NaN</td>\n",
       "      <td>NaN</td>\n",
       "      <td>[{'type': {'displayName': 'Length', 'value': 2...</td>\n",
       "      <td>True</td>\n",
       "      <td>NaN</td>\n",
       "      <td>NaN</td>\n",
       "      <td>NaN</td>\n",
       "      <td>NaN</td>\n",
       "      <td>NaN</td>\n",
       "    </tr>\n",
       "    <tr>\n",
       "      <th>2570319529</th>\n",
       "      <td>1703215</td>\n",
       "      <td>FirstHalf</td>\n",
       "      <td>28</td>\n",
       "      <td>14.0</td>\n",
       "      <td>28</td>\n",
       "      <td>Pass</td>\n",
       "      <td>Successful</td>\n",
       "      <td>890</td>\n",
       "      <td>Racing Club</td>\n",
       "      <td>382565.0</td>\n",
       "      <td>...</td>\n",
       "      <td>NaN</td>\n",
       "      <td>NaN</td>\n",
       "      <td>NaN</td>\n",
       "      <td>[{'type': {'displayName': 'PassEndX', 'value':...</td>\n",
       "      <td>True</td>\n",
       "      <td>NaN</td>\n",
       "      <td>NaN</td>\n",
       "      <td>NaN</td>\n",
       "      <td>NaN</td>\n",
       "      <td>NaN</td>\n",
       "    </tr>\n",
       "    <tr>\n",
       "      <th>2570319541</th>\n",
       "      <td>1703215</td>\n",
       "      <td>FirstHalf</td>\n",
       "      <td>28</td>\n",
       "      <td>22.0</td>\n",
       "      <td>28</td>\n",
       "      <td>Pass</td>\n",
       "      <td>Successful</td>\n",
       "      <td>890</td>\n",
       "      <td>Racing Club</td>\n",
       "      <td>382565.0</td>\n",
       "      <td>...</td>\n",
       "      <td>NaN</td>\n",
       "      <td>NaN</td>\n",
       "      <td>NaN</td>\n",
       "      <td>[{'type': {'displayName': 'Angle', 'value': 21...</td>\n",
       "      <td>True</td>\n",
       "      <td>NaN</td>\n",
       "      <td>NaN</td>\n",
       "      <td>NaN</td>\n",
       "      <td>NaN</td>\n",
       "      <td>NaN</td>\n",
       "    </tr>\n",
       "    <tr>\n",
       "      <th>2570319583</th>\n",
       "      <td>1703215</td>\n",
       "      <td>FirstHalf</td>\n",
       "      <td>29</td>\n",
       "      <td>7.0</td>\n",
       "      <td>29</td>\n",
       "      <td>BallRecovery</td>\n",
       "      <td>Successful</td>\n",
       "      <td>890</td>\n",
       "      <td>Racing Club</td>\n",
       "      <td>382565.0</td>\n",
       "      <td>...</td>\n",
       "      <td>NaN</td>\n",
       "      <td>NaN</td>\n",
       "      <td>NaN</td>\n",
       "      <td>[]</td>\n",
       "      <td>False</td>\n",
       "      <td>NaN</td>\n",
       "      <td>NaN</td>\n",
       "      <td>NaN</td>\n",
       "      <td>NaN</td>\n",
       "      <td>NaN</td>\n",
       "    </tr>\n",
       "    <tr>\n",
       "      <th>2570319591</th>\n",
       "      <td>1703215</td>\n",
       "      <td>FirstHalf</td>\n",
       "      <td>29</td>\n",
       "      <td>8.0</td>\n",
       "      <td>29</td>\n",
       "      <td>TakeOn</td>\n",
       "      <td>Successful</td>\n",
       "      <td>890</td>\n",
       "      <td>Racing Club</td>\n",
       "      <td>382565.0</td>\n",
       "      <td>...</td>\n",
       "      <td>NaN</td>\n",
       "      <td>NaN</td>\n",
       "      <td>NaN</td>\n",
       "      <td>[{'type': {'displayName': 'Defensive', 'value'...</td>\n",
       "      <td>True</td>\n",
       "      <td>NaN</td>\n",
       "      <td>NaN</td>\n",
       "      <td>NaN</td>\n",
       "      <td>NaN</td>\n",
       "      <td>NaN</td>\n",
       "    </tr>\n",
       "    <tr>\n",
       "      <th>2570319593</th>\n",
       "      <td>1703215</td>\n",
       "      <td>FirstHalf</td>\n",
       "      <td>29</td>\n",
       "      <td>12.0</td>\n",
       "      <td>29</td>\n",
       "      <td>Foul</td>\n",
       "      <td>Successful</td>\n",
       "      <td>890</td>\n",
       "      <td>Racing Club</td>\n",
       "      <td>382565.0</td>\n",
       "      <td>...</td>\n",
       "      <td>NaN</td>\n",
       "      <td>NaN</td>\n",
       "      <td>NaN</td>\n",
       "      <td>[{'type': {'displayName': 'Defensive', 'value'...</td>\n",
       "      <td>True</td>\n",
       "      <td>NaN</td>\n",
       "      <td>NaN</td>\n",
       "      <td>NaN</td>\n",
       "      <td>NaN</td>\n",
       "      <td>NaN</td>\n",
       "    </tr>\n",
       "    <tr>\n",
       "      <th>2570319613</th>\n",
       "      <td>1703215</td>\n",
       "      <td>FirstHalf</td>\n",
       "      <td>29</td>\n",
       "      <td>22.0</td>\n",
       "      <td>29</td>\n",
       "      <td>Pass</td>\n",
       "      <td>Successful</td>\n",
       "      <td>890</td>\n",
       "      <td>Racing Club</td>\n",
       "      <td>382565.0</td>\n",
       "      <td>...</td>\n",
       "      <td>NaN</td>\n",
       "      <td>NaN</td>\n",
       "      <td>NaN</td>\n",
       "      <td>[{'type': {'displayName': 'PassEndX', 'value':...</td>\n",
       "      <td>True</td>\n",
       "      <td>NaN</td>\n",
       "      <td>NaN</td>\n",
       "      <td>NaN</td>\n",
       "      <td>NaN</td>\n",
       "      <td>NaN</td>\n",
       "    </tr>\n",
       "    <tr>\n",
       "      <th>2570319627</th>\n",
       "      <td>1703215</td>\n",
       "      <td>FirstHalf</td>\n",
       "      <td>29</td>\n",
       "      <td>25.0</td>\n",
       "      <td>29</td>\n",
       "      <td>Pass</td>\n",
       "      <td>Successful</td>\n",
       "      <td>890</td>\n",
       "      <td>Racing Club</td>\n",
       "      <td>382565.0</td>\n",
       "      <td>...</td>\n",
       "      <td>NaN</td>\n",
       "      <td>NaN</td>\n",
       "      <td>NaN</td>\n",
       "      <td>[{'type': {'displayName': 'PassEndY', 'value':...</td>\n",
       "      <td>True</td>\n",
       "      <td>NaN</td>\n",
       "      <td>NaN</td>\n",
       "      <td>NaN</td>\n",
       "      <td>NaN</td>\n",
       "      <td>NaN</td>\n",
       "    </tr>\n",
       "    <tr>\n",
       "      <th>2570319711</th>\n",
       "      <td>1703215</td>\n",
       "      <td>FirstHalf</td>\n",
       "      <td>30</td>\n",
       "      <td>34.0</td>\n",
       "      <td>30</td>\n",
       "      <td>Foul</td>\n",
       "      <td>Unsuccessful</td>\n",
       "      <td>890</td>\n",
       "      <td>Racing Club</td>\n",
       "      <td>382565.0</td>\n",
       "      <td>...</td>\n",
       "      <td>NaN</td>\n",
       "      <td>NaN</td>\n",
       "      <td>NaN</td>\n",
       "      <td>[{'type': {'displayName': 'OppositeRelatedEven...</td>\n",
       "      <td>False</td>\n",
       "      <td>NaN</td>\n",
       "      <td>NaN</td>\n",
       "      <td>NaN</td>\n",
       "      <td>NaN</td>\n",
       "      <td>NaN</td>\n",
       "    </tr>\n",
       "    <tr>\n",
       "      <th>2570319923</th>\n",
       "      <td>1703215</td>\n",
       "      <td>FirstHalf</td>\n",
       "      <td>32</td>\n",
       "      <td>50.0</td>\n",
       "      <td>32</td>\n",
       "      <td>Pass</td>\n",
       "      <td>Successful</td>\n",
       "      <td>890</td>\n",
       "      <td>Racing Club</td>\n",
       "      <td>382565.0</td>\n",
       "      <td>...</td>\n",
       "      <td>NaN</td>\n",
       "      <td>NaN</td>\n",
       "      <td>NaN</td>\n",
       "      <td>[{'type': {'displayName': 'Zone', 'value': 56}...</td>\n",
       "      <td>True</td>\n",
       "      <td>NaN</td>\n",
       "      <td>NaN</td>\n",
       "      <td>NaN</td>\n",
       "      <td>NaN</td>\n",
       "      <td>NaN</td>\n",
       "    </tr>\n",
       "    <tr>\n",
       "      <th>2570319957</th>\n",
       "      <td>1703215</td>\n",
       "      <td>FirstHalf</td>\n",
       "      <td>33</td>\n",
       "      <td>19.0</td>\n",
       "      <td>33</td>\n",
       "      <td>Pass</td>\n",
       "      <td>Successful</td>\n",
       "      <td>890</td>\n",
       "      <td>Racing Club</td>\n",
       "      <td>382565.0</td>\n",
       "      <td>...</td>\n",
       "      <td>NaN</td>\n",
       "      <td>NaN</td>\n",
       "      <td>NaN</td>\n",
       "      <td>[{'type': {'displayName': 'Zone', 'value': 56}...</td>\n",
       "      <td>True</td>\n",
       "      <td>NaN</td>\n",
       "      <td>NaN</td>\n",
       "      <td>NaN</td>\n",
       "      <td>NaN</td>\n",
       "      <td>NaN</td>\n",
       "    </tr>\n",
       "    <tr>\n",
       "      <th>2570320113</th>\n",
       "      <td>1703215</td>\n",
       "      <td>FirstHalf</td>\n",
       "      <td>35</td>\n",
       "      <td>11.0</td>\n",
       "      <td>35</td>\n",
       "      <td>SavedShot</td>\n",
       "      <td>Successful</td>\n",
       "      <td>890</td>\n",
       "      <td>Racing Club</td>\n",
       "      <td>382565.0</td>\n",
       "      <td>...</td>\n",
       "      <td>5.7</td>\n",
       "      <td>99.0</td>\n",
       "      <td>50.7</td>\n",
       "      <td>[{'type': {'displayName': 'BlockedY', 'value':...</td>\n",
       "      <td>True</td>\n",
       "      <td>True</td>\n",
       "      <td>NaN</td>\n",
       "      <td>NaN</td>\n",
       "      <td>363.0</td>\n",
       "      <td>344745.0</td>\n",
       "    </tr>\n",
       "    <tr>\n",
       "      <th>2570320339</th>\n",
       "      <td>1703215</td>\n",
       "      <td>FirstHalf</td>\n",
       "      <td>36</td>\n",
       "      <td>35.0</td>\n",
       "      <td>36</td>\n",
       "      <td>Pass</td>\n",
       "      <td>Successful</td>\n",
       "      <td>890</td>\n",
       "      <td>Racing Club</td>\n",
       "      <td>382565.0</td>\n",
       "      <td>...</td>\n",
       "      <td>NaN</td>\n",
       "      <td>NaN</td>\n",
       "      <td>NaN</td>\n",
       "      <td>[{'type': {'displayName': 'PassEndX', 'value':...</td>\n",
       "      <td>True</td>\n",
       "      <td>NaN</td>\n",
       "      <td>NaN</td>\n",
       "      <td>NaN</td>\n",
       "      <td>NaN</td>\n",
       "      <td>NaN</td>\n",
       "    </tr>\n",
       "    <tr>\n",
       "      <th>2570320357</th>\n",
       "      <td>1703215</td>\n",
       "      <td>FirstHalf</td>\n",
       "      <td>36</td>\n",
       "      <td>41.0</td>\n",
       "      <td>36</td>\n",
       "      <td>Pass</td>\n",
       "      <td>Successful</td>\n",
       "      <td>890</td>\n",
       "      <td>Racing Club</td>\n",
       "      <td>382565.0</td>\n",
       "      <td>...</td>\n",
       "      <td>NaN</td>\n",
       "      <td>NaN</td>\n",
       "      <td>NaN</td>\n",
       "      <td>[{'type': {'displayName': 'PassEndX', 'value':...</td>\n",
       "      <td>True</td>\n",
       "      <td>NaN</td>\n",
       "      <td>NaN</td>\n",
       "      <td>NaN</td>\n",
       "      <td>NaN</td>\n",
       "      <td>NaN</td>\n",
       "    </tr>\n",
       "    <tr>\n",
       "      <th>2570320513</th>\n",
       "      <td>1703215</td>\n",
       "      <td>FirstHalf</td>\n",
       "      <td>37</td>\n",
       "      <td>48.0</td>\n",
       "      <td>37</td>\n",
       "      <td>Pass</td>\n",
       "      <td>Successful</td>\n",
       "      <td>890</td>\n",
       "      <td>Racing Club</td>\n",
       "      <td>382565.0</td>\n",
       "      <td>...</td>\n",
       "      <td>NaN</td>\n",
       "      <td>NaN</td>\n",
       "      <td>NaN</td>\n",
       "      <td>[{'type': {'displayName': 'PassEndX', 'value':...</td>\n",
       "      <td>True</td>\n",
       "      <td>NaN</td>\n",
       "      <td>NaN</td>\n",
       "      <td>NaN</td>\n",
       "      <td>NaN</td>\n",
       "      <td>NaN</td>\n",
       "    </tr>\n",
       "    <tr>\n",
       "      <th>2570320691</th>\n",
       "      <td>1703215</td>\n",
       "      <td>FirstHalf</td>\n",
       "      <td>39</td>\n",
       "      <td>2.0</td>\n",
       "      <td>39</td>\n",
       "      <td>Goal</td>\n",
       "      <td>Successful</td>\n",
       "      <td>890</td>\n",
       "      <td>Racing Club</td>\n",
       "      <td>382565.0</td>\n",
       "      <td>...</td>\n",
       "      <td>3.2</td>\n",
       "      <td>NaN</td>\n",
       "      <td>NaN</td>\n",
       "      <td>[{'type': {'displayName': 'LeftFoot', 'value':...</td>\n",
       "      <td>True</td>\n",
       "      <td>True</td>\n",
       "      <td>True</td>\n",
       "      <td>NaN</td>\n",
       "      <td>409.0</td>\n",
       "      <td>344745.0</td>\n",
       "    </tr>\n",
       "    <tr>\n",
       "      <th>2570320933</th>\n",
       "      <td>1703215</td>\n",
       "      <td>FirstHalf</td>\n",
       "      <td>40</td>\n",
       "      <td>40.0</td>\n",
       "      <td>40</td>\n",
       "      <td>BallRecovery</td>\n",
       "      <td>Successful</td>\n",
       "      <td>890</td>\n",
       "      <td>Racing Club</td>\n",
       "      <td>382565.0</td>\n",
       "      <td>...</td>\n",
       "      <td>NaN</td>\n",
       "      <td>NaN</td>\n",
       "      <td>NaN</td>\n",
       "      <td>[]</td>\n",
       "      <td>False</td>\n",
       "      <td>NaN</td>\n",
       "      <td>NaN</td>\n",
       "      <td>NaN</td>\n",
       "      <td>NaN</td>\n",
       "      <td>NaN</td>\n",
       "    </tr>\n",
       "    <tr>\n",
       "      <th>2570320945</th>\n",
       "      <td>1703215</td>\n",
       "      <td>FirstHalf</td>\n",
       "      <td>40</td>\n",
       "      <td>43.0</td>\n",
       "      <td>40</td>\n",
       "      <td>Foul</td>\n",
       "      <td>Successful</td>\n",
       "      <td>890</td>\n",
       "      <td>Racing Club</td>\n",
       "      <td>382565.0</td>\n",
       "      <td>...</td>\n",
       "      <td>NaN</td>\n",
       "      <td>NaN</td>\n",
       "      <td>NaN</td>\n",
       "      <td>[{'type': {'displayName': 'Foul', 'value': 13}...</td>\n",
       "      <td>True</td>\n",
       "      <td>NaN</td>\n",
       "      <td>NaN</td>\n",
       "      <td>NaN</td>\n",
       "      <td>NaN</td>\n",
       "      <td>NaN</td>\n",
       "    </tr>\n",
       "    <tr>\n",
       "      <th>2570320987</th>\n",
       "      <td>1703215</td>\n",
       "      <td>FirstHalf</td>\n",
       "      <td>40</td>\n",
       "      <td>59.0</td>\n",
       "      <td>40</td>\n",
       "      <td>Pass</td>\n",
       "      <td>Successful</td>\n",
       "      <td>890</td>\n",
       "      <td>Racing Club</td>\n",
       "      <td>382565.0</td>\n",
       "      <td>...</td>\n",
       "      <td>NaN</td>\n",
       "      <td>NaN</td>\n",
       "      <td>NaN</td>\n",
       "      <td>[{'type': {'displayName': 'Angle', 'value': 21...</td>\n",
       "      <td>True</td>\n",
       "      <td>NaN</td>\n",
       "      <td>NaN</td>\n",
       "      <td>NaN</td>\n",
       "      <td>NaN</td>\n",
       "      <td>NaN</td>\n",
       "    </tr>\n",
       "    <tr>\n",
       "      <th>2570324959</th>\n",
       "      <td>1703215</td>\n",
       "      <td>SecondHalf</td>\n",
       "      <td>45</td>\n",
       "      <td>0.0</td>\n",
       "      <td>47</td>\n",
       "      <td>SubstitutionOff</td>\n",
       "      <td>Successful</td>\n",
       "      <td>890</td>\n",
       "      <td>Racing Club</td>\n",
       "      <td>382565.0</td>\n",
       "      <td>...</td>\n",
       "      <td>NaN</td>\n",
       "      <td>NaN</td>\n",
       "      <td>NaN</td>\n",
       "      <td>[{'type': {'displayName': 'PlayerPosition', 'v...</td>\n",
       "      <td>False</td>\n",
       "      <td>NaN</td>\n",
       "      <td>NaN</td>\n",
       "      <td>NaN</td>\n",
       "      <td>483.0</td>\n",
       "      <td>70736.0</td>\n",
       "    </tr>\n",
       "  </tbody>\n",
       "</table>\n",
       "<p>49 rows × 26 columns</p>\n",
       "</div>"
      ],
      "text/plain": [
       "                                                                                           game_id  \\\n",
       "league               season game                                               id                    \n",
       "ARG-Liga Profesional 2324   2023-07-24 Racing Club-Central Cordoba de Santiago 2570315671  1703215   \n",
       "                                                                               2570315751  1703215   \n",
       "                                                                               2570315827  1703215   \n",
       "                                                                               2570315829  1703215   \n",
       "                                                                               2570316119  1703215   \n",
       "                                                                               2570316251  1703215   \n",
       "                                                                               2570316347  1703215   \n",
       "                                                                               2570316371  1703215   \n",
       "                                                                               2570316901  1703215   \n",
       "                                                                               2570316909  1703215   \n",
       "                                                                               2570317003  1703215   \n",
       "                                                                               2570317009  1703215   \n",
       "                                                                               2570317041  1703215   \n",
       "                                                                               2570317047  1703215   \n",
       "                                                                               2570317207  1703215   \n",
       "                                                                               2570317259  1703215   \n",
       "                                                                               2570317305  1703215   \n",
       "                                                                               2570317899  1703215   \n",
       "                                                                               2570318299  1703215   \n",
       "                                                                               2570318305  1703215   \n",
       "                                                                               2570318401  1703215   \n",
       "                                                                               2570318523  1703215   \n",
       "                                                                               2570318575  1703215   \n",
       "                                                                               2570318995  1703215   \n",
       "                                                                               2570319099  1703215   \n",
       "                                                                               2570319103  1703215   \n",
       "                                                                               2570319165  1703215   \n",
       "                                                                               2570319283  1703215   \n",
       "                                                                               2570319503  1703215   \n",
       "                                                                               2570319513  1703215   \n",
       "                                                                               2570319529  1703215   \n",
       "                                                                               2570319541  1703215   \n",
       "                                                                               2570319583  1703215   \n",
       "                                                                               2570319591  1703215   \n",
       "                                                                               2570319593  1703215   \n",
       "                                                                               2570319613  1703215   \n",
       "                                                                               2570319627  1703215   \n",
       "                                                                               2570319711  1703215   \n",
       "                                                                               2570319923  1703215   \n",
       "                                                                               2570319957  1703215   \n",
       "                                                                               2570320113  1703215   \n",
       "                                                                               2570320339  1703215   \n",
       "                                                                               2570320357  1703215   \n",
       "                                                                               2570320513  1703215   \n",
       "                                                                               2570320691  1703215   \n",
       "                                                                               2570320933  1703215   \n",
       "                                                                               2570320945  1703215   \n",
       "                                                                               2570320987  1703215   \n",
       "                                                                               2570324959  1703215   \n",
       "\n",
       "                                                                                               period  \\\n",
       "league               season game                                               id                       \n",
       "ARG-Liga Profesional 2324   2023-07-24 Racing Club-Central Cordoba de Santiago 2570315671   FirstHalf   \n",
       "                                                                               2570315751   FirstHalf   \n",
       "                                                                               2570315827   FirstHalf   \n",
       "                                                                               2570315829   FirstHalf   \n",
       "                                                                               2570316119   FirstHalf   \n",
       "                                                                               2570316251   FirstHalf   \n",
       "                                                                               2570316347   FirstHalf   \n",
       "                                                                               2570316371   FirstHalf   \n",
       "                                                                               2570316901   FirstHalf   \n",
       "                                                                               2570316909   FirstHalf   \n",
       "                                                                               2570317003   FirstHalf   \n",
       "                                                                               2570317009   FirstHalf   \n",
       "                                                                               2570317041   FirstHalf   \n",
       "                                                                               2570317047   FirstHalf   \n",
       "                                                                               2570317207   FirstHalf   \n",
       "                                                                               2570317259   FirstHalf   \n",
       "                                                                               2570317305   FirstHalf   \n",
       "                                                                               2570317899   FirstHalf   \n",
       "                                                                               2570318299   FirstHalf   \n",
       "                                                                               2570318305   FirstHalf   \n",
       "                                                                               2570318401   FirstHalf   \n",
       "                                                                               2570318523   FirstHalf   \n",
       "                                                                               2570318575   FirstHalf   \n",
       "                                                                               2570318995   FirstHalf   \n",
       "                                                                               2570319099   FirstHalf   \n",
       "                                                                               2570319103   FirstHalf   \n",
       "                                                                               2570319165   FirstHalf   \n",
       "                                                                               2570319283   FirstHalf   \n",
       "                                                                               2570319503   FirstHalf   \n",
       "                                                                               2570319513   FirstHalf   \n",
       "                                                                               2570319529   FirstHalf   \n",
       "                                                                               2570319541   FirstHalf   \n",
       "                                                                               2570319583   FirstHalf   \n",
       "                                                                               2570319591   FirstHalf   \n",
       "                                                                               2570319593   FirstHalf   \n",
       "                                                                               2570319613   FirstHalf   \n",
       "                                                                               2570319627   FirstHalf   \n",
       "                                                                               2570319711   FirstHalf   \n",
       "                                                                               2570319923   FirstHalf   \n",
       "                                                                               2570319957   FirstHalf   \n",
       "                                                                               2570320113   FirstHalf   \n",
       "                                                                               2570320339   FirstHalf   \n",
       "                                                                               2570320357   FirstHalf   \n",
       "                                                                               2570320513   FirstHalf   \n",
       "                                                                               2570320691   FirstHalf   \n",
       "                                                                               2570320933   FirstHalf   \n",
       "                                                                               2570320945   FirstHalf   \n",
       "                                                                               2570320987   FirstHalf   \n",
       "                                                                               2570324959  SecondHalf   \n",
       "\n",
       "                                                                                           minute  \\\n",
       "league               season game                                               id                   \n",
       "ARG-Liga Profesional 2324   2023-07-24 Racing Club-Central Cordoba de Santiago 2570315671       1   \n",
       "                                                                               2570315751       1   \n",
       "                                                                               2570315827       2   \n",
       "                                                                               2570315829       2   \n",
       "                                                                               2570316119       3   \n",
       "                                                                               2570316251       4   \n",
       "                                                                               2570316347       4   \n",
       "                                                                               2570316371       5   \n",
       "                                                                               2570316901       8   \n",
       "                                                                               2570316909       8   \n",
       "                                                                               2570317003       9   \n",
       "                                                                               2570317009       9   \n",
       "                                                                               2570317041       9   \n",
       "                                                                               2570317047       9   \n",
       "                                                                               2570317207      10   \n",
       "                                                                               2570317259      10   \n",
       "                                                                               2570317305      10   \n",
       "                                                                               2570317899      14   \n",
       "                                                                               2570318299      16   \n",
       "                                                                               2570318305      16   \n",
       "                                                                               2570318401      16   \n",
       "                                                                               2570318523      17   \n",
       "                                                                               2570318575      17   \n",
       "                                                                               2570318995      20   \n",
       "                                                                               2570319099      22   \n",
       "                                                                               2570319103      22   \n",
       "                                                                               2570319165      22   \n",
       "                                                                               2570319283      24   \n",
       "                                                                               2570319503      27   \n",
       "                                                                               2570319513      28   \n",
       "                                                                               2570319529      28   \n",
       "                                                                               2570319541      28   \n",
       "                                                                               2570319583      29   \n",
       "                                                                               2570319591      29   \n",
       "                                                                               2570319593      29   \n",
       "                                                                               2570319613      29   \n",
       "                                                                               2570319627      29   \n",
       "                                                                               2570319711      30   \n",
       "                                                                               2570319923      32   \n",
       "                                                                               2570319957      33   \n",
       "                                                                               2570320113      35   \n",
       "                                                                               2570320339      36   \n",
       "                                                                               2570320357      36   \n",
       "                                                                               2570320513      37   \n",
       "                                                                               2570320691      39   \n",
       "                                                                               2570320933      40   \n",
       "                                                                               2570320945      40   \n",
       "                                                                               2570320987      40   \n",
       "                                                                               2570324959      45   \n",
       "\n",
       "                                                                                           second  \\\n",
       "league               season game                                               id                   \n",
       "ARG-Liga Profesional 2324   2023-07-24 Racing Club-Central Cordoba de Santiago 2570315671    11.0   \n",
       "                                                                               2570315751    37.0   \n",
       "                                                                               2570315827     8.0   \n",
       "                                                                               2570315829     8.0   \n",
       "                                                                               2570316119    30.0   \n",
       "                                                                               2570316251    29.0   \n",
       "                                                                               2570316347    59.0   \n",
       "                                                                               2570316371     4.0   \n",
       "                                                                               2570316901    25.0   \n",
       "                                                                               2570316909    29.0   \n",
       "                                                                               2570317003    15.0   \n",
       "                                                                               2570317009    15.0   \n",
       "                                                                               2570317041    23.0   \n",
       "                                                                               2570317047    27.0   \n",
       "                                                                               2570317207    21.0   \n",
       "                                                                               2570317259    36.0   \n",
       "                                                                               2570317305    51.0   \n",
       "                                                                               2570317899    28.0   \n",
       "                                                                               2570318299    33.0   \n",
       "                                                                               2570318305    34.0   \n",
       "                                                                               2570318401    53.0   \n",
       "                                                                               2570318523    41.0   \n",
       "                                                                               2570318575    56.0   \n",
       "                                                                               2570318995    55.0   \n",
       "                                                                               2570319099     6.0   \n",
       "                                                                               2570319103     7.0   \n",
       "                                                                               2570319165    41.0   \n",
       "                                                                               2570319283    23.0   \n",
       "                                                                               2570319503    48.0   \n",
       "                                                                               2570319513     0.0   \n",
       "                                                                               2570319529    14.0   \n",
       "                                                                               2570319541    22.0   \n",
       "                                                                               2570319583     7.0   \n",
       "                                                                               2570319591     8.0   \n",
       "                                                                               2570319593    12.0   \n",
       "                                                                               2570319613    22.0   \n",
       "                                                                               2570319627    25.0   \n",
       "                                                                               2570319711    34.0   \n",
       "                                                                               2570319923    50.0   \n",
       "                                                                               2570319957    19.0   \n",
       "                                                                               2570320113    11.0   \n",
       "                                                                               2570320339    35.0   \n",
       "                                                                               2570320357    41.0   \n",
       "                                                                               2570320513    48.0   \n",
       "                                                                               2570320691     2.0   \n",
       "                                                                               2570320933    40.0   \n",
       "                                                                               2570320945    43.0   \n",
       "                                                                               2570320987    59.0   \n",
       "                                                                               2570324959     0.0   \n",
       "\n",
       "                                                                                           expanded_minute  \\\n",
       "league               season game                                               id                            \n",
       "ARG-Liga Profesional 2324   2023-07-24 Racing Club-Central Cordoba de Santiago 2570315671                1   \n",
       "                                                                               2570315751                1   \n",
       "                                                                               2570315827                2   \n",
       "                                                                               2570315829                2   \n",
       "                                                                               2570316119                3   \n",
       "                                                                               2570316251                4   \n",
       "                                                                               2570316347                4   \n",
       "                                                                               2570316371                5   \n",
       "                                                                               2570316901                8   \n",
       "                                                                               2570316909                8   \n",
       "                                                                               2570317003                9   \n",
       "                                                                               2570317009                9   \n",
       "                                                                               2570317041                9   \n",
       "                                                                               2570317047                9   \n",
       "                                                                               2570317207               10   \n",
       "                                                                               2570317259               10   \n",
       "                                                                               2570317305               10   \n",
       "                                                                               2570317899               14   \n",
       "                                                                               2570318299               16   \n",
       "                                                                               2570318305               16   \n",
       "                                                                               2570318401               16   \n",
       "                                                                               2570318523               17   \n",
       "                                                                               2570318575               17   \n",
       "                                                                               2570318995               20   \n",
       "                                                                               2570319099               22   \n",
       "                                                                               2570319103               22   \n",
       "                                                                               2570319165               22   \n",
       "                                                                               2570319283               24   \n",
       "                                                                               2570319503               27   \n",
       "                                                                               2570319513               28   \n",
       "                                                                               2570319529               28   \n",
       "                                                                               2570319541               28   \n",
       "                                                                               2570319583               29   \n",
       "                                                                               2570319591               29   \n",
       "                                                                               2570319593               29   \n",
       "                                                                               2570319613               29   \n",
       "                                                                               2570319627               29   \n",
       "                                                                               2570319711               30   \n",
       "                                                                               2570319923               32   \n",
       "                                                                               2570319957               33   \n",
       "                                                                               2570320113               35   \n",
       "                                                                               2570320339               36   \n",
       "                                                                               2570320357               36   \n",
       "                                                                               2570320513               37   \n",
       "                                                                               2570320691               39   \n",
       "                                                                               2570320933               40   \n",
       "                                                                               2570320945               40   \n",
       "                                                                               2570320987               40   \n",
       "                                                                               2570324959               47   \n",
       "\n",
       "                                                                                                      type  \\\n",
       "league               season game                                               id                            \n",
       "ARG-Liga Profesional 2324   2023-07-24 Racing Club-Central Cordoba de Santiago 2570315671             Pass   \n",
       "                                                                               2570315751      BlockedPass   \n",
       "                                                                               2570315827     BallRecovery   \n",
       "                                                                               2570315829             Pass   \n",
       "                                                                               2570316119           Aerial   \n",
       "                                                                               2570316251             Pass   \n",
       "                                                                               2570316347             Pass   \n",
       "                                                                               2570316371             Pass   \n",
       "                                                                               2570316901     BallRecovery   \n",
       "                                                                               2570316909             Pass   \n",
       "                                                                               2570317003           Aerial   \n",
       "                                                                               2570317009             Pass   \n",
       "                                                                               2570317041             Pass   \n",
       "                                                                               2570317047             Pass   \n",
       "                                                                               2570317207             Pass   \n",
       "                                                                               2570317259             Pass   \n",
       "                                                                               2570317305             Pass   \n",
       "                                                                               2570317899           Tackle   \n",
       "                                                                               2570318299           Aerial   \n",
       "                                                                               2570318305             Pass   \n",
       "                                                                               2570318401      BlockedPass   \n",
       "                                                                               2570318523             Pass   \n",
       "                                                                               2570318575             Pass   \n",
       "                                                                               2570318995             Pass   \n",
       "                                                                               2570319099           TakeOn   \n",
       "                                                                               2570319103             Pass   \n",
       "                                                                               2570319165             Pass   \n",
       "                                                                               2570319283             Pass   \n",
       "                                                                               2570319503             Pass   \n",
       "                                                                               2570319513             Pass   \n",
       "                                                                               2570319529             Pass   \n",
       "                                                                               2570319541             Pass   \n",
       "                                                                               2570319583     BallRecovery   \n",
       "                                                                               2570319591           TakeOn   \n",
       "                                                                               2570319593             Foul   \n",
       "                                                                               2570319613             Pass   \n",
       "                                                                               2570319627             Pass   \n",
       "                                                                               2570319711             Foul   \n",
       "                                                                               2570319923             Pass   \n",
       "                                                                               2570319957             Pass   \n",
       "                                                                               2570320113        SavedShot   \n",
       "                                                                               2570320339             Pass   \n",
       "                                                                               2570320357             Pass   \n",
       "                                                                               2570320513             Pass   \n",
       "                                                                               2570320691             Goal   \n",
       "                                                                               2570320933     BallRecovery   \n",
       "                                                                               2570320945             Foul   \n",
       "                                                                               2570320987             Pass   \n",
       "                                                                               2570324959  SubstitutionOff   \n",
       "\n",
       "                                                                                           outcome_type  \\\n",
       "league               season game                                               id                         \n",
       "ARG-Liga Profesional 2324   2023-07-24 Racing Club-Central Cordoba de Santiago 2570315671    Successful   \n",
       "                                                                               2570315751    Successful   \n",
       "                                                                               2570315827    Successful   \n",
       "                                                                               2570315829    Successful   \n",
       "                                                                               2570316119  Unsuccessful   \n",
       "                                                                               2570316251    Successful   \n",
       "                                                                               2570316347    Successful   \n",
       "                                                                               2570316371    Successful   \n",
       "                                                                               2570316901    Successful   \n",
       "                                                                               2570316909    Successful   \n",
       "                                                                               2570317003    Successful   \n",
       "                                                                               2570317009  Unsuccessful   \n",
       "                                                                               2570317041    Successful   \n",
       "                                                                               2570317047  Unsuccessful   \n",
       "                                                                               2570317207    Successful   \n",
       "                                                                               2570317259    Successful   \n",
       "                                                                               2570317305  Unsuccessful   \n",
       "                                                                               2570317899    Successful   \n",
       "                                                                               2570318299    Successful   \n",
       "                                                                               2570318305    Successful   \n",
       "                                                                               2570318401    Successful   \n",
       "                                                                               2570318523    Successful   \n",
       "                                                                               2570318575    Successful   \n",
       "                                                                               2570318995  Unsuccessful   \n",
       "                                                                               2570319099    Successful   \n",
       "                                                                               2570319103    Successful   \n",
       "                                                                               2570319165    Successful   \n",
       "                                                                               2570319283    Successful   \n",
       "                                                                               2570319503    Successful   \n",
       "                                                                               2570319513    Successful   \n",
       "                                                                               2570319529    Successful   \n",
       "                                                                               2570319541    Successful   \n",
       "                                                                               2570319583    Successful   \n",
       "                                                                               2570319591    Successful   \n",
       "                                                                               2570319593    Successful   \n",
       "                                                                               2570319613    Successful   \n",
       "                                                                               2570319627    Successful   \n",
       "                                                                               2570319711  Unsuccessful   \n",
       "                                                                               2570319923    Successful   \n",
       "                                                                               2570319957    Successful   \n",
       "                                                                               2570320113    Successful   \n",
       "                                                                               2570320339    Successful   \n",
       "                                                                               2570320357    Successful   \n",
       "                                                                               2570320513    Successful   \n",
       "                                                                               2570320691    Successful   \n",
       "                                                                               2570320933    Successful   \n",
       "                                                                               2570320945    Successful   \n",
       "                                                                               2570320987    Successful   \n",
       "                                                                               2570324959    Successful   \n",
       "\n",
       "                                                                                           team_id  \\\n",
       "league               season game                                               id                    \n",
       "ARG-Liga Profesional 2324   2023-07-24 Racing Club-Central Cordoba de Santiago 2570315671      890   \n",
       "                                                                               2570315751      890   \n",
       "                                                                               2570315827      890   \n",
       "                                                                               2570315829      890   \n",
       "                                                                               2570316119      890   \n",
       "                                                                               2570316251      890   \n",
       "                                                                               2570316347      890   \n",
       "                                                                               2570316371      890   \n",
       "                                                                               2570316901      890   \n",
       "                                                                               2570316909      890   \n",
       "                                                                               2570317003      890   \n",
       "                                                                               2570317009      890   \n",
       "                                                                               2570317041      890   \n",
       "                                                                               2570317047      890   \n",
       "                                                                               2570317207      890   \n",
       "                                                                               2570317259      890   \n",
       "                                                                               2570317305      890   \n",
       "                                                                               2570317899      890   \n",
       "                                                                               2570318299      890   \n",
       "                                                                               2570318305      890   \n",
       "                                                                               2570318401      890   \n",
       "                                                                               2570318523      890   \n",
       "                                                                               2570318575      890   \n",
       "                                                                               2570318995      890   \n",
       "                                                                               2570319099      890   \n",
       "                                                                               2570319103      890   \n",
       "                                                                               2570319165      890   \n",
       "                                                                               2570319283      890   \n",
       "                                                                               2570319503      890   \n",
       "                                                                               2570319513      890   \n",
       "                                                                               2570319529      890   \n",
       "                                                                               2570319541      890   \n",
       "                                                                               2570319583      890   \n",
       "                                                                               2570319591      890   \n",
       "                                                                               2570319593      890   \n",
       "                                                                               2570319613      890   \n",
       "                                                                               2570319627      890   \n",
       "                                                                               2570319711      890   \n",
       "                                                                               2570319923      890   \n",
       "                                                                               2570319957      890   \n",
       "                                                                               2570320113      890   \n",
       "                                                                               2570320339      890   \n",
       "                                                                               2570320357      890   \n",
       "                                                                               2570320513      890   \n",
       "                                                                               2570320691      890   \n",
       "                                                                               2570320933      890   \n",
       "                                                                               2570320945      890   \n",
       "                                                                               2570320987      890   \n",
       "                                                                               2570324959      890   \n",
       "\n",
       "                                                                                                  team  \\\n",
       "league               season game                                               id                        \n",
       "ARG-Liga Profesional 2324   2023-07-24 Racing Club-Central Cordoba de Santiago 2570315671  Racing Club   \n",
       "                                                                               2570315751  Racing Club   \n",
       "                                                                               2570315827  Racing Club   \n",
       "                                                                               2570315829  Racing Club   \n",
       "                                                                               2570316119  Racing Club   \n",
       "                                                                               2570316251  Racing Club   \n",
       "                                                                               2570316347  Racing Club   \n",
       "                                                                               2570316371  Racing Club   \n",
       "                                                                               2570316901  Racing Club   \n",
       "                                                                               2570316909  Racing Club   \n",
       "                                                                               2570317003  Racing Club   \n",
       "                                                                               2570317009  Racing Club   \n",
       "                                                                               2570317041  Racing Club   \n",
       "                                                                               2570317047  Racing Club   \n",
       "                                                                               2570317207  Racing Club   \n",
       "                                                                               2570317259  Racing Club   \n",
       "                                                                               2570317305  Racing Club   \n",
       "                                                                               2570317899  Racing Club   \n",
       "                                                                               2570318299  Racing Club   \n",
       "                                                                               2570318305  Racing Club   \n",
       "                                                                               2570318401  Racing Club   \n",
       "                                                                               2570318523  Racing Club   \n",
       "                                                                               2570318575  Racing Club   \n",
       "                                                                               2570318995  Racing Club   \n",
       "                                                                               2570319099  Racing Club   \n",
       "                                                                               2570319103  Racing Club   \n",
       "                                                                               2570319165  Racing Club   \n",
       "                                                                               2570319283  Racing Club   \n",
       "                                                                               2570319503  Racing Club   \n",
       "                                                                               2570319513  Racing Club   \n",
       "                                                                               2570319529  Racing Club   \n",
       "                                                                               2570319541  Racing Club   \n",
       "                                                                               2570319583  Racing Club   \n",
       "                                                                               2570319591  Racing Club   \n",
       "                                                                               2570319593  Racing Club   \n",
       "                                                                               2570319613  Racing Club   \n",
       "                                                                               2570319627  Racing Club   \n",
       "                                                                               2570319711  Racing Club   \n",
       "                                                                               2570319923  Racing Club   \n",
       "                                                                               2570319957  Racing Club   \n",
       "                                                                               2570320113  Racing Club   \n",
       "                                                                               2570320339  Racing Club   \n",
       "                                                                               2570320357  Racing Club   \n",
       "                                                                               2570320513  Racing Club   \n",
       "                                                                               2570320691  Racing Club   \n",
       "                                                                               2570320933  Racing Club   \n",
       "                                                                               2570320945  Racing Club   \n",
       "                                                                               2570320987  Racing Club   \n",
       "                                                                               2570324959  Racing Club   \n",
       "\n",
       "                                                                                           player_id  \\\n",
       "league               season game                                               id                      \n",
       "ARG-Liga Profesional 2324   2023-07-24 Racing Club-Central Cordoba de Santiago 2570315671   382565.0   \n",
       "                                                                               2570315751   382565.0   \n",
       "                                                                               2570315827   382565.0   \n",
       "                                                                               2570315829   382565.0   \n",
       "                                                                               2570316119   382565.0   \n",
       "                                                                               2570316251   382565.0   \n",
       "                                                                               2570316347   382565.0   \n",
       "                                                                               2570316371   382565.0   \n",
       "                                                                               2570316901   382565.0   \n",
       "                                                                               2570316909   382565.0   \n",
       "                                                                               2570317003   382565.0   \n",
       "                                                                               2570317009   382565.0   \n",
       "                                                                               2570317041   382565.0   \n",
       "                                                                               2570317047   382565.0   \n",
       "                                                                               2570317207   382565.0   \n",
       "                                                                               2570317259   382565.0   \n",
       "                                                                               2570317305   382565.0   \n",
       "                                                                               2570317899   382565.0   \n",
       "                                                                               2570318299   382565.0   \n",
       "                                                                               2570318305   382565.0   \n",
       "                                                                               2570318401   382565.0   \n",
       "                                                                               2570318523   382565.0   \n",
       "                                                                               2570318575   382565.0   \n",
       "                                                                               2570318995   382565.0   \n",
       "                                                                               2570319099   382565.0   \n",
       "                                                                               2570319103   382565.0   \n",
       "                                                                               2570319165   382565.0   \n",
       "                                                                               2570319283   382565.0   \n",
       "                                                                               2570319503   382565.0   \n",
       "                                                                               2570319513   382565.0   \n",
       "                                                                               2570319529   382565.0   \n",
       "                                                                               2570319541   382565.0   \n",
       "                                                                               2570319583   382565.0   \n",
       "                                                                               2570319591   382565.0   \n",
       "                                                                               2570319593   382565.0   \n",
       "                                                                               2570319613   382565.0   \n",
       "                                                                               2570319627   382565.0   \n",
       "                                                                               2570319711   382565.0   \n",
       "                                                                               2570319923   382565.0   \n",
       "                                                                               2570319957   382565.0   \n",
       "                                                                               2570320113   382565.0   \n",
       "                                                                               2570320339   382565.0   \n",
       "                                                                               2570320357   382565.0   \n",
       "                                                                               2570320513   382565.0   \n",
       "                                                                               2570320691   382565.0   \n",
       "                                                                               2570320933   382565.0   \n",
       "                                                                               2570320945   382565.0   \n",
       "                                                                               2570320987   382565.0   \n",
       "                                                                               2570324959   382565.0   \n",
       "\n",
       "                                                                                           ...  \\\n",
       "league               season game                                               id          ...   \n",
       "ARG-Liga Profesional 2324   2023-07-24 Racing Club-Central Cordoba de Santiago 2570315671  ...   \n",
       "                                                                               2570315751  ...   \n",
       "                                                                               2570315827  ...   \n",
       "                                                                               2570315829  ...   \n",
       "                                                                               2570316119  ...   \n",
       "                                                                               2570316251  ...   \n",
       "                                                                               2570316347  ...   \n",
       "                                                                               2570316371  ...   \n",
       "                                                                               2570316901  ...   \n",
       "                                                                               2570316909  ...   \n",
       "                                                                               2570317003  ...   \n",
       "                                                                               2570317009  ...   \n",
       "                                                                               2570317041  ...   \n",
       "                                                                               2570317047  ...   \n",
       "                                                                               2570317207  ...   \n",
       "                                                                               2570317259  ...   \n",
       "                                                                               2570317305  ...   \n",
       "                                                                               2570317899  ...   \n",
       "                                                                               2570318299  ...   \n",
       "                                                                               2570318305  ...   \n",
       "                                                                               2570318401  ...   \n",
       "                                                                               2570318523  ...   \n",
       "                                                                               2570318575  ...   \n",
       "                                                                               2570318995  ...   \n",
       "                                                                               2570319099  ...   \n",
       "                                                                               2570319103  ...   \n",
       "                                                                               2570319165  ...   \n",
       "                                                                               2570319283  ...   \n",
       "                                                                               2570319503  ...   \n",
       "                                                                               2570319513  ...   \n",
       "                                                                               2570319529  ...   \n",
       "                                                                               2570319541  ...   \n",
       "                                                                               2570319583  ...   \n",
       "                                                                               2570319591  ...   \n",
       "                                                                               2570319593  ...   \n",
       "                                                                               2570319613  ...   \n",
       "                                                                               2570319627  ...   \n",
       "                                                                               2570319711  ...   \n",
       "                                                                               2570319923  ...   \n",
       "                                                                               2570319957  ...   \n",
       "                                                                               2570320113  ...   \n",
       "                                                                               2570320339  ...   \n",
       "                                                                               2570320357  ...   \n",
       "                                                                               2570320513  ...   \n",
       "                                                                               2570320691  ...   \n",
       "                                                                               2570320933  ...   \n",
       "                                                                               2570320945  ...   \n",
       "                                                                               2570320987  ...   \n",
       "                                                                               2570324959  ...   \n",
       "\n",
       "                                                                                          goal_mouth_z  \\\n",
       "league               season game                                               id                        \n",
       "ARG-Liga Profesional 2324   2023-07-24 Racing Club-Central Cordoba de Santiago 2570315671          NaN   \n",
       "                                                                               2570315751          NaN   \n",
       "                                                                               2570315827          NaN   \n",
       "                                                                               2570315829          NaN   \n",
       "                                                                               2570316119          NaN   \n",
       "                                                                               2570316251          NaN   \n",
       "                                                                               2570316347          NaN   \n",
       "                                                                               2570316371          NaN   \n",
       "                                                                               2570316901          NaN   \n",
       "                                                                               2570316909          NaN   \n",
       "                                                                               2570317003          NaN   \n",
       "                                                                               2570317009          NaN   \n",
       "                                                                               2570317041          NaN   \n",
       "                                                                               2570317047          NaN   \n",
       "                                                                               2570317207          NaN   \n",
       "                                                                               2570317259          NaN   \n",
       "                                                                               2570317305          NaN   \n",
       "                                                                               2570317899          NaN   \n",
       "                                                                               2570318299          NaN   \n",
       "                                                                               2570318305          NaN   \n",
       "                                                                               2570318401          NaN   \n",
       "                                                                               2570318523          NaN   \n",
       "                                                                               2570318575          NaN   \n",
       "                                                                               2570318995          NaN   \n",
       "                                                                               2570319099          NaN   \n",
       "                                                                               2570319103          NaN   \n",
       "                                                                               2570319165          NaN   \n",
       "                                                                               2570319283          NaN   \n",
       "                                                                               2570319503          NaN   \n",
       "                                                                               2570319513          NaN   \n",
       "                                                                               2570319529          NaN   \n",
       "                                                                               2570319541          NaN   \n",
       "                                                                               2570319583          NaN   \n",
       "                                                                               2570319591          NaN   \n",
       "                                                                               2570319593          NaN   \n",
       "                                                                               2570319613          NaN   \n",
       "                                                                               2570319627          NaN   \n",
       "                                                                               2570319711          NaN   \n",
       "                                                                               2570319923          NaN   \n",
       "                                                                               2570319957          NaN   \n",
       "                                                                               2570320113          5.7   \n",
       "                                                                               2570320339          NaN   \n",
       "                                                                               2570320357          NaN   \n",
       "                                                                               2570320513          NaN   \n",
       "                                                                               2570320691          3.2   \n",
       "                                                                               2570320933          NaN   \n",
       "                                                                               2570320945          NaN   \n",
       "                                                                               2570320987          NaN   \n",
       "                                                                               2570324959          NaN   \n",
       "\n",
       "                                                                                           blocked_x  \\\n",
       "league               season game                                               id                      \n",
       "ARG-Liga Profesional 2324   2023-07-24 Racing Club-Central Cordoba de Santiago 2570315671        NaN   \n",
       "                                                                               2570315751        NaN   \n",
       "                                                                               2570315827        NaN   \n",
       "                                                                               2570315829        NaN   \n",
       "                                                                               2570316119        NaN   \n",
       "                                                                               2570316251        NaN   \n",
       "                                                                               2570316347        NaN   \n",
       "                                                                               2570316371        NaN   \n",
       "                                                                               2570316901        NaN   \n",
       "                                                                               2570316909        NaN   \n",
       "                                                                               2570317003        NaN   \n",
       "                                                                               2570317009        NaN   \n",
       "                                                                               2570317041        NaN   \n",
       "                                                                               2570317047        NaN   \n",
       "                                                                               2570317207        NaN   \n",
       "                                                                               2570317259        NaN   \n",
       "                                                                               2570317305        NaN   \n",
       "                                                                               2570317899        NaN   \n",
       "                                                                               2570318299        NaN   \n",
       "                                                                               2570318305        NaN   \n",
       "                                                                               2570318401        NaN   \n",
       "                                                                               2570318523        NaN   \n",
       "                                                                               2570318575        NaN   \n",
       "                                                                               2570318995        NaN   \n",
       "                                                                               2570319099        NaN   \n",
       "                                                                               2570319103        NaN   \n",
       "                                                                               2570319165        NaN   \n",
       "                                                                               2570319283        NaN   \n",
       "                                                                               2570319503        NaN   \n",
       "                                                                               2570319513        NaN   \n",
       "                                                                               2570319529        NaN   \n",
       "                                                                               2570319541        NaN   \n",
       "                                                                               2570319583        NaN   \n",
       "                                                                               2570319591        NaN   \n",
       "                                                                               2570319593        NaN   \n",
       "                                                                               2570319613        NaN   \n",
       "                                                                               2570319627        NaN   \n",
       "                                                                               2570319711        NaN   \n",
       "                                                                               2570319923        NaN   \n",
       "                                                                               2570319957        NaN   \n",
       "                                                                               2570320113       99.0   \n",
       "                                                                               2570320339        NaN   \n",
       "                                                                               2570320357        NaN   \n",
       "                                                                               2570320513        NaN   \n",
       "                                                                               2570320691        NaN   \n",
       "                                                                               2570320933        NaN   \n",
       "                                                                               2570320945        NaN   \n",
       "                                                                               2570320987        NaN   \n",
       "                                                                               2570324959        NaN   \n",
       "\n",
       "                                                                                           blocked_y  \\\n",
       "league               season game                                               id                      \n",
       "ARG-Liga Profesional 2324   2023-07-24 Racing Club-Central Cordoba de Santiago 2570315671        NaN   \n",
       "                                                                               2570315751        NaN   \n",
       "                                                                               2570315827        NaN   \n",
       "                                                                               2570315829        NaN   \n",
       "                                                                               2570316119        NaN   \n",
       "                                                                               2570316251        NaN   \n",
       "                                                                               2570316347        NaN   \n",
       "                                                                               2570316371        NaN   \n",
       "                                                                               2570316901        NaN   \n",
       "                                                                               2570316909        NaN   \n",
       "                                                                               2570317003        NaN   \n",
       "                                                                               2570317009        NaN   \n",
       "                                                                               2570317041        NaN   \n",
       "                                                                               2570317047        NaN   \n",
       "                                                                               2570317207        NaN   \n",
       "                                                                               2570317259        NaN   \n",
       "                                                                               2570317305        NaN   \n",
       "                                                                               2570317899        NaN   \n",
       "                                                                               2570318299        NaN   \n",
       "                                                                               2570318305        NaN   \n",
       "                                                                               2570318401        NaN   \n",
       "                                                                               2570318523        NaN   \n",
       "                                                                               2570318575        NaN   \n",
       "                                                                               2570318995        NaN   \n",
       "                                                                               2570319099        NaN   \n",
       "                                                                               2570319103        NaN   \n",
       "                                                                               2570319165        NaN   \n",
       "                                                                               2570319283        NaN   \n",
       "                                                                               2570319503        NaN   \n",
       "                                                                               2570319513        NaN   \n",
       "                                                                               2570319529        NaN   \n",
       "                                                                               2570319541        NaN   \n",
       "                                                                               2570319583        NaN   \n",
       "                                                                               2570319591        NaN   \n",
       "                                                                               2570319593        NaN   \n",
       "                                                                               2570319613        NaN   \n",
       "                                                                               2570319627        NaN   \n",
       "                                                                               2570319711        NaN   \n",
       "                                                                               2570319923        NaN   \n",
       "                                                                               2570319957        NaN   \n",
       "                                                                               2570320113       50.7   \n",
       "                                                                               2570320339        NaN   \n",
       "                                                                               2570320357        NaN   \n",
       "                                                                               2570320513        NaN   \n",
       "                                                                               2570320691        NaN   \n",
       "                                                                               2570320933        NaN   \n",
       "                                                                               2570320945        NaN   \n",
       "                                                                               2570320987        NaN   \n",
       "                                                                               2570324959        NaN   \n",
       "\n",
       "                                                                                                                                  qualifiers  \\\n",
       "league               season game                                               id                                                              \n",
       "ARG-Liga Profesional 2324   2023-07-24 Racing Club-Central Cordoba de Santiago 2570315671  [{'type': {'displayName': 'Chipped', 'value': ...   \n",
       "                                                                               2570315751  [{'type': {'displayName': 'OppositeRelatedEven...   \n",
       "                                                                               2570315827                                                 []   \n",
       "                                                                               2570315829  [{'type': {'displayName': 'Zone', 'value': 56}...   \n",
       "                                                                               2570316119  [{'type': {'displayName': 'Defensive', 'value'...   \n",
       "                                                                               2570316251  [{'type': {'displayName': 'PassEndX', 'value':...   \n",
       "                                                                               2570316347  [{'type': {'displayName': 'PassEndY', 'value':...   \n",
       "                                                                               2570316371  [{'type': {'displayName': 'Zone', 'value': 56}...   \n",
       "                                                                               2570316901                                                 []   \n",
       "                                                                               2570316909  [{'type': {'displayName': 'Angle', 'value': 21...   \n",
       "                                                                               2570317003  [{'type': {'displayName': 'Zone', 'value': 56}...   \n",
       "                                                                               2570317009  [{'type': {'displayName': 'PassEndX', 'value':...   \n",
       "                                                                               2570317041  [{'type': {'displayName': 'Zone', 'value': 56}...   \n",
       "                                                                               2570317047  [{'type': {'displayName': 'PassEndY', 'value':...   \n",
       "                                                                               2570317207  [{'type': {'displayName': 'Length', 'value': 2...   \n",
       "                                                                               2570317259  [{'type': {'displayName': 'Angle', 'value': 21...   \n",
       "                                                                               2570317305  [{'type': {'displayName': 'Angle', 'value': 21...   \n",
       "                                                                               2570317899  [{'type': {'displayName': 'Zone', 'value': 56}...   \n",
       "                                                                               2570318299  [{'type': {'displayName': 'Zone', 'value': 56}...   \n",
       "                                                                               2570318305  [{'type': {'displayName': 'Angle', 'value': 21...   \n",
       "                                                                               2570318401  [{'type': {'displayName': 'OppositeRelatedEven...   \n",
       "                                                                               2570318523  [{'type': {'displayName': 'Length', 'value': 2...   \n",
       "                                                                               2570318575  [{'type': {'displayName': 'PassEndY', 'value':...   \n",
       "                                                                               2570318995  [{'type': {'displayName': 'PassEndX', 'value':...   \n",
       "                                                                               2570319099  [{'type': {'displayName': 'Zone', 'value': 56}...   \n",
       "                                                                               2570319103  [{'type': {'displayName': 'Angle', 'value': 21...   \n",
       "                                                                               2570319165  [{'type': {'displayName': 'Length', 'value': 2...   \n",
       "                                                                               2570319283  [{'type': {'displayName': 'Angle', 'value': 21...   \n",
       "                                                                               2570319503  [{'type': {'displayName': 'Zone', 'value': 56}...   \n",
       "                                                                               2570319513  [{'type': {'displayName': 'Length', 'value': 2...   \n",
       "                                                                               2570319529  [{'type': {'displayName': 'PassEndX', 'value':...   \n",
       "                                                                               2570319541  [{'type': {'displayName': 'Angle', 'value': 21...   \n",
       "                                                                               2570319583                                                 []   \n",
       "                                                                               2570319591  [{'type': {'displayName': 'Defensive', 'value'...   \n",
       "                                                                               2570319593  [{'type': {'displayName': 'Defensive', 'value'...   \n",
       "                                                                               2570319613  [{'type': {'displayName': 'PassEndX', 'value':...   \n",
       "                                                                               2570319627  [{'type': {'displayName': 'PassEndY', 'value':...   \n",
       "                                                                               2570319711  [{'type': {'displayName': 'OppositeRelatedEven...   \n",
       "                                                                               2570319923  [{'type': {'displayName': 'Zone', 'value': 56}...   \n",
       "                                                                               2570319957  [{'type': {'displayName': 'Zone', 'value': 56}...   \n",
       "                                                                               2570320113  [{'type': {'displayName': 'BlockedY', 'value':...   \n",
       "                                                                               2570320339  [{'type': {'displayName': 'PassEndX', 'value':...   \n",
       "                                                                               2570320357  [{'type': {'displayName': 'PassEndX', 'value':...   \n",
       "                                                                               2570320513  [{'type': {'displayName': 'PassEndX', 'value':...   \n",
       "                                                                               2570320691  [{'type': {'displayName': 'LeftFoot', 'value':...   \n",
       "                                                                               2570320933                                                 []   \n",
       "                                                                               2570320945  [{'type': {'displayName': 'Foul', 'value': 13}...   \n",
       "                                                                               2570320987  [{'type': {'displayName': 'Angle', 'value': 21...   \n",
       "                                                                               2570324959  [{'type': {'displayName': 'PlayerPosition', 'v...   \n",
       "\n",
       "                                                                                           is_touch  \\\n",
       "league               season game                                               id                     \n",
       "ARG-Liga Profesional 2324   2023-07-24 Racing Club-Central Cordoba de Santiago 2570315671      True   \n",
       "                                                                               2570315751      True   \n",
       "                                                                               2570315827     False   \n",
       "                                                                               2570315829      True   \n",
       "                                                                               2570316119     False   \n",
       "                                                                               2570316251      True   \n",
       "                                                                               2570316347      True   \n",
       "                                                                               2570316371      True   \n",
       "                                                                               2570316901     False   \n",
       "                                                                               2570316909      True   \n",
       "                                                                               2570317003     False   \n",
       "                                                                               2570317009      True   \n",
       "                                                                               2570317041      True   \n",
       "                                                                               2570317047      True   \n",
       "                                                                               2570317207      True   \n",
       "                                                                               2570317259      True   \n",
       "                                                                               2570317305      True   \n",
       "                                                                               2570317899      True   \n",
       "                                                                               2570318299     False   \n",
       "                                                                               2570318305      True   \n",
       "                                                                               2570318401      True   \n",
       "                                                                               2570318523      True   \n",
       "                                                                               2570318575      True   \n",
       "                                                                               2570318995      True   \n",
       "                                                                               2570319099      True   \n",
       "                                                                               2570319103      True   \n",
       "                                                                               2570319165      True   \n",
       "                                                                               2570319283      True   \n",
       "                                                                               2570319503      True   \n",
       "                                                                               2570319513      True   \n",
       "                                                                               2570319529      True   \n",
       "                                                                               2570319541      True   \n",
       "                                                                               2570319583     False   \n",
       "                                                                               2570319591      True   \n",
       "                                                                               2570319593      True   \n",
       "                                                                               2570319613      True   \n",
       "                                                                               2570319627      True   \n",
       "                                                                               2570319711     False   \n",
       "                                                                               2570319923      True   \n",
       "                                                                               2570319957      True   \n",
       "                                                                               2570320113      True   \n",
       "                                                                               2570320339      True   \n",
       "                                                                               2570320357      True   \n",
       "                                                                               2570320513      True   \n",
       "                                                                               2570320691      True   \n",
       "                                                                               2570320933     False   \n",
       "                                                                               2570320945      True   \n",
       "                                                                               2570320987      True   \n",
       "                                                                               2570324959     False   \n",
       "\n",
       "                                                                                           is_shot  \\\n",
       "league               season game                                               id                    \n",
       "ARG-Liga Profesional 2324   2023-07-24 Racing Club-Central Cordoba de Santiago 2570315671      NaN   \n",
       "                                                                               2570315751      NaN   \n",
       "                                                                               2570315827      NaN   \n",
       "                                                                               2570315829      NaN   \n",
       "                                                                               2570316119      NaN   \n",
       "                                                                               2570316251      NaN   \n",
       "                                                                               2570316347      NaN   \n",
       "                                                                               2570316371      NaN   \n",
       "                                                                               2570316901      NaN   \n",
       "                                                                               2570316909      NaN   \n",
       "                                                                               2570317003      NaN   \n",
       "                                                                               2570317009      NaN   \n",
       "                                                                               2570317041      NaN   \n",
       "                                                                               2570317047      NaN   \n",
       "                                                                               2570317207      NaN   \n",
       "                                                                               2570317259      NaN   \n",
       "                                                                               2570317305      NaN   \n",
       "                                                                               2570317899      NaN   \n",
       "                                                                               2570318299      NaN   \n",
       "                                                                               2570318305      NaN   \n",
       "                                                                               2570318401      NaN   \n",
       "                                                                               2570318523      NaN   \n",
       "                                                                               2570318575      NaN   \n",
       "                                                                               2570318995      NaN   \n",
       "                                                                               2570319099      NaN   \n",
       "                                                                               2570319103      NaN   \n",
       "                                                                               2570319165      NaN   \n",
       "                                                                               2570319283      NaN   \n",
       "                                                                               2570319503      NaN   \n",
       "                                                                               2570319513      NaN   \n",
       "                                                                               2570319529      NaN   \n",
       "                                                                               2570319541      NaN   \n",
       "                                                                               2570319583      NaN   \n",
       "                                                                               2570319591      NaN   \n",
       "                                                                               2570319593      NaN   \n",
       "                                                                               2570319613      NaN   \n",
       "                                                                               2570319627      NaN   \n",
       "                                                                               2570319711      NaN   \n",
       "                                                                               2570319923      NaN   \n",
       "                                                                               2570319957      NaN   \n",
       "                                                                               2570320113     True   \n",
       "                                                                               2570320339      NaN   \n",
       "                                                                               2570320357      NaN   \n",
       "                                                                               2570320513      NaN   \n",
       "                                                                               2570320691     True   \n",
       "                                                                               2570320933      NaN   \n",
       "                                                                               2570320945      NaN   \n",
       "                                                                               2570320987      NaN   \n",
       "                                                                               2570324959      NaN   \n",
       "\n",
       "                                                                                           is_goal  \\\n",
       "league               season game                                               id                    \n",
       "ARG-Liga Profesional 2324   2023-07-24 Racing Club-Central Cordoba de Santiago 2570315671      NaN   \n",
       "                                                                               2570315751      NaN   \n",
       "                                                                               2570315827      NaN   \n",
       "                                                                               2570315829      NaN   \n",
       "                                                                               2570316119      NaN   \n",
       "                                                                               2570316251      NaN   \n",
       "                                                                               2570316347      NaN   \n",
       "                                                                               2570316371      NaN   \n",
       "                                                                               2570316901      NaN   \n",
       "                                                                               2570316909      NaN   \n",
       "                                                                               2570317003      NaN   \n",
       "                                                                               2570317009      NaN   \n",
       "                                                                               2570317041      NaN   \n",
       "                                                                               2570317047      NaN   \n",
       "                                                                               2570317207      NaN   \n",
       "                                                                               2570317259      NaN   \n",
       "                                                                               2570317305      NaN   \n",
       "                                                                               2570317899      NaN   \n",
       "                                                                               2570318299      NaN   \n",
       "                                                                               2570318305      NaN   \n",
       "                                                                               2570318401      NaN   \n",
       "                                                                               2570318523      NaN   \n",
       "                                                                               2570318575      NaN   \n",
       "                                                                               2570318995      NaN   \n",
       "                                                                               2570319099      NaN   \n",
       "                                                                               2570319103      NaN   \n",
       "                                                                               2570319165      NaN   \n",
       "                                                                               2570319283      NaN   \n",
       "                                                                               2570319503      NaN   \n",
       "                                                                               2570319513      NaN   \n",
       "                                                                               2570319529      NaN   \n",
       "                                                                               2570319541      NaN   \n",
       "                                                                               2570319583      NaN   \n",
       "                                                                               2570319591      NaN   \n",
       "                                                                               2570319593      NaN   \n",
       "                                                                               2570319613      NaN   \n",
       "                                                                               2570319627      NaN   \n",
       "                                                                               2570319711      NaN   \n",
       "                                                                               2570319923      NaN   \n",
       "                                                                               2570319957      NaN   \n",
       "                                                                               2570320113      NaN   \n",
       "                                                                               2570320339      NaN   \n",
       "                                                                               2570320357      NaN   \n",
       "                                                                               2570320513      NaN   \n",
       "                                                                               2570320691     True   \n",
       "                                                                               2570320933      NaN   \n",
       "                                                                               2570320945      NaN   \n",
       "                                                                               2570320987      NaN   \n",
       "                                                                               2570324959      NaN   \n",
       "\n",
       "                                                                                           card_type  \\\n",
       "league               season game                                               id                      \n",
       "ARG-Liga Profesional 2324   2023-07-24 Racing Club-Central Cordoba de Santiago 2570315671        NaN   \n",
       "                                                                               2570315751        NaN   \n",
       "                                                                               2570315827        NaN   \n",
       "                                                                               2570315829        NaN   \n",
       "                                                                               2570316119        NaN   \n",
       "                                                                               2570316251        NaN   \n",
       "                                                                               2570316347        NaN   \n",
       "                                                                               2570316371        NaN   \n",
       "                                                                               2570316901        NaN   \n",
       "                                                                               2570316909        NaN   \n",
       "                                                                               2570317003        NaN   \n",
       "                                                                               2570317009        NaN   \n",
       "                                                                               2570317041        NaN   \n",
       "                                                                               2570317047        NaN   \n",
       "                                                                               2570317207        NaN   \n",
       "                                                                               2570317259        NaN   \n",
       "                                                                               2570317305        NaN   \n",
       "                                                                               2570317899        NaN   \n",
       "                                                                               2570318299        NaN   \n",
       "                                                                               2570318305        NaN   \n",
       "                                                                               2570318401        NaN   \n",
       "                                                                               2570318523        NaN   \n",
       "                                                                               2570318575        NaN   \n",
       "                                                                               2570318995        NaN   \n",
       "                                                                               2570319099        NaN   \n",
       "                                                                               2570319103        NaN   \n",
       "                                                                               2570319165        NaN   \n",
       "                                                                               2570319283        NaN   \n",
       "                                                                               2570319503        NaN   \n",
       "                                                                               2570319513        NaN   \n",
       "                                                                               2570319529        NaN   \n",
       "                                                                               2570319541        NaN   \n",
       "                                                                               2570319583        NaN   \n",
       "                                                                               2570319591        NaN   \n",
       "                                                                               2570319593        NaN   \n",
       "                                                                               2570319613        NaN   \n",
       "                                                                               2570319627        NaN   \n",
       "                                                                               2570319711        NaN   \n",
       "                                                                               2570319923        NaN   \n",
       "                                                                               2570319957        NaN   \n",
       "                                                                               2570320113        NaN   \n",
       "                                                                               2570320339        NaN   \n",
       "                                                                               2570320357        NaN   \n",
       "                                                                               2570320513        NaN   \n",
       "                                                                               2570320691        NaN   \n",
       "                                                                               2570320933        NaN   \n",
       "                                                                               2570320945        NaN   \n",
       "                                                                               2570320987        NaN   \n",
       "                                                                               2570324959        NaN   \n",
       "\n",
       "                                                                                           related_event_id  \\\n",
       "league               season game                                               id                             \n",
       "ARG-Liga Profesional 2324   2023-07-24 Racing Club-Central Cordoba de Santiago 2570315671               NaN   \n",
       "                                                                               2570315751               NaN   \n",
       "                                                                               2570315827               NaN   \n",
       "                                                                               2570315829               NaN   \n",
       "                                                                               2570316119               NaN   \n",
       "                                                                               2570316251               NaN   \n",
       "                                                                               2570316347               NaN   \n",
       "                                                                               2570316371               NaN   \n",
       "                                                                               2570316901               NaN   \n",
       "                                                                               2570316909               NaN   \n",
       "                                                                               2570317003               NaN   \n",
       "                                                                               2570317009               NaN   \n",
       "                                                                               2570317041               NaN   \n",
       "                                                                               2570317047               NaN   \n",
       "                                                                               2570317207               NaN   \n",
       "                                                                               2570317259               NaN   \n",
       "                                                                               2570317305               NaN   \n",
       "                                                                               2570317899               NaN   \n",
       "                                                                               2570318299               NaN   \n",
       "                                                                               2570318305               NaN   \n",
       "                                                                               2570318401               NaN   \n",
       "                                                                               2570318523               NaN   \n",
       "                                                                               2570318575               NaN   \n",
       "                                                                               2570318995               NaN   \n",
       "                                                                               2570319099               NaN   \n",
       "                                                                               2570319103               NaN   \n",
       "                                                                               2570319165               NaN   \n",
       "                                                                               2570319283               NaN   \n",
       "                                                                               2570319503               NaN   \n",
       "                                                                               2570319513               NaN   \n",
       "                                                                               2570319529               NaN   \n",
       "                                                                               2570319541               NaN   \n",
       "                                                                               2570319583               NaN   \n",
       "                                                                               2570319591               NaN   \n",
       "                                                                               2570319593               NaN   \n",
       "                                                                               2570319613               NaN   \n",
       "                                                                               2570319627               NaN   \n",
       "                                                                               2570319711               NaN   \n",
       "                                                                               2570319923               NaN   \n",
       "                                                                               2570319957               NaN   \n",
       "                                                                               2570320113             363.0   \n",
       "                                                                               2570320339               NaN   \n",
       "                                                                               2570320357               NaN   \n",
       "                                                                               2570320513               NaN   \n",
       "                                                                               2570320691             409.0   \n",
       "                                                                               2570320933               NaN   \n",
       "                                                                               2570320945               NaN   \n",
       "                                                                               2570320987               NaN   \n",
       "                                                                               2570324959             483.0   \n",
       "\n",
       "                                                                                          related_player_id  \n",
       "league               season game                                               id                            \n",
       "ARG-Liga Profesional 2324   2023-07-24 Racing Club-Central Cordoba de Santiago 2570315671               NaN  \n",
       "                                                                               2570315751               NaN  \n",
       "                                                                               2570315827               NaN  \n",
       "                                                                               2570315829               NaN  \n",
       "                                                                               2570316119               NaN  \n",
       "                                                                               2570316251               NaN  \n",
       "                                                                               2570316347               NaN  \n",
       "                                                                               2570316371               NaN  \n",
       "                                                                               2570316901               NaN  \n",
       "                                                                               2570316909               NaN  \n",
       "                                                                               2570317003               NaN  \n",
       "                                                                               2570317009               NaN  \n",
       "                                                                               2570317041               NaN  \n",
       "                                                                               2570317047               NaN  \n",
       "                                                                               2570317207               NaN  \n",
       "                                                                               2570317259               NaN  \n",
       "                                                                               2570317305               NaN  \n",
       "                                                                               2570317899               NaN  \n",
       "                                                                               2570318299               NaN  \n",
       "                                                                               2570318305               NaN  \n",
       "                                                                               2570318401               NaN  \n",
       "                                                                               2570318523               NaN  \n",
       "                                                                               2570318575               NaN  \n",
       "                                                                               2570318995               NaN  \n",
       "                                                                               2570319099               NaN  \n",
       "                                                                               2570319103               NaN  \n",
       "                                                                               2570319165               NaN  \n",
       "                                                                               2570319283               NaN  \n",
       "                                                                               2570319503               NaN  \n",
       "                                                                               2570319513               NaN  \n",
       "                                                                               2570319529               NaN  \n",
       "                                                                               2570319541               NaN  \n",
       "                                                                               2570319583               NaN  \n",
       "                                                                               2570319591               NaN  \n",
       "                                                                               2570319593               NaN  \n",
       "                                                                               2570319613               NaN  \n",
       "                                                                               2570319627               NaN  \n",
       "                                                                               2570319711               NaN  \n",
       "                                                                               2570319923               NaN  \n",
       "                                                                               2570319957               NaN  \n",
       "                                                                               2570320113          344745.0  \n",
       "                                                                               2570320339               NaN  \n",
       "                                                                               2570320357               NaN  \n",
       "                                                                               2570320513               NaN  \n",
       "                                                                               2570320691          344745.0  \n",
       "                                                                               2570320933               NaN  \n",
       "                                                                               2570320945               NaN  \n",
       "                                                                               2570320987               NaN  \n",
       "                                                                               2570324959           70736.0  \n",
       "\n",
       "[49 rows x 26 columns]"
      ]
     },
     "execution_count": 8,
     "metadata": {},
     "output_type": "execute_result"
    }
   ],
   "source": [
    "JN"
   ]
  },
  {
   "cell_type": "code",
   "execution_count": 12,
   "id": "52db61e5",
   "metadata": {},
   "outputs": [
    {
     "data": {
      "text/html": [
       "<div>\n",
       "<style scoped>\n",
       "    .dataframe tbody tr th:only-of-type {\n",
       "        vertical-align: middle;\n",
       "    }\n",
       "\n",
       "    .dataframe tbody tr th {\n",
       "        vertical-align: top;\n",
       "    }\n",
       "\n",
       "    .dataframe thead th {\n",
       "        text-align: right;\n",
       "    }\n",
       "</style>\n",
       "<table border=\"1\" class=\"dataframe\">\n",
       "  <thead>\n",
       "    <tr style=\"text-align: right;\">\n",
       "      <th></th>\n",
       "      <th></th>\n",
       "      <th></th>\n",
       "      <th></th>\n",
       "      <th>game_id</th>\n",
       "      <th>period</th>\n",
       "      <th>minute</th>\n",
       "      <th>second</th>\n",
       "      <th>expanded_minute</th>\n",
       "      <th>type</th>\n",
       "      <th>outcome_type</th>\n",
       "      <th>team_id</th>\n",
       "      <th>team</th>\n",
       "      <th>player_id</th>\n",
       "      <th>...</th>\n",
       "      <th>goal_mouth_z</th>\n",
       "      <th>blocked_x</th>\n",
       "      <th>blocked_y</th>\n",
       "      <th>qualifiers</th>\n",
       "      <th>is_touch</th>\n",
       "      <th>is_shot</th>\n",
       "      <th>is_goal</th>\n",
       "      <th>card_type</th>\n",
       "      <th>related_event_id</th>\n",
       "      <th>related_player_id</th>\n",
       "    </tr>\n",
       "    <tr>\n",
       "      <th>league</th>\n",
       "      <th>season</th>\n",
       "      <th>game</th>\n",
       "      <th>id</th>\n",
       "      <th></th>\n",
       "      <th></th>\n",
       "      <th></th>\n",
       "      <th></th>\n",
       "      <th></th>\n",
       "      <th></th>\n",
       "      <th></th>\n",
       "      <th></th>\n",
       "      <th></th>\n",
       "      <th></th>\n",
       "      <th></th>\n",
       "      <th></th>\n",
       "      <th></th>\n",
       "      <th></th>\n",
       "      <th></th>\n",
       "      <th></th>\n",
       "      <th></th>\n",
       "      <th></th>\n",
       "      <th></th>\n",
       "      <th></th>\n",
       "      <th></th>\n",
       "    </tr>\n",
       "  </thead>\n",
       "  <tbody>\n",
       "    <tr>\n",
       "      <th rowspan=\"5\" valign=\"top\">ARG-Liga Profesional</th>\n",
       "      <th rowspan=\"5\" valign=\"top\">2324</th>\n",
       "      <th rowspan=\"5\" valign=\"top\">2023-07-24 Racing Club-Central Cordoba de Santiago</th>\n",
       "      <th>2570315671</th>\n",
       "      <td>1703215</td>\n",
       "      <td>FirstHalf</td>\n",
       "      <td>1</td>\n",
       "      <td>11.0</td>\n",
       "      <td>1</td>\n",
       "      <td>Pass</td>\n",
       "      <td>Successful</td>\n",
       "      <td>890</td>\n",
       "      <td>Racing Club</td>\n",
       "      <td>382565.0</td>\n",
       "      <td>...</td>\n",
       "      <td>NaN</td>\n",
       "      <td>NaN</td>\n",
       "      <td>NaN</td>\n",
       "      <td>[{'type': {'displayName': 'Chipped', 'value': ...</td>\n",
       "      <td>True</td>\n",
       "      <td>NaN</td>\n",
       "      <td>NaN</td>\n",
       "      <td>NaN</td>\n",
       "      <td>NaN</td>\n",
       "      <td>NaN</td>\n",
       "    </tr>\n",
       "    <tr>\n",
       "      <th>2570315751</th>\n",
       "      <td>1703215</td>\n",
       "      <td>FirstHalf</td>\n",
       "      <td>1</td>\n",
       "      <td>37.0</td>\n",
       "      <td>1</td>\n",
       "      <td>BlockedPass</td>\n",
       "      <td>Successful</td>\n",
       "      <td>890</td>\n",
       "      <td>Racing Club</td>\n",
       "      <td>382565.0</td>\n",
       "      <td>...</td>\n",
       "      <td>NaN</td>\n",
       "      <td>NaN</td>\n",
       "      <td>NaN</td>\n",
       "      <td>[{'type': {'displayName': 'OppositeRelatedEven...</td>\n",
       "      <td>True</td>\n",
       "      <td>NaN</td>\n",
       "      <td>NaN</td>\n",
       "      <td>NaN</td>\n",
       "      <td>NaN</td>\n",
       "      <td>NaN</td>\n",
       "    </tr>\n",
       "    <tr>\n",
       "      <th>2570315827</th>\n",
       "      <td>1703215</td>\n",
       "      <td>FirstHalf</td>\n",
       "      <td>2</td>\n",
       "      <td>8.0</td>\n",
       "      <td>2</td>\n",
       "      <td>BallRecovery</td>\n",
       "      <td>Successful</td>\n",
       "      <td>890</td>\n",
       "      <td>Racing Club</td>\n",
       "      <td>382565.0</td>\n",
       "      <td>...</td>\n",
       "      <td>NaN</td>\n",
       "      <td>NaN</td>\n",
       "      <td>NaN</td>\n",
       "      <td>[]</td>\n",
       "      <td>False</td>\n",
       "      <td>NaN</td>\n",
       "      <td>NaN</td>\n",
       "      <td>NaN</td>\n",
       "      <td>NaN</td>\n",
       "      <td>NaN</td>\n",
       "    </tr>\n",
       "    <tr>\n",
       "      <th>2570315829</th>\n",
       "      <td>1703215</td>\n",
       "      <td>FirstHalf</td>\n",
       "      <td>2</td>\n",
       "      <td>8.0</td>\n",
       "      <td>2</td>\n",
       "      <td>Pass</td>\n",
       "      <td>Successful</td>\n",
       "      <td>890</td>\n",
       "      <td>Racing Club</td>\n",
       "      <td>382565.0</td>\n",
       "      <td>...</td>\n",
       "      <td>NaN</td>\n",
       "      <td>NaN</td>\n",
       "      <td>NaN</td>\n",
       "      <td>[{'type': {'displayName': 'Zone', 'value': 56}...</td>\n",
       "      <td>True</td>\n",
       "      <td>NaN</td>\n",
       "      <td>NaN</td>\n",
       "      <td>NaN</td>\n",
       "      <td>NaN</td>\n",
       "      <td>NaN</td>\n",
       "    </tr>\n",
       "    <tr>\n",
       "      <th>2570316119</th>\n",
       "      <td>1703215</td>\n",
       "      <td>FirstHalf</td>\n",
       "      <td>3</td>\n",
       "      <td>30.0</td>\n",
       "      <td>3</td>\n",
       "      <td>Aerial</td>\n",
       "      <td>Unsuccessful</td>\n",
       "      <td>890</td>\n",
       "      <td>Racing Club</td>\n",
       "      <td>382565.0</td>\n",
       "      <td>...</td>\n",
       "      <td>NaN</td>\n",
       "      <td>NaN</td>\n",
       "      <td>NaN</td>\n",
       "      <td>[{'type': {'displayName': 'Defensive', 'value'...</td>\n",
       "      <td>False</td>\n",
       "      <td>NaN</td>\n",
       "      <td>NaN</td>\n",
       "      <td>NaN</td>\n",
       "      <td>NaN</td>\n",
       "      <td>NaN</td>\n",
       "    </tr>\n",
       "  </tbody>\n",
       "</table>\n",
       "<p>5 rows × 26 columns</p>\n",
       "</div>"
      ],
      "text/plain": [
       "                                                                                           game_id  \\\n",
       "league               season game                                               id                    \n",
       "ARG-Liga Profesional 2324   2023-07-24 Racing Club-Central Cordoba de Santiago 2570315671  1703215   \n",
       "                                                                               2570315751  1703215   \n",
       "                                                                               2570315827  1703215   \n",
       "                                                                               2570315829  1703215   \n",
       "                                                                               2570316119  1703215   \n",
       "\n",
       "                                                                                              period  \\\n",
       "league               season game                                               id                      \n",
       "ARG-Liga Profesional 2324   2023-07-24 Racing Club-Central Cordoba de Santiago 2570315671  FirstHalf   \n",
       "                                                                               2570315751  FirstHalf   \n",
       "                                                                               2570315827  FirstHalf   \n",
       "                                                                               2570315829  FirstHalf   \n",
       "                                                                               2570316119  FirstHalf   \n",
       "\n",
       "                                                                                           minute  \\\n",
       "league               season game                                               id                   \n",
       "ARG-Liga Profesional 2324   2023-07-24 Racing Club-Central Cordoba de Santiago 2570315671       1   \n",
       "                                                                               2570315751       1   \n",
       "                                                                               2570315827       2   \n",
       "                                                                               2570315829       2   \n",
       "                                                                               2570316119       3   \n",
       "\n",
       "                                                                                           second  \\\n",
       "league               season game                                               id                   \n",
       "ARG-Liga Profesional 2324   2023-07-24 Racing Club-Central Cordoba de Santiago 2570315671    11.0   \n",
       "                                                                               2570315751    37.0   \n",
       "                                                                               2570315827     8.0   \n",
       "                                                                               2570315829     8.0   \n",
       "                                                                               2570316119    30.0   \n",
       "\n",
       "                                                                                           expanded_minute  \\\n",
       "league               season game                                               id                            \n",
       "ARG-Liga Profesional 2324   2023-07-24 Racing Club-Central Cordoba de Santiago 2570315671                1   \n",
       "                                                                               2570315751                1   \n",
       "                                                                               2570315827                2   \n",
       "                                                                               2570315829                2   \n",
       "                                                                               2570316119                3   \n",
       "\n",
       "                                                                                                   type  \\\n",
       "league               season game                                               id                         \n",
       "ARG-Liga Profesional 2324   2023-07-24 Racing Club-Central Cordoba de Santiago 2570315671          Pass   \n",
       "                                                                               2570315751   BlockedPass   \n",
       "                                                                               2570315827  BallRecovery   \n",
       "                                                                               2570315829          Pass   \n",
       "                                                                               2570316119        Aerial   \n",
       "\n",
       "                                                                                           outcome_type  \\\n",
       "league               season game                                               id                         \n",
       "ARG-Liga Profesional 2324   2023-07-24 Racing Club-Central Cordoba de Santiago 2570315671    Successful   \n",
       "                                                                               2570315751    Successful   \n",
       "                                                                               2570315827    Successful   \n",
       "                                                                               2570315829    Successful   \n",
       "                                                                               2570316119  Unsuccessful   \n",
       "\n",
       "                                                                                           team_id  \\\n",
       "league               season game                                               id                    \n",
       "ARG-Liga Profesional 2324   2023-07-24 Racing Club-Central Cordoba de Santiago 2570315671      890   \n",
       "                                                                               2570315751      890   \n",
       "                                                                               2570315827      890   \n",
       "                                                                               2570315829      890   \n",
       "                                                                               2570316119      890   \n",
       "\n",
       "                                                                                                  team  \\\n",
       "league               season game                                               id                        \n",
       "ARG-Liga Profesional 2324   2023-07-24 Racing Club-Central Cordoba de Santiago 2570315671  Racing Club   \n",
       "                                                                               2570315751  Racing Club   \n",
       "                                                                               2570315827  Racing Club   \n",
       "                                                                               2570315829  Racing Club   \n",
       "                                                                               2570316119  Racing Club   \n",
       "\n",
       "                                                                                           player_id  \\\n",
       "league               season game                                               id                      \n",
       "ARG-Liga Profesional 2324   2023-07-24 Racing Club-Central Cordoba de Santiago 2570315671   382565.0   \n",
       "                                                                               2570315751   382565.0   \n",
       "                                                                               2570315827   382565.0   \n",
       "                                                                               2570315829   382565.0   \n",
       "                                                                               2570316119   382565.0   \n",
       "\n",
       "                                                                                           ...  \\\n",
       "league               season game                                               id          ...   \n",
       "ARG-Liga Profesional 2324   2023-07-24 Racing Club-Central Cordoba de Santiago 2570315671  ...   \n",
       "                                                                               2570315751  ...   \n",
       "                                                                               2570315827  ...   \n",
       "                                                                               2570315829  ...   \n",
       "                                                                               2570316119  ...   \n",
       "\n",
       "                                                                                          goal_mouth_z  \\\n",
       "league               season game                                               id                        \n",
       "ARG-Liga Profesional 2324   2023-07-24 Racing Club-Central Cordoba de Santiago 2570315671          NaN   \n",
       "                                                                               2570315751          NaN   \n",
       "                                                                               2570315827          NaN   \n",
       "                                                                               2570315829          NaN   \n",
       "                                                                               2570316119          NaN   \n",
       "\n",
       "                                                                                           blocked_x  \\\n",
       "league               season game                                               id                      \n",
       "ARG-Liga Profesional 2324   2023-07-24 Racing Club-Central Cordoba de Santiago 2570315671        NaN   \n",
       "                                                                               2570315751        NaN   \n",
       "                                                                               2570315827        NaN   \n",
       "                                                                               2570315829        NaN   \n",
       "                                                                               2570316119        NaN   \n",
       "\n",
       "                                                                                           blocked_y  \\\n",
       "league               season game                                               id                      \n",
       "ARG-Liga Profesional 2324   2023-07-24 Racing Club-Central Cordoba de Santiago 2570315671        NaN   \n",
       "                                                                               2570315751        NaN   \n",
       "                                                                               2570315827        NaN   \n",
       "                                                                               2570315829        NaN   \n",
       "                                                                               2570316119        NaN   \n",
       "\n",
       "                                                                                                                                  qualifiers  \\\n",
       "league               season game                                               id                                                              \n",
       "ARG-Liga Profesional 2324   2023-07-24 Racing Club-Central Cordoba de Santiago 2570315671  [{'type': {'displayName': 'Chipped', 'value': ...   \n",
       "                                                                               2570315751  [{'type': {'displayName': 'OppositeRelatedEven...   \n",
       "                                                                               2570315827                                                 []   \n",
       "                                                                               2570315829  [{'type': {'displayName': 'Zone', 'value': 56}...   \n",
       "                                                                               2570316119  [{'type': {'displayName': 'Defensive', 'value'...   \n",
       "\n",
       "                                                                                           is_touch  \\\n",
       "league               season game                                               id                     \n",
       "ARG-Liga Profesional 2324   2023-07-24 Racing Club-Central Cordoba de Santiago 2570315671      True   \n",
       "                                                                               2570315751      True   \n",
       "                                                                               2570315827     False   \n",
       "                                                                               2570315829      True   \n",
       "                                                                               2570316119     False   \n",
       "\n",
       "                                                                                           is_shot  \\\n",
       "league               season game                                               id                    \n",
       "ARG-Liga Profesional 2324   2023-07-24 Racing Club-Central Cordoba de Santiago 2570315671      NaN   \n",
       "                                                                               2570315751      NaN   \n",
       "                                                                               2570315827      NaN   \n",
       "                                                                               2570315829      NaN   \n",
       "                                                                               2570316119      NaN   \n",
       "\n",
       "                                                                                           is_goal  \\\n",
       "league               season game                                               id                    \n",
       "ARG-Liga Profesional 2324   2023-07-24 Racing Club-Central Cordoba de Santiago 2570315671      NaN   \n",
       "                                                                               2570315751      NaN   \n",
       "                                                                               2570315827      NaN   \n",
       "                                                                               2570315829      NaN   \n",
       "                                                                               2570316119      NaN   \n",
       "\n",
       "                                                                                           card_type  \\\n",
       "league               season game                                               id                      \n",
       "ARG-Liga Profesional 2324   2023-07-24 Racing Club-Central Cordoba de Santiago 2570315671        NaN   \n",
       "                                                                               2570315751        NaN   \n",
       "                                                                               2570315827        NaN   \n",
       "                                                                               2570315829        NaN   \n",
       "                                                                               2570316119        NaN   \n",
       "\n",
       "                                                                                           related_event_id  \\\n",
       "league               season game                                               id                             \n",
       "ARG-Liga Profesional 2324   2023-07-24 Racing Club-Central Cordoba de Santiago 2570315671               NaN   \n",
       "                                                                               2570315751               NaN   \n",
       "                                                                               2570315827               NaN   \n",
       "                                                                               2570315829               NaN   \n",
       "                                                                               2570316119               NaN   \n",
       "\n",
       "                                                                                          related_player_id  \n",
       "league               season game                                               id                            \n",
       "ARG-Liga Profesional 2324   2023-07-24 Racing Club-Central Cordoba de Santiago 2570315671               NaN  \n",
       "                                                                               2570315751               NaN  \n",
       "                                                                               2570315827               NaN  \n",
       "                                                                               2570315829               NaN  \n",
       "                                                                               2570316119               NaN  \n",
       "\n",
       "[5 rows x 26 columns]"
      ]
     },
     "execution_count": 12,
     "metadata": {},
     "output_type": "execute_result"
    }
   ],
   "source": [
    "JN.head()"
   ]
  },
  {
   "cell_type": "code",
   "execution_count": 13,
   "id": "522f392e",
   "metadata": {
    "scrolled": false
   },
   "outputs": [],
   "source": [
    "#Como analizaremos los pases de Nardoni, creamos un DataFrame que solo contenga esto.\n",
    "JN = JN[JN['type'] == 'Pass']"
   ]
  },
  {
   "cell_type": "code",
   "execution_count": 14,
   "id": "2f6f0741",
   "metadata": {},
   "outputs": [
    {
     "data": {
      "text/plain": [
       "27"
      ]
     },
     "execution_count": 14,
     "metadata": {},
     "output_type": "execute_result"
    }
   ],
   "source": [
    "pasesC = JN[JN['outcome_type'] == 'Successful'].type.count()\n",
    "pasesC"
   ]
  },
  {
   "cell_type": "code",
   "execution_count": 15,
   "id": "73e72bfa",
   "metadata": {
    "scrolled": false
   },
   "outputs": [
    {
     "name": "stderr",
     "output_type": "stream",
     "text": [
      "d:\\Users\\Ariel\\anaconda3\\Lib\\site-packages\\mplsoccer\\_pitch_plot.py:171: FutureWarning: \n",
      "\n",
      "`shade` is now deprecated in favor of `fill`; setting `fill=True`.\n",
      "This will become an error in seaborn v0.14.0; please update your code.\n",
      "\n",
      "  return sns.kdeplot(x=x, y=y, ax=ax, clip=self.kde_clip, **kwargs)\n"
     ]
    },
    {
     "data": {
      "image/png": "[encoded data removed]",
      "text/plain": [
       "<Figure size 700x900 with 1 Axes>"
      ]
     },
     "metadata": {},
     "output_type": "display_data"
    }
   ],
   "source": [
    "#Visualizamos el rendimiento de Juan Nardoni\n",
    "pitch = Pitch(pitch_type='opta', line_zorder=0,line_color='#c4c4c4',linewidth =3, pitch_color='#1D2B53')\n",
    "fig, ax = pitch.draw(figsize=(7, 9))\n",
    "fig.set_facecolor('#1D2B53')\n",
    "\n",
    "kdeplot = pitch.kdeplot(JN.x, JN.y, ax=ax, cmap=cmap, fill=True, alpha=0.9,\n",
    "                       shade=True, n_levels=100, shade_lowest=False,cut=1, zorder=-1)\n",
    "\n",
    "pitch.arrows(JN[JN['outcome_type'] == 'Successful'].x, JN[JN['outcome_type'] == 'Successful'].y,\n",
    "             JN[JN['outcome_type'] == 'Successful'].end_x, JN[JN['outcome_type'] == 'Successful'].end_y,\n",
    "             width=1, headwidth=3, headlength=5, color='white', ax=ax, zorder=2, label = \"Pases completos\", edgecolor='grey')\n",
    "\n",
    "pitch.arrows(JN[JN['outcome_type'] == 'Unsuccessful'].x, JN[JN['outcome_type'] == 'Unsuccessful'].y,\n",
    "             JN[JN['outcome_type'] == 'Unsuccessful'].end_x, JN[JN['outcome_type'] == 'Unsuccessful'].end_y,\n",
    "             width=1, headwidth=3, headlength=5, color='red', ax=ax, zorder=2, label = \"Pases incompletos\", edgecolor='grey')\n",
    "\n",
    "pitch.scatter(JN[JN['outcome_type'] == 'Successful'].x, JN[JN['outcome_type'] == 'Successful'].y,\n",
    "              c='white', s=60, ax=ax, edgecolor='grey')\n",
    "pitch.scatter(JN[JN['outcome_type'] == 'Unsuccessful'].x, JN[JN['outcome_type'] == 'Unsuccessful'].y,\n",
    "              c='red', s=60, ax=ax, edgecolor='#8a0000')\n",
    "\n",
    "ax.legend( handlelength=3, edgecolor='black', fontsize=10, loc=[0.70,0.96], labelcolor= 'white', prop=fm.prop, framealpha=0,\n",
    "         alignment='center')\n",
    "\n",
    "\n",
    "ax_title = ax.set_title(f'{JN.player.iloc[0]}\\nRacing vs Ctral. Cordoba\\n{pasesC} Pases completados de {JN.type.count()} posibles',\n",
    "                        color = 'white', fontsize=50, fontproperties=fm.prop)\n",
    "\n",
    "#plt.savefig(\"JN.png\",dpi = 1000,transparent = False)"
   ]
  },
  {
   "cell_type": "markdown",
   "id": "b5a4afe9",
   "metadata": {},
   "source": [
    "### Analizamos a Agustin Ojeda"
   ]
  },
  {
   "cell_type": "code",
   "execution_count": 16,
   "id": "9a6e83e4",
   "metadata": {},
   "outputs": [],
   "source": [
    "#Ahora vemos el rendimiento de Ojeda, para esto creamos un nuevo DataFrame\n",
    "ojeda = events[events['player'] == 'Agustín Ojeda']"
   ]
  },
  {
   "cell_type": "code",
   "execution_count": 17,
   "id": "9ac0f3c5",
   "metadata": {},
   "outputs": [
    {
     "data": {
      "text/plain": [
       "Index(['game_id', 'period', 'minute', 'second', 'expanded_minute', 'type',\n",
       "       'outcome_type', 'team_id', 'team', 'player_id', 'player', 'x', 'y',\n",
       "       'end_x', 'end_y', 'goal_mouth_y', 'goal_mouth_z', 'blocked_x',\n",
       "       'blocked_y', 'qualifiers', 'is_touch', 'is_shot', 'is_goal',\n",
       "       'card_type', 'related_event_id', 'related_player_id'],\n",
       "      dtype='object')"
      ]
     },
     "execution_count": 17,
     "metadata": {},
     "output_type": "execute_result"
    }
   ],
   "source": [
    "ojeda.columns.unique()"
   ]
  },
  {
   "cell_type": "code",
   "execution_count": 18,
   "id": "e1e45746",
   "metadata": {},
   "outputs": [],
   "source": [
    "#Eliminamos las columnas que no nos sirven\n",
    "ojeda = ojeda.drop(columns = ['qualifiers', 'is_touch','card_type', 'related_event_id', 'related_player_id',\n",
    "                             'team_id','player_id',])"
   ]
  },
  {
   "cell_type": "code",
   "execution_count": 19,
   "id": "8c683f22",
   "metadata": {},
   "outputs": [
    {
     "data": {
      "text/html": [
       "<div>\n",
       "<style scoped>\n",
       "    .dataframe tbody tr th:only-of-type {\n",
       "        vertical-align: middle;\n",
       "    }\n",
       "\n",
       "    .dataframe tbody tr th {\n",
       "        vertical-align: top;\n",
       "    }\n",
       "\n",
       "    .dataframe thead th {\n",
       "        text-align: right;\n",
       "    }\n",
       "</style>\n",
       "<table border=\"1\" class=\"dataframe\">\n",
       "  <thead>\n",
       "    <tr style=\"text-align: right;\">\n",
       "      <th></th>\n",
       "      <th></th>\n",
       "      <th></th>\n",
       "      <th></th>\n",
       "      <th>game_id</th>\n",
       "      <th>period</th>\n",
       "      <th>minute</th>\n",
       "      <th>second</th>\n",
       "      <th>expanded_minute</th>\n",
       "      <th>type</th>\n",
       "      <th>outcome_type</th>\n",
       "      <th>team</th>\n",
       "      <th>player</th>\n",
       "      <th>x</th>\n",
       "      <th>y</th>\n",
       "      <th>end_x</th>\n",
       "      <th>end_y</th>\n",
       "      <th>goal_mouth_y</th>\n",
       "      <th>goal_mouth_z</th>\n",
       "      <th>blocked_x</th>\n",
       "      <th>blocked_y</th>\n",
       "      <th>is_shot</th>\n",
       "      <th>is_goal</th>\n",
       "    </tr>\n",
       "    <tr>\n",
       "      <th>league</th>\n",
       "      <th>season</th>\n",
       "      <th>game</th>\n",
       "      <th>id</th>\n",
       "      <th></th>\n",
       "      <th></th>\n",
       "      <th></th>\n",
       "      <th></th>\n",
       "      <th></th>\n",
       "      <th></th>\n",
       "      <th></th>\n",
       "      <th></th>\n",
       "      <th></th>\n",
       "      <th></th>\n",
       "      <th></th>\n",
       "      <th></th>\n",
       "      <th></th>\n",
       "      <th></th>\n",
       "      <th></th>\n",
       "      <th></th>\n",
       "      <th></th>\n",
       "      <th></th>\n",
       "      <th></th>\n",
       "    </tr>\n",
       "  </thead>\n",
       "  <tbody>\n",
       "    <tr>\n",
       "      <th rowspan=\"3\" valign=\"top\">ARG-Liga Profesional</th>\n",
       "      <th rowspan=\"3\" valign=\"top\">2324</th>\n",
       "      <th rowspan=\"3\" valign=\"top\">2023-07-24 Racing Club-Central Cordoba de Santiago</th>\n",
       "      <th>2570315987</th>\n",
       "      <td>1703215</td>\n",
       "      <td>FirstHalf</td>\n",
       "      <td>2</td>\n",
       "      <td>50.0</td>\n",
       "      <td>2</td>\n",
       "      <td>MissedShots</td>\n",
       "      <td>Successful</td>\n",
       "      <td>Racing Club</td>\n",
       "      <td>Agustín Ojeda</td>\n",
       "      <td>88.8</td>\n",
       "      <td>58.4</td>\n",
       "      <td>NaN</td>\n",
       "      <td>NaN</td>\n",
       "      <td>41.2</td>\n",
       "      <td>5.6</td>\n",
       "      <td>NaN</td>\n",
       "      <td>NaN</td>\n",
       "      <td>True</td>\n",
       "      <td>NaN</td>\n",
       "    </tr>\n",
       "    <tr>\n",
       "      <th>2570319451</th>\n",
       "      <td>1703215</td>\n",
       "      <td>FirstHalf</td>\n",
       "      <td>26</td>\n",
       "      <td>58.0</td>\n",
       "      <td>26</td>\n",
       "      <td>SavedShot</td>\n",
       "      <td>Successful</td>\n",
       "      <td>Racing Club</td>\n",
       "      <td>Agustín Ojeda</td>\n",
       "      <td>92.7</td>\n",
       "      <td>62.6</td>\n",
       "      <td>NaN</td>\n",
       "      <td>NaN</td>\n",
       "      <td>50.7</td>\n",
       "      <td>1.3</td>\n",
       "      <td>94.9</td>\n",
       "      <td>59.6</td>\n",
       "      <td>True</td>\n",
       "      <td>NaN</td>\n",
       "    </tr>\n",
       "    <tr>\n",
       "      <th>2570321977</th>\n",
       "      <td>1703215</td>\n",
       "      <td>FirstHalf</td>\n",
       "      <td>45</td>\n",
       "      <td>45.0</td>\n",
       "      <td>45</td>\n",
       "      <td>Goal</td>\n",
       "      <td>Successful</td>\n",
       "      <td>Racing Club</td>\n",
       "      <td>Agustín Ojeda</td>\n",
       "      <td>86.4</td>\n",
       "      <td>61.7</td>\n",
       "      <td>NaN</td>\n",
       "      <td>NaN</td>\n",
       "      <td>51.6</td>\n",
       "      <td>7.6</td>\n",
       "      <td>NaN</td>\n",
       "      <td>NaN</td>\n",
       "      <td>True</td>\n",
       "      <td>True</td>\n",
       "    </tr>\n",
       "  </tbody>\n",
       "</table>\n",
       "</div>"
      ],
      "text/plain": [
       "                                                                                           game_id  \\\n",
       "league               season game                                               id                    \n",
       "ARG-Liga Profesional 2324   2023-07-24 Racing Club-Central Cordoba de Santiago 2570315987  1703215   \n",
       "                                                                               2570319451  1703215   \n",
       "                                                                               2570321977  1703215   \n",
       "\n",
       "                                                                                              period  \\\n",
       "league               season game                                               id                      \n",
       "ARG-Liga Profesional 2324   2023-07-24 Racing Club-Central Cordoba de Santiago 2570315987  FirstHalf   \n",
       "                                                                               2570319451  FirstHalf   \n",
       "                                                                               2570321977  FirstHalf   \n",
       "\n",
       "                                                                                           minute  \\\n",
       "league               season game                                               id                   \n",
       "ARG-Liga Profesional 2324   2023-07-24 Racing Club-Central Cordoba de Santiago 2570315987       2   \n",
       "                                                                               2570319451      26   \n",
       "                                                                               2570321977      45   \n",
       "\n",
       "                                                                                           second  \\\n",
       "league               season game                                               id                   \n",
       "ARG-Liga Profesional 2324   2023-07-24 Racing Club-Central Cordoba de Santiago 2570315987    50.0   \n",
       "                                                                               2570319451    58.0   \n",
       "                                                                               2570321977    45.0   \n",
       "\n",
       "                                                                                           expanded_minute  \\\n",
       "league               season game                                               id                            \n",
       "ARG-Liga Profesional 2324   2023-07-24 Racing Club-Central Cordoba de Santiago 2570315987                2   \n",
       "                                                                               2570319451               26   \n",
       "                                                                               2570321977               45   \n",
       "\n",
       "                                                                                                  type  \\\n",
       "league               season game                                               id                        \n",
       "ARG-Liga Profesional 2324   2023-07-24 Racing Club-Central Cordoba de Santiago 2570315987  MissedShots   \n",
       "                                                                               2570319451    SavedShot   \n",
       "                                                                               2570321977         Goal   \n",
       "\n",
       "                                                                                          outcome_type  \\\n",
       "league               season game                                               id                        \n",
       "ARG-Liga Profesional 2324   2023-07-24 Racing Club-Central Cordoba de Santiago 2570315987   Successful   \n",
       "                                                                               2570319451   Successful   \n",
       "                                                                               2570321977   Successful   \n",
       "\n",
       "                                                                                                  team  \\\n",
       "league               season game                                               id                        \n",
       "ARG-Liga Profesional 2324   2023-07-24 Racing Club-Central Cordoba de Santiago 2570315987  Racing Club   \n",
       "                                                                               2570319451  Racing Club   \n",
       "                                                                               2570321977  Racing Club   \n",
       "\n",
       "                                                                                                  player  \\\n",
       "league               season game                                               id                          \n",
       "ARG-Liga Profesional 2324   2023-07-24 Racing Club-Central Cordoba de Santiago 2570315987  Agustín Ojeda   \n",
       "                                                                               2570319451  Agustín Ojeda   \n",
       "                                                                               2570321977  Agustín Ojeda   \n",
       "\n",
       "                                                                                              x  \\\n",
       "league               season game                                               id                 \n",
       "ARG-Liga Profesional 2324   2023-07-24 Racing Club-Central Cordoba de Santiago 2570315987  88.8   \n",
       "                                                                               2570319451  92.7   \n",
       "                                                                               2570321977  86.4   \n",
       "\n",
       "                                                                                              y  \\\n",
       "league               season game                                               id                 \n",
       "ARG-Liga Profesional 2324   2023-07-24 Racing Club-Central Cordoba de Santiago 2570315987  58.4   \n",
       "                                                                               2570319451  62.6   \n",
       "                                                                               2570321977  61.7   \n",
       "\n",
       "                                                                                           end_x  \\\n",
       "league               season game                                               id                  \n",
       "ARG-Liga Profesional 2324   2023-07-24 Racing Club-Central Cordoba de Santiago 2570315987    NaN   \n",
       "                                                                               2570319451    NaN   \n",
       "                                                                               2570321977    NaN   \n",
       "\n",
       "                                                                                           end_y  \\\n",
       "league               season game                                               id                  \n",
       "ARG-Liga Profesional 2324   2023-07-24 Racing Club-Central Cordoba de Santiago 2570315987    NaN   \n",
       "                                                                               2570319451    NaN   \n",
       "                                                                               2570321977    NaN   \n",
       "\n",
       "                                                                                           goal_mouth_y  \\\n",
       "league               season game                                               id                         \n",
       "ARG-Liga Profesional 2324   2023-07-24 Racing Club-Central Cordoba de Santiago 2570315987          41.2   \n",
       "                                                                               2570319451          50.7   \n",
       "                                                                               2570321977          51.6   \n",
       "\n",
       "                                                                                           goal_mouth_z  \\\n",
       "league               season game                                               id                         \n",
       "ARG-Liga Profesional 2324   2023-07-24 Racing Club-Central Cordoba de Santiago 2570315987           5.6   \n",
       "                                                                               2570319451           1.3   \n",
       "                                                                               2570321977           7.6   \n",
       "\n",
       "                                                                                           blocked_x  \\\n",
       "league               season game                                               id                      \n",
       "ARG-Liga Profesional 2324   2023-07-24 Racing Club-Central Cordoba de Santiago 2570315987        NaN   \n",
       "                                                                               2570319451       94.9   \n",
       "                                                                               2570321977        NaN   \n",
       "\n",
       "                                                                                           blocked_y  \\\n",
       "league               season game                                               id                      \n",
       "ARG-Liga Profesional 2324   2023-07-24 Racing Club-Central Cordoba de Santiago 2570315987        NaN   \n",
       "                                                                               2570319451       59.6   \n",
       "                                                                               2570321977        NaN   \n",
       "\n",
       "                                                                                          is_shot  \\\n",
       "league               season game                                               id                   \n",
       "ARG-Liga Profesional 2324   2023-07-24 Racing Club-Central Cordoba de Santiago 2570315987    True   \n",
       "                                                                               2570319451    True   \n",
       "                                                                               2570321977    True   \n",
       "\n",
       "                                                                                          is_goal  \n",
       "league               season game                                               id                  \n",
       "ARG-Liga Profesional 2324   2023-07-24 Racing Club-Central Cordoba de Santiago 2570315987     NaN  \n",
       "                                                                               2570319451     NaN  \n",
       "                                                                               2570321977    True  "
      ]
     },
     "execution_count": 19,
     "metadata": {},
     "output_type": "execute_result"
    }
   ],
   "source": [
    "#Creamos un DataFrame con los disparos \n",
    "ojedaDis = ojeda.dropna(subset=[\"is_shot\"])\n",
    "ojedaDis"
   ]
  },
  {
   "cell_type": "code",
   "execution_count": 20,
   "id": "ee5b263f",
   "metadata": {},
   "outputs": [],
   "source": [
    "#Creamos un DataFrame con los regates\n",
    "ojedaReg = ojeda[ojeda['type'] == 'TakeOn']"
   ]
  },
  {
   "cell_type": "code",
   "execution_count": 21,
   "id": "3e55978d",
   "metadata": {
    "scrolled": true
   },
   "outputs": [
    {
     "data": {
      "text/html": [
       "<div>\n",
       "<style scoped>\n",
       "    .dataframe tbody tr th:only-of-type {\n",
       "        vertical-align: middle;\n",
       "    }\n",
       "\n",
       "    .dataframe tbody tr th {\n",
       "        vertical-align: top;\n",
       "    }\n",
       "\n",
       "    .dataframe thead th {\n",
       "        text-align: right;\n",
       "    }\n",
       "</style>\n",
       "<table border=\"1\" class=\"dataframe\">\n",
       "  <thead>\n",
       "    <tr style=\"text-align: right;\">\n",
       "      <th></th>\n",
       "      <th></th>\n",
       "      <th></th>\n",
       "      <th></th>\n",
       "      <th>game_id</th>\n",
       "      <th>period</th>\n",
       "      <th>minute</th>\n",
       "      <th>second</th>\n",
       "      <th>expanded_minute</th>\n",
       "      <th>type</th>\n",
       "      <th>outcome_type</th>\n",
       "      <th>team</th>\n",
       "      <th>player</th>\n",
       "      <th>x</th>\n",
       "      <th>y</th>\n",
       "      <th>end_x</th>\n",
       "      <th>end_y</th>\n",
       "      <th>goal_mouth_y</th>\n",
       "      <th>goal_mouth_z</th>\n",
       "      <th>blocked_x</th>\n",
       "      <th>blocked_y</th>\n",
       "      <th>is_shot</th>\n",
       "      <th>is_goal</th>\n",
       "    </tr>\n",
       "    <tr>\n",
       "      <th>league</th>\n",
       "      <th>season</th>\n",
       "      <th>game</th>\n",
       "      <th>id</th>\n",
       "      <th></th>\n",
       "      <th></th>\n",
       "      <th></th>\n",
       "      <th></th>\n",
       "      <th></th>\n",
       "      <th></th>\n",
       "      <th></th>\n",
       "      <th></th>\n",
       "      <th></th>\n",
       "      <th></th>\n",
       "      <th></th>\n",
       "      <th></th>\n",
       "      <th></th>\n",
       "      <th></th>\n",
       "      <th></th>\n",
       "      <th></th>\n",
       "      <th></th>\n",
       "      <th></th>\n",
       "      <th></th>\n",
       "    </tr>\n",
       "  </thead>\n",
       "  <tbody>\n",
       "    <tr>\n",
       "      <th rowspan=\"4\" valign=\"top\">ARG-Liga Profesional</th>\n",
       "      <th rowspan=\"4\" valign=\"top\">2324</th>\n",
       "      <th rowspan=\"4\" valign=\"top\">2023-07-24 Racing Club-Central Cordoba de Santiago</th>\n",
       "      <th>2570317949</th>\n",
       "      <td>1703215</td>\n",
       "      <td>FirstHalf</td>\n",
       "      <td>14</td>\n",
       "      <td>40.0</td>\n",
       "      <td>14</td>\n",
       "      <td>TakeOn</td>\n",
       "      <td>Successful</td>\n",
       "      <td>Racing Club</td>\n",
       "      <td>Agustín Ojeda</td>\n",
       "      <td>67.2</td>\n",
       "      <td>78.0</td>\n",
       "      <td>NaN</td>\n",
       "      <td>NaN</td>\n",
       "      <td>NaN</td>\n",
       "      <td>NaN</td>\n",
       "      <td>NaN</td>\n",
       "      <td>NaN</td>\n",
       "      <td>NaN</td>\n",
       "      <td>NaN</td>\n",
       "    </tr>\n",
       "    <tr>\n",
       "      <th>2570319081</th>\n",
       "      <td>1703215</td>\n",
       "      <td>FirstHalf</td>\n",
       "      <td>21</td>\n",
       "      <td>58.0</td>\n",
       "      <td>21</td>\n",
       "      <td>TakeOn</td>\n",
       "      <td>Successful</td>\n",
       "      <td>Racing Club</td>\n",
       "      <td>Agustín Ojeda</td>\n",
       "      <td>31.0</td>\n",
       "      <td>89.8</td>\n",
       "      <td>NaN</td>\n",
       "      <td>NaN</td>\n",
       "      <td>NaN</td>\n",
       "      <td>NaN</td>\n",
       "      <td>NaN</td>\n",
       "      <td>NaN</td>\n",
       "      <td>NaN</td>\n",
       "      <td>NaN</td>\n",
       "    </tr>\n",
       "    <tr>\n",
       "      <th>2570319449</th>\n",
       "      <td>1703215</td>\n",
       "      <td>FirstHalf</td>\n",
       "      <td>26</td>\n",
       "      <td>57.0</td>\n",
       "      <td>26</td>\n",
       "      <td>TakeOn</td>\n",
       "      <td>Successful</td>\n",
       "      <td>Racing Club</td>\n",
       "      <td>Agustín Ojeda</td>\n",
       "      <td>88.2</td>\n",
       "      <td>65.4</td>\n",
       "      <td>NaN</td>\n",
       "      <td>NaN</td>\n",
       "      <td>NaN</td>\n",
       "      <td>NaN</td>\n",
       "      <td>NaN</td>\n",
       "      <td>NaN</td>\n",
       "      <td>NaN</td>\n",
       "      <td>NaN</td>\n",
       "    </tr>\n",
       "    <tr>\n",
       "      <th>2570326599</th>\n",
       "      <td>1703215</td>\n",
       "      <td>SecondHalf</td>\n",
       "      <td>54</td>\n",
       "      <td>52.0</td>\n",
       "      <td>56</td>\n",
       "      <td>TakeOn</td>\n",
       "      <td>Successful</td>\n",
       "      <td>Racing Club</td>\n",
       "      <td>Agustín Ojeda</td>\n",
       "      <td>29.5</td>\n",
       "      <td>79.5</td>\n",
       "      <td>NaN</td>\n",
       "      <td>NaN</td>\n",
       "      <td>NaN</td>\n",
       "      <td>NaN</td>\n",
       "      <td>NaN</td>\n",
       "      <td>NaN</td>\n",
       "      <td>NaN</td>\n",
       "      <td>NaN</td>\n",
       "    </tr>\n",
       "  </tbody>\n",
       "</table>\n",
       "</div>"
      ],
      "text/plain": [
       "                                                                                           game_id  \\\n",
       "league               season game                                               id                    \n",
       "ARG-Liga Profesional 2324   2023-07-24 Racing Club-Central Cordoba de Santiago 2570317949  1703215   \n",
       "                                                                               2570319081  1703215   \n",
       "                                                                               2570319449  1703215   \n",
       "                                                                               2570326599  1703215   \n",
       "\n",
       "                                                                                               period  \\\n",
       "league               season game                                               id                       \n",
       "ARG-Liga Profesional 2324   2023-07-24 Racing Club-Central Cordoba de Santiago 2570317949   FirstHalf   \n",
       "                                                                               2570319081   FirstHalf   \n",
       "                                                                               2570319449   FirstHalf   \n",
       "                                                                               2570326599  SecondHalf   \n",
       "\n",
       "                                                                                           minute  \\\n",
       "league               season game                                               id                   \n",
       "ARG-Liga Profesional 2324   2023-07-24 Racing Club-Central Cordoba de Santiago 2570317949      14   \n",
       "                                                                               2570319081      21   \n",
       "                                                                               2570319449      26   \n",
       "                                                                               2570326599      54   \n",
       "\n",
       "                                                                                           second  \\\n",
       "league               season game                                               id                   \n",
       "ARG-Liga Profesional 2324   2023-07-24 Racing Club-Central Cordoba de Santiago 2570317949    40.0   \n",
       "                                                                               2570319081    58.0   \n",
       "                                                                               2570319449    57.0   \n",
       "                                                                               2570326599    52.0   \n",
       "\n",
       "                                                                                           expanded_minute  \\\n",
       "league               season game                                               id                            \n",
       "ARG-Liga Profesional 2324   2023-07-24 Racing Club-Central Cordoba de Santiago 2570317949               14   \n",
       "                                                                               2570319081               21   \n",
       "                                                                               2570319449               26   \n",
       "                                                                               2570326599               56   \n",
       "\n",
       "                                                                                             type  \\\n",
       "league               season game                                               id                   \n",
       "ARG-Liga Profesional 2324   2023-07-24 Racing Club-Central Cordoba de Santiago 2570317949  TakeOn   \n",
       "                                                                               2570319081  TakeOn   \n",
       "                                                                               2570319449  TakeOn   \n",
       "                                                                               2570326599  TakeOn   \n",
       "\n",
       "                                                                                          outcome_type  \\\n",
       "league               season game                                               id                        \n",
       "ARG-Liga Profesional 2324   2023-07-24 Racing Club-Central Cordoba de Santiago 2570317949   Successful   \n",
       "                                                                               2570319081   Successful   \n",
       "                                                                               2570319449   Successful   \n",
       "                                                                               2570326599   Successful   \n",
       "\n",
       "                                                                                                  team  \\\n",
       "league               season game                                               id                        \n",
       "ARG-Liga Profesional 2324   2023-07-24 Racing Club-Central Cordoba de Santiago 2570317949  Racing Club   \n",
       "                                                                               2570319081  Racing Club   \n",
       "                                                                               2570319449  Racing Club   \n",
       "                                                                               2570326599  Racing Club   \n",
       "\n",
       "                                                                                                  player  \\\n",
       "league               season game                                               id                          \n",
       "ARG-Liga Profesional 2324   2023-07-24 Racing Club-Central Cordoba de Santiago 2570317949  Agustín Ojeda   \n",
       "                                                                               2570319081  Agustín Ojeda   \n",
       "                                                                               2570319449  Agustín Ojeda   \n",
       "                                                                               2570326599  Agustín Ojeda   \n",
       "\n",
       "                                                                                              x  \\\n",
       "league               season game                                               id                 \n",
       "ARG-Liga Profesional 2324   2023-07-24 Racing Club-Central Cordoba de Santiago 2570317949  67.2   \n",
       "                                                                               2570319081  31.0   \n",
       "                                                                               2570319449  88.2   \n",
       "                                                                               2570326599  29.5   \n",
       "\n",
       "                                                                                              y  \\\n",
       "league               season game                                               id                 \n",
       "ARG-Liga Profesional 2324   2023-07-24 Racing Club-Central Cordoba de Santiago 2570317949  78.0   \n",
       "                                                                               2570319081  89.8   \n",
       "                                                                               2570319449  65.4   \n",
       "                                                                               2570326599  79.5   \n",
       "\n",
       "                                                                                           end_x  \\\n",
       "league               season game                                               id                  \n",
       "ARG-Liga Profesional 2324   2023-07-24 Racing Club-Central Cordoba de Santiago 2570317949    NaN   \n",
       "                                                                               2570319081    NaN   \n",
       "                                                                               2570319449    NaN   \n",
       "                                                                               2570326599    NaN   \n",
       "\n",
       "                                                                                           end_y  \\\n",
       "league               season game                                               id                  \n",
       "ARG-Liga Profesional 2324   2023-07-24 Racing Club-Central Cordoba de Santiago 2570317949    NaN   \n",
       "                                                                               2570319081    NaN   \n",
       "                                                                               2570319449    NaN   \n",
       "                                                                               2570326599    NaN   \n",
       "\n",
       "                                                                                           goal_mouth_y  \\\n",
       "league               season game                                               id                         \n",
       "ARG-Liga Profesional 2324   2023-07-24 Racing Club-Central Cordoba de Santiago 2570317949           NaN   \n",
       "                                                                               2570319081           NaN   \n",
       "                                                                               2570319449           NaN   \n",
       "                                                                               2570326599           NaN   \n",
       "\n",
       "                                                                                           goal_mouth_z  \\\n",
       "league               season game                                               id                         \n",
       "ARG-Liga Profesional 2324   2023-07-24 Racing Club-Central Cordoba de Santiago 2570317949           NaN   \n",
       "                                                                               2570319081           NaN   \n",
       "                                                                               2570319449           NaN   \n",
       "                                                                               2570326599           NaN   \n",
       "\n",
       "                                                                                           blocked_x  \\\n",
       "league               season game                                               id                      \n",
       "ARG-Liga Profesional 2324   2023-07-24 Racing Club-Central Cordoba de Santiago 2570317949        NaN   \n",
       "                                                                               2570319081        NaN   \n",
       "                                                                               2570319449        NaN   \n",
       "                                                                               2570326599        NaN   \n",
       "\n",
       "                                                                                           blocked_y  \\\n",
       "league               season game                                               id                      \n",
       "ARG-Liga Profesional 2324   2023-07-24 Racing Club-Central Cordoba de Santiago 2570317949        NaN   \n",
       "                                                                               2570319081        NaN   \n",
       "                                                                               2570319449        NaN   \n",
       "                                                                               2570326599        NaN   \n",
       "\n",
       "                                                                                          is_shot  \\\n",
       "league               season game                                               id                   \n",
       "ARG-Liga Profesional 2324   2023-07-24 Racing Club-Central Cordoba de Santiago 2570317949     NaN   \n",
       "                                                                               2570319081     NaN   \n",
       "                                                                               2570319449     NaN   \n",
       "                                                                               2570326599     NaN   \n",
       "\n",
       "                                                                                          is_goal  \n",
       "league               season game                                               id                  \n",
       "ARG-Liga Profesional 2324   2023-07-24 Racing Club-Central Cordoba de Santiago 2570317949     NaN  \n",
       "                                                                               2570319081     NaN  \n",
       "                                                                               2570319449     NaN  \n",
       "                                                                               2570326599     NaN  "
      ]
     },
     "execution_count": 21,
     "metadata": {},
     "output_type": "execute_result"
    }
   ],
   "source": [
    "ojedaReg = ojedaReg[ojedaReg['outcome_type'] == 'Successful']\n",
    "ojedaReg"
   ]
  },
  {
   "cell_type": "code",
   "execution_count": 22,
   "id": "eb4326ae",
   "metadata": {},
   "outputs": [],
   "source": [
    "#Creamos un DataFrame con los pases\n",
    "ojedaP = ojeda[ojeda['type']=='Pass'].type.count()"
   ]
  },
  {
   "cell_type": "code",
   "execution_count": 23,
   "id": "cd9dfa3c",
   "metadata": {},
   "outputs": [],
   "source": [
    "#Creamos un DataFrame con los pases completados\n",
    "ojedaPC = ojeda[ojeda['outcome_type']=='Successful']\n",
    "ojedaPC = ojedaPC[ojedaPC['type']=='Pass'].type.count()"
   ]
  },
  {
   "cell_type": "code",
   "execution_count": 24,
   "id": "62129a14",
   "metadata": {},
   "outputs": [
    {
     "name": "stderr",
     "output_type": "stream",
     "text": [
      "d:\\Users\\Ariel\\anaconda3\\Lib\\site-packages\\mplsoccer\\_pitch_plot.py:171: FutureWarning: \n",
      "\n",
      "`shade` is now deprecated in favor of `fill`; setting `fill=True`.\n",
      "This will become an error in seaborn v0.14.0; please update your code.\n",
      "\n",
      "  return sns.kdeplot(x=x, y=y, ax=ax, clip=self.kde_clip, **kwargs)\n"
     ]
    },
    {
     "data": {
      "image/png": "[encoded data removed]",
      "text/plain": [
       "<Figure size 700x900 with 1 Axes>"
      ]
     },
     "metadata": {},
     "output_type": "display_data"
    }
   ],
   "source": [
    "#Visualizamos el rendimiento de Agustin Ojeda\n",
    "pitch = Pitch(pitch_type='opta', line_zorder=0,line_color='#c4c4c4',linewidth =3, pitch_color='#1D2B53')\n",
    "fig, ax = pitch.draw(figsize=(7, 9))\n",
    "fig.set_facecolor('#1D2B53')\n",
    "\n",
    "kdeplot = pitch.kdeplot(ojeda.x, ojeda.y, ax=ax, cmap=cmap, fill=True, alpha=0.9,\n",
    "                       shade=True, n_levels=100, shade_lowest=False,cut=1, zorder=-1)\n",
    "\n",
    "pitch.scatter(ojeda.x, ojeda.y, c='white', \n",
    "              s=60, ax=ax, label = 'Toques', edgecolor='grey')\n",
    "\n",
    "pitch.scatter(ojedaReg.x, ojedaReg.y, c='#05a32a', \n",
    "              s=60, ax=ax, label = 'Regates', edgecolor='#05fc3f')\n",
    "\n",
    "pitch.scatter(ojedaDis.x, ojedaDis.y, c='#e8f002', s=60, ax=ax, label = 'Disparos', edgecolor='#b9bd4d')\n",
    "\n",
    "ax.legend( handlelength=3, edgecolor='black', fontsize=10, loc=[0.70,0.96], labelcolor= 'white', prop=fm.prop, framealpha=0,\n",
    "         alignment='center')\n",
    "\n",
    "\n",
    "ax_title = ax.set_title(f'{ojeda.player.iloc[0]}\\nRacing vs Ctral. Cordoba\\n{ojedaPC} Pases completados de {ojedaP} posibles',\n",
    "                        color = 'white', fontsize=50, fontproperties=fm.prop)\n",
    "\n",
    "#plt.savefig(\"OJEDA.png\",dpi = 1000,transparent = False)"
   ]
  }
 ],
 "metadata": {
  "kernelspec": {
   "display_name": "Python 3 (ipykernel)",
   "language": "python",
   "name": "python3"
  },
  "language_info": {
   "codemirror_mode": {
    "name": "ipython",
    "version": 3
   },
   "file_extension": ".py",
   "mimetype": "text/x-python",
   "name": "python",
   "nbconvert_exporter": "python",
   "pygments_lexer": "ipython3",
   "version": "3.11.3"
  }
 },
 "nbformat": 4,
 "nbformat_minor": 5
}
